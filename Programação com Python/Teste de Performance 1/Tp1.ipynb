{
  "nbformat": 4,
  "nbformat_minor": 0,
  "metadata": {
    "colab": {
      "provenance": []
    },
    "kernelspec": {
      "name": "python3",
      "display_name": "Python 3"
    },
    "language_info": {
      "name": "python"
    }
  },
  "cells": [
    {
      "cell_type": "markdown",
      "source": [
        "#TESTE DE PERFORMANCE 1\n",
        "Nesse arquivo estarão todos os códigos com os respectivos anunciados das questões do Teste de Performance 1, para a matéria de Programação com Python."
      ],
      "metadata": {
        "id": "_wrCYExf5W3n"
      }
    },
    {
      "cell_type": "markdown",
      "source": [
        "##Questão 1\n",
        "Crie um programa que peça ao usuário para inserir dois números e, em seguida, calcule e exiba a soma, subtração, multiplicação, divisão e divisão inteira desses números."
      ],
      "metadata": {
        "id": "VbIiQOGm5tJA"
      }
    },
    {
      "cell_type": "code",
      "source": [
        "#Inputs de entrada para captar o número com o usuário\n",
        "num1 = int(input(\"Digite um número: \"))\n",
        "num2 = int(input(\"Digite outro número: \"))\n",
        "\n",
        "#Operações respectivas\n",
        "sum = num1 + num2\n",
        "sub = num1 - num2\n",
        "mul = num1 * num2\n",
        "div = num1 / num2\n",
        "\n",
        "#Saída para o usuário\n",
        "print (f\"\\nA soma do 1º número: {num1}, com o 2º número: {num2}, é de: {sum}. \\n\"\n",
        "       f\"A subtração do 1º número: {num1}, com o 2º número: {num2}, é de: {sub}. \\n\"\n",
        "       f\"A multiplicação do 1º número: {num1}, com o 2º número: {num2}, é de: {mul}. \\n\"\n",
        "       f\"A divisão do 1º número: {num1}, com o 2º número: {num2}, é de: {div}.\")"
      ],
      "metadata": {
        "id": "TTry6utM6FFw"
      },
      "execution_count": null,
      "outputs": []
    },
    {
      "cell_type": "markdown",
      "source": [
        "##Questão 2\n",
        "Faça um programa que converta um número fornecido de minutos em horas e minutos, e depois faça o inverso, convertendo horas e minutos de volta para minutos totais."
      ],
      "metadata": {
        "id": "pdUzgRvi-35M"
      }
    },
    {
      "cell_type": "code",
      "source": [
        "#-----> Convertendo minutos para horas\n",
        "\n",
        "#Entrada das horas informadas pelo usuário\n",
        "minutos_totais = int(input(\"Digite o número total de minutos: \"))\n",
        "\n",
        "#Calculo inicial para adquirir as horas e abaixo os minutos restantes, caso haja\n",
        "horas = minutos_totais // 60\n",
        "minutos_restantes = minutos_totais % 60\n",
        "\n",
        "#Saída das horas para o usuário\n",
        "print(f\"Isso é igual a: {horas} horas e {minutos_restantes} minutos\")\n",
        "\n",
        "\n",
        "\n",
        "#-----> Convertendo horas para minutos de volta\n",
        "\n",
        "#Captação com o usuário das horas e minutos que ele deseja converter\n",
        "horas_convertidas = int(input(\"\\nDigite o número de horas: \"))\n",
        "minutos_convertidos = int(input(\"Digite o número de minutos: \"))\n",
        "\n",
        "#Calculo para a conversão de tudo em minutos\n",
        "minutos_totais_convertidos = horas_convertidas * 60 + minutos_convertidos\n",
        "\n",
        "#Saída dos minutos para o usuário\n",
        "print(f\"Isso é igual a {minutos_totais_convertidos} minutos\")"
      ],
      "metadata": {
        "id": "S9SpJrM_-9Pn"
      },
      "execution_count": null,
      "outputs": []
    },
    {
      "cell_type": "markdown",
      "source": [
        "##Questão 3\n",
        "Escreva um programa que receba dois nomes de usuário e os combine de maneira criativa para formar um novo nome."
      ],
      "metadata": {
        "id": "rzzTolpIBUgq"
      }
    },
    {
      "cell_type": "code",
      "source": [
        "#Recebendo os nomes de usuário\n",
        "nome1 = input(\"Digite o primeiro nome de usuário: \")\n",
        "nome2 = input(\"Digite o segundo nome de usuário: \")\n",
        "\n",
        "#Trechos separados do nome 1\n",
        "parte1_nome1 = nome1[:4]\n",
        "parte2_nome1 = nome1[-3:]\n",
        "\n",
        "#Trechos separados do nome 2\n",
        "parte1_nome2 = nome2[:3]\n",
        "parte2_nome2 = nome2[-2:]\n",
        "\n",
        "#Concatenação para a geração do nome mesclado\n",
        "novo_nome = parte1_nome1 + parte1_nome2 + parte2_nome1 + parte2_nome2\n",
        "\n",
        "#Saída para o usuário com um nome \"louco\"\n",
        "print(f\"O novo nome de usuário combinado é: {novo_nome}\")"
      ],
      "metadata": {
        "id": "u1edmwTJBH3n"
      },
      "execution_count": null,
      "outputs": []
    },
    {
      "cell_type": "markdown",
      "source": [
        "##Questão 4\n",
        "Desenvolva um programa que peça ao usuário para escolher uma operação (adição, subtração, multiplicação, divisão) e dois números, e então execute a operação escolhida com os números."
      ],
      "metadata": {
        "id": "ioH1Wb5IDqkn"
      }
    },
    {
      "cell_type": "code",
      "source": [
        "#Captação da operação que o usuário deseja realizar\n",
        "print(\"Bem-vindo(a) a calculadora!\")\n",
        "operacao = input(\"\\nInforme qual operação matemática você quer realizar:\\nSoma (S) Subtração (M) \\nMultiplicação (V) Divisão (D): \")\n",
        "\n",
        "#Salvando os números que serão calculados\n",
        "num1 = int(input(\"\\nInforme um número: \"))\n",
        "num2 = int(input(\"Informe outro número: \"))\n",
        "\n",
        "#Condições para a realização do calculo, com base na operação indicada pelo usuário\n",
        "if operacao == 'S' or operacao == 's':\n",
        "  sum = num1 + num2\n",
        "  #Saída para o usuário no caso de - SOMA\n",
        "  print(f\"\\nA soma do 1º número: {num1}, com o 2º número: {num2}, é de: {sum}.\")\n",
        "\n",
        "elif operacao == 'M' or operacao == 'm':\n",
        "  sub = num1 - num2\n",
        "  #Saída para o usuário no caso de - SUBTRAÇÃO (MENOS)\n",
        "  print(f\"\\nA subtração do 1º número: {num1}, com o 2º número: {num2}, é de: {sub}.\")\n",
        "\n",
        "elif operacao == 'V' or operacao == 'v':\n",
        "  mul = num1 * num2\n",
        "  #Saída para o usuário no caso de - MULTIPLICAÇÃO (VEZES)\n",
        "  print(f\"\\nA multiplicação do 1º número: {num1}, com o 2º número: {num2}, é de: {mul}.\")\n",
        "\n",
        "elif operacao == 'D' or operacao == 'd':\n",
        "  div = num1 / num2\n",
        "  #Saída para o usuário no caso de - DIVISÃO\n",
        "  print(f\"\\nA divisão do 1º número: {num1}, com o 2º número: {num2}, é de: {div}.\")\n",
        "\n",
        "else:\n",
        "  #Saída para o usuário no caso de inputar algo que não seja válido na chamada das operações\n",
        "  print(\"\\nIndique uma operação válida!\")"
      ],
      "metadata": {
        "id": "rhzZN5pcBnY4"
      },
      "execution_count": null,
      "outputs": []
    },
    {
      "cell_type": "markdown",
      "source": [
        "##Questão 5\n",
        "Crie um programa que peça ao usuário seu nome e sobrenome usando input e, em seguida, combine-os para formar uma saudação personalizada."
      ],
      "metadata": {
        "id": "U0AUWpDBDw8I"
      }
    },
    {
      "cell_type": "code",
      "source": [
        "#Importando biblioteca necessária para o sorteio\n",
        "import random\n",
        "\n",
        "#Captação do nome do usuário\n",
        "nome = input(\"Informe seu nome e sobrenome: \")\n",
        "\n",
        "#Lista com possíveis saudações que serão sorteadas\n",
        "saudacoes = [\n",
        "    \"que a Força esteja com você. - Star Wars \",\n",
        "    \"que a sorte esteja sempre a seu favor. - Jogos Vorazes\",\n",
        "    \"vida longa e próspera. - Star Trek\",\n",
        "    \"que os jogos comecem. - O Senhor dos Anéis\",\n",
        "    \"que a série recomece. - Doctor Who\",\n",
        "    \"que a sorte esteja do seu lado. - Breaking Bad\",\n",
        "    \"que a verdade esteja lá fora. - Arquivo X\",\n",
        "    \"que a caminhada seja longa. - Game of Thrones\",\n",
        "    \"que a força da atração esteja com você. - Stranger Things\",\n",
        "    \"que a força esteja com quem te ouve. - Star Wars: The Mandalorian\",\n",
        "]\n",
        "\n",
        "#Sorteio da saudação\n",
        "saudacao_da_vez = random.choice(saudacoes)\n",
        "\n",
        "#Concatenação para a geração da mensagem\n",
        "saudacao_mensagem = f\"{nome}, {saudacao_da_vez}\"\n",
        "\n",
        "#Saída com a mensagem para o usuário\n",
        "print(saudacao_mensagem)"
      ],
      "metadata": {
        "id": "S-_UfAIrD0Ru"
      },
      "execution_count": null,
      "outputs": []
    },
    {
      "cell_type": "markdown",
      "source": [
        "##Questão 6\n",
        "Escreva um programa onde o usuário deve adivinhar um número secreto. O programa deve dizer se o palpite está correto, muito alto ou muito baixo."
      ],
      "metadata": {
        "id": "1n8sX-UBD1DI"
      }
    },
    {
      "cell_type": "code",
      "source": [
        "import random\n",
        "\n",
        "numero_secreto = random.randint(1,9)\n",
        "\n",
        "# Inicio da interação com o usuário\n",
        "print(\"Iremos começar nosso jogo!\")\n",
        "tentativa1 = int(input(\"Qual o número escolhido pelo computador, de 1 a 9? \"))\n",
        "\n",
        "if tentativa1 == numero_secreto:\n",
        "  print(\"Você é vidente? Ô louco! Você acertou o número escolhido pelo computador!\")\n",
        "\n",
        "#se ele errar a tentativa1 gente faz a validação de + ou - próximo do numero_secreto e segue pra próxima tentativa\n",
        "else:\n",
        "  if tentativa1 > numero_secreto:\n",
        "    print(\"\\nSeu chute foi alto!\")\n",
        "    tentativa2 = int(input(\"Sabendo disso, agora é a sua segunda tentativa, diga um número de 1 a 9: \"))\n",
        "\n",
        "    if tentativa2 == numero_secreto:\n",
        "      print(\"Boaaa jogador(a)! Acertou o número escolhido pelo computador!\")\n",
        "\n",
        "    #se ele errar a tentativa2, a gente faz novamente a  validação de + ou - do numero_secreto e vai para a última tentativa\n",
        "    else:\n",
        "      #aqui a gente considera quando a tentativa2 é maior que o numero_secreto, etão precisamos chutar um valor menor\n",
        "      if tentativa2 > numero_secreto:\n",
        "        print(\"\\nSeu chute ainda foi um pouco alto!\")\n",
        "        tentativa3 = int(input(\"Essa é sua última chance, diga um número de 1 a 9:\"))\n",
        "\n",
        "        if tentativa3 == numero_secreto:\n",
        "          print(\"Aee, você acertou o número secreto na últime hein!\")\n",
        "        else:\n",
        "          print(f\"Não foi dessa vez, mas o número secreto era: {numero_secreto}\")\n",
        "\n",
        "      #aqui é o inverso, precisamos chutar um valor maior, isso ainda falando da última tentaiva\n",
        "      else:\n",
        "        print(\"\\nSeu chute foi um pouco baixo!\")\n",
        "        tentativa3 = int(input(\"Essa é sua última chance, diga um número de 1 a 9:\"))\n",
        "\n",
        "        if tentativa3 == numero_secreto:\n",
        "          print(\"Aee, você acertou o número secreto na últime hein!\")\n",
        "        else:\n",
        "          print(f\"Não foi dessa vez, mas o número secreto era: {numero_secreto}\")\n",
        "\n",
        "#aqui começamos a validar referente a tentativa2 para: tentativa1 < numero_secreto, pois os caminhos caso tentativa1 > numero_secreto acabaram\n",
        "  else:\n",
        "    print(\"\\nSeu chute foi baixo!\")\n",
        "    tentativa2 = int(input(\"Sabendo disso, agora é a sua segunda tentativa, diga um número de 1 a 9: \"))\n",
        "\n",
        "    if tentativa2 == numero_secreto:\n",
        "      print(\"Boaaa jogador(a)! Acertou o número escolhido pelo computador!\")\n",
        "\n",
        "    #se ele errar a tentativa2, a gente começa a validação de + ou - do numero_secreto e vai para a última tentativa\n",
        "    else:\n",
        "      if tentativa2 > numero_secreto:\n",
        "        print(\"\\nSeu chute ainda foi um pouco alto!\")\n",
        "        tentativa3 = int(input(\"Essa é sua última chance, diga um número de 1 a 9:\"))\n",
        "\n",
        "        if tentativa3 == numero_secreto:\n",
        "          print(\"Aee, você acertou o número secreto na últime hein!\")\n",
        "        else:\n",
        "          print(f\"Não foi dessa vez, mas o número secreto era: {numero_secreto}\")\n",
        "\n",
        "      else:\n",
        "        print(\"\\nSeu chute foi um pouco baixo!\")\n",
        "        tentativa3 = int(input(\"Essa é sua última chance, diga um número de 1 a 9: \"))\n",
        "\n",
        "        if tentativa3 == numero_secreto:\n",
        "          print(\"Aee, você acertou o número secreto na últime hein!\")\n",
        "        else:\n",
        "          print(f\"Não foi dessa vez, mas o número secreto era: {numero_secreto}\")"
      ],
      "metadata": {
        "id": "9a_NuR7SD5kG"
      },
      "execution_count": null,
      "outputs": []
    },
    {
      "cell_type": "markdown",
      "source": [
        "##Questão 7\n",
        "Faça um programa que calcule o Índice de Massa Corporal (IMC) do usuário e forneça feedback com base no valor (por exemplo, abaixo do peso, peso normal, sobrepeso).\n",
        "\n",
        "*   MENOR QUE 18,5    - ABAXO DO PESO\n",
        "*   ENTRE 18,5 E 24,9 - PESO NORMAL\n",
        "*   ENTRE 25 E 29,9   - SOBREPESO\n",
        "*   ENTRE 30 E 34,9   - OBESIDADE1\n",
        "*   ENTRE 35 E 40     - OBESIDADE2"
      ],
      "metadata": {
        "id": "atL_OUfcD7RQ"
      }
    },
    {
      "cell_type": "code",
      "source": [
        "#Captação das informações do usuário para início do calculo do IMC\n",
        "print(\"Cálculo IMC\")\n",
        "peso = input(\"Informe seu peso (em kg): \")\n",
        "altura = input(\"Informe sua altura (em m): \")\n",
        "\n",
        "#Tratativas para o caso do usuário informar algum valor com vírgula\n",
        "peso = peso.replace(',','.')\n",
        "altura = altura.replace(',','.')\n",
        "\n",
        "#Tipagem do valor para que seja possível realizar o calculo uma vez que todo valor de entrada de um input é uma string\n",
        "peso = float(peso)\n",
        "altura = float(altura)\n",
        "\n",
        "#Calculo do IMC\n",
        "imc = peso / (altura ** 2)\n",
        "\n",
        "#Condições para cada tipo possível de IMC com suas respectivas saídas\n",
        "if imc < 18.5:\n",
        "  print(\"IMC - Abaixo do Peso\")\n",
        "\n",
        "elif imc >= 18.5 and imc < 25:\n",
        "  print(\"IMC - Peso Normal\")\n",
        "\n",
        "elif imc >= 25 and imc < 30:\n",
        "  print(\"IMC - Sobrepeso\")\n",
        "\n",
        "elif imc >= 30 and imc < 35:\n",
        "  print(\"IMC - Obesidade 1\")\n",
        "\n",
        "elif imc >= 35 and imc < 40:\n",
        "  print(\"IMC - Obesidade 2\")\n",
        "\n",
        "elif imc >= 40:\n",
        "  print(\"IMC - Obesidade 3\")\n",
        "\n",
        "else:\n",
        "  pass"
      ],
      "metadata": {
        "id": "ZCtuXDjfD9D4"
      },
      "execution_count": null,
      "outputs": []
    },
    {
      "cell_type": "markdown",
      "source": [
        "##Questão 8\n",
        "Crie um programa que pergunte a idade do usuário e verifique se ele é maior de idade ou não."
      ],
      "metadata": {
        "id": "DYlab56kEE8H"
      }
    },
    {
      "cell_type": "code",
      "source": [
        "#Captação da idade do usuário\n",
        "idade = int(input(\"Informe sua idade: \"))\n",
        "\n",
        "#Retorno condicional para maior ou menor de idade\n",
        "if idade < 18:\n",
        "    print(\"Menor de idade.\")\n",
        "else:\n",
        "    print(\"Maior de idade.\")"
      ],
      "metadata": {
        "id": "0-fJzoZ0EEmk"
      },
      "execution_count": null,
      "outputs": []
    },
    {
      "cell_type": "markdown",
      "source": [
        "##Questão 9\n",
        "Desenvolva um programa que aplique descontos diferentes com base no valor da compra: desconto de 10% para compras acima de R$100, 15% para compras acima de R$200, etc."
      ],
      "metadata": {
        "id": "wvEoTilVEKFX"
      }
    },
    {
      "cell_type": "code",
      "source": [
        "#Captação do valor gasto em compras pelo cliente\n",
        "preco = int(input(\"Indique quanto você gastou em compras: \"))\n",
        "\n",
        "#Calculo do seu valor de desconto e novo valor total, com base em quanto foi gasto inicialmente\n",
        "if preco > 500:\n",
        "  total = preco - (preco * 0.50)\n",
        "  print(f\"Seu desconto foi de 50%, o total das suas compras agora é de: R${total}\")\n",
        "elif preco > 400:\n",
        "  total = preco - (preco * 0.25)\n",
        "  print(f\"Seu desconto foi de 25%, o total das suas compras agora é de: R${total}\")\n",
        "elif preco > 300:\n",
        "  total = preco - (preco * 0.20)\n",
        "  print(f\"Seu desconto foi de 20%, o total das suas compras agora é de: R${total}\")\n",
        "elif preco > 200:\n",
        "  total = preco - (preco * 0.15)\n",
        "  print(f\"Seu desconto foi de 15%, o total das suas compras agora é de: R${total}\")\n",
        "else:\n",
        "  total = preco - (preco * 0.10)\n",
        "  print(f\"Seu desconto foi de 10%, o total das suas compras agora é de: R${total}\")"
      ],
      "metadata": {
        "id": "MD8oKWuuENpz"
      },
      "execution_count": null,
      "outputs": []
    },
    {
      "cell_type": "markdown",
      "source": [
        "##Questão 10\n",
        "Escreva um programa que combine elementos aleatórios de listas diferentes (personagens, ações, locais) para criar uma história curiosa."
      ],
      "metadata": {
        "id": "zZabW4tZEOi_"
      }
    },
    {
      "cell_type": "code",
      "source": [
        "import random\n",
        "\n",
        "#Listas com algumas informações que irão compor a história\n",
        "personagens = [\"Garfinho\", \"Gelado\", \"Nemo\", \"Relâmpago\", \"Wall-e\"]\n",
        "caracteristicas = [\"medroso\",\"inteligente\",\"tímido\",\"preguiçoso\",\"impulsivo\"]\n",
        "locais = [\"uma pequena vila no campo\",\"uma cidade movimentada\",\"uma floresta misteriosa\",\"uma montanha isolada\",\"uma ilha paradisíaca \"]\n",
        "conflitos = [\n",
        "    \"um desastre natural que ameaçavam destruir as redondezas\",\n",
        "    \"um conflito de interesses entre moradores\",\n",
        "    \"um segredo sombrio escondido\",\n",
        "    \"uma disputa territorial\",\n",
        "    \"um grupo de piratas que ameaçavam a paz naquele local\"]\n",
        "desfechos = [\n",
        "    \"os moradores se unindo para fugirem do desastre natural o mais rápido possível\",\n",
        "    \"um acordo após uma mediação muito acirrada\",\n",
        "    \"o mistério tendo sua verdade perdida para sempre\",\n",
        "    \"um compromisso estabelecido para compartilhar o espaço\",\n",
        "    \"os habitantes da ilha se unindo para expulsar os piratas\"]\n",
        "\n",
        "#Sorteio de 1 elemento de cada lista para a geração de uma história aleatória\n",
        "personagem_sorteado = random.choice(personagens)\n",
        "caracteristica_sorteada = random.choice(caracteristicas)\n",
        "local_sorteado = random.choice(locais)\n",
        "conflito_sorteado = random.choice(conflitos)\n",
        "desfecho_sorteado = random.choice(desfechos)\n",
        "\n",
        "#Concatenação dos elementos sorteados juntamente com a saída da história gerada\n",
        "print(f\"Certo dia, em {local_sorteado}, {personagem_sorteado}, conhecido por muitos como {caracteristica_sorteada}, teve que enfrentar um desafio iminente, {conflito_sorteado}.\\n Contando com a sorte e um pouco de gambiarras, o conflito foi solucionado com {desfecho_sorteado}.\")\n"
      ],
      "metadata": {
        "id": "7EMCIkOHEST3"
      },
      "execution_count": null,
      "outputs": []
    },
    {
      "cell_type": "markdown",
      "source": [
        "##Questão 11\n",
        "Faça um programa que simule o lançamento de um dado. O usuário deve escolher quantos dados jogar e o programa deve exibir os resultados."
      ],
      "metadata": {
        "id": "KXoSU5pFEV27"
      }
    },
    {
      "cell_type": "code",
      "source": [
        "import random\n",
        "\n",
        "#Captação com usuário de quantos dados ele deseja jogar nessa partida\n",
        "qtd_dados = int(input(\"Quantos dados você quer jogar? (escolha até 3): \"))\n",
        "\n",
        "numeros = [1, 2, 3, 4, 5, 6]\n",
        "\n",
        "#Condicionamento para o retorno dos valores no(s) dado(s)\n",
        "if qtd_dados == 1:\n",
        "  #Para 1 dado\n",
        "  face1 = random.choice(numeros)\n",
        "  print(f\"O número que caiu foi: {face1}\")\n",
        "\n",
        "elif qtd_dados == 2:\n",
        "  #Para 2 dados\n",
        "  face1 = random.choice(numeros)\n",
        "  face2 = random.choice(numeros)\n",
        "  print(f\"Os números que cairam foram: {face1} e {face2}\")\n",
        "\n",
        "elif qtd_dados == 3:\n",
        "  #Para 3 dados\n",
        "  face1 = random.choice(numeros)\n",
        "  face2 = random.choice(numeros)\n",
        "  face3 = random.choice(numeros)\n",
        "  print(f\"Os números que cairam foram: {face1}, {face2} e {face3}\")\n",
        "\n",
        "else:\n",
        "  #Tratativa simples caso o usuário não indique uma quantidade de dados válida\n",
        "  print(\"Indique uma quantidade de dados válida.\")"
      ],
      "metadata": {
        "id": "q4bxXUheEYXF"
      },
      "execution_count": null,
      "outputs": []
    },
    {
      "cell_type": "markdown",
      "source": [
        "##Questão 12\n",
        "Crie um programa que classifique as palavras inseridas pelo usuário como curtas (menos de 5 letras) ou longas (5 letras ou mais)."
      ],
      "metadata": {
        "id": "P8ebSt0AEbe-"
      }
    },
    {
      "cell_type": "code",
      "source": [
        "#Captação da palavra\n",
        "palavra = input(\"Diga uma palavra: \")\n",
        "\n",
        "#Retorno condicional com a saída se a palavra é curta ou longa\n",
        "if len(palavra) < 5:\n",
        "  print(\"Essa é uma palavra curta.\")\n",
        "else:\n",
        "  print(\"Essa é uma palavra longa.\")"
      ],
      "metadata": {
        "id": "7O4H6CIYEfgS"
      },
      "execution_count": null,
      "outputs": []
    },
    {
      "cell_type": "markdown",
      "source": [
        "##Questão 13\n",
        "Desenvolva um programa que verifique se uma palavra ou frase inserida pelo usuário é um palíndromo (lê-se igual de trás para frente)."
      ],
      "metadata": {
        "id": "dpYrcmvwEgDP"
      }
    },
    {
      "cell_type": "code",
      "source": [
        "#Captação da palavra\n",
        "palavra = input(\"Diga uma palavra: \")\n",
        "\n",
        "#Inversão da palavra\n",
        "inverso = palavra [::-1]\n",
        "\n",
        "#Retorno condicional se a palavra é palíndroma ou não\n",
        "if palavra == inverso:\n",
        "  print(f\"{palavra} é uma palavra palíndromo pois ela invertida, {inverso}, é igual.\")\n",
        "else:\n",
        "  print(f\"{palavra} não é uma palavra palíndromo pois ela invertida, {inverso}, é diferente.\")"
      ],
      "metadata": {
        "id": "qC2Jh2H4Ejre"
      },
      "execution_count": null,
      "outputs": []
    },
    {
      "cell_type": "markdown",
      "source": [
        "##Questão 14\n",
        "Escreva um programa que permita ao usuário votar em três opções diferentes e, no final, exiba o número de votos de cada opção."
      ],
      "metadata": {
        "id": "W2H2VG4CEkRg"
      }
    },
    {
      "cell_type": "code",
      "source": [
        "#Setando as variaveis que irão receber a quantidade de votos para cada opção\n",
        "votos_opcao1 = 0\n",
        "votos_opcao2 = 0\n",
        "votos_opcao3 = 0\n",
        "\n",
        "#Laço de repetição para que o usuário possa votar em qual opção ele quiser, quantas vezes ele quiser\n",
        "while True:\n",
        "    print(\"Opções de voto:\")\n",
        "    print(\"1. Opção 1\")\n",
        "    print(\"2. Opção 2\")\n",
        "    print(\"3. Opção 3\")\n",
        "    print(\"0. Encerrar votação\")\n",
        "\n",
        "    voto = input(\"Digite o número da sua opção de voto (ou 0 para encerrar): \")\n",
        "\n",
        "    if voto == '0':\n",
        "        break\n",
        "\n",
        "    elif voto == '1':\n",
        "        votos_opcao1 += 1\n",
        "    elif voto == '2':\n",
        "        votos_opcao2 += 1\n",
        "    elif voto == '3':\n",
        "        votos_opcao3 += 1\n",
        "    else:\n",
        "        print(\"Opção inválida. Por favor, escolha uma opção válida.\")\n",
        "\n",
        "#Saída com os totais de votos que cada opção recebeu\n",
        "print(\"Resultado da votação:\")\n",
        "print(\"Opção 1:\", votos_opcao1, \"votos\")\n",
        "print(\"Opção 2:\", votos_opcao2, \"votos\")\n",
        "print(\"Opção 3:\", votos_opcao3, \"votos\")"
      ],
      "metadata": {
        "id": "N1_cUBeIEnaM"
      },
      "execution_count": null,
      "outputs": []
    },
    {
      "cell_type": "markdown",
      "source": [
        "##Questão 15\n",
        "Crie um programa que apresente ao usuário uma série de escolhas (como em uma história) e conduza a diferentes resultados com base nessas escolhas."
      ],
      "metadata": {
        "id": "7O21v03OEn2_"
      }
    },
    {
      "cell_type": "code",
      "source": [
        "#Apresentação inicial da história\n",
        "print(\"Bem-vindo(a) à aventura!\")\n",
        "\n",
        "#Escolha inicial\n",
        "print(\"Você está em uma encruzilhada. Você quer ir para a esquerda ou para a direita?\")\n",
        "escolha1 = input(\"Esquerda ou direita? \").lower()\n",
        "\n",
        "#Consequências da primeira escolha\n",
        "if escolha1 == \"esquerda\":\n",
        "    print(\"Você segue pela esquerda e encontra um rio.\")\n",
        "    print(\"Você quer atravessar o rio a nado ou procurar por uma ponte?\")\n",
        "    escolha2 = input(\"Nadar ou procurar por uma ponte? \").lower()\n",
        "\n",
        "    if escolha2 == \"nadar\":\n",
        "        print(\"Você decide nadar, mas é arrastado pela correnteza e acaba se perdendo.\")\n",
        "        print(\"Você não consegue encontrar o caminho de volta. Fim da aventura.\")\n",
        "    elif escolha2 == \"procurar por uma ponte\":\n",
        "        print(\"Você decide procurar por uma ponte e encontra uma próxima dali.\")\n",
        "        print(\"Você atravessa a ponte e continua sua jornada.\")\n",
        "        print(\"Você encontra uma caverna escura. Você quer explorá-la ou seguir em frente?\")\n",
        "        escolha3 = input(\"Explorar a caverna ou seguir em frente? \").lower()\n",
        "\n",
        "        if escolha3 == \"explorar a caverna\":\n",
        "            print(\"Você entra na caverna e encontra um tesouro escondido!\")\n",
        "            print(\"Parabéns! Você completou sua aventura com sucesso.\")\n",
        "        elif escolha3 == \"seguir em frente\":\n",
        "            print(\"Você decide seguir em frente e continua sua jornada.\")\n",
        "            print(\"Infelizmente, você se depara com um inimigo e não consegue derrotá-lo.\")\n",
        "            print(\"Fim da aventura.\")\n",
        "        else:\n",
        "            print(\"Opção inválida. Fim da aventura.\")\n",
        "    else:\n",
        "        print(\"Opção inválida. Fim da aventura.\")\n",
        "\n",
        "#Consequências da segunda escolha\n",
        "elif escolha1 == \"direita\":\n",
        "    print(\"Você segue pela direita e se depara com uma floresta densa.\")\n",
        "    print(\"Você quer entrar na floresta ou voltar para casa?\")\n",
        "    escolha2 = input(\"Entrar na floresta ou voltar para casa? \").lower()\n",
        "\n",
        "    if escolha2 == \"entrar na floresta\":\n",
        "        print(\"Você entra na floresta e encontra um caminho sinuoso.\")\n",
        "        print(\"Você segue o caminho e descobre uma cabana abandonada.\")\n",
        "        print(\"Dentro da cabana, você encontra um mapa do tesouro.\")\n",
        "        print(\"Você quer seguir o mapa ou deixá-lo para trás?\")\n",
        "        escolha3 = input(\"Seguir o mapa ou deixá-lo para trás? \").lower()\n",
        "\n",
        "        if escolha3 == \"seguir o mapa\":\n",
        "            print(\"Você segue o mapa e finalmente encontra o tesouro!\")\n",
        "            print(\"Parabéns! Você completou sua aventura com sucesso.\")\n",
        "        elif escolha3 == \"deixá-lo para trás\":\n",
        "            print(\"Você decide deixar o mapa para trás e continuar sua jornada.\")\n",
        "            print(\"Infelizmente, você se perde na floresta e não consegue encontrar o caminho de volta.\")\n",
        "            print(\"Fim da aventura.\")\n",
        "        else:\n",
        "            print(\"Opção inválida. Fim da aventura.\")\n",
        "    elif escolha2 == \"voltar para casa\":\n",
        "        print(\"Você decide voltar para casa e chega em segurança.\")\n",
        "        print(\"Fim da aventura.\")\n",
        "    else:\n",
        "        print(\"Opção inválida. Fim da aventura.\")\n",
        "\n",
        "else:\n",
        "    print(\"Opção inválida. Fim da aventura.\")\n"
      ],
      "metadata": {
        "id": "3_Oi_tPrEphM"
      },
      "execution_count": null,
      "outputs": []
    },
    {
      "cell_type": "code",
      "source": [],
      "metadata": {
        "id": "OfoNREaXIvDp"
      },
      "execution_count": null,
      "outputs": []
    }
  ]
}