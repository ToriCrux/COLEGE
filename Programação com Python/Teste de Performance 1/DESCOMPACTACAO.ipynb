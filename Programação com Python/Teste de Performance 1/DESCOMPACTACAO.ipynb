{
 "cells": [
  {
   "cell_type": "markdown",
   "id": "af7e37cb",
   "metadata": {},
   "source": [
    "#### Esse notebook tem o objetivo de descompactar uma série de arquivos de forma automatizada"
   ]
  },
  {
   "cell_type": "code",
   "execution_count": 4,
   "id": "71c5c336",
   "metadata": {},
   "outputs": [],
   "source": [
    "!pip install -q pyzipper"
   ]
  },
  {
   "cell_type": "code",
   "execution_count": 7,
   "id": "61fe60c4",
   "metadata": {},
   "outputs": [
    {
     "name": "stdout",
     "output_type": "stream",
     "text": [
      "Esse é o caminho onde estão os arquivos Zipados\n",
      "Beleza, é pra cá que esses arquivos vão vir\n",
      "Opa, essa é a senha por arquivos\n",
      "Ah esses são os arquivos ziapdos Downloads.zip\n",
      "Tranquilo, entendi os arquivos agora vou usar a senha pra descompatar\n",
      "Pronto descompactei todos os arquivos\n"
     ]
    }
   ],
   "source": [
    "import os\n",
    "import pyzipper\n",
    "\n",
    "# Caminho onde estão os arquivos compactados\n",
    "caminho_zip ='C:\\\\Users\\\\vic\\\\Downloads\\\\A17'\n",
    "print('Esse é o caminho onde estão os arquivos Zipados')\n",
    "\n",
    "# Caminho para onde os arquivos descompactados devem ir\n",
    "caminho_destino = 'C:\\\\Users\\\\vic\\\\Downloads'\n",
    "print('Beleza, é pra cá que esses arquivos vão vir')\n",
    "\n",
    "# Cria o diretório de destino, se ele não existir\n",
    "if not os.path.exists(caminho_destino):\n",
    "    os.makedirs(caminho_destino)\n",
    "    print('Não encontrei o caminho pra onde eles vão, então criei ele tá')\n",
    "\n",
    "# Senha dos arquivos compactados\n",
    "password = b'Te$te01Descomp'\n",
    "print('Opa, essa é a senha por arquivos')\n",
    "\n",
    "\n",
    "#--------------------------------------------------------------------------------------------------#\n",
    "\n",
    "# Lista todos os arquivos no diretório caminho_zip\n",
    "for arquivo_zip in os.listdir(caminho_zip):\n",
    "    print(f'Ah esses são os arquivos zipados {arquivo_zip}')\n",
    "    \n",
    "    # Caminho completo para o arquivo .zip\n",
    "    caminho_arquivo_zip = os.path.join(caminho_zip, arquivo_zip)\n",
    "    \n",
    "    # Abre o arquivo .zip com o pyzipper\n",
    "    with pyzipper.AESZipFile(caminho_arquivo_zip) as zip_ref:\n",
    "        # Descriptografa o arquivo com a senha\n",
    "        zip_ref.pwd = password\n",
    "        print('Tranquilo, entendi os arquivos agora vou usar a senha pra descompatar')\n",
    "        \n",
    "        # Extrai todos os arquivos para o diretório de destino\n",
    "        zip_ref.extractall(caminho_destino)\n",
    "        print('Pronto descompactei todos os arquivos')\n",
    "        \n",
    "        "
   ]
  },
  {
   "cell_type": "code",
   "execution_count": null,
   "id": "7c61a68c",
   "metadata": {},
   "outputs": [],
   "source": []
  }
 ],
 "metadata": {
  "kernelspec": {
   "display_name": "Python 3 (ipykernel)",
   "language": "python",
   "name": "python3"
  },
  "language_info": {
   "codemirror_mode": {
    "name": "ipython",
    "version": 3
   },
   "file_extension": ".py",
   "mimetype": "text/x-python",
   "name": "python",
   "nbconvert_exporter": "python",
   "pygments_lexer": "ipython3",
   "version": "3.11.5"
  }
 },
 "nbformat": 4,
 "nbformat_minor": 5
}
