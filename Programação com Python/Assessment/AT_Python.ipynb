{
  "nbformat": 4,
  "nbformat_minor": 0,
  "metadata": {
    "colab": {
      "provenance": []
    },
    "kernelspec": {
      "name": "python3",
      "display_name": "Python 3"
    },
    "language_info": {
      "name": "python"
    }
  },
  "cells": [
    {
      "cell_type": "markdown",
      "source": [
        "# ESCOPO DO PROJETO\n",
        "Uma empresa de locação de veículos deseja desenvolver um sistema para gerenciar o processo de locação. Para isso, será necessário realizar o cadastro dos veículos, dos clientes e gerenciar a ação de locação.\n",
        "\n",
        "Os veículos são designados pela placa, modelo, categoria, sendo elas básico, intermediário e luxo, e seu estado atual, podendo estar disponível ou locado.\n",
        "\n",
        "Os clientes são cadastrados pelo nome e sobrenome, CPF e email, além de se relacionar ao veículo locado pela placa.\n",
        "\n",
        "O sistema deve realizar a locação do veículo, verificando quais estão disponíveis e alocando-o ao cliente. No processo de devolução, devem ser informadas quantas diárias foram utilizadas, para que seja emitida a nota para pagamento, constando o valor total do serviço."
      ],
      "metadata": {
        "id": "OTbcxki1fF07"
      }
    },
    {
      "cell_type": "markdown",
      "source": [
        "## INICIO DO DESENVOLVIMENTO\n",
        " 1-\tCrie um diagrama que descreva a estrutura do sistema, descrevendo a estrutura das entidades VEÍCULO e CLIENTE, bem como a correlação entre elas.\n",
        "\n",
        " ![image.png](data:image/png;base64,iVBORw0KGgoAAAANSUhEUgAAAlIAAAC/CAYAAAA1mjIGAAAgAElEQVR4Ae2d6bsURbbu/Z/O7XvO7XP6zFOf4Z7nDAq20ExOyOAACoo0IEMzCIiCggjigDLPsvcGQRphb5BJUEEZRDewmVFBBfwS9/6CXmVU7MiqqKqsXVVZ60M+WZUZGRm54o13vbEiMvKuy9/eNrduFd86LxdPQz6x+TVbOrVfGD+xOFD7qf1qyS+KP8Wf4i+MgVrapV78x131UhAqI7TFlq/e0ykRV1a/aj+1Xy0JW/Gn+FP8hTFQS7vE+v1qt9+7Tl+8E0WiQIW2o2cLn5drY/NrtnRqvzB+YnGg9lP7wTGxeEk7neJP8af4C2OglnaJbefVbr8akeqhSFi1FXEomtcIPQUaYVLZ3eNqv7Cd1H6V2UXtp/ZrBJ5U/qsMp9W2nwopFVJWyMQ6lFqlq3ZDcEWb+7tWz5v2fdV+9U3ELubc32njoFb5Kf4Uf+A6q/hTIaVCSoVUAgZq2fDTJhx1ZOrIaolnxZ/iL8v4UyGV4ETVkVXW8NV+ar9aEqfiT/Gn+AtjIEt2iW3n1RbyKqRUSGlEKgEDWSKcahMJtgptsURX7+nUfpXVr9pP7VdLPq02/lRI9ZADqHZFhpxYLYGbtmNU+ykR1xLPij/Fn+IvjIFa2iXWz1S7/d51+btk42Ag2Tqv/PxbjoX2sfk1Wzq1Xxg/sThQ+6n94JtYvKSdTvGn+FP8hTFQS7vEtvNqt1+NSDli0RWGsUo3Nl21FbFbdvd3bPnqPZ3aL0xisfWm9lP7WYcXudxILK5i0yn+FH9Zxp8KKRVSOkcqAQO1bPixDio2nToydWS1xLPiT/GXZfzdxYqfgNxulxL2l2+bjkOfm937Dhfddn1UPA35NFu6D9UuQezE4kDtF25Xadtvz6FjptPngQA/WN6QdIHzwiex/JKXn+Qreyf/YDrnfN59A9fLednHlu/Q6R+D+PU5MbY+mi2dtt+eab/NhqvY5y0Ff0c+/ypfD0XwS3REqm1Hh1n93jbd1AaKgQxjoPWD9ty8SHqQSVtsJCwr6b6+8KPiPsO4V9+mvl0wsPfgp4m8J3zo85oKKSUHdRCKgRwGVEiFxaMKKXW04mh1n20sqJBSh5hziNrYs93Yq1W/KqRUSFULW5qvclIjYECFlAopFVKKgYowoEJKhVQjODsto4qyamFAhZQ60YqcaLWAqfk2DumpkFIhpe21cdqr1lX6daVCSoWUCinFQEUYUCGlQkqdc/rOWW3aODYtT0hFrmyub+01DhC00WpdlYuBaCEVyRuxKw/Xe7qvL+pbe+ViSq9TPmokDEQJKY//9K09jWBUFMFopAaiZS1O6NFCqkYrZPuvHcvryP4+7XT61l5x7Gj7UhtlAQNRQsrjPxVSKqRUSCkGchhQIaVDe1lwhvoMKurKxUBZQur0xduG3luxre0DXZCz3IrR67RRNwoGWj5oL8oFcEUsb2Ql3dFOHdprFAxrOZVvK8FAx4FPi3Kgz2sakdJoRC4aUQn49NpskJdGpDQipW05G21Z67G8eiwrIhU7l6CnJ5u/8PIi8xe/+pX5kz/5EzNp2izr7F9/Z7V5bupMM//1d9T5qwBUDFQBAyqkGktIVYsTQ/yrjrk8x6x2ayy7NYyQemPZWnP/w0PMr371l1Yo/fKXf256/aaPmffamznn6DfkFRu2mN/07WfT//t//Kd5a8WGXFoFamMBVeurfutLhVT1hNSSd9eYX//Lv1oO+6//uce8s/q9PA579Y13zd/9/T/Y8337DTRwXqG2Uk1O9Pm3UDn0XP22Z62b0uumIYTUwjeXmX/+9b9YsiDa5G5/9md/ZiZMmWHJI9SQR44ea/73n/6pFWHFSKZUAPUbcH8iwZWal6YvHbxqs/qwmQqp6gkpMD5k+BOWZ/7qr//GvOx0HDk3cdos879+8Qu7/W7i1IIiStpLtTgxxL9yT93XR1vVeqhOPdS9kFq2tsX0/k1fSyT/+E+/Ni+8/JpZuXGrHar7z/++2x6nx0bPracbsgqp6oBSG3tj2VWFVHWF1PMvzjf/55e/tFw39rnf/yyWNr1vO4h0LIlKEZ2qZdvpaf6t5bPqvRuLo6pdX3UvpNzGmUci720zQjBEnKbOeikopEJiZ8X6NvPUM7/LhcQZJhxw/0OGuQMYnPlVQk4jRj2bS/c3f/t3Ztykaeb1pavMP/zjP9k0bnRM5mUVy7/alar5ayPvSQyokKqukHp75UbzH//5X5ZvmKogkXWmO/z6X//NHu838AGzetP7lr9eWfy26XVvH0O0nmjVP//6X+9E7f94PsSJ76x5zzwy7HHzl3/11zY/9vznOFgKXSM8ybxUeNrlauFCrmX6BcOSSeXpSazqvZQbq4GB8oSUt0Knv7Cd/E9jsvmE3z9vG7Y0VtcICBYiUQigZetagw3ZJwCuGfjAwzZPVwTxm8jWordX5oSUf57/EMz02fMM0TAEGMcgCHqEiLmY/N1n0N/asBsdA9FCKpI36n3F8tjypbmy+dDHRlqu+Yd//GezeOkqK27cjuSU5+fYY7PnLcyJIZe/EFQjRo0JiiI36u9ew2+4Ek7zeRTMxgipQuV5/Mmnc+Kv0duAlr+5eTxKSHn816PLH9DYaNBEgCRilATaUI/IJ4CZLy0wv/zzP7dv90FE5IUY+7f/+x/2PqOfnZAjCCJdv5v4e9vYZ819NfdGIOKO6/y8ORaTf1L59XhzN8ZGrf9oIeWt7CsdLn8f+1ZwvadLc2Vz4RUEEfOiwIrMnZKpDUSqmHAOXxKhQiARpXr6dxPtMaJXRLF83kKEwXXw4rTZc+01RN7pIP7lX/6VeXH+692u4f7FhBSdWyJjlOe/7+5l3lyx3pbpwUeG2WP1MBzZqG1Oy11fviJKSHn819BCiqE6GnbS9uiIUd0IAtAi4mQ4z/akEoRUTP7aCOqrEWh9VFYfKqSqO7QHPnlbj+ExeOuBwUPz/vM2M4KJDiHzSJO4DeFCxN0XUiLIiLIvXbXJijRE2OQZLxg6jXCffw1lKiakuBf3pDzutAwmzDNxHlHIPbT9Vdb+1H61t19ZQspfoZOeYWhLY2XztIf2JML113/zt7bXRuja3ei9+QQBUGOFVEz+CvzaA1/rIL060JXNw/yX9srmwi1ElqbMmGMj5DI/1Oeo/+l1bx6vwXEPDh5qXn1jWTdRFBJJfvsIpfF50h8R8P9Lni6Xkocc1316bVJt2bO2rPuVzaUx0nvxX++VOQLSs5G09ICkgfoEIGT0t3/392bBEuctl03vm1Ubt9pG7RMEoHQbP3lwzM+bYzH5K8h7FuRq7+raWyNS1Y9IgeG5r75h5z/xBt99ffvbSI+7Pp7LUUSZXNxbbkuYbE4UHs50I1Kkd+efhrjO50mff4tFpFyedsuqv6vbXtW+6du3rIhU7NyENCabuxMhCVu/OH+xDWPzqm/M8gc+AchcAxoxb+qRP6TB2iqM5/OGjE8QAM8lKV9IuQQUk78COX0gq01rZ1MVUj0jpOCqu3v/Jm/ojknogn13jhQvxcBFnCMKBUfJens+J3abI/XeNjtXijlTMkeK4UQ4k7mkCCw4c/gTT9lj8iKQL6Tc8socKSauD3l0hL1O50jVrs0KZnSfTh3UvZCiohFPf/8P/5hHIDRqNiZECkH4DZlrfdIo9FYd5DPnlcXRQoqJ6VIO9gismPwVvOmAV+1YH3ZUIdUzQgq8u5yD0BGxJG0h6S05+GnQg4Pt0gk+J7qdVZfP+C1v7YnY8s/zP0lIUaak8jCKYDukf4ySSfl1Xx9tWuuhtHpoCCFFpb721gobQZIlB2I+EcN1PmlwjN4Ub+PxKjENGjFGNIr1VzgfG5EievXb/oPML37xC7s99cw4e32x/LmHbmqDrGBAhVTPCSmZqI2AYW0pOMjHEVzJ23vClUR+WDePTh5pQ5wYWkdq2OMj77z59942ey3LJ/zFX/zKcua//Ou/WyGEiCokpLifriOlXOdjNGv/G0ZIZc3w+jxKLlnBgAqpnhNSWcGMPofyX5YwoEJKo0PderRZArg+S/UJW4WUCiltZ9VvZ2rj+rVxeULKW6HTX1BP/qcx2VzBU7/g0brRugED0UIqkjdiVw6v93RprmyubU3bmmKgfjEQJaQ8/uvRBTkVPPULHq0brRswEC2kvJV9pcPl72PfCq73dGmubK5tTduaYqB+MRAlpDz+UyGlw4E6HKgYyGFAhZQO7amTr18nr3VT/bopS0j15MrmCoLqg0BtrDauBAO6snnPrGxeSR3ptdrGFQPVw0Ddr2yulV+9ylfbqm3TwIBGpDQilQaONA/lo0bFQFkRqdi5CTrZXBtGozYMLXc8dlVIqZDS9hLfXtRW2bOVCimd65Kb66INPHsNvCfqVIWUCqmewJneQ/mpXjGgQkqFlAopxUBFGFAhpUKqXh2clkvFV09gQIWUOtGKnGhPgFTvUd9kqEJKhZS20fpuo1o/1a0fFVIqpFRIKQYqwoAKKRVS6qir66jVvvVt3/KElLdCp7+gnvzXyeb1XfnaOLV+0sBAtJCK5I16X7E8tny6srm2rzTal+ZR/ziKElIe/+mCnBrBqCiCocRQ/8RQSh1FCylvZV/pcPn72LeC6z2drmyeLZyX0iY0bXPVfZSQ8vhPhZQKKRVSioEcBlRI6dCeCofmEg5a3/n1XZaQ0pXN842ooFJ7NDMGdGVzXdm8mfGvz678ryuba2QhF1lQQlBCKAcDGpHSiFQ5uNFrlG+ygoGyIlKxcxNu3gwTjD8nQv+rnRQDjYuBm7fiyh7LG1lJd+5KnF0U+2onxUD2MeDzWvQcqVu3fzIKkOwDROu4uev4dmQ794kkCTdZSadCqrnbRRK+9Xj2cPHTT8W1js9rKqQie+DaYLLXYLROu9epCqnuNgEnKqTCdtE2pHbJGgZUSKko0qihYqAiDKiQCjtGFVJhu2TNierzaD2rkCriRK9d+8aMHj3aTJs23Tqb7767bmbPnm2WLFlibt68VZED0gaoDTAtDIBFMAk2wWha+cbko0IqjONaCKm33nrL3H333eahhx4yZ8+e7VEcxGBF04SxonaJt8vHH39sfvvb31qcb9++vS4wXp6Q8lboTARB5NyJxOv/KHIQMS4xuIaENNgGDBhg5s2blzp5+ELq4sVL5oknRphp06aZ77//oS4qsZj99Hx8I21UW12/fsNMmjTJjBo1yly5crVHcRktpL67bc6cOVu0AxK7cni9pzt3NR3cIYjgP+E62d9772/MuHHjzLFjn+fqW4VUOjZvVB5ohnK7/r+hhJSnm3p8jlSSkJo6dappa9tit2XLlluyGThwkDl06OMcsVQKLF9IVZpfoeshQZQ2QCmUTs8pWaaFAXHSEnEtJ98YIXXjxvdmd8c+s2LFiuJCylsBOKlM/uTNekuXVkRK6kgElL9HUG3ZstVyhgop5YakdpCV4w0rpDxeqxshBWm44CBa9NRTT5kRI0YYfrvnyv2tQkqJqVzsNMJ14qSrKaROnDhh1q9fb0WUCqnS25PUEQLK7YF/8cUXZsiQITZSNXLkSBuJVCFVun0boZ1qGX+u18wIqdiVzW/dKv5KYAxAkiJSvpAir507dxp6aNu2xY2dMrdkx44/mCFDhpp77rnH3HfffWbu3Lnm6tU7wyO+kPL/c88ff7xpNm/ebB588EFLaoMGDTJr1qyxxzkvRLhw4UIzd+48ew/uxTDMl1+ezp13e5rMy+JeXP/1151m8uTJ9rl69eplw/lcxznd1AaCAdqJ4EZwOmXKFLN06VI79A2+hg4dag4ePGRxI07XxZ3rqCXfovvbPxmiQ/721dkrZvsHO3MCChHFdumbW93SutfG8ku9pzvelQ42hT98IUW9bNr0nuWcfv36mU8++dRIncpUCPhtz569toMJL5IH0yAWLVqcN5cOvMyfvyCHE9LwXziIeXfLly83Dz/8sOVJ+AvOhDt1rmg69Vy0ndUJ32/e3GIxMHDgwNywsvAN+JozZ4759tvviuIFviI9HPXKK/MNvk18+kcf7TMjRz5pj3Gc3xzDRq6QIj3nwCOYXblyVQ6PMZgtVIaS6iOBAwvxWt1GpHjwzs5OK2gWLHg1SmQQEkc8zZgxwxIRIEEQjRnzrCURAQgGJ3//PyRCZZIHQumzz45akuL/qlWr7DVChBAZ99m+/QPz7rvL7DDehAkTLOi6us7b6/v27Wt27vzQXLhw0QLi9OmvbK/zsccetyJx7969ht/Dhw83XFNSZddJQ9QyV4d4Q0Kqd+/eVni///42s27dOovtRx991EZswTLOF7wzvwqcMteq1PoJDe0dOfJJNwElQqqY44V8YspQ7+mqMbTnC92tW7daZyRTAnwh1dHRYTtgOBo6eA888IB1TjgwOozUBQ6HuVYc87eZM2fZuaDMP+UcHAZecFryf9euXVH1FVOnmiYO+7W0E514CRog5CkL8/QQVvANwYwYvIiI4RrwCZ7AL3gS0e/iEczRCXSFlHte8AjmKVMlZSjVvuVNNo8kurQW5MTg0sPiAcWQGN1/YBEtInz88+5/JuUSEp80aXLexHGAgBDatWt3N+HkCykBFSpcHAR7/g8bNsycP38hF3GaPn163n0Qe+5z8TxCiFLORYsWWdJCoMkxfgOq1atX547JOd3XPxFVq45CQsqffA7xuRgrpb0kldsVUkwm37JlS6KI0qG90vEpdYSjcIUUkWrql+PCNb6QCtXZ+vUb7DWDBw825851WceHM+vTp49pb2+3PNbS0mqdmUS6/Hx40YZOIPd+/vnnlYeaqJNK3U+Z8ntb9/g0/J1ERol4g6kYvIiQIuI0c+ZMO9f58OEjZuzYsTbviRMnWpHPNJ2nn34mhzXx/2Dv9deX2JEfpg+AZ44tWfJGt/tTnhBmQ2VwX97wnyPpf1MLKXrjEIWoajESBgcM9M594eT/h9ggIUSXXM+enqKQkBChL/z4X0hIyb3oLbqRgqtXr9lQvRJY6U7JraOs/Q4JKY65zwleqyGkEFD0JCXqtHLlShval//s5dgPP/yYVya3fPyu90hTbPmqEZHCUfgbvfdCk81xDHCI38sX7qFDR57ML4VbqAOiVAzbwWNwIdMXWlvbclMg3DL4GPPrU/9nj6dkeA8Bz8gIggpMSEAhBi8iYmQ6Ajg5depLc//999u8wJ5gBwzzYhkjMkSl4DDuJx0L8ZUcEzyWWwa5Zyn7zAmpUob2RNlKZYQMJxUkleP/Z7jEJRX3tziscoUUSpxhGDdP97eUKVRuPZY98ipWp+BBSMnHqVxbDSFF3q5giv3NBPTW1lazY8cO09Gxxxw6dMgOjX967JQ5e/acuXz5irlxI3moMVbQ1CpdtYWUzB1hDpREw/2I1JEjR2z0mqGT8ePHm5aWFjsfBR4RIQVu+C/YEay4e+bZkQeReoQXTk2iYcpDzcc1MhIDHhA8CCoZ1gM3MXgJ4U58MnhM8suhNMJ3XCd4LLcMLu5jf2dOSJUy2TwpIuUaTypIKsf/T2XLvCYEk7vRkyO6Va6QknvJ/BU3b37jaNyy6u/mIzS3zsGoOEPBjuBW0lVDSDG0B84JyzMvUIQUEajQb9odomnv3o9sFIsyIag2btxoX9KQa2TPixu8PHLgwAFz8uTJHO5rJZBi71sNIZXkXKR+fSHFMAfOhbXvLl26bPmCPDgmQkrSuBEpevNEGuCZCxcu2GgV17hzT8GW67ikDLrPPg/R3mV4b8yYMVZgy7CejJgUw4vgRzgL3EgghGvdiBR8dgeLF+3yRsUiUpWUoRz8ZkpIEcEpZfmDpDlS7e0dNnQYM0dK5istX74iT9QQGqc8VAoAgLRKHdqTuVYCULeCmXsFmN1j+jv7BFaojmsppKRcEN7u3btzAkrEkLuX6Ilc4+8vXrtph5boKJw/f97wmj+iy517hUhrbdtqj3O+UKciVvikna4ehNSLL75kxc7jjz9uX2CBM5hAjqMSIUXn050jRX0wV4o5U0xPgA+JOHANb1dRf/ISDMd8se7Xp/7PJi/J8B4YYANr1DW+KQYvISGF3/TnSHGM+VLcg+ksMRGpSspQDl7LE1LeCp2JN67yyua8JYdIYcy03AU55a09yOX48RNWBVfy1h55QEysZcWwHOWLFVL0upnHsHjxYsObB5CeEJa8tUf+r732mo2CrVixUoVUE03yTGxnf7RBOUJKIldELBj26ew8UzKm3MnmUkbmOmzatCkoqIoJqWIrlvNGK+JpV3u+uGIJEki2qyt/smux/KTMaaerxsrmpUak3DegEEVs4vjgOSIAOKpCb+2xmCpv+HEdw3sseuzOt2Jh5GJ1KjbWfXZEFVzBchjgwp0nDBZi8BISUuDDxaxglX3orT1pD8JjpCPfSstQKk6jhJSnm+pm+QPXyExQK+cTMRg87XWkGDfmLQR5eyFWSBEhY00NyGrs2N+Zb7751jo1dx0pzrF+CwJQySs7pFRqww2lL0dIkQ/479+/v30tnk5AKO9Cx0JCivQMDzEc50aj+F0Mt+VEhpjszr0YIuQeDBOy7gxzObouJ8+zcp+rnPu61/u/6yEiha15A4+lD+BLottvvvmm7YjBU0T6KDeOyF9Hyl1rivM4RwQUc7N40/mFF16webrDhr4N9H92OQpsySRzIlBEgaS+Y/CSJKTII7SOFPP9OBcTkSJdpWWQZ4nZRwkpb7WDHhdSMQ8SSiPzBVzBJb9lInjoOj2W3cavdZt+3SYJKbE1ESLWsRJBVQ0hJfdizzAfb/l8+OGHZu3atYbX/T/99DPT028LpiWk3GfT3+njV22qNq0UA2UJqdgVhdNa2bzch0SRytCav5eJ4OXmrddp41MM/BEDEav6Eu3pOHDULoHQkyubn7t03eza87FZu3ad2dzSZo58djxxVfVYXotNl9bK5ooz5RrFQJ1jIIIDfd5omIiUgq/Owafzm3Kh8EbGarGIlDwbYorODUN+ciy0T3uIjfx4i4ehP94q3LZtm5176N877ftqREr5x8eY/s8mJsqKSMUSTlormyv4sgk+rdds1GspQiqmzmP5pZx0vEnLvCCGGQ8fPpwn6MrJr9DzqJDKBr4L1bGe0zoGAyqkNCqS50yUGJQYSsVAIwkpeTbmTPliSoWUYl/woXvFQikYUCGlQkqFlGKgIgw0opCCJJmQ7oopFVLqPEtxnppW8SIYUCGlTrQiJypA0n3zkkqjCikwy8dORUypkGpeDCt/ad1XgoGqCqnvv//efiuL72XppjZQDGQTA7Er7KctVNLK79ixY1ZMfdl5MapTEXtfFuRUzGcT81qvWq8uBootrYJI83njrtgVgHk75+ZN3dQGioEsY6DYW3jS04vljZ5OR/n5gDIrpUtZC+1jy9d17bbyn/K/YqBJMFCIMzjn84Yuf6DDgVEOpxiw9Hw2wumNPLQnGNy/f7+NSl2/fr0otv2epeTh7/WtvWzg269X/a/16mOgqkN7uvyBAs4HnP7PHiayIKT43hxzpQ4dOqRCSjuKRTGgPJY9HqukTssSUv4KnfTQQlutVzavxDB6rTYUxUAkBiJW9YUfYnmjVulat2w3bVveD3KZy2+x5dOVzSPxo8JNhVujYyCCA33e0KG9Rq90LX/DE1fSh7BrIf6yEJHCbh/s+NB+9LiYDRFVxdJwvtGH9rZv325K/Sap++HsGBtpmjgsqZ2626kcfFbLjmVFpGKJJI2hPT4pMXr0aDNgwABz8GD3sHs9OZRqVZLm270RNbtN6gn3WRFSO3ftMRs3biwqkmL5Ly0hJRzIB9cXLVqUWL4vvzxtHnzwQUM6nEylbaQcR6VCSrmqUtzFXl8OPmPzLjVdwwgpyOGZZ54xV65czSOIenIopRpf0yvplIuBesJ9VoRU+979Zt26dXn8EqqfWgqpkSNHduNAKeOmTe9ZEaVCSnlFMJHlvQqpEoaWpDfWu3dvw7Z06dI8oqsnh5Jl0Oqz1Rc51xPusyKk9u7/2KxcuTKPX0K4r5WQGjRokOnXr5/ZuXNntzIyWX7s2LHm/vvvN/fdd59GpErwMaE61mP1xXeh+lAhVQLIRUjRE5s8ebId4jty5EiOSEIOhXVhNm/enAtzQyxz5841V6/+HM1666237Pk1a9aawYMfsT05hg9XrlxlLly4aKZOnWruvfc3plevXmbUqFHmiy+O5+558+Yt097eboYPH27uuece07dvX7No0WIDmYUqXI/Vf6MstY5kGMUfasHJgTdxdufOdVncgiWwAmY6OvbkcCJkAB7B4UMPPWTANBjbseMPZsiQofY6H8OC+4ULF5q5c+fZe5I/WKVs8jzk09LS6rWFeYZ2RRppXxMmTDAvvviSxTtlketj9lkRUn/4sN20tbUVffZaCalx48YZeHDKlN8bfxHU/fsPWJG1ePFiO68JXEndff11ZzcMwl9gQ9KQH9fCZeBo5MgnDTjw50i5ecGNlMnFmz+0xz1crqQdwOPkI/fWfWPyI5gDL5s3t+TV5fLlK6yf/uyzo/Y4vhNeAi8hfyq++J133jH9+/e3U3ngJfz4mjVrctyFf3777bdzfla4k0is5A++Xnllfi4N2ALbBGC4nmgte/5LGxIuhf+ee+45i3+3/cTgs2GG9pgnxYdGBw8ebMaMeTbnCMQIQv40XH4TvZo9+wX7Pa21a9fZCnKHBkmDUR977HFLnjt27LCkQEUMHDjQzJgxw+ze3W7efXeZJRN6eyKUtmzZah0XaT755FNb2RAOYs0lp5gK0DSNSSLU8/Tp061jk+Fmjs2ZM8c88cQIc+nSZdPVdd4KJzC2d+9eixWZ7yedARosOEQoTZs2zaxfv8FcvnzF+BiDrJj/ItgX3INXcLh9+wc5rCKKrl+/YUls1apVNm+E/smTpwwkx71oGxCJCCnKgMh74403zb59+/KIsRhGsyKkNm9uNR99VPzZayWkJk6caN555908J0XdCO4QWbmxeZ0AACAASURBVB9+uMs6N3EEp09/ZYYMGWJF+tatWy0Gx48fbzEAxuR6BDlYWrBggRXwOBo4zRVSkhd4pqMApvkNbsA6eflCSnDMPeFKykCHgTKRXzFs6fn65UfhDlfYS2QUrMIvR48eMwMHDrK+lfrv6OgwQ4cOtVtn5x0xLb4YEfXSSy/Zjh/5cByuApuIMrgLPAp3gXFEP9eBVzqecCG+H58v2MYvcx2iDA6cP39B3uiWcCl5PfXUUwZBx3c4S8FeeULqu8jKvf1TSYUJFVwqCwfEb3rXNHgMR3oxAkbnv0QKML4ramj0qGcxMOkJlfOtLbnvqVNf2tA4jkjUKueWLHnDHuc8ThPCcoUVaahkBFipFSD31n0kpkqIZlbbpjgThlromXGv8+cvmGHDhuUmBO/atdv+h0CkLBACPSIaK8cgAxo+uJY0grFJkybn4VCiXeQruEfMuVhdsODVXFTrm2++NVOmTLHkJG1BnC4dEqJl0r7o0YkglHLE7qOFVCRv+CsAJ5UjzXR87oF1pE6dOpWrh0rvyydikvIo5bjUkXQmEdRuJFQ4j2MizEVIceyBBx4wJ06czJUFvICtRx991Fy8eCmRMxH1rpAiL7ArkQaeQfC8evVqm78rpJJwTFko07x583JlKsUemjYdXKVhR/weeJSoJP4P4SRRKjpyTz75pOUruR88hg9H+HAMXwzODhw4mMODYNr3466fDXEnHVg6suCQvBH4iKPly5fn8haxR2AFjkziUilvzD5KSHn816PLH7gkwm9IAOdBZaF2xQgipDAuKnbv3vzPPVy9es0aVAxMehlGEUP5eclxqeiPP/7YsFHpQhyShjcKcaoCDjmu+/pp9GnXBUKE3pVgD4HjCqvQ/XyMgVfXWXENwot8CFm7eYB97km0yc9H0oVwLedk76aR9iXtQtKUso8WUpHLBsRGfNJMd/bsOSukiAYWe/bY+6b91h5CiukJbtSTsuJcROCAJ6KL7KVuJTrgPheRIcEdnIVjA79uGhebkhdDeRLtJK3w6vPPP2+vdYWUcKWPY8Q8Uyekc+zeU383Fl8ipAkgbNt2ZygZv+gKq1B9Ci7AF+ddPpL0YLJPnz7d/DjYgwPhQhefcp3gtBifuThN4lLJM2YfJaQ8/qupkOKhUKv0qGnUhOoQROLMUMJCEK4BxMDSeEOVl2RQ0kqehCYhHcgqtAk43Hvr78Yih1LqiwiQYIoxdvlNHjiMPXv2WgHvY0bwGiIDn2hC5SmEVbeDgONlzgCTkF28ShppF8WIJ1QGOZYFIYVD2LBxU56QkOfz97UUUtSXzIeiZy/1J8Mr4EmEFKKQ6Hmobt10IQzyzO5xIldEsFwMub/lHq6D2rdvv3WG5OPbkHSCQf+c/m8cvkTQINQJbhDpwSfzWyLgzHNqbW2zw7/Mj3IxI7gI+WIXe0l4CKWR9iB45Frm482cOdN2Tt37C1cncWnSfUPHyxJSR8/eNp2X/7hdSthfBgzpD+3JQ8gQ36uv3hnKcB1TT0SkNmzYaKMCVIK7ub01KavuG4cYSq0rnBrDFLt27bIhZaIDkgfHEODMT2I+SCiSFCKDpIiU5Ms+qfG7pCTEJnO0eIkCgnPThIjHvU/c759Mp88DAX6wvCHpAuctp1y6bWL5JS8/yVf2Tv7BdM557suq5lt37Pn5Obzz7vPFlu+TznRwL3UkxC9DE4gnpiwQvURUUVfgCWfBXq6LiUiFev8uNiWvSZMm5fGdcJ9E8lwhJR0CjUilg4O4ttjz9yJ4QWADLCKOBYuUl6E98Mn8pM7OMzaSJLgAX6Rx+UieMSkiJefZu/iU44JTEVIyTxWBB6+GcJrEpZJnzP7mrZ/uaKIA/+TxmnO+5hEpHgwlzDg/80uYJCZCKmlsNTRHyu8RJRmUvCUiJcM5hNdFdVMelDfnYoyuaXq+sVfL5jIPZMyYMTak7c4fYQ6IjzHm5DE3T/AaIgPJ058j1d7eYXHozpGSfOT5+C/35G0ZhsDdNGCWCJWk8YlH8ill3+gRqTNnztphvS9Onolqv7WOSFE3OC+GVHi7jqiTzG8DTyKkSJfWHClwA+cxlO3zHHMD4WPu5wqpJBzrHKns8B91Lj4XseLi48aN78348RPyovSkh8cIdhQSUpKnP0eKeXsyFznEnT6fyQiS3Iv7g1XmQUvHJMnvkzZ2KysiFUskaa5sLg/tPpg0SIhDnIX0uGW2P5PfIB3Gbf239sSZSJ5JBiVvEVKklTdReEMAx0kIm7dScJCuI5V8dR8PyEa0FfgAgxCJG5EEdwh9cNLWtsUsW7bcChgXryEycDE2c+Ysc/z4Cfu2Exj239oT3Ivd+C+4FkfGdatXrzEtLS32zUBC7JLGJx7Jp5R9owsphl+ZMxTLa7HpqjFHivqibqRDB5bcKCh44pg4Dv9NO/gJPMKPlb61By5fe+01+xLPihV31t9yhRTl9LmSaAURUn1rLzuciM9lOA/cMb3B5Q6EPNMaeBsUDnz99SX2LTsXoy5nybWuH5c3jolq4Yfdt/Zcv8y1Pp+JIANzREbZ4FCCL6Ipkvy+lCVm39BCigfctGlTXkSKY7HrSIkzEUMlGZSKdiuMSvbXRsGJumtNSZ66zw5hJNUlzonJvv4QBj0f3i7lHMTBa98bNmywvTYm24KjJCHFOcLbxdaRKiSkKK+7hguENmvWLPsWKm+w8oKETzxJz1joeCMLKSZLM0GWpVViBVJsumoKKeoDJ+VP7PWFFOnctZ9wICxXEFpHCqy660iBZ/JnKEbq388LfCKWwCtpfCEV4kpdRyp7nIhAxkf6L3nBL+46dyNGjDAbN26yUSXehgczISHF8dh1pFx8hviMdfvAPNgH3wgz5kyBbZZgSPL7gvmYfd0LqZiH0DTZa5hap41Tp40spI4c+cTO34CAYwVSbLq0hJS2hcZpC1pXzVlXKqRKGAfVRtKcjUTrvXC9N7KQam1tza00HyuQYtOpkCqMG21Xap+sYECFlAqpXNg+K6DW5+hZgm5UIcWQLItw8jYRmIkVSLHpVEj1LA613au9a4WB8oSUt0JnYuFTWNk8MW8VQCqAFAN1gYFoIRXJG2muWA5/hPJjRWPmq7nfPQylC/FPbLq0VjYPlUGPqWhQDNQPBqKElMd/Pbr8gYKlfsCidaF1EcJAtJDyVvYN5cWx2IhPJen4niCTzFloUspRSX6Sh7vXiJS2FxcP+ju7eIgSUh7/qZDSSEjO+Sg5ZJccYuu20YRUV1eXHdI7fPhwHo5VSCmWYzGv6RQrLgbKElKnL97pNUI8hbY0VjZ3C6u/FbyKgTrEwO2fCvKAcEQsb1Q73fYPdpr3/v/acl2Xb+SVO+37Hu+qw7rSTmCeeFY+UYymgoEIDvT5JToi9cMPP5rvv/9eN7WBYiDDGPjhhzurWhcjpLQjPuXk98UXX9hoFCvM++UtJz8/D/c/c6SU/5T/FQPZx8CPP/7YjU9cLuC3zy8lCSluoJvaQDGQbQz4pBH67xNJKE2IcNJKxwTzjRs32u8ihvJMu3xdV1lUMNv1rs+n9asYuIOBEKe4x3x+iRZSaXwixi2I/tYwrGKg/jDQKHOkWHWZz0zw8eYQjnyiC6XhWGw6nWxef1hNqlM9rnVVCQbKmiMVSyQqpBSclYBTr20M/DSCkPrqq6/tkB5fgE/CVSyvxaZTIdUY+E3Cgx7X+ovFgAopnXyZ6FhiQaTpmptw6l1IXbx202zd+r7Ztm17QazHCqTYdCqkmrtdKC82T/03nZBK+kCigr55QJ+Fuk7jQ5tp2aHehdS+A0fyVjBPeu5YgRSbToVU6ZzCR7affvpp89FH+wqK3qQ61OOl27xRbZb0wfdaPE95QspboTOx4CmtbM5XoFtb2wxfGucLzr169TKPPfZ4ty+YJ5bDiTqpkGqehhaDh0ZN05BCKpI3YlcOj0l39uw5K6L2799f1DHH5AdeYtOlvbI5H1ZesmSJuf/++83dd99t7r33N2bcuHHm2LHPiz5bo+Ccleb79u1r+b5RyqzlrI1PaTgh5fFfj042v3nzllm0aJHp3bu3mTlzpmlr22JaWlrMlCm/t8cQRqSJBbMKqdqAPrZ+NF1c/TSkkPJW9k2q69iIT7F0dMDef3+baWndYm7c+L4oRxTLT8obmy7NiNSVK1fNM888Y+677z6zYMGrlgfXrl1nhg8fbgYMGGAOHjxU9Pmk/Aiy0aNH243fclz3cW1P7VQfdmo4IeXxX48KqVOnvrQ9sDlz5uQJJsQTxx588EHz5Zeno8lAhVR9NAIlo8rqQYVU8bfnDh06ZKNRn5/ojOKHWIEUmy5NIUVn8re//a05cOBg3rMwif6RRx4xEyZMMNev38g7l9TGVEhV1vaS7KrHe9auDS+k/BU6IZbQlsbK5rxl069fP7NkyRvdSIJe2EsvvZQTUvRAN2/ebMUVoW96b3PnzjVXr17NXYuQQnytWbPWDB78iA2RDxo0yL4WzfU0BnFSL774knnuuefscCKVxrmvv+40kydPtmF1hhgJrYuQE4KaMmWKWbp0qe0pUo6hQ4d26zG6+TBcSc+yvb09JxalDC+//IqZNWtW7n7MH4A8t2//IPec9Ei53/ff/7wwIs/Ms2MD8h8xYoQ5cuRIzg7a6Ctr9NQ5OMLBubbcuXOntTl7jp8715XDi9Sz+6FcIQNwCR4feughiz86Cjt2/CE3nO1jWfCxcOFCM3fuvFw9jxo1KodH7k8+LS2tOazcyWeekUiEYBZHDN7BNGVxn6no74hVfeGHWN5II90XJ89YEbXno4M9el+XB9Na2fz8+Qtm2LBhZuLEiXltXOqFCBXDfXQ6OVYIc+ANTnI3qW+wAgfBRWCVIbZFixab7767nsMDHLl8+Yo8boNzwa1wJGWI5TefYz/++GMrGN28Cj2P2ED3lfFZOfbbv/+AxcjmzS05fJCP4OOzz47a48x7g5fgFjZ+c0zuKT75nXfeMf37989FSsEay5XAs+AVP/f222/n8CjcuWnTe7n8Ge5+5ZX5uTTcA7/o+mPfXwqX+liU8kXtIzjQ57UejUjRiBEr9MY2bdoUJBIeFBKgQhgCnD37BTtvgNA3FUNInNA46UhDpeC0+Pr7jh07zPjx4+115E8aMSxk8tRTTxkqmHkIp09/ZYYMGWLnZ+Eo9+7da39DPF1d561zImROGSgzwwrr1q2zQHj00UdzH0iVfCjD1q1bDWKRMuDktmzZmlcGgLFgwQKze3e7effdZdYOAIFySPm5F/cU5y3DAAAQkENOpBk4cJA5evRYDsBRAHHml2n6n8kKvE2fPt2MHDkyhy2OESV94okR5tKlyxYTYIP5fGCFegYf1J+IWnFs1P20adPM+vUbzOXLVywOODZjxgx7HfVIfY4Z86zFmWAUfJAGYS34cKMTq1atsrjCIZ48ecqSHPnSRiAYEVK0Ccr6xhtvGj7oW0pd19tkc56LdsWbenxdAXET8zxpp0srIiWdSRE8hZ4FHiqEOaJWJ06cNCNHPmk3fouohntczOHE4F06ZGCb+4InuAa+cvkN/Ij4KYXffI71hVSx5ylkCz0Xh/ty7STcwTQb6cTjr8eOHZsT/fgb/A7+Bxx3dHTYwALBhc7OO5Fi8cn4agIjdPzIh+Pgkc4iogyBBh6Fu8Ab+OE6hBIdT7gQfOL7eS5wC365DjzDgfPnL7BpuIY0wqU+FkuxS3mTzSOJKa11pOiRSGQIx/Hss8/aRiuVxwNLhACjS6PnOA6MnpUYlsrBkYlaJo1UPk4OcIhhcZTuPYg++NeSD8f4krwAC8Utwo38UcxUJCTBf/J54IEHLKHxn437TJo02YjgkjKgrt3nofcJuNrbO+x1XAsgcbKc4z9OFzuJsOIYNgS8qG7+61a5DbAv0VJ6ZthTIgcSpdq1a7eNJEAgYm/BC+KcY5ABDR/ykDRgB4EGHlz8cT/qnnwFHz5GwYBEtVjJm+go5CQYYo/YGzx4sMVEEmalLDH7ehNSBw4csNGoM2fOWpumLZBi80tLSIm4iBFSMZiTOhe+o44FczhB+FDqHec1cOBA25EUfPtp4CJwKUKqFH7z8SvPKnnFPI+UVfeVc1qpNgQf+B4ZlSHggHCSKBXC+8knn7R8JXnDY/gnhA/HwDX+0R22TvLnLh5D3EkHlo7stGnTbd4IcYIhy5cvz2Fa/D0BFjgyiUulvDH7hhBSPAgOgHAgwoKKk6jSkSOfWANhVBozqxe7D3716jVrSDEslSaOxk3HcfJFlIhhXeIS8kFZu3MRJP/nn38+J6TkXpI/ZRMhJfmEwvT0oiVdqAzkFyq/pJX7smcoAOKTMmC/qVOn2ugc4JHjui+ffEScCk4gfVdYhWwrdSXXuNiQ9BKBQIDLMfaIKu4J/vx8JF0IH3JO9m4awaNgR9KUsq8nISULb0qnheeIFT5pp6uFkArVm48VqXNXSImAoUPo5sH0CTCN00tKI8fBsuRdLr+5ebnlcH/7z+Oe09/l81k5tqNjiNCWNdrAjyusQnn6dezykaQHb3369Onmz+E+OBAuDHGn4K8Yn3Fe8J8GnhpGSImB2SMKEFD0qmVYDQUsIsRNK4YVo4UqjfQcl+tDhr148ZKNFiHgQhsVI/fyK9GtcIZtiDb4aSgD6SREHiqDlNMXgpKWPHk7afz4CcEykrfYwbWR/i6ffIgAiU2J9slvbApO9+zZa4U8PTAXN+CNNC42pB58opHj7l7qXPKRcz6+mStH50NemZcyCIaSMCv5xezrRUiB/ba2Nkvq2F7KnrZAis0vLSElwtqva3k+dx+DOalzF6sMufgYFaywB6dJuHSPV8pvbl48V8zzuM+vv8vnsnJsh6BBNBNZJNJDoIHf0v6Y58TSRfhp5kf5mOKePmdxLMSLfvlCaQTbrn9lvh5v/NMhcO8v+E/iUv9+hf7XvZBCmboTyt2HocfOsAiRAIzaExGpSZMm2WgAxnc3CCRUiZTXrXBJU26PLQQ6AYKAhz1zIJj/4JaR33xnTEDu2lJ/l0dADOsxTLtr1y4bUib0LLbkGOKc+UnMGwlFklxsyHXiOP2IlJxnL3XuO1cXH0JsMkdL6t5NI3gU7Lj3iP1dL0KKIT2GErq6unJ1wDPECp+006UlpGRILcQZPB9iXiabx2BO6lwcCXmIgNmwYWM3zgBrYFdw6Uet5FqwLHmHyhoTcXfzolwxz0M63WpnA4IYBDWYRkMHzZ1SQntEwDA/qbPzjI0k+XXs8pHUY1JESs6zD3Gn4E/4TObYyRwt/DTXcl7wn8Sl7r2K/a57ISXjqTIR3H0gnBbznwg/J42phuZISeRJ8pIx00KGRXwwt4R5RoQW5Vr2EB3K3K9ESeNXeClzCAo5SslfgCDgwS7+XC7SElXjWeU63VdOPjK3ZMyYMTak7c69mzdvXrdh5BMnThjeEpV69bFBnUie/hwp5qKAXToOUueSj9SlS0oMhTNfwU0DjolQZS0ihVBdsWKF+fTTz7rhO22BFJtfWkKKuoUzqHt3HgnHZXhZJvzGYE54SvjOzQeOcztaRBSE7wrhstw5Ui42KYfvZGOeh+t0q50NxPciVlz/KKMjLs6oJ39OnctZUo+Spz/nmZdxZM5eiDsF2+ILJdJKWskbX80LOVKuJC6V9DH78oSUt0Jn4o1SWNmch545c5YNCxKeQ6my0Quj8T733EQrDmj8VAjHMD6T3lDKjNf6b+0xO//hhx+2b9Tx5knSG3N+I5e3UejhI/COHz9hXnvtNSvmVqxYGS2k/HxwvrxtQNn9t/b8MoRAJ0AQ8EB4PDPPjg14U4Hy8XYDbzDwJlNinSkplWwb6oSQsT9/DtsTMaVuWUh22bLlVsCQVuo1RAbUjbxBBfbBGb156tN/a0/ykfp08SGOj+tWr15jF7LlzUBC7DURUpG8EbtyuKSTIT23Jyz2YC/p3GOh32mnS3Nlc2nTtGFeVMBBhBbkjMEcXMnwCxjAMcnK6II58Aon7du333Ijwl86CPLWHml4U1TeSgbT4qwq4TdfSMU8T6gu9VjPCSvBExjwX2aiA8CQMW+ew4Gvv77E+iEXLy5nSb25/lzeOJa3SN239vygiC+kRJDhs4nws8GhaIAeF1Ie//Xo8gcYNjTOinNgJr4bYSFdzDpSEAjpUM9UKETBW1NUHvcTYeI7Kc7566Pw2RoIiGv9ShRQhJylnw9jyKF1pPwyhEAn5RUhxX3ddaR4xjv2WmEjZ1Iu3adDNjgZIoD+UBydAHf9EllyA9wx8R/MhLBBvXCODoN8FgmRjQiWNdGkzovhw13DBUJjTTLWZJNIbhJmS8FGrYf2GNJbv369XTYiVO7YCFLa6dKMSPFcMt8NrNGmwQRTDegoyXPHYI60d+aYPmIdCgKfY2DOXUcKvNA5cNf8gWMl4k0ZwDIYxKGJkCKvcvnNF1KxzyPPr/t0OK1UO9KJAQP+y17wi7vOHesZbty4yUaVZG3IkE/j/mAN8YTvAmvgPrSOFJiR8ob4jHX78K+IJ1kbjaAM+Sa9XCb5xe7Li0j18PIHsQ+j6WrTiNTuzW33WgopGdI7fvznBf58PKYtkGLzS1tI+c9Vi/+ILRyce2+cKKKOIWf3uP5ubl5opvovS0j5K3RCLKEtjZXNm6ky9FmVeBoSAxGr+sIPsbwRm+7kue/N5pY28+HuvUH+EU6KzS/tdGmtbF4vmEBAvfzyy+aJJ56wb0ciYhl6o2cvQ871UlYth3Jpj2IgggN9funxob0eNYjOEdJepWKgJAzUKiLVsfeAaW29swpyIY5AUBU6L+fSTpfFiFRoeNEdchZb6j4Oc2qnbNiprIhULOGktbK5gi0bYNN6zGY91kJIMQeHt/RYgLMYrmL5Ku10WRRSxWyt57PZxrVeC9erCimNPhR1RNqICjeiZrdPTwsphpj4jh5DejG2T1sgxeanQkrbTQw+NU3j40SFlAqpKGekjb3xG3u16rCnhdThw4fNunXrzdfn7nyIvNhzxQqftNOpkNI2Uwybej4bGFEhpUJKhZRioCIM9KSQYtXylStX2lW20xY+aeenQiobTlLFjtZjMQxUVUix8CPrgOimNlAMZBcDsQu8piFUPvjgA8MiuhBbGvm5BJl2fizIqbjPLu61brVuBQM3b+YvCeLyivz2+eWu2BWAf/jhB6Ob2kAxkG0MQCZCFoX2sbyRlI6FT90J5knp/DLUKt25q7eU/9QHKAaaAgPFvxbi85Auf6BDQVGO03do+r+5Q+R+jywJD6F033zzrV29fM+enyeYh9KF8qxVOh3aa268h7Cox7KJiZjpDT4PqZBSIaVCSjGQw0AMieBAfCJJciqhdIcOHbKfi5Cvt1eaX+jeoftWkk6FVDadZggTeqy567qsOVL+Cp0QUGjTlc2bG1xKLk1S/xGr+sIPsbzhp+PtPD66vHf/x3k846cLcVAl9600v6ytbK7tuUnas3YSc53EaMxHcKDPVxqRUqCVDjS1Wao2S/pocXTDT7E+qh2R2rdvn9m0aZO5fv1Gng0ROjHPW6t0GpGKq5+YOtQ0aksfA0kffPfT9cT/siJSscSU5srmfNV5yZIl5v7777dfgpYvkx879nkemU6bNt2e52vRspF29OjR5tChn78STSXIeX/PV6zdL0r3REXoPZQoSsFAswipixcv2eUOjh49ltfOsVUsD9UqXZpCikVIW1vbzJAhQ+1X7Hv16mUee+xx097ebviQcCnY0bTKNVnAgAqpEnvDV65cNc8884z9wviCBa+atrYtZu3adWb48OFmwIAB5uDBQzkiQUhBNvRgSeemRVDt2rXLphUh9cor83PpJP22bdsMBJ4FsOkzZJM0m0VI7d+/335PL4TjWgmk2PumJaQQSosWLTK9e/c2M2fOtHzV0tJipkz5vT321ltvWTFFZ5MOIxu/QzZLOiZ8yD4pjR7PJpc0ar2qkCpRSEEiRIkOHDiY18j5ztYjjzxiJkyYkAv7I6RCRHLuXJcZOnSoGTdunE2rxKGk0KgEQrmbQUh9++13tsN05Mgnee1e6i1W0NQqXVpC6tSpL20kfs6cOXnRJwQWxx588EHz5ZenrXhSIaW8Ju0j63sVUiUIqfPnL5hhw4aZiRMn2sXtfHAQoWK4D7LhXJKQknODBw82iCoVUko4PpZK+Y/jwoEh8t3rdu7caSOn7DkO1iZPnmyIht5zzz02itrRsSd3jZABUYXBgx8xDz30kBVJOMkdO/6QG8q57777zNy5c83Vq3c+iyJCauHChWbu3Hn2nuQ/atQo61SlTOTT0tJqy8oQ9p185uUiFhLFoDPy4osvGYaMKItcH7Ov1hypTz751KxevdpcvXotWJ5aCaTY+6YlpLBDv379zJIlb3SzA9H4l156yU7G96coSD0WwoDUv3utYFCw6U5zkPTwrGADjM+Y8XwO44wIbNmyNU/0SVrdZ4d39+8/YPr27Ws2b27JYYH6Xb58hR0pYt03/n/xxXHLS3ALGxzFMcECOIVL33nnHdO/f/9cIITh7DVr1uS4i9Gnt99+23z33XV7reBz06b3cvnDs4wySRruwTp3S5cutWUC5+TDf1n/TrgU/nvuuecsT5O3lC9mX/dzpIREhBSKPVSSkMKwY8eONU899ZQlZgyFUUs1WLH76/nsEEWhusQ5TZ8+3YwcOdIw9ExajhEheOKJEebSpcumq+u8FU7MZdm7d6/9rAkRAxrykSNHcmQADhE406ZNM+vXbzC84o8j4tiMGTPsdZAVZDNmzLNWBEnjhzhIs337B+bdd5fZyK0boV21apXNZ9GixebkyVOW5Mh39uwXLJGIY6QMDJW/8cabhsndhZ7dP1cNIYUtW1tbjbtulH/fWEFTq3RpCSm4i0g6UXmmLIgDcO3BRPwTJ06akSOftBu/qVvSFMLAjRvfmwsXLpoNGzZaPmQPbnFi4qgKCSnuASbB5tatqPjaGAAAFVNJREFUWw3Ok44DGNu2rTRn5D6P/q5/HhXuYIhZMCl+VgIfzG0cOHCQxS++vKOjw44MMTrU2dlp8Ylvh38QUXQK6PiRD8fBEZ1FcIVAow0Id4FPOo9chzCi4wkXMgTO1B8wBI/QAeU6RBkcOH/+ApuGa0gjXEpe6AMEnT/3uhgeyxNS30VW8u2fbEGLFaLQeRoxRqhESFHhb775pu0xST4ipKhAf1NxFVm/JUQWC9Vxo54j6kSkgJ4ZzyDRU4lS7dq120ZTIRB5RggBIUVj5RhYo+FDHpIGYYZAmzRpco6gOCfRLvKVxo+YExIjDRFaiSiwiOWUKVMsOUEonBexJ5FZIUN6iSIIpRyx+2ghFckbrAB88uRJu4r5mTNnc3bxy+OvFOyfl/+1SscnYqQMle6J+khvGfH87LPPWuy4dS916U5tiMEAZRM+dLmP33BvISFFZPaBBx7I42eE2NNPP2MjA5U+t16fHoaqYUvEDSIaHJA/AgThJFEqRPyTTz5p+UruD4+BYYQPx/DJ4MyduiMRf0SUcBdpud/AgQPtfULcSQeWjqxETMEi4mj58uW5tihij3nXtI8kLpXyxuyjhJTHfz26/EE5QsoXRvwnpPjyy6/kQn5CHPTAMKS7+a9ZxxhS09R3g69G/eDc6FmJOEfguMIqdE9ptHJNyFlJFJaQtZsHTpN7gk8/H0lHviKk5Ji/d9OI8xXi8dPG/I8WUiUsV8A39YpFNGoVaYq9b1oRKakDHApDIgxd4LzgNYaDZQ6Z1KUrpORaf+9igHPCh+wlbQibcg/BC/+JSBEVIJpJj59oluSh+2zzIh1DhI20VYbiXWEVqn/x6YI1H4tcg8jq06eP2bv3ozwswX1wIFwYg8/Q/TnmjlwlcWnStaHjUULK478eFVLiVDB26AH8YxiI8Dah7ULiiEqAiKQy/Xz0f7YJIK36JQIkjosxdvlN/jg+hqboEdEDcwW+4DlEBj7RhMqa1Ph9UmJOFY5Xlg2RMojY8h1j6F7FjqUtpL46e8VGoyDpQveOFTS1Spe2kHJtAbYQUEQWGZKl5y116WKQa4phgDQhPgxhU+4hQiqUP/Nm3Lksbrn1d7Z4FUHDMB6RcRmC5rdEkWTZDjBKMEP4x/W9PmcJHv1oqI+dWHx+/XWnfduVTq57f2knSVzq36/Q/7KElL9CJ0QV2tJY2VyGS2TM1X+YUiabu9eGiMM9r7+z1eCrVZ8M6zG0wbIahJQJPcu9OAYZMD/p9OmvgpGkEBlI58GPSEm+7JMav0tKQmwyR4u5MBCcmybkGN37RP2OWNUXfojljX2HT1ghdfKrriCvCNfE5lerdGmtbE7vnLkjMnzi1gkYYWiYaKjUpTgI0sVggHQhPgxhU+7hCim3PAwPL1u23HYcZIjbPa+/s8erDOMh6JkHSgdNXrShrhnaQ8AwP6mz84yNJPkdRZePBB9JESk5zz4Gn3QwEHHMMYRX5RNTaUekWDNTeClp7/NQj0akMFjS8gcytOJOdnMN5Brd/x0iDj+N/s9eo0+7TmU+05gxY2xI242izJs3r9sw24kTJ8ygQYNyw4EhMpA8/TlS7e0dVpi5c6QgIfeZXFJiGIj5Cm4ahBQRqnqOSO3u2GfWrbszWdR9Nv83hOUfC/2vVbq0IlIyp4SJ5v7zIdyJAPH2nogcV0jFYIA8Q3yIMyOSCt7kvojxxx9/PDcHheuYEOwOwUg5ksSW5KX7OPzWu51kPhNihakO+GXKzIsM48dPyIvScxweAzNgh/8uZ8mzSp7+HClexnHnSPlRKx97TG4Hw3Iv8ieKxgs50k6SOqVSlph9WRGpWGJKa2VzHAsTwxiHZ5Iuxim0IKcYqJABQsRRKL2ey0ajr0Y9QgSEjGWNMrkHPTWiBbxJwmKv9NQRMKQVcQMOfTLgenlrb+bMWeb48RP2jSjmHvhv7Uk+ck+XlESQcR3fqmMRR94MJMRez0KqtW2rYY6UPFPSPpaHapUuLSEF8YMD6o0FORE4bETjcUjPPTfRRp4QyQyrULc4HCb+xmAA+0qU4IUX5ti8iWSJMyOiCX7BD5PIwa+IJOnx40B37NhhsYrzo1xEI5LqTo9nh08Fd+CC6Q1u3RIEQcgsWLDAYuj115dYP05aETcuZ8m1EjkHR/LGMVEtuNJ9a8/nTl9IuRgmessGh/KGnuiEphFSGFfG+XnjiUrAwJMmTbKTG8X47DUilZ0G6tZrPf+WN/H8oTgcoLt+CRODN2zYYHttU6dOtcNsSUIKIsFZyidBwHtoHalCQgqbEZHgjTycMIQ2a9Ysux6RH8UQx1iOndOcI8WcihUrVpjDhw/nEXKoXLUSSLH3TUtI8eyhuSYIZN5GQvSIfe7Mm3rEOgqEO8eLYYA0YJVIJTgZMmSInXPFcdY8QyTBuXAvUVbeKHXxwhwURgXAKOnulGuFzVPKpfts8zJRU0SNG5mkzhE27jp3I0aMMBs3brJRJVkXLSSkuBbMx6wjRSdA8OULKY6DYYb3EE/wHsKMDgk4ZQmGphJSYijdZ7tBav02Xv2mKaTOnj1nhRT7YliIFTS1SpemkCpmCz3feO1G6yw7ddYQQ3sKuOwATusye3WZppBiFXMiUnz+qRhWaiWQYu+rQip7WC+GST3fnHWuQqrJF5XUht+cDT/Nek9TSP3ww49WSJ06dUqFlHJTUQykiWPNS7mwXAyUJ6S8FToTb57CyuaJeSvJKMkoBuoCA9FCKpI3eJHk2LFjRZ+tViuWx943zZXNlQfVySsG6hcDUULK478eX/5AAVS/ANK60bqJFlKRyxVs3txq13wphq3YIbZapdOhPW0bxTCs57OBkSgh5fGfCimNhBSNFihBZIMgYuoxbSG1c1dH3qJ+SWWolUCKva8KqeZpA0kY1ePNgYGyhJS/QifEEtrSWNlcgdgcQNR6buB6jljVF36I5Y1PT16w86Q+P9EZ5BXhmtj8apUurZXNtW00cNvQTndzdLojONDnoeiI1I8//miYPKqb2kAxkF0MsN5LjLNHAMWme//9bUWjUqXkF3vfNNMxR0pxn13ca91q3QoGbt26VZTbfL6KFlLXvvnWXLt2TTe1gWIgwxj45ptvi5IIAsUnkiTRQrrPP//cRqVY7LFQuqRz7vFS7utel/Q7Nr+uq3cWumSxS93UBoqB7GKAoFESX8hxnzeihdSZy7fs6s2s0lxou/xN4fNybbOlU/uFcRGLA7VfT9kv/YjU9evXTWtrq9m8ebO5ePFSkKR8YhLC8ve1Sqdv7cVFIP360v9qt0bDQMw8UZ+HooVU5+U4QPg3SDJis6VT+4XxE4sDtV9j248vtSOm+KxOaKXzWBzUKp1ONg/jL4nf9bjaq1ExUNZk81hiUkcWbhhqv8rsovZrHvuJmFq7dm231c5jcVCrdCqkwjhtVGep5db6TMKACqmItypqRcQqRMMNN7Y+1H7ZsJ+IqZUrV5rDh4+YGzdu2KG+WBzUKl1WhBQfheWDtHxgG0fCR5Cffvpp89FH+4JDrknORo+H26PaJR278PHu2bNnmyVLltipRD1p1/KElLdCZ1KBO6/EGSh2peBmS6f2C+MnFgdqv+zYDzHFl+X5Dt97771nPvvsqLlw7YcoRx6Ll7TTpTlHatq06eahhx6yX6qHbxE1d999d97G1+zfeustc/Xq1Si7JPG2f9wXUh0de0zfvn1Na2tbqvfx76v/w+1X7RK2C3Mpn3hihJk2bZp9uaMn7RQlpDzdpHOkEqJYafd8NaISbjCxdlb7Zc9+Fy5cdARVi/n88y+KOvNYvKSdLs2IVJKQeuWV+aatbYvdXn99ienfv78ZPny4OX36q6J2iXU0vpCKva6cdAhBol/cs5zr9Zpwm1e7JNtFOiUScS3HVlFCylv+RYWUCilLcmk7nrTzUyEVJo9YO9ez/RBUu9rvRKg2bdpk9uzZa06ePGXXbfKJMPZ5007XE0LKJ/8TJ06YwYMHm0mTJqfWK1chFW5HPs70f2PaqWZCyl+hEwIKbUfPho/7aWPza7Z0ar8wfmJxoPbLvv2+PnfVHPj4M7Nl63Y77Ld69Rqz/YOd5shnx03X5RuWl2Lxkma6E6fPmb0fH08tqpIUkfKFFM58+fIVJUV1WFB1zZo1hqFBhgsHDBhg3n77bcOcE/LzhZT/nzQMJ86dO9fcd9995p577jEjRowwR44cyT0/5STStGnTe2bUqFGmV69e5t57f2OIqHGfs2fP2qFLd7hy9OjR5tq1b+x8l/b2dhtpI2+GFRctWpwrnwqYxhQwadcbWAEztBXyFkwtXLjQzJ07L4dN8Pfll6cttkjvYs4dPi+pfNVc2byee7QYKe0eaNr5qf3CBBFrZ7Vfc9mPeVSHDx+2SyYwl4pt+/YPzO6Oj+wCn11dXebGje9zzt0nylhcFUu3e/due++NGzcm3su/d7H/pQipgwcPWbGBaCmWL2v0MZyGAMLhMPdMhNjs2S/YqJYvnPz/V65cNc8884wVYps3t1jhNW7cODNw4CBz9OgxWwaEFCKIocelS5eaHTv+YGbMmGF69+5t1q5dZxBzXV3nbRkQSjt3fmiIOlK+LVu22vKR/pNPPrWiD1GGcON8sWfU82EeyJpdkoQUgh3swAXvvrvMCvoJEyZYIQ7GNmzYaMUUezAY+6UG1346tJcwTOcaqRhxStq006kQCBNArJ3Vfs1rPxFVu3btMps3t1phI+KKdal27NhhDhw4YI4fP24QWJDwxWvFVyemrRfCH0OMcp9aCSkROggk4aakPT1zIlGIKFeUIKYGDhxojh37vGhECvGEs9q5c2fufufOdZmhQ4eaF198KSekEE0tLa25NJcuXf7j5OA7EQTK6M+RQqSNHDnSjB07Ni8C5ZYv6dn0eLj9Z9UuSUJq+vTpecPcCxa8GnxxIxTdjbWVCikVUjliE9AUchSShn29p1MhFSbS2HrLmv0QVwgHolYILBb7FNEje9arYjV1G8navdvs37/ffPrpZ+bkyZPmzJmzVnSd+vqCXW0dIYCjh8C//fY7Q/6SD/tGEFJEhvr06WMn8Ltt+/r1GwYxxGdNRJiJo/H/Ey0bNmyYOX/+Qo5LEGVTp061kSo+ISRDe1wr9/EdH8d9ISX3Wr16de460hF169evn41sSX66D7f3ZrGLjycZ2vM7FPx3h/DAJsN7gu9y7KVCSoVUHkEBolhHW+/psiYEijXwtOujWezHHB1E0ecnz1jBhHA6ePCgaW/vsJErBNf69evzRJIrmJJ+10pIlTK0FxI4Ps5EzIijcf8zVDp+/IS8eSbunBOZ5xS6j+/4uK8vpDo6Omy0y83T/S1l8sus/5tPVPl4UiGVIG7SdhT1nl+zODIhvbTrQ+0XJtNYO6v9utuPr72fv3zDRqGIQDHHgqFBolXMB3JFVa2ElMxxcqM/0sb8fVJEyk3nCieO+/+JSI0c+aQ5ceKkneCLA5NN5jmVK6TkXsxfkTzdPZEzt6z6uztmm8UmKqS89RWSKj7WAWQlnTqyMCnE1q/aT+0Hl8TiJY10bW1tOTFVCyFV6vIHSXOk1q/fED1HCuHGm35MVHe5mwUS5c2/coWUzLWaM2dO3hwuJgRzzr2f/g6392axS+MJKW+FzqSK0pWlw8COXUFZ7af2o23F4iXtdIq/0vGHc1+1apUVUz0hpCRSwxBYOQtyMpeJ4TTe2mNJAdbiYikE3oor96098lixYqV9Q48364jixQqpbdu226G8xYsXG56JOVruW3uItX379pvx48ebQYMGdRNvSb5Ij4exnCW7lCukJOr5wgtz7Jw7Ef+l2CZqjpSnm3RBzh4aetSISrjxx0YO1H5qP8gwFi9ppWO+FZ9RaduyNbWISdLyBzJfiKUFHn74YSuKSv1ETNrrSFEm3gQkUoUQog5ihRST96dMmWKXShg79neGieqIPXcdKd4QZHkFvvlXirPTtGE+yIpdyhVSYJT1zFjbbMiQIXYJhFJtEiWkvJE3FVIqpCyBpeV4BLRp56dCKkycsXZW+1VmvzRXNpc2UuoeASZiy9+7by6Vmq+mD2ND7dKcdilLSLFiNCRrt0sJ+8u3zcHTt01ngfNyvc3PTxfIPy9d4HxefgXOS9nz8itw/2C6QP556QLnSy2f2i+MH2vnAvaV+lX7qf3gn7x2Ke08gJ+8dIHzpbbfTzpr71SYEO9OznZ/l7v4oIqF2ter1kF91cHNWz/l66EAf/j8ohEpjUhpRCoBAxBcbMSn3tMhHGIIu96fo1blq4eIVEz9aZo4nKud1E5JGCgrIhVLTErEYeCp/Sqzi9pP7QehxeKgVulUSIVxmuSM9Ljaq1ExoEKqQGRBKrVWRKxCNEwssfWh9lP70YZj8ZJ2OhVSYfwJr+pe7ZMVDKiQUiHVbfgmbYdSq/xUSIWJOrY+1H6V2U+FVNh+WXGe+hxav4IBFVIqpFRIea+lSuPw97ECJCvpVEiFHUVs/aqQCtvPb1f6X+3U6BhQIaVCSoWUCqluGIDYVEiFHVy0kLp62/z444+6qQ0UAxnHwK1bt4Ic6gpEnzfuil1BWVdGTiBib4VT19jub7Wf2g88xLa3tNMp/irD39mrt821a9d0UxsoBjKOgevXrxcXUp7f1+UPEqJYvuJ0RZH7OzadRgQSHFlkBEntp/azQjQSL7HtMjbd15duGVYNL7Zd/qZ4GvJotnRnL6tdQtiJxYHaL4yfatjP9e9Jv33eUCGlQsqqbx8YsQDqqXQqpFRIgbVa4VTxp/hT/IUxUEu7xPJBtdvvXacv3iEnClRoYyXPQuflXGx+zZZO7RfGTywO1H5qPzgmFi9pp1P8Kf4Uf2EM1NIuse282u1XI1IakdKIVAIGGqGnBYlRzmJbtXtkSfePLV+9p1P7hTEWW29qP7VfLfm02vhTIZXghGIJIjZdtStSHdkdooqtj2ZLp/hTR5ZlR6b8p/yXhAGOV5v/VEipkNKIVAIGaul40hZ61SaSJBJL+zlqlZ/aT4VoLflA8Vff+FMhleBE0yZsbQj13RBUCGiPNgkDHNf2q+1XhVQYA7W0S6yfrnb7VSGlQkojUgkYaASCqBciwVahLbZ89Z6u2kQcsp3iL4ypLNklFveKvzAW6sV+KqR6yAFoQ6jvhqCO7E79xBJTs6XT9qvtt5YCTvFX3/jTlc2ThJS3cmmio41MpytLJzQEtV84khNpl9gV0BV/ij8rBFLGleKvMlyp/bJhP41IJQmpyNfKY3vm2qNIaDCRdlb7qf00IhDGQC3tovwXrpNYu8SmU/6rzM7Vtt//A/YcZXA4MSD3AAAAAElFTkSuQmCC)"
      ],
      "metadata": {
        "id": "-XUB7XozfJ_q"
      }
    },
    {
      "cell_type": "markdown",
      "source": [
        "2- Crie uma função que realize o cadastro do veículo, recebendo com passagem uma lista com o banco de dados dos veículos e retorne essa mesma lista com o novo valor de registro atualizado.\n",
        "\n",
        "O campo de disponibilidade deve ter valor -1 para quando o veículo estiver disponível e o índice do cliente que o locou, caso esteja indisponível.\n"
      ],
      "metadata": {
        "id": "AEhsruwwfTfi"
      }
    },
    {
      "cell_type": "code",
      "execution_count": 67,
      "metadata": {
        "colab": {
          "base_uri": "https://localhost:8080/"
        },
        "id": "EG9wEJ9Pe2Os",
        "outputId": "c8583276-25bc-4af9-8e53-0ab1e08b0e54"
      },
      "outputs": [
        {
          "output_type": "stream",
          "name": "stdout",
          "text": [
            "\n",
            "Deseja cadastrar um novo veículo (S/N)? s\n",
            "\n",
            "Digite a placa do veículo: DEF5678\n",
            "Digite o modelo do veículo: Volkswagen T-Cross\n",
            "Digite a categoria do veículo (Básico, Intermediário, Luxo): Intermediário\n",
            "O veículo está disponível (S/N)? s\n",
            "\n",
            "Deseja cadastrar um novo veículo (S/N)? s\n",
            "\n",
            "Digite a placa do veículo: GHI9012\n",
            "Digite o modelo do veículo: Hyundai Hb20\n",
            "Digite a categoria do veículo (Básico, Intermediário, Luxo): Básico\n",
            "O veículo está disponível (S/N)? s\n",
            "\n",
            "Deseja cadastrar um novo veículo (S/N)? s\n",
            "\n",
            "Digite a placa do veículo: JKL3456\n",
            "Digite o modelo do veículo: Ford Fiesta\n",
            "Digite a categoria do veículo (Básico, Intermediário, Luxo): Básico\n",
            "O veículo está disponível (S/N)? s\n",
            "\n",
            "Deseja cadastrar um novo veículo (S/N)? s\n",
            "\n",
            "Digite a placa do veículo: MNO7890\n",
            "Digite o modelo do veículo: Porsche 911\n",
            "Digite a categoria do veículo (Básico, Intermediário, Luxo): Luxo\n",
            "O veículo está disponível (S/N)? s\n",
            "\n",
            "Deseja cadastrar um novo veículo (S/N)? s\n",
            "\n",
            "Digite a placa do veículo: VYX3512\n",
            "Digite o modelo do veículo: Volkswagen Amarok\n",
            "Digite a categoria do veículo (Básico, Intermediário, Luxo): Intermediário\n",
            "O veículo está disponível (S/N)? s\n",
            "\n",
            "Deseja cadastrar um novo veículo (S/N)? s\n",
            "\n",
            "Digite a placa do veículo: ZYW8469\n",
            "Digite o modelo do veículo: Ferrari 812 Gts\n",
            "Digite a categoria do veículo (Básico, Intermediário, Luxo): Luxo\n",
            "O veículo está disponível (S/N)? n\n",
            "Digite o ID do cliente que alugou o veículo: 1\n",
            "\n",
            "Deseja cadastrar um novo veículo (S/N)? n\n",
            "Lista de veículos cadastrados:\n",
            "[{'placa': 'ABC1234', 'modelo': 'Chevrolet Equinox', 'categoria': 'Intermediário', 'status': -1, 'id_cliente': -1}, {'placa': 'DEF5678', 'modelo': 'Volkswagen T-Cross', 'categoria': 'Intermediário', 'status': -1, 'id_cliente': None}, {'placa': 'GHI9012', 'modelo': 'Hyundai Hb20', 'categoria': 'Básico', 'status': -1, 'id_cliente': None}, {'placa': 'JKL3456', 'modelo': 'Ford Fiesta', 'categoria': 'Básico', 'status': -1, 'id_cliente': None}, {'placa': 'MNO7890', 'modelo': 'Porsche 911', 'categoria': 'Luxo', 'status': -1, 'id_cliente': None}, {'placa': 'VYX3512', 'modelo': 'Volkswagen Amarok', 'categoria': 'Intermediário', 'status': -1, 'id_cliente': None}, {'placa': 'ZYW8469', 'modelo': 'Ferrari 812 Gts', 'categoria': 'Luxo', 'status': 1, 'id_cliente': '1'}]\n"
          ]
        }
      ],
      "source": [
        "def cadastrar_veiculo(lista_veiculos, placa=None, modelo=None, categoria=None, id_cliente=None):\n",
        "    if placa is None:\n",
        "        placa = input(\"\\nDigite a placa do veículo: \").upper()\n",
        "\n",
        "    # Verifica se o veículo já existe na lista pelo número da placa\n",
        "    for veiculo in lista_veiculos:\n",
        "        if veiculo['placa'] == placa:\n",
        "            print(\"Veículo já cadastrado. Dados atuais:\")\n",
        "            print(veiculo)\n",
        "            return lista_veiculos\n",
        "\n",
        "    # Início da entrada de um novo registro\n",
        "    if modelo is None:\n",
        "        modelo = input(\"Digite o modelo do veículo: \").title() # Padronização para os campos\n",
        "    if categoria is None:\n",
        "        categoria = input(\"Digite a categoria do veículo (Básico, Intermediário, Luxo): \").title()\n",
        "\n",
        "    # Status do veículo\n",
        "    while True:\n",
        "        if id_cliente is None:\n",
        "            status_input = input(\"O veículo está disponível (S/N)? \").upper()\n",
        "            if status_input == 'S':\n",
        "                status = -1\n",
        "                break\n",
        "            elif status_input == 'N':\n",
        "                id_cliente = input(\"Digite o ID do cliente que alugou o veículo: \")\n",
        "                status = 1\n",
        "                break\n",
        "            else:\n",
        "                print(\"Opção inválida =(. Por favor, digite 'S' para sim ou 'N' para não.\")\n",
        "        else:\n",
        "            status = id_cliente\n",
        "            break\n",
        "\n",
        "    novo_veiculo = {\n",
        "        'placa': placa,\n",
        "        'modelo': modelo,\n",
        "        'categoria': categoria,\n",
        "        'status': status,\n",
        "        'id_cliente': id_cliente\n",
        "    }\n",
        "    lista_veiculos.append(novo_veiculo)\n",
        "    return lista_veiculos\n",
        "\n",
        "# Banco de Dados de Veículos\n",
        "lista_veiculos = []\n",
        "lista_veiculos = cadastrar_veiculo(lista_veiculos, 'ABC1234', 'Chevrolet Equinox', 'Intermediário', -1)\n",
        "\n",
        "# Loop para continuar cadastrando Veículos\n",
        "while True:\n",
        "    cadastrar = input(\"\\nDeseja cadastrar um novo veículo (S/N)? \").upper()\n",
        "    if cadastrar == 'S':\n",
        "        lista_veiculos = cadastrar_veiculo(lista_veiculos)\n",
        "    elif cadastrar == 'N':\n",
        "        break\n",
        "    else:\n",
        "        print(\"Opção inválida. Por favor, digite 'S' para sim ou 'N' para não.\")\n",
        "\n",
        "print(\"Lista de veículos cadastrados:\")\n",
        "print(lista_veiculos)\n"
      ]
    },
    {
      "cell_type": "markdown",
      "source": [
        "3- Crie uma função que realize o cadastro do cliente, recebendo como passagem uma lista com o banco de dados dos clientes e retorne essa mesma lista com o novo valor de registro atualizado.\n",
        "\n",
        " O nome do cliente deve conter apenas Nome e Sobrenome, devendo ser armazenado em uma lista com duas posições."
      ],
      "metadata": {
        "id": "WgLji6Lsgyd8"
      }
    },
    {
      "cell_type": "code",
      "source": [
        "def cadastrar_cliente(lista_clientes, id_cliente, nome, sobrenome, cpf, email):\n",
        "    # Verifica se o ID passado já existe na lista de clientes\n",
        "    for cliente in lista_clientes:\n",
        "        if cliente['id_cliente'] == id_cliente:\n",
        "            print(\"Cliente já cadastrado. ID existente:\", id_cliente)\n",
        "            return lista_clientes\n",
        "\n",
        "    # Cria um novo cliente com o ID fornecido\n",
        "    novo_cliente = {\n",
        "        'id_cliente': id_cliente,\n",
        "        'nome': nome,\n",
        "        'sobrenome': sobrenome,\n",
        "        'cpf': cpf,\n",
        "        'email': email\n",
        "    }\n",
        "    lista_clientes.append(novo_cliente)\n",
        "    return lista_clientes\n",
        "\n",
        "# Banco de dados de Clientes\n",
        "lista_clientes = []\n",
        "\n",
        "# Loop para continuar cadastrando clientes\n",
        "while True:\n",
        "    cadastrar = input(\"\\nDeseja cadastrar um novo cliente (S/N)? \").upper()\n",
        "    if cadastrar == 'S':\n",
        "        id_cliente = len(lista_clientes) + 1  # Incrementa o ID\n",
        "\n",
        "        nome_completo = input(\"Digite o nome completo do cliente (Nome e Sobrenome): \").title() # Padronização para os campos\n",
        "        nome_sobrenome = nome_completo.split()\n",
        "        while len(nome_sobrenome) != 2:\n",
        "            print(\"Formato inválido. O nome do cliente deve conter apenas Nome e Sobrenome.\")\n",
        "            nome_completo = input(\"Digite o nome completo do cliente (Nome e Sobrenome): \").title()\n",
        "            nome_sobrenome = nome_completo.split()\n",
        "\n",
        "        cpf = input(\"Digite o CPF do cliente: \")\n",
        "        email = input(\"Digite o e-mail do cliente: \")\n",
        "        lista_clientes = cadastrar_cliente(lista_clientes, id_cliente, nome_sobrenome[0], nome_sobrenome[1], cpf, email)\n",
        "\n",
        "    elif cadastrar == 'N':\n",
        "        break\n",
        "    else:\n",
        "        print(\"Opção inválida. Por favor, digite 'S' para sim ou 'N' para não.\")\n",
        "\n",
        "print(\"Lista de clientes cadastrados:\")\n",
        "print(lista_clientes)"
      ],
      "metadata": {
        "colab": {
          "base_uri": "https://localhost:8080/"
        },
        "id": "Y86-AlAyfXHN",
        "outputId": "d274b0f3-8fce-4833-89d9-988538ddfd19"
      },
      "execution_count": 68,
      "outputs": [
        {
          "output_type": "stream",
          "name": "stdout",
          "text": [
            "\n",
            "Deseja cadastrar um novo cliente (S/N)? s\n",
            "Digite o nome completo do cliente (Nome e Sobrenome): Victoria Cruz\n",
            "Digite o CPF do cliente: 12053722851\n",
            "Digite o e-mail do cliente: vic_cruz@gmail.com\n",
            "\n",
            "Deseja cadastrar um novo cliente (S/N)? Matheus Cruz\n",
            "Opção inválida. Por favor, digite 'S' para sim ou 'N' para não.\n",
            "\n",
            "Deseja cadastrar um novo cliente (S/N)? s\n",
            "Digite o nome completo do cliente (Nome e Sobrenome): Matheus Cruz\n",
            "Digite o CPF do cliente: 13061966946\n",
            "Digite o e-mail do cliente: theuxx@hotmail.com\n",
            "\n",
            "Deseja cadastrar um novo cliente (S/N)? s\n",
            "Digite o nome completo do cliente (Nome e Sobrenome): Jessica Gular\n",
            "Digite o CPF do cliente: 85296374100\n",
            "Digite o e-mail do cliente: jess_g@outlook.com\n",
            "\n",
            "Deseja cadastrar um novo cliente (S/N)? n\n",
            "Lista de clientes cadastrados:\n",
            "[{'id_cliente': 1, 'nome': 'Victoria', 'sobrenome': 'Cruz', 'cpf': '12053722851', 'email': 'vic_cruz@gmail.com'}, {'id_cliente': 2, 'nome': 'Matheus', 'sobrenome': 'Cruz', 'cpf': '13061966946', 'email': 'theuxx@hotmail.com'}, {'id_cliente': 3, 'nome': 'Jessica', 'sobrenome': 'Gular', 'cpf': '85296374100', 'email': 'jess_g@outlook.com'}]\n"
          ]
        }
      ]
    },
    {
      "cell_type": "markdown",
      "source": [
        "4- Crie uma função que realize a busca de um veículo a partir da sua placa.\n",
        "Ela deve receber como passagem a lista contendo o banco de dados de veículos e a placa, e retorne uma lista contendo o índice do veículo desejado."
      ],
      "metadata": {
        "id": "RqE_akHJhWJ0"
      }
    },
    {
      "cell_type": "code",
      "source": [
        "def buscar_veiculo_por_placa(lista_veiculos, placa):\n",
        "    indices_encontrados = []\n",
        "    for indice, veiculo in enumerate(lista_veiculos):\n",
        "        if veiculo['placa'] == placa:\n",
        "            indices_encontrados.append(indice)\n",
        "    return indices_encontrados\n",
        "\n",
        "placa_desejada = input(\"Digite a placa do veículo que deseja buscar: \").upper()\n",
        "indices_encontrados = buscar_veiculo_por_placa(lista_veiculos, placa_desejada)\n",
        "\n",
        "if indices_encontrados:\n",
        "    print(\"Veículo com a placa -->\", placa_desejada, \"<-- encontrado no índice:\", indices_encontrados)\n",
        "else:\n",
        "    print(\"Nenhum veículo encontrado com a placa:\", placa_desejada)\n"
      ],
      "metadata": {
        "colab": {
          "base_uri": "https://localhost:8080/"
        },
        "id": "97mLwqf6hWrr",
        "outputId": "f4672048-3771-4885-eed0-873ba55c3568"
      },
      "execution_count": 69,
      "outputs": [
        {
          "output_type": "stream",
          "name": "stdout",
          "text": [
            "Digite a placa do veículo que deseja buscar: JKL3456\n",
            "Veículo com a placa --> JKL3456 <-- encontrado no índice: [3]\n"
          ]
        }
      ]
    },
    {
      "cell_type": "markdown",
      "source": [
        "5-\tCrie uma função que realize a busca por veículos, tendo como base o estado da locação.\n",
        "\n",
        " Ela deve receber como parâmetros de entrada a lista contendo o banco de dados dos veículos e um parâmetro booleano, que selecionará se a lista retornada será dos veículos disponíveis ou indisponíveis.\n",
        "\n",
        " O valor padrão para esse parâmetro deve ser disponivel=True. O retorno da função deve uma lista contendo os índices de todos os veículos selecionados."
      ],
      "metadata": {
        "id": "ASNBrKZIhXAz"
      }
    },
    {
      "cell_type": "code",
      "source": [
        "def listar_veiculos_por_status(lista_veiculos, disponivel=True):\n",
        "    indices_encontrados = []\n",
        "\n",
        "    for indice, veiculo in enumerate(lista_veiculos):\n",
        "        if disponivel and veiculo['status'] == -1:\n",
        "            indices_encontrados.append(indice)\n",
        "        elif not disponivel and veiculo['status'] != -1:\n",
        "            indices_encontrados.append(indice)\n",
        "    return indices_encontrados\n",
        "\n",
        "disponivel = input(\"Deseja buscar veículos disponíveis (S/N)? \").upper()\n",
        "if disponivel == 'S':\n",
        "    disponivel = True\n",
        "else:\n",
        "    disponivel = False\n",
        "\n",
        "indices_encontrados = listar_veiculos_por_status(lista_veiculos, disponivel)\n",
        "\n",
        "if indices_encontrados:\n",
        "    if disponivel:\n",
        "        print(\"Os veículos disponíveis estão nos índices:\", indices_encontrados)\n",
        "    else:\n",
        "        print(\"Os veículos indisponíveis estão nos índices:\", indices_encontrados)\n",
        "else:\n",
        "    if disponivel:\n",
        "        print(\"Não hé nenhum veículo disponível.\")\n",
        "    else:\n",
        "        print(\"Não há nenhum veículo indisponível! Todos estão alugados.\")\n"
      ],
      "metadata": {
        "colab": {
          "base_uri": "https://localhost:8080/"
        },
        "id": "TLOTD60zhXTc",
        "outputId": "4e01f863-8f11-4579-82d2-1756c4e6ef37"
      },
      "execution_count": 70,
      "outputs": [
        {
          "output_type": "stream",
          "name": "stdout",
          "text": [
            "Deseja buscar veículos disponíveis (S/N)? s\n",
            "Os veículos disponíveis estão nos índices: [0, 1, 2, 3, 4, 5]\n"
          ]
        }
      ]
    },
    {
      "cell_type": "markdown",
      "source": [
        "6-\tCrie uma função que receba como parâmetros a lista contendo o banco de dados dos veículos e uma lista contendo índices de veículo e realize a impressão desses dados."
      ],
      "metadata": {
        "id": "fdoBLwm1hXgj"
      }
    },
    {
      "cell_type": "code",
      "source": [
        "def listar_veiculos(lista_veiculos):\n",
        "    for indice, veiculo in enumerate(lista_veiculos):\n",
        "        print(f\"\\nVeículo {indice}:\")\n",
        "        print(\"Placa:\", veiculo['placa'])\n",
        "        print(\"Modelo:\", veiculo['modelo'])\n",
        "        print(\"Categoria:\", veiculo['categoria'])\n",
        "        if veiculo['status'] == -1:\n",
        "            print(\"Status: Disponível\")\n",
        "        else:\n",
        "            print(\"Status: Locado para o cliente\", veiculo['id_cliente'])\n",
        "\n",
        "listar_veiculos(lista_veiculos)"
      ],
      "metadata": {
        "colab": {
          "base_uri": "https://localhost:8080/"
        },
        "id": "CB4pCW7shXzz",
        "outputId": "bc20eb18-64c6-48d4-c864-3af5273b4801"
      },
      "execution_count": 91,
      "outputs": [
        {
          "output_type": "stream",
          "name": "stdout",
          "text": [
            "\n",
            "Veículo 0:\n",
            "Placa: ABC1234\n",
            "Modelo: Chevrolet Equinox\n",
            "Categoria: Intermediário\n",
            "Status: Disponível\n",
            "\n",
            "Veículo 1:\n",
            "Placa: DEF5678\n",
            "Modelo: Volkswagen T-Cross\n",
            "Categoria: Intermediário\n",
            "Status: Disponível\n",
            "\n",
            "Veículo 2:\n",
            "Placa: GHI9012\n",
            "Modelo: Hyundai Hb20\n",
            "Categoria: Básico\n",
            "Status: Disponível\n",
            "\n",
            "Veículo 3:\n",
            "Placa: JKL3456\n",
            "Modelo: Ford Fiesta\n",
            "Categoria: Básico\n",
            "Status: Disponível\n",
            "\n",
            "Veículo 4:\n",
            "Placa: MNO7890\n",
            "Modelo: Porsche 911\n",
            "Categoria: Luxo\n",
            "Status: Disponível\n",
            "\n",
            "Veículo 5:\n",
            "Placa: VYX3512\n",
            "Modelo: Volkswagen Amarok\n",
            "Categoria: Intermediário\n",
            "Status: Disponível\n",
            "\n",
            "Veículo 6:\n",
            "Placa: ZYW8469\n",
            "Modelo: Ferrari 812 Gts\n",
            "Categoria: Luxo\n",
            "Status: Locado para o cliente 1\n",
            "\n",
            "Veículo 7:\n",
            "Placa: ABC5678\n",
            "Modelo: Toyota Corolla\n",
            "Categoria: Intermediário\n",
            "Status: Disponível\n",
            "\n",
            "Veículo 8:\n",
            "Placa: DEF9012\n",
            "Modelo: Honda Civic\n",
            "Categoria: Intermediário\n",
            "Status: Disponível\n",
            "\n",
            "Veículo 9:\n",
            "Placa: GHI2345\n",
            "Modelo: Nissan Versa\n",
            "Categoria: Básico\n",
            "Status: Disponível\n",
            "\n",
            "Veículo 10:\n",
            "Placa: JKL6789\n",
            "Modelo: Renault Kwid\n",
            "Categoria: Básico\n",
            "Status: Disponível\n",
            "\n",
            "Veículo 11:\n",
            "Placa: PQR5678\n",
            "Modelo: Audi Q3\n",
            "Categoria: Luxo\n",
            "Status: Disponível\n",
            "\n",
            "Veículo 12:\n",
            "Placa: STU9012\n",
            "Modelo: Mercedes-Benz Classe A\n",
            "Categoria: Luxo\n",
            "Status: Disponível\n"
          ]
        }
      ]
    },
    {
      "cell_type": "markdown",
      "source": [
        "7-\tCrie uma função que faça a busca por cliente a partir do seu o nome ou o sobrenome.\n",
        "\n",
        "Deve receber como parâmetros a lista contendo o banco de dados dos clientes, o nome que deve ser localizado e um parâmetro booleano que informe se a busca deve ser realizada pelo nome ou sobrenome.\n",
        "\n",
        "O retorno deve ser uma lista contendo todos os índices onde houveram ocorrência do nome/sobrenome desejados."
      ],
      "metadata": {
        "id": "lhgym_XDhYKj"
      }
    },
    {
      "cell_type": "code",
      "source": [
        "def consultar_cliente(lista_clientes, nome_ou_sobrenome, buscar_por_nome=True):\n",
        "    indices_encontrados = []\n",
        "    for indice, cliente in enumerate(lista_clientes):\n",
        "        if buscar_por_nome:\n",
        "            if cliente['nome'] == nome_ou_sobrenome:\n",
        "                indices_encontrados.append(indice)\n",
        "        else:\n",
        "            if cliente['sobrenome'] == nome_ou_sobrenome:\n",
        "                indices_encontrados.append(indice)\n",
        "    return indices_encontrados\n",
        "\n",
        "nome_ou_sobrenome = input(\"Digite o nome ou sobrenome do cliente que deseja buscar: \").title()\n",
        "buscar_por_nome = input(\"Deseja buscar pelo nome(S) ou por sobrenome(N)? \").upper()\n",
        "if buscar_por_nome == 'S':\n",
        "    buscar_por_nome = True\n",
        "else:\n",
        "    buscar_por_nome = False\n",
        "\n",
        "indices_encontrados = consultar_cliente(lista_clientes, nome_ou_sobrenome, buscar_por_nome)\n",
        "\n",
        "if indices_encontrados:\n",
        "    print(f\"Cliente(s) com {'nome -->' if buscar_por_nome else 'sobrenome -->'} {nome_ou_sobrenome} encontrado(s) nos índices:\", indices_encontrados)\n",
        "else:\n",
        "    print(f\"Nenhum cliente encontrado com {'nome -->' if buscar_por_nome else 'sobrenome -->'} {nome_ou_sobrenome}.\")"
      ],
      "metadata": {
        "colab": {
          "base_uri": "https://localhost:8080/"
        },
        "id": "yF7syS4phYlT",
        "outputId": "1846498c-9acd-49b3-b114-450e4f56ddeb"
      },
      "execution_count": 72,
      "outputs": [
        {
          "output_type": "stream",
          "name": "stdout",
          "text": [
            "Digite o nome ou sobrenome do cliente que deseja buscar: cruz\n",
            "Deseja buscar pelo nome(S) ou por sobrenoe(N)? n\n",
            "Cliente(s) com sobrenome --> Cruz encontrado(s) nos índices: [0, 1]\n"
          ]
        }
      ]
    },
    {
      "cell_type": "markdown",
      "source": [
        "8-\tCrie uma função que imprima os dados de clientes. Ela receberá como parâmetro a lista contendo o banco de dados do cliente e uma lista contendo os índices de clientes e imprimirá os dados dos clientes listados."
      ],
      "metadata": {
        "id": "leH4ygbYjqL7"
      }
    },
    {
      "cell_type": "code",
      "source": [
        "def listar_clientes(lista_clientes):\n",
        "    for indice, cliente in enumerate(lista_clientes):\n",
        "        print(f\"\\nCliente {indice}:\")\n",
        "        print(\"ID:\", cliente['id_cliente'])\n",
        "        print(\"Nome:\", cliente['nome'])\n",
        "        print(\"Sobrenome:\", cliente['sobrenome'])\n",
        "        print(\"CPF:\", cliente['cpf'])\n",
        "        print(\"E-mail:\", cliente['email'])\n",
        "\n",
        "\n",
        "listar_clientes(lista_clientes)"
      ],
      "metadata": {
        "colab": {
          "base_uri": "https://localhost:8080/"
        },
        "id": "XKHu574Wjqm1",
        "outputId": "81398714-23f8-4178-942e-768e7310b738"
      },
      "execution_count": 92,
      "outputs": [
        {
          "output_type": "stream",
          "name": "stdout",
          "text": [
            "\n",
            "Cliente 0:\n",
            "ID: 1\n",
            "Nome: Victoria\n",
            "Sobrenome: Cruz\n",
            "CPF: 12053722851\n",
            "E-mail: vic_cruz@gmail.com\n",
            "\n",
            "Cliente 1:\n",
            "ID: 2\n",
            "Nome: Matheus\n",
            "Sobrenome: Cruz\n",
            "CPF: 13061966946\n",
            "E-mail: theuxx@hotmail.com\n",
            "\n",
            "Cliente 2:\n",
            "ID: 3\n",
            "Nome: Jessica\n",
            "Sobrenome: Gular\n",
            "CPF: 85296374100\n",
            "E-mail: jess_g@outlook.com\n",
            "\n",
            "Cliente 3:\n",
            "ID: 4\n",
            "Nome: Gutto\n",
            "Sobrenome: Guimarães\n",
            "CPF: 75342186900\n",
            "E-mail: guttooo@yahoo.com\n",
            "\n",
            "Cliente 4:\n",
            "ID: 5\n",
            "Nome: Luiza\n",
            "Sobrenome: Costa\n",
            "CPF: 95148763212\n",
            "E-mail: lui_cst@outlook.com\n",
            "\n",
            "Cliente 5:\n",
            "ID: 6\n",
            "Nome: Eva\n",
            "Sobrenome: Mello\n",
            "CPF: 82469371038\n",
            "E-mail: eva_m@gmail.com\n"
          ]
        }
      ]
    },
    {
      "cell_type": "markdown",
      "source": [
        "9-\tCrie uma função que realize o aluguel do veículo. Ela deve receber como parâmetros as listas contendo os bancos de dados de veículos e clientes e retorná-los atualizados.\n",
        "\n",
        " A função deve solicitar a placa do veículo e avaliar se ele está disponível para locação. Caso não esteja, deve oferecer ao usuário a opção de inserir uma nova placa ou sair da opção.\n",
        "\n",
        " Caso o veículo esteja disponível, ela deve exibir os dados do veículo e pedir que o usuário confirme que está correto. Caso negativo, ofereça a opção de inserir uma nova placa ou sair.\n",
        "\n",
        " Se estiver correto, solicite o ID do cliente, faça a mesma avaliação e ofereça as mesmas opções apresentadas no caso dos veículos.\n",
        "\n",
        " Se tudo estiver correto, os campos de ‘disponibilidade do veículo’ e de ‘veículo locado’ devem ser atualizados nas respectivas bases de dados e um sumário da operação exibido na tela.\n",
        "\n",
        " A função deve retornar a duas listas atualizadas."
      ],
      "metadata": {
        "id": "w08SeIY9jrVF"
      }
    },
    {
      "cell_type": "code",
      "source": [
        "def buscar_cliente_por_id(lista_clientes, id_cliente):\n",
        "    indices_encontrados = []\n",
        "    for indice, cliente in enumerate(lista_clientes):\n",
        "        if cliente['id_cliente'] == id_cliente:\n",
        "            indices_encontrados.append(indice)\n",
        "    return indices_encontrados\n",
        "\n",
        "def alugar_veiculo(lista_veiculos, lista_clientes):\n",
        "    while True:\n",
        "        placa = input(\"Digite a placa do veículo que deseja alugar: \").upper()\n",
        "\n",
        "        # Verifica se a placa existe na lista de veículos\n",
        "        veiculos_encontrados = buscar_veiculo_por_placa(lista_veiculos, placa)\n",
        "        if not veiculos_encontrados:\n",
        "            print(\"Veículo não encontrado.\")\n",
        "            continuar = input(\"Deseja inserir uma nova placa (S/N)? \").upper()\n",
        "            if continuar != 'S':\n",
        "                return lista_veiculos, lista_clientes\n",
        "            else:\n",
        "                continue\n",
        "\n",
        "        indice_veiculo = veiculos_encontrados[0]\n",
        "        veiculo = lista_veiculos[indice_veiculo]\n",
        "        if veiculo['status'] != -1:\n",
        "            print(\"O veículo não está disponível para locação.\")\n",
        "            continuar = input(\"Deseja inserir uma nova placa (S/N)? \").upper()\n",
        "            if continuar != 'S':\n",
        "                return lista_veiculos, lista_clientes\n",
        "            else:\n",
        "                continue\n",
        "\n",
        "        # Exibe os dados do veículo e pede confirmação\n",
        "        print(\"Veículo encontrado:\")\n",
        "        listar_veiculos([veiculo])\n",
        "        confirmar = input(\"Confirma o aluguel deste veículo (S/N)? \").upper()\n",
        "        if confirmar != 'S':\n",
        "            continuar = input(\"Deseja inserir uma nova placa (S/N)? \").upper()\n",
        "            if continuar != 'S':\n",
        "                return lista_veiculos, lista_clientes\n",
        "            else:\n",
        "                continue\n",
        "\n",
        "        # Solicita o ID do cliente\n",
        "        tentativas = 0\n",
        "        while True:\n",
        "            id_cliente = input(\"Digite o ID do cliente que está alugando o veículo: \")\n",
        "            id_cliente = int(id_cliente)\n",
        "            clientes_encontrados = buscar_cliente_por_id(lista_clientes, id_cliente)\n",
        "            if not clientes_encontrados:\n",
        "                print(\"Cliente não encontrado.\")\n",
        "                continuar = input(\"Deseja inserir um novo ID (S/N)? \").upper()\n",
        "                if continuar != 'S':\n",
        "                    break\n",
        "            else:\n",
        "                # Exibe os dados do cliente e pede confirmação\n",
        "                print(\"Cliente encontrado:\")\n",
        "                listar_clientes([lista_clientes[clientes_encontrados[0]]])\n",
        "                confirmar_cliente = input(\"Confirma o aluguel para este cliente (S/N)? \").upper()\n",
        "                if confirmar_cliente == 'S':\n",
        "                    # Atualiza o status do veículo e o ID do cliente que alugou o carro\n",
        "                    lista_veiculos[indice_veiculo]['status'] = id_cliente\n",
        "                    lista_veiculos[indice_veiculo]['id_cliente'] = id_cliente\n",
        "\n",
        "                    # Atualiza a lista de clientes\n",
        "                    for cliente in lista_clientes:\n",
        "                        if cliente['id_cliente'] == id_cliente:\n",
        "                            cliente['veiculo_locado'] = placa\n",
        "\n",
        "                    print(\"Veículo alugado com sucesso para o cliente ID:\", id_cliente)\n",
        "                    return lista_veiculos, lista_clientes\n",
        "                else:\n",
        "                    tentativas += 1\n",
        "                    if tentativas >= 2:\n",
        "                        voltar_inicio = input(\"Confirmar o aluguel para este cliente (S) ou voltar para o início (V)? \").upper()\n",
        "                        if voltar_inicio == 'S':\n",
        "                            continue\n",
        "                        else:\n",
        "                            break\n",
        "\n",
        "lista_veiculos, lista_clientes = alugar_veiculo(lista_veiculos, lista_clientes)\n",
        "\n",
        "print(\"\\n\\n-->Lista de veículos atualizada:\")\n",
        "listar_veiculos(lista_veiculos)\n",
        "print(\"\\n\\n-->Lista de clientes atualizada:\")\n",
        "listar_clientes(lista_clientes)"
      ],
      "metadata": {
        "colab": {
          "base_uri": "https://localhost:8080/"
        },
        "id": "4llf5tG7jrlM",
        "outputId": "79f2a647-ee61-4bb2-f247-3a8a75183b66"
      },
      "execution_count": 77,
      "outputs": [
        {
          "output_type": "stream",
          "name": "stdout",
          "text": [
            "Digite a placa do veículo que deseja alugar: MNO7890\n",
            "O veículo não está disponível para locação.\n",
            "Deseja inserir uma nova placa (S/N)? s\n",
            "Digite a placa do veículo que deseja alugar: JKL3456\n",
            "O veículo não está disponível para locação.\n",
            "Deseja inserir uma nova placa (S/N)? s\n",
            "Digite a placa do veículo que deseja alugar: ABC1234\n",
            "O veículo não está disponível para locação.\n",
            "Deseja inserir uma nova placa (S/N)? n\n",
            "\n",
            "\n",
            "-->Lista de veículos atualizada:\n",
            "\n",
            "Veículo 0:\n",
            "Placa: ABC1234\n",
            "Modelo: Chevrolet Equinox\n",
            "Categoria: Intermediário\n",
            "Status: Locado para o cliente 2\n",
            "\n",
            "Veículo 1:\n",
            "Placa: DEF5678\n",
            "Modelo: Volkswagen T-Cross\n",
            "Categoria: Intermediário\n",
            "Status: Disponível\n",
            "\n",
            "Veículo 2:\n",
            "Placa: GHI9012\n",
            "Modelo: Hyundai Hb20\n",
            "Categoria: Básico\n",
            "Status: Disponível\n",
            "\n",
            "Veículo 3:\n",
            "Placa: JKL3456\n",
            "Modelo: Ford Fiesta\n",
            "Categoria: Básico\n",
            "Status: Locado para o cliente 3\n",
            "\n",
            "Veículo 4:\n",
            "Placa: MNO7890\n",
            "Modelo: Porsche 911\n",
            "Categoria: Luxo\n",
            "Status: Locado para o cliente 1\n",
            "\n",
            "Veículo 5:\n",
            "Placa: VYX3512\n",
            "Modelo: Volkswagen Amarok\n",
            "Categoria: Intermediário\n",
            "Status: Disponível\n",
            "\n",
            "Veículo 6:\n",
            "Placa: ZYW8469\n",
            "Modelo: Ferrari 812 Gts\n",
            "Categoria: Luxo\n",
            "Status: Locado para o cliente 1\n",
            "\n",
            "\n",
            "-->Lista de clientes atualizada:\n",
            "\n",
            "Cliente 0:\n",
            "ID: 1\n",
            "Nome: Victoria\n",
            "Sobrenome: Cruz\n",
            "CPF: 12053722851\n",
            "E-mail: vic_cruz@gmail.com\n",
            "\n",
            "Cliente 1:\n",
            "ID: 2\n",
            "Nome: Matheus\n",
            "Sobrenome: Cruz\n",
            "CPF: 13061966946\n",
            "E-mail: theuxx@hotmail.com\n",
            "\n",
            "Cliente 2:\n",
            "ID: 3\n",
            "Nome: Jessica\n",
            "Sobrenome: Gular\n",
            "CPF: 85296374100\n",
            "E-mail: jess_g@outlook.com\n"
          ]
        }
      ]
    },
    {
      "cell_type": "markdown",
      "source": [
        "10-\tCrie uma função que faça a devolução do veículo, contabilizando o valor total da locação.\n",
        "\n",
        "Deve receber como parâmetros as listas de veículos e de clientes e retornar essas listas atualizadas. Deverá ser solicitado o nome ou o código do cliente.\n",
        "\n",
        "O processo de devolução deve desvincular o veículo do usuário, retornando-o para o estado ’disponível’ e remover o veículo da base do cliente.\n",
        "\n",
        "A contabilização deve ser feita informando o número de diárias utilizadas, relacionando-as ao valor da locação, sendo que o valor de é de R$150,00, R$250,00 e R$400,00 para as categorias básica, intermediária e luxo, respectivamente."
      ],
      "metadata": {
        "id": "EOJGp1VjjrzU"
      }
    },
    {
      "cell_type": "code",
      "source": [
        "def calcular_valor_locacao(categoria, num_diarias):\n",
        "    valores_diarias = {'Básico': 150, 'Intermediário': 250, 'Luxo': 400}\n",
        "    valor_diaria = valores_diarias.get(categoria, 0)\n",
        "    return valor_diaria * num_diarias\n",
        "\n",
        "def devolver_veiculo(lista_veiculos, lista_clientes):\n",
        "    # Pega o cliente para verificar se ele tem carro alugado ou não\n",
        "    nome_ou_codigo = input(\"Digite o nome ou ID do cliente: \")\n",
        "\n",
        "    # Verifica se o cliente existe na lista de clientes\n",
        "    cliente_encontrado = None\n",
        "    for cliente in lista_clientes:\n",
        "        if str(cliente['id_cliente']) == nome_ou_codigo or cliente['nome'].lower() == nome_ou_codigo.lower():\n",
        "            cliente_encontrado = cliente\n",
        "            break\n",
        "    if cliente_encontrado is None:\n",
        "        print(\"\\nCliente não encontrado.\")\n",
        "        return lista_veiculos, lista_clientes\n",
        "\n",
        "    # Verifica se o cliente possui algum veículo locado\n",
        "    if 'veiculo_locado' not in cliente_encontrado or cliente_encontrado['veiculo_locado'] is None:\n",
        "        print(\"\\nO cliente não possui nenhum veículo locado.\")\n",
        "        return lista_veiculos, lista_clientes\n",
        "\n",
        "    veiculo_locado = None\n",
        "    for veiculo in lista_veiculos:\n",
        "        if veiculo['placa'] == cliente_encontrado['veiculo_locado']:\n",
        "            veiculo_locado = veiculo\n",
        "            break\n",
        "    if veiculo_locado is None:\n",
        "        print(\"\\nVeículo locado pelo cliente não encontrado.\")\n",
        "        return lista_veiculos, lista_clientes\n",
        "\n",
        "    # Calcula o número de diárias utilizadas\n",
        "    num_diarias = int(input(\"\\nDigite o número de diárias utilizadas: \"))\n",
        "    valor_total = calcular_valor_locacao(veiculo_locado['categoria'], num_diarias)\n",
        "\n",
        "    # Adiciona o ID do cliente nos registros dos veículos\n",
        "    veiculo_locado['id_cliente'] = cliente_encontrado['id_cliente']\n",
        "\n",
        "    # Atualiza o status do veículo e o veículo locado pelo cliente para None\n",
        "    veiculo_locado['status'] = -1\n",
        "    cliente_encontrado['veiculo_locado'] = None\n",
        "\n",
        "    print(f\"\\n\\nVeículo com placa --> {veiculo_locado['placa']} <-- devolvido com sucesso!\")\n",
        "    print(f\"\\nValor total da locação: R${valor_total}\")\n",
        "\n",
        "    return lista_veiculos, lista_clientes\n",
        "\n",
        "lista_veiculos, lista_clientes = devolver_veiculo(lista_veiculos, lista_clientes)\n",
        "\n",
        "print(\"\\n\\n-->Lista de veículos atualizada:\")\n",
        "listar_veiculos(lista_veiculos)\n",
        "print(\"\\n\\n-->Lista de clientes atualizada:\")\n",
        "listar_clientes(lista_clientes)"
      ],
      "metadata": {
        "colab": {
          "base_uri": "https://localhost:8080/"
        },
        "id": "yxTmtHkFjsDk",
        "outputId": "0846a823-d942-43c2-c467-2ebbc02a0ab2"
      },
      "execution_count": 80,
      "outputs": [
        {
          "output_type": "stream",
          "name": "stdout",
          "text": [
            "Digite o nome ou ID do cliente: 3\n",
            "\n",
            "Digite o número de diárias utilizadas: 30\n",
            "\n",
            "\n",
            "Veículo com placa --> JKL3456 <-- devolvido com sucesso!\n",
            "\n",
            "Valor total da locação: R$4500\n",
            "\n",
            "\n",
            "-->Lista de veículos atualizada:\n",
            "\n",
            "Veículo 0:\n",
            "Placa: ABC1234\n",
            "Modelo: Chevrolet Equinox\n",
            "Categoria: Intermediário\n",
            "Status: Disponível\n",
            "\n",
            "Veículo 1:\n",
            "Placa: DEF5678\n",
            "Modelo: Volkswagen T-Cross\n",
            "Categoria: Intermediário\n",
            "Status: Disponível\n",
            "\n",
            "Veículo 2:\n",
            "Placa: GHI9012\n",
            "Modelo: Hyundai Hb20\n",
            "Categoria: Básico\n",
            "Status: Disponível\n",
            "\n",
            "Veículo 3:\n",
            "Placa: JKL3456\n",
            "Modelo: Ford Fiesta\n",
            "Categoria: Básico\n",
            "Status: Disponível\n",
            "\n",
            "Veículo 4:\n",
            "Placa: MNO7890\n",
            "Modelo: Porsche 911\n",
            "Categoria: Luxo\n",
            "Status: Disponível\n",
            "\n",
            "Veículo 5:\n",
            "Placa: VYX3512\n",
            "Modelo: Volkswagen Amarok\n",
            "Categoria: Intermediário\n",
            "Status: Disponível\n",
            "\n",
            "Veículo 6:\n",
            "Placa: ZYW8469\n",
            "Modelo: Ferrari 812 Gts\n",
            "Categoria: Luxo\n",
            "Status: Locado para o cliente 1\n",
            "\n",
            "\n",
            "-->Lista de clientes atualizada:\n",
            "\n",
            "Cliente 0:\n",
            "ID: 1\n",
            "Nome: Victoria\n",
            "Sobrenome: Cruz\n",
            "CPF: 12053722851\n",
            "E-mail: vic_cruz@gmail.com\n",
            "\n",
            "Cliente 1:\n",
            "ID: 2\n",
            "Nome: Matheus\n",
            "Sobrenome: Cruz\n",
            "CPF: 13061966946\n",
            "E-mail: theuxx@hotmail.com\n",
            "\n",
            "Cliente 2:\n",
            "ID: 3\n",
            "Nome: Jessica\n",
            "Sobrenome: Gular\n",
            "CPF: 85296374100\n",
            "E-mail: jess_g@outlook.com\n"
          ]
        }
      ]
    },
    {
      "cell_type": "markdown",
      "source": [
        "11-\tCrie uma função que ofereça ao usuário o menu principal do sistema, sendo elas: Gerenciamento de Frota; Gerenciamento de Clientes; Gerenciamento de Locação; Finalizar."
      ],
      "metadata": {
        "id": "BiQGGZn-jsSE"
      }
    },
    {
      "cell_type": "code",
      "source": [
        "def menu_principal(lista_veiculos, lista_clientes):\n",
        "    while True:\n",
        "        print(\"\\nMenu Principal:\")\n",
        "        print(\"1. Gerenciamento de Frota\")\n",
        "        print(\"2. Gerenciamento de Clientes\")\n",
        "        print(\"3. Gerenciamento de Locação\")\n",
        "        print(\"4. Finalizar\")\n",
        "\n",
        "        opcao = input(\"\\nEscolha uma opção: \")\n",
        "        if opcao == '1':\n",
        "            lista_veiculos = cadastrar_veiculo(lista_veiculos)\n",
        "\n",
        "        elif opcao == '2':\n",
        "            id_cliente = len(lista_clientes) + 1\n",
        "            nome_completo = input(\"\\nDigite o nome completo do cliente (Nome Sobrenome): \").title().split()\n",
        "            cpf = input(\"Digite o CPF do cliente: \")\n",
        "            email = input(\"Digite o e-mail do cliente: \")\n",
        "            lista_clientes = cadastrar_cliente(lista_clientes, id_cliente, nome_completo[0], nome_completo[1], cpf, email)\n",
        "\n",
        "        elif opcao == '3':\n",
        "            alugar_veiculo(lista_veiculos, lista_clientes)\n",
        "\n",
        "        elif opcao == '4':\n",
        "            print(\"\\nFinalizando o programa...\")\n",
        "            break\n",
        "\n",
        "        else:\n",
        "            print(\"Opção inválida. Por favor, escolha uma opção válida.\")\n",
        "\n",
        "    return lista_veiculos, lista_clientes\n",
        "\n",
        "lista_veiculos, lista_clientes = menu_principal(lista_veiculos, lista_clientes)"
      ],
      "metadata": {
        "colab": {
          "base_uri": "https://localhost:8080/"
        },
        "id": "ZMDOc3U0js1G",
        "outputId": "10d9e664-db4f-4b52-84c2-35dba1360fa0"
      },
      "execution_count": 81,
      "outputs": [
        {
          "output_type": "stream",
          "name": "stdout",
          "text": [
            "\n",
            "Menu Principal:\n",
            "1. Gerenciamento de Frota\n",
            "2. Gerenciamento de Clientes\n",
            "3. Gerenciamento de Locação\n",
            "4. Finalizar\n",
            "\n",
            "Escolha uma opção: 4\n",
            "\n",
            "Finalizando o programa...\n"
          ]
        }
      ]
    },
    {
      "cell_type": "markdown",
      "source": [
        "12-\tCrie uma função que permita o acesso às funções de Gestão de frota, sendo elas: Cadastro de Veículo; Busca por Placa, Busca por Disponibilidade e Voltar."
      ],
      "metadata": {
        "id": "yNGonfIfnQ7Q"
      }
    },
    {
      "cell_type": "code",
      "source": [
        "def menu_gestao_frota(lista_veiculos):\n",
        "    while True:\n",
        "        print(\"\\nMenu de Gestão de Frota:\")\n",
        "        print(\"1. Cadastro de Veículo\")\n",
        "        print(\"2. Busca por Placa\")\n",
        "        print(\"3. Busca por Disponibilidade\")\n",
        "        print(\"4. Voltar\")\n",
        "\n",
        "        opcao = input(\"\\nEscolha uma opção: \")\n",
        "\n",
        "        if opcao == '1':\n",
        "            lista_veiculos = cadastrar_veiculo(lista_veiculos)\n",
        "\n",
        "        elif opcao == '2':\n",
        "            placa = input(\"\\n\\nDigite a placa do veículo que deseja buscar: \").upper()\n",
        "            indices_encontrados = buscar_veiculo_por_placa(lista_veiculos, placa)\n",
        "            if indices_encontrados:\n",
        "                print(\"Veículo com a placa\", placa, \"encontrado nos índices:\", indices_encontrados)\n",
        "            else:\n",
        "                print(\"Nenhum veículo encontrado com a placa\", placa)\n",
        "\n",
        "        elif opcao == '3':\n",
        "            disponivel = input(\"\\n\\nDeseja buscar veículos disponíveis (S/N)? \").upper()\n",
        "            if disponivel == 'S':\n",
        "                disponivel = True\n",
        "            else:\n",
        "                disponivel = False\n",
        "            indices_encontrados = listar_veiculos_por_status(lista_veiculos, disponivel)\n",
        "            if indices_encontrados:\n",
        "                if disponivel:\n",
        "                    print(\"Os veículos disponíveis estão nos índices:\", indices_encontrados)\n",
        "                else:\n",
        "                    print(\"Os veículos indisponíveis estão nos índices:\", indices_encontrados)\n",
        "            else:\n",
        "                if disponivel:\n",
        "                    print(\"Não há nenhum veículo disponível.\")\n",
        "                else:\n",
        "                    print(\"Todos os veículos estão alugados.\")\n",
        "\n",
        "        elif opcao == '4':\n",
        "            print(\"\\n\\nVoltando ao Menu Principal...\")\n",
        "            break\n",
        "\n",
        "        else:\n",
        "            print(\"Opção inválida. Por favor, escolha uma opção válida.\")\n",
        "\n",
        "    return lista_veiculos\n",
        "\n",
        "lista_veiculos = menu_gestao_frota(lista_veiculos)"
      ],
      "metadata": {
        "colab": {
          "base_uri": "https://localhost:8080/"
        },
        "id": "qxneUMIynLPY",
        "outputId": "c13cdcda-994a-4305-e0cd-a651f363a77c"
      },
      "execution_count": 82,
      "outputs": [
        {
          "output_type": "stream",
          "name": "stdout",
          "text": [
            "\n",
            "Menu de Gestão de Frota:\n",
            "1. Cadastro de Veículo\n",
            "2. Busca por Placa\n",
            "3. Busca por Disponibilidade\n",
            "4. Voltar\n",
            "\n",
            "Escolha uma opção: 4\n",
            "\n",
            "\n",
            "Voltando ao Menu Principal...\n"
          ]
        }
      ]
    },
    {
      "cell_type": "markdown",
      "source": [
        "13-\tCrie uma função que permita ao usuário fazer a busca de um veículo por placa e imprima na tela os dados do veículo."
      ],
      "metadata": {
        "id": "AbFKoKNPpIIW"
      }
    },
    {
      "cell_type": "code",
      "source": [
        "def listar_veiculo_completo(lista_veiculos, placa):\n",
        "    for veiculo in lista_veiculos:\n",
        "        if veiculo['placa'] == placa:\n",
        "            return veiculo\n",
        "    return None\n",
        "\n",
        "placa_desejada = input(\"\\nDigite a placa do veículo que deseja buscar: \").upper()\n",
        "veiculo_encontrado = listar_veiculo_completo(lista_veiculos, placa_desejada)\n",
        "\n",
        "if veiculo_encontrado:\n",
        "    print(\"\\nVeículo encontrado:\")\n",
        "    for chave, valor in veiculo_encontrado.items():\n",
        "        print(f\"{chave}: {valor}\")\n",
        "else:\n",
        "    print(\"\\nNenhum veículo encontrado com a placa\", placa_desejada)"
      ],
      "metadata": {
        "colab": {
          "base_uri": "https://localhost:8080/"
        },
        "id": "segEGKpFnm8r",
        "outputId": "64ae2270-9121-4265-ac0f-7da873e48c49"
      },
      "execution_count": 83,
      "outputs": [
        {
          "output_type": "stream",
          "name": "stdout",
          "text": [
            "\n",
            "Digite a placa do veículo que deseja buscar: JKL3456\n",
            "\n",
            "Veículo encontrado:\n",
            "placa: JKL3456\n",
            "modelo: Ford Fiesta\n",
            "categoria: Básico\n",
            "status: -1\n",
            "id_cliente: 3\n"
          ]
        }
      ]
    },
    {
      "cell_type": "markdown",
      "source": [
        "14-\tCrie uma função que permita ao usuário fazer a busca de veículos por sua disponibilidade, oferecendo a opção de escolha entre disponível ou indisponível e imprime na tela o resultado da busca.\n"
      ],
      "metadata": {
        "id": "5_jzVGcWpeS2"
      }
    },
    {
      "cell_type": "code",
      "source": [
        "def listar_veiculos_por_status_completo(lista_veiculos):\n",
        "    while True:\n",
        "        disponivel_input = input(\"Deseja buscar veículos disponíveis(D) ou indisponíveis(I)? \").upper()\n",
        "        if disponivel_input == 'D':\n",
        "            disponivel = True\n",
        "            titulo = \"Veículos disponíveis encontrados:\"\n",
        "            break\n",
        "        elif disponivel_input == 'I':\n",
        "            disponivel = False\n",
        "            titulo = \"Veículos indisponíveis encontrados:\"\n",
        "            break\n",
        "        else:\n",
        "            print(\"Opção inválida. Por favor, digite 'D' para buscar veículos disponíveis ou 'I' para buscar veículos indisponíveis.\")\n",
        "\n",
        "    veiculos_encontrados = []\n",
        "\n",
        "    for veiculo in lista_veiculos:\n",
        "        if disponivel and veiculo['status'] == -1:\n",
        "            veiculos_encontrados.append(veiculo)\n",
        "        elif not disponivel and veiculo['status'] != -1:\n",
        "            veiculos_encontrados.append(veiculo)\n",
        "\n",
        "    if veiculos_encontrados:\n",
        "        print(f\"\\n{titulo}\")\n",
        "        for veiculo in veiculos_encontrados:\n",
        "            print(\"\\nDados do veículo:\")\n",
        "            for chave, valor in veiculo.items():\n",
        "                if chave != 'id_cliente':\n",
        "                    print(f\"{chave}: {valor}\")\n",
        "    else:\n",
        "        if disponivel:\n",
        "            print(\"\\nNão há nenhum veículo disponível.\")\n",
        "        else:\n",
        "            print(\"\\nNão há nenhum veículo indisponível. Você pode alugar qual desejar!\")\n",
        "\n",
        "listar_veiculos_por_status_completo(lista_veiculos)"
      ],
      "metadata": {
        "colab": {
          "base_uri": "https://localhost:8080/"
        },
        "id": "6-YQ9uWQpe22",
        "outputId": "44771d94-6da7-4c42-ea7b-7a82c58cec55"
      },
      "execution_count": 84,
      "outputs": [
        {
          "output_type": "stream",
          "name": "stdout",
          "text": [
            "Deseja buscar veículos disponíveis(D) ou indisponíveis(I)? i\n",
            "\n",
            "Veículos indisponíveis encontrados:\n",
            "\n",
            "Dados do veículo:\n",
            "placa: ZYW8469\n",
            "modelo: Ferrari 812 Gts\n",
            "categoria: Luxo\n",
            "status: 1\n"
          ]
        }
      ]
    },
    {
      "cell_type": "markdown",
      "source": [
        "15-\tCrie uma função que permita o acesso às funções de Gerenciamento de Clientes, sendo elas: Cadastro de Cliente, Busca de Clientes; Voltar."
      ],
      "metadata": {
        "id": "O5dInpQWxDOy"
      }
    },
    {
      "cell_type": "code",
      "source": [
        "def menu_gerenciamento_clientes(lista_clientes):\n",
        "    while True:\n",
        "        print(\"\\nMenu de Gerenciamento de Clientes:\")\n",
        "        print(\"1. Cadastro de Cliente\")\n",
        "        print(\"2. Busca de Clientes\")\n",
        "        print(\"3. Voltar\")\n",
        "\n",
        "        opcao = input(\"\\nEscolha uma opção: \")\n",
        "\n",
        "        if opcao == '1':\n",
        "            id_cliente = len(lista_clientes) + 1\n",
        "            nome_completo = input(\"\\nDigite o nome completo do cliente (Nome Sobrenome): \").title().split()\n",
        "            cpf = input(\"Digite o CPF do cliente: \")\n",
        "            email = input(\"Digite o e-mail do cliente: \")\n",
        "            lista_clientes = cadastrar_cliente(lista_clientes, id_cliente, nome_completo[0], nome_completo[1], cpf, email)\n",
        "\n",
        "        elif opcao == '2':\n",
        "          nome_ou_sobrenome = input(\"\\nDigite o nome ou sobrenome do cliente que deseja buscar: \").title()\n",
        "          buscar_por_nome = input(\"Deseja buscar pelo nome (S/N)? \").upper()\n",
        "          if buscar_por_nome == 'S':\n",
        "              buscar_por_nome = True\n",
        "          else:\n",
        "              buscar_por_nome = False\n",
        "          indices_encontrados = consultar_cliente(lista_clientes, nome_ou_sobrenome, buscar_por_nome)\n",
        "          if indices_encontrados:\n",
        "              print(f\"Cliente(s) com {'nome' if buscar_por_nome else 'sobrenome'} {nome_ou_sobrenome} encontrado(s) nos índices:\", indices_encontrados)\n",
        "          else:\n",
        "              print(f\"Nenhum cliente encontrado com {'nome' if buscar_por_nome else 'sobrenome'} {nome_ou_sobrenome}.\")\n",
        "\n",
        "\n",
        "        elif opcao == '3':\n",
        "            print(\"\\n\\nVoltando ao Menu Principal...\")\n",
        "            break\n",
        "        else:\n",
        "            print(\"Opção inválida. Por favor, escolha uma opção válida.\")\n",
        "\n",
        "    return lista_clientes\n",
        "\n",
        "lista_clientes = menu_gerenciamento_clientes(lista_clientes)"
      ],
      "metadata": {
        "colab": {
          "base_uri": "https://localhost:8080/"
        },
        "id": "yGF5xMsNxDgD",
        "outputId": "5448d2a1-1218-4742-de17-09fb8ca32934"
      },
      "execution_count": 85,
      "outputs": [
        {
          "output_type": "stream",
          "name": "stdout",
          "text": [
            "\n",
            "Menu de Gerenciamento de Clientes:\n",
            "1. Cadastro de Cliente\n",
            "2. Busca de Clientes\n",
            "3. Voltar\n",
            "\n",
            "Escolha uma opção: 3\n",
            "\n",
            "\n",
            "Voltando ao Menu Principal...\n"
          ]
        }
      ]
    },
    {
      "cell_type": "markdown",
      "source": [
        "16-\tCrie uma função que permita ao usuário fazer a busca por cliente, oferecendo a opção de nome ou sobrenome, e imprima o resultado na tela."
      ],
      "metadata": {
        "id": "88X9tBpDxETS"
      }
    },
    {
      "cell_type": "code",
      "source": [
        "def buscar_cliente(lista_clientes):\n",
        "    opcao = input(\"\\nDeseja buscar pelo Nome do Cliente (N) ou seu Sobrenome (S)? \").upper()\n",
        "\n",
        "    if opcao == 'N':\n",
        "        nome = input(\"\\nDigite o Nome do Cliente: \").title()\n",
        "        clientes_encontrados = [cliente for cliente in lista_clientes if cliente['nome'] == nome]\n",
        "    elif opcao == 'S':\n",
        "        sobrenome = input(\"Digite o Sobrenome do Cliente: \").title()\n",
        "        clientes_encontrados = [cliente for cliente in lista_clientes if cliente['sobrenome'] == sobrenome]\n",
        "    else:\n",
        "        print(\"Opção inválida.\")\n",
        "        return []\n",
        "\n",
        "    if clientes_encontrados:\n",
        "        print(f\"Cliente(s) encontrado(s) com {'nome' if opcao == 'N' else 'sobrenome'} {nome if opcao == 'N' else sobrenome}:\")\n",
        "        for cliente in clientes_encontrados:\n",
        "            print(\"\\nDados do cliente:\")\n",
        "            for chave, valor in cliente.items():\n",
        "                print(f\"{chave}: {valor}\")\n",
        "    else:\n",
        "        print(f\"Nenhum cliente encontrado com {'nome' if opcao == 'N' else 'sobrenome'} {nome if opcao == 'N' else sobrenome}.\")\n",
        "\n",
        "buscar_cliente(lista_clientes)"
      ],
      "metadata": {
        "colab": {
          "base_uri": "https://localhost:8080/"
        },
        "id": "zRECDF7PxD5K",
        "outputId": "10c031a5-3676-450f-871c-3c47c8b42e4f"
      },
      "execution_count": 86,
      "outputs": [
        {
          "output_type": "stream",
          "name": "stdout",
          "text": [
            "\n",
            "Deseja buscar pelo Nome do Cliente (N) ou seu Sobrenome (S)? S\n",
            "Digite o Sobrenome do Cliente: Cruz\n",
            "Cliente(s) encontrado(s) com sobrenome Cruz:\n",
            "\n",
            "Dados do cliente:\n",
            "id_cliente: 1\n",
            "nome: Victoria\n",
            "sobrenome: Cruz\n",
            "cpf: 12053722851\n",
            "email: vic_cruz@gmail.com\n",
            "veiculo_locado: None\n",
            "\n",
            "Dados do cliente:\n",
            "id_cliente: 2\n",
            "nome: Matheus\n",
            "sobrenome: Cruz\n",
            "cpf: 13061966946\n",
            "email: theuxx@hotmail.com\n",
            "veiculo_locado: None\n"
          ]
        }
      ]
    },
    {
      "cell_type": "markdown",
      "source": [
        "17-\tCrie uma função que permita o acesso às funções de locação, sendo elas Alugar um Veículo; Devolver um Veículo e Voltar"
      ],
      "metadata": {
        "id": "c5m_ZzjKxEmU"
      }
    },
    {
      "cell_type": "code",
      "source": [
        "def menu_locacao(lista_veiculos, lista_clientes):\n",
        "    while True:\n",
        "        print(\"\\nMenu de Locação:\")\n",
        "        print(\"1. Alugar um Veículo\")\n",
        "        print(\"2. Devolver um Veículo\")\n",
        "        print(\"3. Voltar\")\n",
        "\n",
        "        opcao = input(\"Escolha uma opção: \")\n",
        "\n",
        "        if opcao == '1':\n",
        "            lista_veiculos, lista_clientes = alugar_veiculo(lista_veiculos, lista_clientes)\n",
        "        elif opcao == '2':\n",
        "            lista_veiculos, lista_clientes = devolver_veiculo(lista_veiculos, lista_clientes)\n",
        "        elif opcao == '3':\n",
        "            print(\"Voltando ao Menu Principal...\")\n",
        "            break\n",
        "        else:\n",
        "            print(\"Opção inválida. Por favor, escolha uma opção válida.\")\n",
        "\n",
        "    return lista_veiculos, lista_clientes\n",
        "\n",
        "lista_veiculos, lista_clientes = menu_locacao(lista_veiculos, lista_clientes)"
      ],
      "metadata": {
        "colab": {
          "base_uri": "https://localhost:8080/"
        },
        "id": "0CW2jZ-8xE5s",
        "outputId": "4c91abd3-0cec-4ca2-977b-81f5773d5cb6"
      },
      "execution_count": 87,
      "outputs": [
        {
          "output_type": "stream",
          "name": "stdout",
          "text": [
            "\n",
            "Menu de Locação:\n",
            "1. Alugar um Veículo\n",
            "2. Devolver um Veículo\n",
            "3. Voltar\n",
            "Escolha uma opção: 3\n",
            "Voltando ao Menu Principal...\n"
          ]
        }
      ]
    },
    {
      "cell_type": "markdown",
      "source": [
        "18-\tCrie as variáveis que serão utilizada para o armazenamento dos bancos de dados utilizados no sistema\n"
      ],
      "metadata": {
        "id": "53TZbpCFxDtC"
      }
    },
    {
      "cell_type": "code",
      "source": [
        "# Essa atividade foi realizada no ínicio do desenvolvimento do sistema dentro das funções cadastrar_veiculos e cadastrar_clientes, sendo os respectivos bancos:\n",
        "\n",
        "#lista_veiculos = []\n",
        "#lista_clientes = []"
      ],
      "metadata": {
        "id": "-WehjiyyxGVq"
      },
      "execution_count": null,
      "outputs": []
    },
    {
      "cell_type": "markdown",
      "source": [
        "19-\tConstrua a estrutura do sistema de forma que seja possível realizar todos os processos necessários.\n",
        "\n",
        "Tendo em vista alguns desenvolvimentos que ocorreram depois da construção dos menus:\n",
        "\n",
        "*   menu_principal\n",
        "*   menu_gestao_frota\n",
        "*   menu_gerenciamento_clientes\n",
        "\n",
        "Mudei alguns chamados nessas funções para que além da navegação dos menus ficasse mais dinâmica, a apresentação de alguns resultados ficasse mais agradável e completa.\n"
      ],
      "metadata": {
        "id": "lJZ4MP2AxGpa"
      }
    },
    {
      "cell_type": "code",
      "source": [
        "def menu_gestao_frota(lista_veiculos):\n",
        "    while True:\n",
        "        print(\"\\nMenu de Gestão de Frota:\")\n",
        "        print(\"1. Cadastro de Veículo\")\n",
        "        print(\"2. Busca por Placa\")\n",
        "        print(\"3. Busca por Disponibilidade\")\n",
        "        print(\"4. Voltar\")\n",
        "\n",
        "        opcao = input(\"Escolha uma opção: \")\n",
        "\n",
        "        if opcao == '1':\n",
        "            lista_veiculos = cadastrar_veiculo(lista_veiculos)\n",
        "\n",
        "        elif opcao == '2':\n",
        "            placa = input(\"Digite a placa do veículo que deseja buscar: \").upper()\n",
        "            veiculo_encontrado = listar_veiculo_completo(lista_veiculos, placa)\n",
        "            if veiculo_encontrado:\n",
        "                print(\"\\nVeículo encontrado:\")\n",
        "                for chave, valor in veiculo_encontrado.items():\n",
        "                    if chave != 'id_cliente':\n",
        "                      print(f\"{chave}: {valor}\")\n",
        "            else:\n",
        "                print(f\"\\nNenhum veículo encontrado com a placa {placa}\")\n",
        "\n",
        "        elif opcao == '3':\n",
        "            lista_veiculos = listar_veiculos_por_status_completo(lista_veiculos)\n",
        "\n",
        "        elif opcao == '4':\n",
        "            print(\"Voltando ao Menu Principal...\")\n",
        "            break\n",
        "\n",
        "        else:\n",
        "            print(\"Opção inválida. Por favor, escolha uma opção válida.\")\n",
        "\n",
        "    return lista_veiculos\n",
        "\n",
        "lista_veiculos = menu_gestao_frota(lista_veiculos)"
      ],
      "metadata": {
        "id": "gmVfx5bExHFC",
        "colab": {
          "base_uri": "https://localhost:8080/"
        },
        "outputId": "ab7f0296-f2e7-409a-a9ad-0e739dae4306"
      },
      "execution_count": 88,
      "outputs": [
        {
          "output_type": "stream",
          "name": "stdout",
          "text": [
            "\n",
            "Menu de Gestão de Frota:\n",
            "1. Cadastro de Veículo\n",
            "2. Busca por Placa\n",
            "3. Busca por Disponibilidade\n",
            "4. Voltar\n",
            "Escolha uma opção: 4\n",
            "Voltando ao Menu Principal...\n"
          ]
        }
      ]
    },
    {
      "cell_type": "code",
      "source": [
        "def menu_gerenciamento_clientes(lista_clientes):\n",
        "    while True:\n",
        "        print(\"\\nMenu de Gerenciamento de Clientes:\")\n",
        "        print(\"1. Cadastro de Cliente\")\n",
        "        print(\"2. Busca de Clientes\")\n",
        "        print(\"3. Voltar\")\n",
        "\n",
        "        opcao = input(\"Escolha uma opção: \")\n",
        "\n",
        "        if opcao == '1':\n",
        "            id_cliente = len(lista_clientes) + 1\n",
        "            nome_completo = input(\"Digite o nome completo do cliente (Nome Sobrenome): \").title().split()\n",
        "            cpf = input(\"Digite o CPF do cliente: \")\n",
        "            email = input(\"Digite o e-mail do cliente: \")\n",
        "            lista_clientes = cadastrar_cliente(lista_clientes, id_cliente, nome_completo[0], nome_completo[1], cpf, email)\n",
        "\n",
        "        elif opcao == '2':\n",
        "            buscar_cliente(lista_clientes)\n",
        "\n",
        "        elif opcao == '3':\n",
        "            print(\"Voltando ao Menu Principal...\")\n",
        "            break\n",
        "        else:\n",
        "            print(\"Opção inválida. Por favor, escolha uma opção válida.\")\n",
        "\n",
        "    return lista_clientes\n",
        "\n",
        "lista_clientes = menu_gerenciamento_clientes(lista_clientes)"
      ],
      "metadata": {
        "colab": {
          "base_uri": "https://localhost:8080/"
        },
        "id": "G4NBTmddPKtF",
        "outputId": "b83f4b72-9f38-45a6-b704-7b29203dcd8a"
      },
      "execution_count": 89,
      "outputs": [
        {
          "output_type": "stream",
          "name": "stdout",
          "text": [
            "\n",
            "Menu de Gerenciamento de Clientes:\n",
            "1. Cadastro de Cliente\n",
            "2. Busca de Clientes\n",
            "3. Voltar\n",
            "Escolha uma opção: 3\n",
            "Voltando ao Menu Principal...\n"
          ]
        }
      ]
    },
    {
      "cell_type": "code",
      "source": [
        "def menu_principal(lista_veiculos, lista_clientes):\n",
        "    while True:\n",
        "        print(\"\\nMenu Principal:\")\n",
        "        print(\"1. Gerenciamento de Frota\")\n",
        "        print(\"2. Gerenciamento de Clientes\")\n",
        "        print(\"3. Gerenciamento de Locação\")\n",
        "        print(\"4. Finalizar\")\n",
        "\n",
        "        opcao = input(\"Escolha uma opção: \")\n",
        "        if opcao == '1':\n",
        "            # Acessar a função menu_gestao_frota para operações de gerenciamento de frota\n",
        "            lista_veiculos = menu_gestao_frota(lista_veiculos)\n",
        "\n",
        "        elif opcao == '2':\n",
        "            # Acessar a função menu_gerenciamento_clientes para operações de gerenciamento de clientes\n",
        "            lista_clientes = menu_gerenciamento_clientes(lista_clientes)\n",
        "\n",
        "        elif opcao == '3':\n",
        "            # Acessar a função menu_locacao para operações de gerenciamento de locação\n",
        "            menu_locacao(lista_veiculos, lista_clientes)\n",
        "\n",
        "        elif opcao == '4':\n",
        "            print(\"Finalizando o programa...\")\n",
        "            break\n",
        "\n",
        "        else:\n",
        "            print(\"Opção inválida. Por favor, escolha uma opção válida.\")\n",
        "\n",
        "    return lista_veiculos, lista_clientes\n",
        "\n",
        "lista_veiculos, lista_clientes = menu_principal(lista_veiculos, lista_clientes)"
      ],
      "metadata": {
        "colab": {
          "base_uri": "https://localhost:8080/"
        },
        "id": "2s6TRkBAPONi",
        "outputId": "ffb1a82f-1556-4b08-fcf7-3d46bcb57403"
      },
      "execution_count": 93,
      "outputs": [
        {
          "output_type": "stream",
          "name": "stdout",
          "text": [
            "\n",
            "Menu Principal:\n",
            "1. Gerenciamento de Frota\n",
            "2. Gerenciamento de Clientes\n",
            "3. Gerenciamento de Locação\n",
            "4. Finalizar\n",
            "Escolha uma opção: 3\n",
            "\n",
            "Menu de Locação:\n",
            "1. Alugar um Veículo\n",
            "2. Devolver um Veículo\n",
            "3. Voltar\n",
            "Escolha uma opção: 1\n",
            "Digite a placa do veículo que deseja alugar: ABC5678\n",
            "Veículo encontrado:\n",
            "\n",
            "Veículo 0:\n",
            "Placa: ABC5678\n",
            "Modelo: Toyota Corolla\n",
            "Categoria: Intermediário\n",
            "Status: Disponível\n",
            "Confirma o aluguel deste veículo (S/N)? s\n",
            "Digite o ID do cliente que está alugando o veículo: 4\n",
            "Cliente encontrado:\n",
            "\n",
            "Cliente 0:\n",
            "ID: 4\n",
            "Nome: Gutto\n",
            "Sobrenome: Guimarães\n",
            "CPF: 75342186900\n",
            "E-mail: guttooo@yahoo.com\n",
            "Confirma o aluguel para este cliente (S/N)? s\n",
            "Veículo alugado com sucesso para o cliente ID: 4\n",
            "\n",
            "Menu de Locação:\n",
            "1. Alugar um Veículo\n",
            "2. Devolver um Veículo\n",
            "3. Voltar\n",
            "Escolha uma opção: 1\n",
            "Digite a placa do veículo que deseja alugar: GHI2345\n",
            "Veículo encontrado:\n",
            "\n",
            "Veículo 0:\n",
            "Placa: GHI2345\n",
            "Modelo: Nissan Versa\n",
            "Categoria: Básico\n",
            "Status: Disponível\n",
            "Confirma o aluguel deste veículo (S/N)? s\n",
            "Digite o ID do cliente que está alugando o veículo: 5\n",
            "Cliente encontrado:\n",
            "\n",
            "Cliente 0:\n",
            "ID: 5\n",
            "Nome: Luiza\n",
            "Sobrenome: Costa\n",
            "CPF: 95148763212\n",
            "E-mail: lui_cst@outlook.com\n",
            "Confirma o aluguel para este cliente (S/N)? s\n",
            "Veículo alugado com sucesso para o cliente ID: 5\n",
            "\n",
            "Menu de Locação:\n",
            "1. Alugar um Veículo\n",
            "2. Devolver um Veículo\n",
            "3. Voltar\n",
            "Escolha uma opção: 1\n",
            "Digite a placa do veículo que deseja alugar: PQR5678\n",
            "Veículo encontrado:\n",
            "\n",
            "Veículo 0:\n",
            "Placa: PQR5678\n",
            "Modelo: Audi Q3\n",
            "Categoria: Luxo\n",
            "Status: Disponível\n",
            "Confirma o aluguel deste veículo (S/N)? s\n",
            "Digite o ID do cliente que está alugando o veículo: 6\n",
            "Cliente encontrado:\n",
            "\n",
            "Cliente 0:\n",
            "ID: 6\n",
            "Nome: Eva\n",
            "Sobrenome: Mello\n",
            "CPF: 82469371038\n",
            "E-mail: eva_m@gmail.com\n",
            "Confirma o aluguel para este cliente (S/N)? s\n",
            "Veículo alugado com sucesso para o cliente ID: 6\n",
            "\n",
            "Menu de Locação:\n",
            "1. Alugar um Veículo\n",
            "2. Devolver um Veículo\n",
            "3. Voltar\n",
            "Escolha uma opção: 1\n",
            "Digite a placa do veículo que deseja alugar: ABC5678\n",
            "O veículo não está disponível para locação.\n",
            "Deseja inserir uma nova placa (S/N)? s\n",
            "Digite a placa do veículo que deseja alugar: GHI2345\n",
            "O veículo não está disponível para locação.\n",
            "Deseja inserir uma nova placa (S/N)? s\n",
            "Digite a placa do veículo que deseja alugar: PQR5678\n",
            "O veículo não está disponível para locação.\n",
            "Deseja inserir uma nova placa (S/N)? n\n",
            "\n",
            "Menu de Locação:\n",
            "1. Alugar um Veículo\n",
            "2. Devolver um Veículo\n",
            "3. Voltar\n",
            "Escolha uma opção: 2\n",
            "Digite o nome ou ID do cliente: 5\n",
            "\n",
            "Digite o número de diárias utilizadas: 16\n",
            "\n",
            "\n",
            "Veículo com placa --> GHI2345 <-- devolvido com sucesso!\n",
            "\n",
            "Valor total da locação: R$2400\n",
            "\n",
            "Menu de Locação:\n",
            "1. Alugar um Veículo\n",
            "2. Devolver um Veículo\n",
            "3. Voltar\n",
            "Escolha uma opção: 2\n",
            "Digite o nome ou ID do cliente: 6\n",
            "\n",
            "Digite o número de diárias utilizadas: 24\n",
            "\n",
            "\n",
            "Veículo com placa --> PQR5678 <-- devolvido com sucesso!\n",
            "\n",
            "Valor total da locação: R$9600\n",
            "\n",
            "Menu de Locação:\n",
            "1. Alugar um Veículo\n",
            "2. Devolver um Veículo\n",
            "3. Voltar\n",
            "Escolha uma opção: 2\n",
            "Digite o nome ou ID do cliente: 4\n",
            "\n",
            "Digite o número de diárias utilizadas: 7\n",
            "\n",
            "\n",
            "Veículo com placa --> ABC5678 <-- devolvido com sucesso!\n",
            "\n",
            "Valor total da locação: R$1750\n",
            "\n",
            "Menu de Locação:\n",
            "1. Alugar um Veículo\n",
            "2. Devolver um Veículo\n",
            "3. Voltar\n",
            "Escolha uma opção: 3\n",
            "Voltando ao Menu Principal...\n",
            "\n",
            "Menu Principal:\n",
            "1. Gerenciamento de Frota\n",
            "2. Gerenciamento de Clientes\n",
            "3. Gerenciamento de Locação\n",
            "4. Finalizar\n",
            "Escolha uma opção: 4\n",
            "Finalizando o programa...\n"
          ]
        }
      ]
    }
  ]
}