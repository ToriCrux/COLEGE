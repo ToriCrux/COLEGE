{
  "nbformat": 4,
  "nbformat_minor": 0,
  "metadata": {
    "colab": {
      "provenance": []
    },
    "kernelspec": {
      "name": "python3",
      "display_name": "Python 3"
    },
    "language_info": {
      "name": "python"
    }
  },
  "cells": [
    {
      "cell_type": "code",
      "source": [
        "# IMPORTAÇÃO DAS BIBLIOTECAS NECESSÁRIAS PARA O PROJETO\n",
        "import csv\n",
        "import pandas as pd\n",
        "import json\n",
        "from tabulate import tabulate\n",
        "import sqlite3"
      ],
      "metadata": {
        "id": "x3W90THBrCr3"
      },
      "execution_count": 5,
      "outputs": []
    },
    {
      "cell_type": "markdown",
      "source": [
        "1 - Crie uma base de dados em um arquivo .csv com seguintes itens: [id, nome, idade, cidade_nascimento, estado_nascimento, escolaridade, num_filhos, num_celulares].\n",
        "\n",
        "Povoe o arquivo com, pelo menos, 20 registros, contendo nomes que se repitam, com valores diversos para os demais campos."
      ],
      "metadata": {
        "id": "_acGQJdRPEGD"
      }
    },
    {
      "cell_type": "code",
      "execution_count": 6,
      "metadata": {
        "id": "-dKqiwhDO90B"
      },
      "outputs": [],
      "source": [
        "# CRIAÇÃO DOS DADOS E ESTRUTURA CSV DESSAS INFORMAÇÕES\n",
        "\n",
        "pessoas = [\n",
        "    {'id': '1', 'nome': 'Ana Costa', 'idade': '30', 'cidade_nascimento': 'Sao Paulo', 'estado_nascimento': 'SP', 'escolaridade': 'Superior Completo', 'num_filhos': '2', 'num_celulares': '(11) 91234-5678'},\n",
        "    {'id': '2', 'nome': 'Carlos Souza', 'idade': '45', 'cidade_nascimento': 'Rio de Janeiro', 'estado_nascimento': 'RJ', 'escolaridade': 'Mestrado', 'num_filhos': '1', 'num_celulares': '(21) 92345-6789'},\n",
        "    {'id': '3', 'nome': 'Julia Lima', 'idade': '28', 'cidade_nascimento': 'Curitiba', 'estado_nascimento': 'PR', 'escolaridade': 'Doutorado', 'num_filhos': '0', 'num_celulares': '(31) 93456-7890'},\n",
        "    {'id': '4', 'nome': 'Lucas Pereira', 'idade': '35', 'cidade_nascimento': 'Belo Horizonte', 'estado_nascimento': 'MG', 'escolaridade': 'Superior Completo', 'num_filhos': '3', 'num_celulares': '(41) 94567-8901'},\n",
        "    {'id': '5', 'nome': 'Fernanda Almeida', 'idade': '40', 'cidade_nascimento': 'Porto Alegre', 'estado_nascimento': 'RS', 'escolaridade': 'Superior Incompleto', 'num_filhos': '2', 'num_celulares': '(51) 95678-9012'},\n",
        "    {'id': '6', 'nome': 'Bruno Fernandes', 'idade': '25', 'cidade_nascimento': 'Fortaleza', 'estado_nascimento': 'CE', 'escolaridade': 'Medio Completo', 'num_filhos': '0', 'num_celulares': '(61) 96789-0123'},\n",
        "    {'id': '7', 'nome': 'Renata Dias', 'idade': '29', 'cidade_nascimento': 'Salvador', 'estado_nascimento': 'BA', 'escolaridade': 'Superior Completo', 'num_filhos': '1', 'num_celulares': '(71) 97890-1234'},\n",
        "    {'id': '8', 'nome': 'Renata Mello', 'idade': '33', 'cidade_nascimento': 'Brasilia', 'estado_nascimento': 'DF', 'escolaridade': 'Superior Completo', 'num_filhos': '2', 'num_celulares': '(81) 98901-2345'},\n",
        "    {'id': '9', 'nome': 'Ana Souza', 'idade': '26', 'cidade_nascimento': 'Manaus', 'estado_nascimento': 'AM', 'escolaridade': 'Superior Completo', 'num_filhos': '0', 'num_celulares': '(91) 99012-3456'},\n",
        "    {'id': '10', 'nome': 'Carlos Bezerra', 'idade': '32', 'cidade_nascimento': 'Recife', 'estado_nascimento': 'PE', 'escolaridade': 'Superior Incompleto', 'num_filhos': '1', 'num_celulares': '(11) 90123-4567'},\n",
        "    {'id': '11', 'nome': 'Julia Lourez', 'idade': '27', 'cidade_nascimento': 'Natal', 'estado_nascimento': 'RN', 'escolaridade': 'Medio Completo', 'num_filhos': '0', 'num_celulares': '(21) 91234-5678'},\n",
        "    {'id': '12', 'nome': 'Luiz Pereira', 'idade': '31', 'cidade_nascimento': 'Campo Grande', 'estado_nascimento': 'MS', 'escolaridade': 'Medio Completo', 'num_filhos': '1', 'num_celulares': '(31) 92345-6789'},\n",
        "    {'id': '13', 'nome': 'Fernando Almeida', 'idade': '38', 'cidade_nascimento': 'Belem', 'estado_nascimento': 'PA', 'escolaridade': 'Doutorado', 'num_filhos': '3', 'num_celulares': '(41) 93456-7890'},\n",
        "    {'id': '14', 'nome': 'Bruno Guimaraes', 'idade': '23', 'cidade_nascimento': 'Joao Pessoa', 'estado_nascimento': 'PB', 'escolaridade': 'Superior Incompleto', 'num_filhos': '0', 'num_celulares': '(51) 94567-8901'},\n",
        "    {'id': '15', 'nome': 'Renata Dantas', 'idade': '36', 'cidade_nascimento': 'Sao Luis', 'estado_nascimento': 'MA', 'escolaridade': 'Mestrado', 'num_filhos': '2', 'num_celulares': '(71) 96789-0123'},\n",
        "    {'id': '16', 'nome': 'Renato Mello', 'idade': '34', 'cidade_nascimento': 'Maceio', 'estado_nascimento': 'AL', 'escolaridade': 'Superior Completo', 'num_filhos': '1', 'num_celulares': '(81) 97890-1234'},\n",
        "    {'id': '17', 'nome': 'Ana Maria Cabral', 'idade': '42', 'cidade_nascimento': 'Teresina', 'estado_nascimento': 'PI', 'escolaridade': 'Medio Completo', 'num_filhos': '2', 'num_celulares': '(91) 98901-2345'},\n",
        "    {'id': '18', 'nome': 'Carlotta Luz', 'idade': '28', 'cidade_nascimento': 'Aracaju', 'estado_nascimento': 'SE', 'escolaridade': 'Superior Completo', 'num_filhos': '0', 'num_celulares': '(11) 99012-3456'},\n",
        "    {'id': '19', 'nome': 'Julio Dantas', 'idade': '41', 'cidade_nascimento': 'Cuiaba', 'estado_nascimento': 'MT', 'escolaridade': 'Medio Completo', 'num_filhos': '3', 'num_celulares': '(21) 90123-4567'},\n",
        "    {'id': '20', 'nome': 'Luca Lessa', 'idade': '37', 'cidade_nascimento': 'Florianopolis', 'estado_nascimento': 'SC', 'escolaridade': 'Doutorado', 'num_filhos': '2', 'num_celulares': '(61) 95678-9012'}\n",
        "]\n",
        "\n",
        "with open('base_pessoas.csv', 'w', newline='') as csvfile:\n",
        "    fieldnames = ['id', 'nome', 'idade', 'cidade_nascimento', 'estado_nascimento', 'escolaridade', 'num_filhos', 'num_celulares']\n",
        "    writer = csv.DictWriter(csvfile, fieldnames=fieldnames)\n",
        "\n",
        "    writer.writeheader()\n",
        "    writer.writerows(pessoas)\n"
      ]
    },
    {
      "cell_type": "markdown",
      "source": [
        "2 - Crie uma funçao que carregue a base de dados com a biblioteca Pandas, recebendo como parâmetro um arquivo .csv e retornando um dataframe pandas."
      ],
      "metadata": {
        "id": "Wj_DUEHtPLfw"
      }
    },
    {
      "cell_type": "code",
      "source": [
        "def carregar_base_dados(nome_arquivo):\n",
        "    ''' Função responsável pela criação do dataframe contendo os dados do arquivo .csv'''\n",
        "    try:\n",
        "        dataframe = pd.read_csv(nome_arquivo, dtype={'id': str})\n",
        "        return dataframe\n",
        "    except Exception as e:\n",
        "        print(f\"Ocorreu um erro ao carregar o arquivo: {e}\")\n",
        "        return None\n",
        "\n",
        "df = carregar_base_dados('base_pessoas.csv')\n",
        "print(df)"
      ],
      "metadata": {
        "colab": {
          "base_uri": "https://localhost:8080/"
        },
        "id": "5TZKUChCPO5c",
        "outputId": "b7d4812e-829a-402b-a844-17c12759b58b",
        "collapsed": true
      },
      "execution_count": 7,
      "outputs": [
        {
          "output_type": "stream",
          "name": "stdout",
          "text": [
            "    id              nome  idade cidade_nascimento estado_nascimento  \\\n",
            "0    1         Ana Costa     30         Sao Paulo                SP   \n",
            "1    2      Carlos Souza     45    Rio de Janeiro                RJ   \n",
            "2    3        Julia Lima     28          Curitiba                PR   \n",
            "3    4     Lucas Pereira     35    Belo Horizonte                MG   \n",
            "4    5  Fernanda Almeida     40      Porto Alegre                RS   \n",
            "5    6   Bruno Fernandes     25         Fortaleza                CE   \n",
            "6    7       Renata Dias     29          Salvador                BA   \n",
            "7    8      Renata Mello     33          Brasilia                DF   \n",
            "8    9         Ana Souza     26            Manaus                AM   \n",
            "9   10    Carlos Bezerra     32            Recife                PE   \n",
            "10  11      Julia Lourez     27             Natal                RN   \n",
            "11  12      Luiz Pereira     31      Campo Grande                MS   \n",
            "12  13  Fernando Almeida     38             Belem                PA   \n",
            "13  14   Bruno Guimaraes     23       Joao Pessoa                PB   \n",
            "14  15     Renata Dantas     36          Sao Luis                MA   \n",
            "15  16      Renato Mello     34            Maceio                AL   \n",
            "16  17  Ana Maria Cabral     42          Teresina                PI   \n",
            "17  18      Carlotta Luz     28           Aracaju                SE   \n",
            "18  19      Julio Dantas     41            Cuiaba                MT   \n",
            "19  20        Luca Lessa     37     Florianopolis                SC   \n",
            "\n",
            "           escolaridade  num_filhos    num_celulares  \n",
            "0     Superior Completo           2  (11) 91234-5678  \n",
            "1              Mestrado           1  (21) 92345-6789  \n",
            "2             Doutorado           0  (31) 93456-7890  \n",
            "3     Superior Completo           3  (41) 94567-8901  \n",
            "4   Superior Incompleto           2  (51) 95678-9012  \n",
            "5        Medio Completo           0  (61) 96789-0123  \n",
            "6     Superior Completo           1  (71) 97890-1234  \n",
            "7     Superior Completo           2  (81) 98901-2345  \n",
            "8     Superior Completo           0  (91) 99012-3456  \n",
            "9   Superior Incompleto           1  (11) 90123-4567  \n",
            "10       Medio Completo           0  (21) 91234-5678  \n",
            "11       Medio Completo           1  (31) 92345-6789  \n",
            "12            Doutorado           3  (41) 93456-7890  \n",
            "13  Superior Incompleto           0  (51) 94567-8901  \n",
            "14             Mestrado           2  (71) 96789-0123  \n",
            "15    Superior Completo           1  (81) 97890-1234  \n",
            "16       Medio Completo           2  (91) 98901-2345  \n",
            "17    Superior Completo           0  (11) 99012-3456  \n",
            "18       Medio Completo           3  (21) 90123-4567  \n",
            "19            Doutorado           2  (61) 95678-9012  \n"
          ]
        }
      ]
    },
    {
      "cell_type": "markdown",
      "source": [
        "3- Crie uma funçao que faça a busca por nome, com os seguintes requisitos:\n",
        "\n",
        "* Receba como parâmetros um dataframe Pandas, o nome a ser consultado e uma flag para tipo de retorno, sendo ela json=True, para retornar um objeto json e json=False para retornar um dataframe Pandas.\n",
        "* Para a opçao json=False, retorne um dataframe Pandas, com o resultado da consulta. Para a opçao json=True, retorne um objeto json, contento os seguintes campos:\n",
        "\n",
        "![image.png](data:image/png;base64,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)"
      ],
      "metadata": {
        "id": "-zVZ0QLYPPZQ"
      }
    },
    {
      "cell_type": "code",
      "source": [
        "def buscar_por_nome(dataframe, nome, retornar_json=True):\n",
        "    ''' Função que realiza a busca pele nome da pessoa cadastrada na base e retorna uma tabela ou json de acordo com o desejo de visualização do usuário'''\n",
        "\n",
        "    resultados = dataframe[dataframe['nome'].str.contains(nome, case=False, na=False)]\n",
        "\n",
        "    if retornar_json:\n",
        "        registros = {}\n",
        "        for idx, row in resultados.iterrows():\n",
        "            registros[f'registro_{idx+1}'] = {\n",
        "                'id': row['id'],\n",
        "                'nome_1': row['nome'],\n",
        "                'idade': row['idade']\n",
        "            }\n",
        "\n",
        "        resultado_json = {\n",
        "            'registros_encontrados': len(resultados),\n",
        "            'registros': registros\n",
        "        }\n",
        "        return json.dumps(resultado_json, indent=4)\n",
        "    else:\n",
        "        return resultados\n",
        "\n",
        "if __name__ == \"__main__\":\n",
        "    df = carregar_base_dados('base_pessoas.csv')\n",
        "\n",
        "    if df is not None:\n",
        "        while True:\n",
        "            entrada = input(\"Digite o nome da pessoa a ser pesquisada (ou 'sair' para encerrar): \")\n",
        "            if entrada.lower() == 'sair':\n",
        "                break\n",
        "\n",
        "            resultado_json = input(\"Deseja o resultado em formato JSON? (sim/nao): \").lower() == 'sim'\n",
        "            resultado = buscar_por_nome(df, entrada, retornar_json=resultado_json)\n",
        "\n",
        "            if resultado_json:\n",
        "                print(resultado)\n",
        "            else:\n",
        "                print(tabulate(resultado, headers='keys', tablefmt='pretty'))\n",
        "    else:\n",
        "        print(\"Nao foi possivel carregar a base de dados.\")\n"
      ],
      "metadata": {
        "id": "qIj8N3v6PaM_",
        "colab": {
          "base_uri": "https://localhost:8080/"
        },
        "collapsed": true,
        "outputId": "2a19c70b-72b3-4c13-d22f-323180c72a85"
      },
      "execution_count": 9,
      "outputs": [
        {
          "name": "stdout",
          "output_type": "stream",
          "text": [
            "Digite o nome da pessoa a ser pesquisada (ou 'sair' para encerrar): Ana\n",
            "Deseja o resultado em formato JSON? (sim/nao): não\n",
            "+----+----+------------------+-------+-------------------+-------------------+-------------------+------------+-----------------+\n",
            "|    | id |       nome       | idade | cidade_nascimento | estado_nascimento |   escolaridade    | num_filhos |  num_celulares  |\n",
            "+----+----+------------------+-------+-------------------+-------------------+-------------------+------------+-----------------+\n",
            "| 0  | 1  |    Ana Costa     |  30   |     Sao Paulo     |        SP         | Superior Completo |     2      | (11) 91234-5678 |\n",
            "| 8  | 9  |    Ana Souza     |  26   |      Manaus       |        AM         | Superior Completo |     0      | (91) 99012-3456 |\n",
            "| 16 | 17 | Ana Maria Cabral |  42   |     Teresina      |        PI         |  Medio Completo   |     2      | (91) 98901-2345 |\n",
            "+----+----+------------------+-------+-------------------+-------------------+-------------------+------------+-----------------+\n",
            "Digite o nome da pessoa a ser pesquisada (ou 'sair' para encerrar): Renata\n",
            "Deseja o resultado em formato JSON? (sim/nao): sim\n",
            "{\n",
            "    \"registros_encontrados\": 3,\n",
            "    \"registros\": {\n",
            "        \"registro_7\": {\n",
            "            \"id\": \"7\",\n",
            "            \"nome_1\": \"Renata Dias\",\n",
            "            \"idade\": 29\n",
            "        },\n",
            "        \"registro_8\": {\n",
            "            \"id\": \"8\",\n",
            "            \"nome_1\": \"Renata Mello\",\n",
            "            \"idade\": 33\n",
            "        },\n",
            "        \"registro_15\": {\n",
            "            \"id\": \"15\",\n",
            "            \"nome_1\": \"Renata Dantas\",\n",
            "            \"idade\": 36\n",
            "        }\n",
            "    }\n",
            "}\n",
            "Digite o nome da pessoa a ser pesquisada (ou 'sair' para encerrar): sair\n"
          ]
        }
      ]
    },
    {
      "cell_type": "markdown",
      "source": [
        "4 - Crie uma funçao que realize a busca de registro por ID, com os seguintes requisitos:\n",
        "\n",
        "* Receba como parâmetros um dataframe Pandas, o nome a ser consultado e uma flag para tipo de retorno, sendo ela json=True, para retornar um objeto json e json=False para retornar um dataframe Pandas.\n",
        "* Para a opçao json=False, retorne um dataframe Pandas, com o resultado da consulta.\n",
        "* Para a opçao json=True, retorne um objeto json, contento os seguintes campos:\n",
        "\n",
        "![image.png](data:image/png;base64,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)"
      ],
      "metadata": {
        "id": "dfY9K_OqPd7t"
      }
    },
    {
      "cell_type": "code",
      "source": [
        "def buscar_por_id(dataframe, nome, retornar_json=True):\n",
        "    '''Função que realiza a busca uma pessoa cadastrada com base no nome de entrada mas que retorna seu id e as informações pertinentes a esse usuário.\n",
        "     Como retorno há a saída por Json e por tabela, ficando a critério do usuário escolher a melhor saída para seu consumo. '''\n",
        "    resultados = dataframe[dataframe['nome'].str.contains(nome, case=False)]\n",
        "\n",
        "    if retornar_json:\n",
        "        if resultados.empty:\n",
        "            return json.dumps({\"erro\": \"Nome nao encontrado\"}, indent=4)\n",
        "        else:\n",
        "            registros_json = []\n",
        "            for i, row in resultados.iterrows():\n",
        "                resultado_json = {\n",
        "                    'id': row['id'],\n",
        "                    'nome': row['nome'],\n",
        "                    'idade': row['idade'],\n",
        "                    'cidade': row['cidade_nascimento'],\n",
        "                    'estado': row['estado_nascimento'],\n",
        "                    'escolaridade': row['escolaridade'],\n",
        "                    'num_filhos': row['num_filhos'],\n",
        "                    'num_celulares': row['num_celulares']\n",
        "                }\n",
        "                registros_json.append(resultado_json)\n",
        "            return json.dumps(registros_json, indent=4)\n",
        "    else:\n",
        "        return tabulate(resultados, headers='keys', tablefmt='pretty')\n",
        "\n",
        "if __name__ == \"__main__\":\n",
        "    df = pd.read_csv('base_pessoas.csv', dtype={'id': str})\n",
        "\n",
        "    while True:\n",
        "        entrada = input(\"Digite o nome da pessoa a ser pesquisada (ou 'sair' para encerrar): \")\n",
        "        if entrada.lower() == 'sair':\n",
        "            break\n",
        "\n",
        "        resultado_json = input(\"Deseja o resultado em formato JSON? (sim/nao): \").lower() == 'sim'\n",
        "\n",
        "        resultado = buscar_por_id(df, entrada, retornar_json=resultado_json)\n",
        "\n",
        "        if resultado_json:\n",
        "            print(resultado)\n",
        "        else:\n",
        "            if isinstance(resultado, pd.DataFrame):\n",
        "                print(resultado.to_string(index=False))\n",
        "            else:\n",
        "                print(resultado)\n"
      ],
      "metadata": {
        "id": "jUkln7QzPp5V",
        "colab": {
          "base_uri": "https://localhost:8080/"
        },
        "collapsed": true,
        "outputId": "7fe8ea7c-84de-4b7a-d84b-ad6f6e6aad07"
      },
      "execution_count": 12,
      "outputs": [
        {
          "name": "stdout",
          "output_type": "stream",
          "text": [
            "Digite o nome da pessoa a ser pesquisada (ou 'sair' para encerrar): Renata\n",
            "Deseja o resultado em formato JSON? (sim/nao): sim\n",
            "[\n",
            "    {\n",
            "        \"id\": \"7\",\n",
            "        \"nome\": \"Renata Dias\",\n",
            "        \"idade\": 29,\n",
            "        \"cidade\": \"Salvador\",\n",
            "        \"estado\": \"BA\",\n",
            "        \"escolaridade\": \"Superior Completo\",\n",
            "        \"num_filhos\": 1,\n",
            "        \"num_celulares\": \"(71) 97890-1234\"\n",
            "    },\n",
            "    {\n",
            "        \"id\": \"8\",\n",
            "        \"nome\": \"Renata Mello\",\n",
            "        \"idade\": 33,\n",
            "        \"cidade\": \"Brasilia\",\n",
            "        \"estado\": \"DF\",\n",
            "        \"escolaridade\": \"Superior Completo\",\n",
            "        \"num_filhos\": 2,\n",
            "        \"num_celulares\": \"(81) 98901-2345\"\n",
            "    },\n",
            "    {\n",
            "        \"id\": \"15\",\n",
            "        \"nome\": \"Renata Dantas\",\n",
            "        \"idade\": 36,\n",
            "        \"cidade\": \"Sao Luis\",\n",
            "        \"estado\": \"MA\",\n",
            "        \"escolaridade\": \"Mestrado\",\n",
            "        \"num_filhos\": 2,\n",
            "        \"num_celulares\": \"(71) 96789-0123\"\n",
            "    }\n",
            "]\n",
            "Digite o nome da pessoa a ser pesquisada (ou 'sair' para encerrar): Ana\n",
            "Deseja o resultado em formato JSON? (sim/nao): não\n",
            "+----+----+------------------+-------+-------------------+-------------------+-------------------+------------+-----------------+\n",
            "|    | id |       nome       | idade | cidade_nascimento | estado_nascimento |   escolaridade    | num_filhos |  num_celulares  |\n",
            "+----+----+------------------+-------+-------------------+-------------------+-------------------+------------+-----------------+\n",
            "| 0  | 1  |    Ana Costa     |  30   |     Sao Paulo     |        SP         | Superior Completo |     2      | (11) 91234-5678 |\n",
            "| 8  | 9  |    Ana Souza     |  26   |      Manaus       |        AM         | Superior Completo |     0      | (91) 99012-3456 |\n",
            "| 16 | 17 | Ana Maria Cabral |  42   |     Teresina      |        PI         |  Medio Completo   |     2      | (91) 98901-2345 |\n",
            "+----+----+------------------+-------+-------------------+-------------------+-------------------+------------+-----------------+\n",
            "Digite o nome da pessoa a ser pesquisada (ou 'sair' para encerrar): sair\n"
          ]
        }
      ]
    },
    {
      "cell_type": "markdown",
      "source": [
        "5- Crie uma funçao que receba um dataframe Pandas e retorne a media de idade dos registros."
      ],
      "metadata": {
        "id": "8EkWnfKLPr6y"
      }
    },
    {
      "cell_type": "code",
      "source": [
        "def calcular_media_idade(dataframe):\n",
        "    ''' Função que realiza o cálculo da média de idade de todos os usuários cadastrados na base pessoas.'''\n",
        "    if dataframe.empty:\n",
        "        return 0  # Retorna 0 se o DataFrame estiver vazio\n",
        "    else:\n",
        "        # Calcula a média da coluna de idade\n",
        "        media_idade = dataframe['idade'].mean()\n",
        "        return media_idade\n",
        "\n",
        "if __name__ == \"__main__\":\n",
        "    df = pd.read_csv('base_pessoas.csv')\n",
        "    media = calcular_media_idade(df)\n",
        "    print(\"A média de idade dos registros é:\", media)"
      ],
      "metadata": {
        "id": "nOy67STxPv17",
        "colab": {
          "base_uri": "https://localhost:8080/"
        },
        "outputId": "63a804a9-2dd6-4010-c9b7-d6d72f4c22b9"
      },
      "execution_count": 13,
      "outputs": [
        {
          "output_type": "stream",
          "name": "stdout",
          "text": [
            "A média de idade dos registros é: 33.0\n"
          ]
        }
      ]
    },
    {
      "cell_type": "markdown",
      "source": [
        "6 - Crie uma funçao que receba um dataframe Pandas e retorne a media do número de filhos dos registros."
      ],
      "metadata": {
        "id": "7WiyDVFYP0jO"
      }
    },
    {
      "cell_type": "code",
      "source": [
        "def calcular_media_num_filhos(dataframe):\n",
        "    ''' Função que realiza o cálculo da média de filhos de todos os usuários cadastrados na base pessoas.'''\n",
        "    if dataframe.empty:\n",
        "        return 0\n",
        "    else:\n",
        "        media_num_filhos = dataframe['num_filhos'].astype(int).mean()\n",
        "        return media_num_filhos\n",
        "\n",
        "if __name__ == \"__main__\":\n",
        "    df = pd.read_csv('base_pessoas.csv')\n",
        "    media_num_filhos = calcular_media_num_filhos(df)\n",
        "    print(\"A média do número de filhos dos registros é:\", media_num_filhos)"
      ],
      "metadata": {
        "id": "L2xyEQ8EP24s",
        "colab": {
          "base_uri": "https://localhost:8080/"
        },
        "outputId": "ca27b8bb-ee46-4ecf-eed7-52cfec311d98"
      },
      "execution_count": 14,
      "outputs": [
        {
          "output_type": "stream",
          "name": "stdout",
          "text": [
            "A média do número de filhos dos registros é: 1.3\n"
          ]
        }
      ]
    },
    {
      "cell_type": "markdown",
      "source": [
        "7 - Crie uma funçao que receba como parâmetros de entrada o nome de arquivo e um objeto json e faça o salvamento dos dados em um arquivo .json."
      ],
      "metadata": {
        "id": "t7S_5KzJP3a6"
      }
    },
    {
      "cell_type": "code",
      "source": [
        "def csv_para_json(nome_arquivo_csv, objeto_json):\n",
        "    ''' Função responsável pela criação de um arquivo .json com base no arquivo .csv de entrada.'''\n",
        "\n",
        "    # Abre o arquivo CSV e lê seus dados\n",
        "    with open(nome_arquivo_csv, 'r', newline='') as arquivo_csv:\n",
        "        leitor_csv = csv.DictReader(arquivo_csv)\n",
        "        dados = list(leitor_csv)\n",
        "\n",
        "    # Salva os dados em um arquivo JSON\n",
        "    nome_arquivo_json = nome_arquivo_csv.replace('.csv', '.json')\n",
        "    with open(nome_arquivo_json, 'w') as arquivo_json:\n",
        "        json.dump(dados, arquivo_json, indent=4)\n",
        "\n",
        "    # Print de verificação\n",
        "    print(\"JSON criado com sucesso!\")\n",
        "    print(\"\\nEstrutura do JSON criado:\")\n",
        "    print(json.dumps(dados, indent=4))\n",
        "\n",
        "\n",
        "if __name__ == \"__main__\":\n",
        "    nome_arquivo_csv = input(\"Digite o nome do arquivo CSV: \")\n",
        "    objeto_json = {}\n",
        "    csv_para_json(nome_arquivo_csv, objeto_json)"
      ],
      "metadata": {
        "id": "hX1y33lRP6cn",
        "colab": {
          "base_uri": "https://localhost:8080/"
        },
        "collapsed": true,
        "outputId": "81d6fd9c-27b7-4d60-94e0-91bca90d9fcf"
      },
      "execution_count": 15,
      "outputs": [
        {
          "output_type": "stream",
          "name": "stdout",
          "text": [
            "Digite o nome do arquivo CSV: base_pessoas.csv\n",
            "JSON criado com sucesso!\n",
            "\n",
            "Estrutura do JSON criado:\n",
            "[\n",
            "    {\n",
            "        \"id\": \"1\",\n",
            "        \"nome\": \"Ana Costa\",\n",
            "        \"idade\": \"30\",\n",
            "        \"cidade_nascimento\": \"Sao Paulo\",\n",
            "        \"estado_nascimento\": \"SP\",\n",
            "        \"escolaridade\": \"Superior Completo\",\n",
            "        \"num_filhos\": \"2\",\n",
            "        \"num_celulares\": \"(11) 91234-5678\"\n",
            "    },\n",
            "    {\n",
            "        \"id\": \"2\",\n",
            "        \"nome\": \"Carlos Souza\",\n",
            "        \"idade\": \"45\",\n",
            "        \"cidade_nascimento\": \"Rio de Janeiro\",\n",
            "        \"estado_nascimento\": \"RJ\",\n",
            "        \"escolaridade\": \"Mestrado\",\n",
            "        \"num_filhos\": \"1\",\n",
            "        \"num_celulares\": \"(21) 92345-6789\"\n",
            "    },\n",
            "    {\n",
            "        \"id\": \"3\",\n",
            "        \"nome\": \"Julia Lima\",\n",
            "        \"idade\": \"28\",\n",
            "        \"cidade_nascimento\": \"Curitiba\",\n",
            "        \"estado_nascimento\": \"PR\",\n",
            "        \"escolaridade\": \"Doutorado\",\n",
            "        \"num_filhos\": \"0\",\n",
            "        \"num_celulares\": \"(31) 93456-7890\"\n",
            "    },\n",
            "    {\n",
            "        \"id\": \"4\",\n",
            "        \"nome\": \"Lucas Pereira\",\n",
            "        \"idade\": \"35\",\n",
            "        \"cidade_nascimento\": \"Belo Horizonte\",\n",
            "        \"estado_nascimento\": \"MG\",\n",
            "        \"escolaridade\": \"Superior Completo\",\n",
            "        \"num_filhos\": \"3\",\n",
            "        \"num_celulares\": \"(41) 94567-8901\"\n",
            "    },\n",
            "    {\n",
            "        \"id\": \"5\",\n",
            "        \"nome\": \"Fernanda Almeida\",\n",
            "        \"idade\": \"40\",\n",
            "        \"cidade_nascimento\": \"Porto Alegre\",\n",
            "        \"estado_nascimento\": \"RS\",\n",
            "        \"escolaridade\": \"Superior Incompleto\",\n",
            "        \"num_filhos\": \"2\",\n",
            "        \"num_celulares\": \"(51) 95678-9012\"\n",
            "    },\n",
            "    {\n",
            "        \"id\": \"6\",\n",
            "        \"nome\": \"Bruno Fernandes\",\n",
            "        \"idade\": \"25\",\n",
            "        \"cidade_nascimento\": \"Fortaleza\",\n",
            "        \"estado_nascimento\": \"CE\",\n",
            "        \"escolaridade\": \"Medio Completo\",\n",
            "        \"num_filhos\": \"0\",\n",
            "        \"num_celulares\": \"(61) 96789-0123\"\n",
            "    },\n",
            "    {\n",
            "        \"id\": \"7\",\n",
            "        \"nome\": \"Renata Dias\",\n",
            "        \"idade\": \"29\",\n",
            "        \"cidade_nascimento\": \"Salvador\",\n",
            "        \"estado_nascimento\": \"BA\",\n",
            "        \"escolaridade\": \"Superior Completo\",\n",
            "        \"num_filhos\": \"1\",\n",
            "        \"num_celulares\": \"(71) 97890-1234\"\n",
            "    },\n",
            "    {\n",
            "        \"id\": \"8\",\n",
            "        \"nome\": \"Renata Mello\",\n",
            "        \"idade\": \"33\",\n",
            "        \"cidade_nascimento\": \"Brasilia\",\n",
            "        \"estado_nascimento\": \"DF\",\n",
            "        \"escolaridade\": \"Superior Completo\",\n",
            "        \"num_filhos\": \"2\",\n",
            "        \"num_celulares\": \"(81) 98901-2345\"\n",
            "    },\n",
            "    {\n",
            "        \"id\": \"9\",\n",
            "        \"nome\": \"Ana Souza\",\n",
            "        \"idade\": \"26\",\n",
            "        \"cidade_nascimento\": \"Manaus\",\n",
            "        \"estado_nascimento\": \"AM\",\n",
            "        \"escolaridade\": \"Superior Completo\",\n",
            "        \"num_filhos\": \"0\",\n",
            "        \"num_celulares\": \"(91) 99012-3456\"\n",
            "    },\n",
            "    {\n",
            "        \"id\": \"10\",\n",
            "        \"nome\": \"Carlos Bezerra\",\n",
            "        \"idade\": \"32\",\n",
            "        \"cidade_nascimento\": \"Recife\",\n",
            "        \"estado_nascimento\": \"PE\",\n",
            "        \"escolaridade\": \"Superior Incompleto\",\n",
            "        \"num_filhos\": \"1\",\n",
            "        \"num_celulares\": \"(11) 90123-4567\"\n",
            "    },\n",
            "    {\n",
            "        \"id\": \"11\",\n",
            "        \"nome\": \"Julia Lourez\",\n",
            "        \"idade\": \"27\",\n",
            "        \"cidade_nascimento\": \"Natal\",\n",
            "        \"estado_nascimento\": \"RN\",\n",
            "        \"escolaridade\": \"Medio Completo\",\n",
            "        \"num_filhos\": \"0\",\n",
            "        \"num_celulares\": \"(21) 91234-5678\"\n",
            "    },\n",
            "    {\n",
            "        \"id\": \"12\",\n",
            "        \"nome\": \"Luiz Pereira\",\n",
            "        \"idade\": \"31\",\n",
            "        \"cidade_nascimento\": \"Campo Grande\",\n",
            "        \"estado_nascimento\": \"MS\",\n",
            "        \"escolaridade\": \"Medio Completo\",\n",
            "        \"num_filhos\": \"1\",\n",
            "        \"num_celulares\": \"(31) 92345-6789\"\n",
            "    },\n",
            "    {\n",
            "        \"id\": \"13\",\n",
            "        \"nome\": \"Fernando Almeida\",\n",
            "        \"idade\": \"38\",\n",
            "        \"cidade_nascimento\": \"Belem\",\n",
            "        \"estado_nascimento\": \"PA\",\n",
            "        \"escolaridade\": \"Doutorado\",\n",
            "        \"num_filhos\": \"3\",\n",
            "        \"num_celulares\": \"(41) 93456-7890\"\n",
            "    },\n",
            "    {\n",
            "        \"id\": \"14\",\n",
            "        \"nome\": \"Bruno Guimaraes\",\n",
            "        \"idade\": \"23\",\n",
            "        \"cidade_nascimento\": \"Joao Pessoa\",\n",
            "        \"estado_nascimento\": \"PB\",\n",
            "        \"escolaridade\": \"Superior Incompleto\",\n",
            "        \"num_filhos\": \"0\",\n",
            "        \"num_celulares\": \"(51) 94567-8901\"\n",
            "    },\n",
            "    {\n",
            "        \"id\": \"15\",\n",
            "        \"nome\": \"Renata Dantas\",\n",
            "        \"idade\": \"36\",\n",
            "        \"cidade_nascimento\": \"Sao Luis\",\n",
            "        \"estado_nascimento\": \"MA\",\n",
            "        \"escolaridade\": \"Mestrado\",\n",
            "        \"num_filhos\": \"2\",\n",
            "        \"num_celulares\": \"(71) 96789-0123\"\n",
            "    },\n",
            "    {\n",
            "        \"id\": \"16\",\n",
            "        \"nome\": \"Renato Mello\",\n",
            "        \"idade\": \"34\",\n",
            "        \"cidade_nascimento\": \"Maceio\",\n",
            "        \"estado_nascimento\": \"AL\",\n",
            "        \"escolaridade\": \"Superior Completo\",\n",
            "        \"num_filhos\": \"1\",\n",
            "        \"num_celulares\": \"(81) 97890-1234\"\n",
            "    },\n",
            "    {\n",
            "        \"id\": \"17\",\n",
            "        \"nome\": \"Ana Maria Cabral\",\n",
            "        \"idade\": \"42\",\n",
            "        \"cidade_nascimento\": \"Teresina\",\n",
            "        \"estado_nascimento\": \"PI\",\n",
            "        \"escolaridade\": \"Medio Completo\",\n",
            "        \"num_filhos\": \"2\",\n",
            "        \"num_celulares\": \"(91) 98901-2345\"\n",
            "    },\n",
            "    {\n",
            "        \"id\": \"18\",\n",
            "        \"nome\": \"Carlotta Luz\",\n",
            "        \"idade\": \"28\",\n",
            "        \"cidade_nascimento\": \"Aracaju\",\n",
            "        \"estado_nascimento\": \"SE\",\n",
            "        \"escolaridade\": \"Superior Completo\",\n",
            "        \"num_filhos\": \"0\",\n",
            "        \"num_celulares\": \"(11) 99012-3456\"\n",
            "    },\n",
            "    {\n",
            "        \"id\": \"19\",\n",
            "        \"nome\": \"Julio Dantas\",\n",
            "        \"idade\": \"41\",\n",
            "        \"cidade_nascimento\": \"Cuiaba\",\n",
            "        \"estado_nascimento\": \"MT\",\n",
            "        \"escolaridade\": \"Medio Completo\",\n",
            "        \"num_filhos\": \"3\",\n",
            "        \"num_celulares\": \"(21) 90123-4567\"\n",
            "    },\n",
            "    {\n",
            "        \"id\": \"20\",\n",
            "        \"nome\": \"Luca Lessa\",\n",
            "        \"idade\": \"37\",\n",
            "        \"cidade_nascimento\": \"Florianopolis\",\n",
            "        \"estado_nascimento\": \"SC\",\n",
            "        \"escolaridade\": \"Doutorado\",\n",
            "        \"num_filhos\": \"2\",\n",
            "        \"num_celulares\": \"(61) 95678-9012\"\n",
            "    }\n",
            "]\n"
          ]
        }
      ]
    },
    {
      "cell_type": "markdown",
      "source": [
        "8 - Escreva um script que realize as seguintes operações:\n",
        "\n",
        "* Realize uma consulta por um nome salvo em um dataframe pandas.\n",
        "* Exiba a media de idade para o dataframe recebido.\n",
        "* Exiba a media do número de filhos para o dataframe recebido.\n"
      ],
      "metadata": {
        "id": "CxODlJQoP7Fy"
      }
    },
    {
      "cell_type": "code",
      "source": [
        "# Funções que tem como objetivo retornar a média de idade e número de filhos com base no nome de entrada, olhando para a base de dados pessoas.\n",
        "\n",
        "def buscar_por_nome(dataframe, nome):\n",
        "    resultados = dataframe[dataframe['nome'].str.contains(nome, case=False, na=False)]\n",
        "    return resultados\n",
        "\n",
        "def calcular_media_idade(dataframe):\n",
        "    if dataframe.empty:\n",
        "        return 0  # Retorna 0 se o DataFrame estiver vazio\n",
        "    else:\n",
        "        # Calcula a média da coluna de idade\n",
        "        media_idade = round(dataframe['idade'].mean(), 2)\n",
        "        return media_idade\n",
        "\n",
        "def calcular_media_num_filhos(dataframe):\n",
        "    if dataframe.empty:\n",
        "        return 0\n",
        "    else:\n",
        "        media_num_filhos = round(dataframe['num_filhos'].astype(int).mean(), 2)\n",
        "        return media_num_filhos\n",
        "\n",
        "def consultar_e_calcular_media(dataframe, nome):\n",
        "    resultados = buscar_por_nome(dataframe, nome)\n",
        "    media_idade = calcular_media_idade(resultados)\n",
        "    media_num_filhos = calcular_media_num_filhos(resultados)\n",
        "    return media_idade, media_num_filhos\n",
        "\n",
        "if __name__ == \"__main__\":\n",
        "    df = pd.read_csv('base_pessoas.csv')\n",
        "\n",
        "    if not df.empty:\n",
        "        while True:\n",
        "            entrada = input(\"Digite o nome da pessoa a ser pesquisada (ou 'sair' para encerrar): \")\n",
        "            if entrada.lower() == 'sair':\n",
        "                break\n",
        "\n",
        "            media_idade, media_num_filhos = consultar_e_calcular_media(df, entrada)\n",
        "            print(f\"\\nA média de idade para '{entrada}' é: {media_idade}\")\n",
        "            print(f\"A média do número de filhos para '{entrada}' é: {media_num_filhos}\")\n",
        "    else:\n",
        "        print(\"\\nNão foi possível carregar a base de dados.\")\n"
      ],
      "metadata": {
        "id": "7-BakQUuQa0B",
        "colab": {
          "base_uri": "https://localhost:8080/"
        },
        "collapsed": true,
        "outputId": "a899e124-6091-4e1a-ffe7-35124a58f91e"
      },
      "execution_count": 16,
      "outputs": [
        {
          "name": "stdout",
          "output_type": "stream",
          "text": [
            "Digite o nome da pessoa a ser pesquisada (ou 'sair' para encerrar): Renata\n",
            "\n",
            "A média de idade para 'Renata' é: 32.67\n",
            "A média do número de filhos para 'Renata' é: 1.67\n",
            "Digite o nome da pessoa a ser pesquisada (ou 'sair' para encerrar): sair\n"
          ]
        }
      ]
    },
    {
      "cell_type": "markdown",
      "source": [
        "9 - Escreva um script que realize as seguintes operações:\n",
        "\n",
        "* Realize uma consulta por um nome salvo em um objeto json.\n",
        "* Realize o salvamento do objeto json em um arquivo .json."
      ],
      "metadata": {
        "id": "dhgtjKF_QdZ9"
      }
    },
    {
      "cell_type": "code",
      "source": [
        "# Funções com o objetivo de criar arquivos .json com base no nome fornecido com entrada, olhando os dados cadastrados na tabela pessoas\n",
        "\n",
        "def buscar_por_id(dataframe, nome, retornar_json=True):\n",
        "    resultados = dataframe[dataframe['nome'].str.contains(nome, case=False)]\n",
        "\n",
        "    if retornar_json:\n",
        "        if resultados.empty:\n",
        "            return json.dumps({\"erro\": \"Nome nao encontrado\"}, indent=4)\n",
        "        else:\n",
        "            registros_json = []\n",
        "            for i, row in resultados.iterrows():\n",
        "                resultado_json = {\n",
        "                    'id': row['id'],\n",
        "                    'nome': row['nome'],\n",
        "                    'idade': row['idade'],\n",
        "                    'cidade': row['cidade_nascimento'],\n",
        "                    'estado': row['estado_nascimento'],\n",
        "                    'escolaridade': row['escolaridade'],\n",
        "                    'num_filhos': row['num_filhos'],\n",
        "                    'num_celulares': row['num_celulares']\n",
        "                }\n",
        "                registros_json.append(resultado_json)\n",
        "            return json.dumps(registros_json, indent=4)\n",
        "    else:\n",
        "        return resultados.to_json(orient='records', indent=4)\n",
        "\n",
        "def salvar_json(objeto_json, nome_arquivo):\n",
        "    with open(nome_arquivo, 'w') as arquivo_json:\n",
        "        json.dump(objeto_json, arquivo_json, indent=4)\n",
        "\n",
        "if __name__ == \"__main__\":\n",
        "    df = pd.read_csv('base_pessoas.csv', dtype={'id': str})\n",
        "\n",
        "    while True:\n",
        "        entrada = input(\"\\nDigite o nome da pessoa a ser pesquisada (ou 'sair' para encerrar): \")\n",
        "        if entrada.lower() == 'sair':\n",
        "            break\n",
        "\n",
        "        resultado_json = input(\"Deseja o resultado em formato JSON? (sim): \").lower() == 'sim'\n",
        "\n",
        "        resultado = buscar_por_id(df, entrada, retornar_json=resultado_json)\n",
        "\n",
        "        if resultado_json:\n",
        "            print(resultado)\n",
        "            nome_arquivo = input(\"\\n\\nDigite o nome do arquivo para salvar o JSON (digite também o .json): \")\n",
        "            salvar_json(json.loads(resultado), nome_arquivo)\n",
        "            print(f\"JSON salvo como '{nome_arquivo}'\")\n",
        "        else:\n",
        "            if isinstance(resultado, pd.DataFrame):\n",
        "                print(resultado.to_string(index=False))\n",
        "            else:\n",
        "                print(resultado)"
      ],
      "metadata": {
        "id": "DtrfxU0zQgtX",
        "colab": {
          "base_uri": "https://localhost:8080/"
        },
        "outputId": "2f6da498-0ad6-4ae4-a750-c71f624ccee9"
      },
      "execution_count": 17,
      "outputs": [
        {
          "name": "stdout",
          "output_type": "stream",
          "text": [
            "\n",
            "Digite o nome da pessoa a ser pesquisada (ou 'sair' para encerrar): Renata\n",
            "Deseja o resultado em formato JSON? (sim): sim\n",
            "[\n",
            "    {\n",
            "        \"id\": \"7\",\n",
            "        \"nome\": \"Renata Dias\",\n",
            "        \"idade\": 29,\n",
            "        \"cidade\": \"Salvador\",\n",
            "        \"estado\": \"BA\",\n",
            "        \"escolaridade\": \"Superior Completo\",\n",
            "        \"num_filhos\": 1,\n",
            "        \"num_celulares\": \"(71) 97890-1234\"\n",
            "    },\n",
            "    {\n",
            "        \"id\": \"8\",\n",
            "        \"nome\": \"Renata Mello\",\n",
            "        \"idade\": 33,\n",
            "        \"cidade\": \"Brasilia\",\n",
            "        \"estado\": \"DF\",\n",
            "        \"escolaridade\": \"Superior Completo\",\n",
            "        \"num_filhos\": 2,\n",
            "        \"num_celulares\": \"(81) 98901-2345\"\n",
            "    },\n",
            "    {\n",
            "        \"id\": \"15\",\n",
            "        \"nome\": \"Renata Dantas\",\n",
            "        \"idade\": 36,\n",
            "        \"cidade\": \"Sao Luis\",\n",
            "        \"estado\": \"MA\",\n",
            "        \"escolaridade\": \"Mestrado\",\n",
            "        \"num_filhos\": 2,\n",
            "        \"num_celulares\": \"(71) 96789-0123\"\n",
            "    }\n",
            "]\n",
            "\n",
            "\n",
            "Digite o nome do arquivo para salvar o JSON (digite também o .json): renata.json\n",
            "JSON salvo como 'renata.json'\n",
            "\n",
            "Digite o nome da pessoa a ser pesquisada (ou 'sair' para encerrar): sair\n"
          ]
        }
      ]
    },
    {
      "cell_type": "markdown",
      "source": [
        "# Realizando com o SQL no Python"
      ],
      "metadata": {
        "id": "cO8N5EUX95kt"
      }
    },
    {
      "cell_type": "code",
      "source": [
        "# --- CRIAÇÃO DA TABELA DE DADOS DE PESSOAS ---\n",
        "\n",
        "\n",
        "# Conexão com o banco de dados SQLite\n",
        "conn = sqlite3.connect('dados_empresa.db')\n",
        "cursor = conn.cursor()\n",
        "\n",
        "# Truncate na tabela para conseguir recriar o código\n",
        "cursor.execute('''DELETE FROM PESSOAS''')\n",
        "\n",
        "# Criação da tabela\n",
        "cursor.execute('''CREATE TABLE IF NOT EXISTS PESSOAS (\n",
        "                    id INTEGER PRIMARY KEY,\n",
        "                    nome VARCHAR(255),\n",
        "                    idade INTEGER,\n",
        "                    cidade_nascimento VARCHAR(255),\n",
        "                    estado_nascimento VARCHAR(2),\n",
        "                    escolaridade VARCHAR(255),\n",
        "                    num_filhos INTEGER,\n",
        "                    num_celulares VARCHAR(20)\n",
        "                )''')\n",
        "\n",
        "# Leitura dos dados base_pessoas.csv e inserção dos dados na tabela\n",
        "with open('base_pessoas.csv', 'r', newline='', encoding='utf-8') as file:\n",
        "    csv_reader = csv.DictReader(file)\n",
        "    for row in csv_reader:\n",
        "        cursor.execute('INSERT INTO PESSOAS (id, nome, idade, cidade_nascimento, estado_nascimento, escolaridade, num_filhos, num_celulares) VALUES (:id, :nome, :idade, :cidade_nascimento, :estado_nascimento, :escolaridade, :num_filhos, :num_celulares)', row)\n",
        "\n",
        "\n",
        "conn.commit()\n",
        "conn.close()\n",
        "\n",
        "print(\"Tabela 'PESSOAS' criada e dados inseridos com sucesso.\")"
      ],
      "metadata": {
        "colab": {
          "base_uri": "https://localhost:8080/"
        },
        "id": "0tNb_98x98Uv",
        "outputId": "dee67e95-6761-4116-ffec-304142a20f4a"
      },
      "execution_count": null,
      "outputs": [
        {
          "output_type": "stream",
          "name": "stdout",
          "text": [
            "Tabela 'PESSOAS' criada e dados inseridos com sucesso.\n"
          ]
        }
      ]
    },
    {
      "cell_type": "markdown",
      "source": [
        "Retorne a media de idade dos registros."
      ],
      "metadata": {
        "id": "t8jRSq5--p-j"
      }
    },
    {
      "cell_type": "code",
      "source": [
        "conn = sqlite3.connect('dados_empresa.db')\n",
        "cursor = conn.cursor()\n",
        "\n",
        "# Query\n",
        "cursor.execute('SELECT AVG(idade) FROM PESSOAS')\n",
        "\n",
        "# Recuperação do resultado da query\n",
        "media_idade = cursor.fetchone()[0]\n",
        "conn.close()\n",
        "\n",
        "print(\"A média de idade dos registros é:\", media_idade)"
      ],
      "metadata": {
        "colab": {
          "base_uri": "https://localhost:8080/"
        },
        "id": "Ec1ceg4g99QF",
        "outputId": "58475910-3eb3-4b9f-a97e-367e88385f98"
      },
      "execution_count": null,
      "outputs": [
        {
          "output_type": "stream",
          "name": "stdout",
          "text": [
            "A média de idade dos registros é: 33.0\n"
          ]
        }
      ]
    },
    {
      "cell_type": "markdown",
      "source": [
        "Retorne a media do número de filhos dos registros."
      ],
      "metadata": {
        "id": "RVkpQ1Is_T8z"
      }
    },
    {
      "cell_type": "code",
      "source": [
        "conn = sqlite3.connect('dados_empresa.db')\n",
        "cursor = conn.cursor()\n",
        "\n",
        "# Query\n",
        "cursor.execute('SELECT AVG(num_filhos) FROM PESSOAS')\n",
        "\n",
        "\n",
        "media_num_filhos = cursor.fetchone()[0]\n",
        "conn.close()\n",
        "\n",
        "print(\"A média do número de filhos dos registros é:\", media_num_filhos)"
      ],
      "metadata": {
        "colab": {
          "base_uri": "https://localhost:8080/"
        },
        "id": "LDEuWWdf_VPZ",
        "outputId": "1bed0603-e374-434a-ad1a-ee4d887c928e"
      },
      "execution_count": null,
      "outputs": [
        {
          "output_type": "stream",
          "name": "stdout",
          "text": [
            "A média do número de filhos dos registros é: 1.3\n"
          ]
        }
      ]
    }
  ]
}