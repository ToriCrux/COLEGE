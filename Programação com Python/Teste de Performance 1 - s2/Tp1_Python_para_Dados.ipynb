{
  "nbformat": 4,
  "nbformat_minor": 0,
  "metadata": {
    "colab": {
      "provenance": []
    },
    "kernelspec": {
      "name": "python3",
      "display_name": "Python 3"
    },
    "language_info": {
      "name": "python"
    }
  },
  "cells": [
    {
      "cell_type": "markdown",
      "source": [
        "\n",
        "# Sistema de Notas\n",
        "Considere o desenvolvimento de um sistema de notas para uma instituição de ensino. O cadastro deve permitir que sejam alimentadas as notas de três unidades, calcular a média e apresentar o resultado como aprovado, caso a média seja maior ou igual a 7,0. O aluno será identificado pelo número de registro e pelo nome. **Utilizando apenas listas**, desenvolva os seguintes códigos e funções:"
      ],
      "metadata": {
        "id": "p_eVrKp89gC-"
      }
    },
    {
      "cell_type": "markdown",
      "source": [
        "1- Crie uma lista para receber os cadastros de todos os alunos."
      ],
      "metadata": {
        "id": "O0UgGc9P9ljw"
      }
    },
    {
      "cell_type": "code",
      "execution_count": null,
      "metadata": {
        "id": "McfxDmlQ8z9t",
        "colab": {
          "base_uri": "https://localhost:8080/"
        },
        "outputId": "0f8d2148-6ae0-4f5f-bf98-8dd3bb73ae6d"
      },
      "outputs": [
        {
          "output_type": "stream",
          "name": "stdout",
          "text": [
            "[]\n"
          ]
        }
      ],
      "source": [
        "alunos = []"
      ]
    },
    {
      "cell_type": "markdown",
      "source": [
        "2- Crie uma função que solicite os dados do aluno, incluindo nome e sobrenome, e se desejar, as notas. Caso queira, solicite cada uma da notas, caso não, as notas devem ser inicializadas como 0,0. A função deve retornar uma lista contendo os seguintes dados: [“nome sobrenome”, nota1, nota2, nota2, media], sendo dos tipos [string, float, float, float, float]."
      ],
      "metadata": {
        "id": "iQHHGTI09o9X"
      }
    },
    {
      "cell_type": "code",
      "source": [
        "def solicitar_dados_aluno(alunos):\n",
        "    if not alunos:\n",
        "        proximo_id = 1\n",
        "    else:\n",
        "        proximo_id = alunos[-1][0] + 1\n",
        "\n",
        "    while True:\n",
        "        nome = input(\"\\nDigite o nome do aluno: \").capitalize()\n",
        "        sobrenome = input(\"Digite o sobrenome do aluno: \").capitalize()\n",
        "\n",
        "        nota1 = input(\"Digite a 1º nota: \")\n",
        "        nota1 = float(nota1) if nota1 else 0.0\n",
        "\n",
        "        nota2 = input(\"Digite a 2º nota: \")\n",
        "        nota2 = float(nota2) if nota2 else 0.0\n",
        "\n",
        "        nota3 = input(\"Digite a 3º nota: \")\n",
        "        nota3 = float(nota3) if nota3 else 0.0\n",
        "\n",
        "        media = round((nota1 + nota2 + nota3) / 3, 2)\n",
        "\n",
        "        id_aluno = proximo_id\n",
        "        proximo_id += 1\n",
        "\n",
        "        alunos.append([id_aluno, f\"{nome} {sobrenome}\", nota1, nota2, nota3, media])\n",
        "\n",
        "        continuar = input(\"\\nDeseja adicionar outro aluno? (s/n): \")\n",
        "        if continuar.lower() != 's':\n",
        "            break\n",
        "\n",
        "    return alunos\n",
        "\n",
        "#alunos = solicitar_dados_aluno(alunos)\n",
        "#print(alunos)"
      ],
      "metadata": {
        "colab": {
          "base_uri": "https://localhost:8080/"
        },
        "id": "PDZeG3149rdK",
        "outputId": "623de64b-7bb9-41b0-9c2c-0fd4dbc1d5a2"
      },
      "execution_count": null,
      "outputs": [
        {
          "output_type": "stream",
          "name": "stdout",
          "text": [
            "\n",
            "Digite o nome do aluno: tulio\n",
            "Digite o sobrenome do aluno: cruz\n",
            "Digite a 1º nota: 10\n",
            "Digite a 2º nota: 10\n",
            "Digite a 3º nota: 10\n",
            "\n",
            "Deseja adicionar outro aluno? (s/n): s\n",
            "\n",
            "Digite o nome do aluno: cris\n",
            "Digite o sobrenome do aluno: gomes\n",
            "Digite a 1º nota: 5\n",
            "Digite a 2º nota: 6\n",
            "Digite a 3º nota: 7\n",
            "\n",
            "Deseja adicionar outro aluno? (s/n): n\n",
            "[[1, 'Tulio Cruz', 10.0, 10.0, 10.0, 10.0], [2, 'Cris Gomes', 5.0, 6.0, 7.0, 6.0]]\n"
          ]
        }
      ]
    },
    {
      "cell_type": "markdown",
      "source": [
        "3- Crie uma função para preencher as notas e calcular a média. Ela deverá receber como parâmetro a lista referente ao aluno que terá suas notas atualizadas, e solicitar a nota que deseja atualizar e calcular a média do aluno. O retorno deve ser a lista que foi recebida como entrada, com os valores de notas e média atualizados."
      ],
      "metadata": {
        "id": "mW-E2-Qz9sIm"
      }
    },
    {
      "cell_type": "code",
      "source": [
        "def atualizar_notas(alunos):\n",
        "    id_aluno = int(input(\"\\nDigite o ID do aluno que deseja atualizar as notas: \"))\n",
        "\n",
        "    aluno_encontrado = False\n",
        "    for aluno in alunos:\n",
        "        if aluno[0] == id_aluno:\n",
        "            aluno_encontrado = True\n",
        "            break\n",
        "\n",
        "    if not aluno_encontrado:\n",
        "        print(\"Aluno não encontrado.\")\n",
        "        return alunos\n",
        "\n",
        "    print(\"Selecione a nota que deseja atualizar:\")\n",
        "    print(\"1. 1º nota\")\n",
        "    print(\"2. 2º nota\")\n",
        "    print(\"3. 3º nota\")\n",
        "\n",
        "    opcao = int(input(\"Digite à nota que deseja atualizar: \"))\n",
        "\n",
        "    if opcao == 1:\n",
        "        nova_nota = float(input(\"Digite a nova 1º nota: \"))\n",
        "        aluno[2] = nova_nota\n",
        "    elif opcao == 2:\n",
        "        nova_nota = float(input(\"Digite a nova 2º nota: \"))\n",
        "        aluno[3] = nova_nota\n",
        "    elif opcao == 3:\n",
        "        nova_nota = float(input(\"Digite a nova 3º nota: \"))\n",
        "        aluno[4] = nova_nota\n",
        "    else:\n",
        "        print(\"Opção inválida.\")\n",
        "        return alunos\n",
        "\n",
        "    media = round((aluno[2] + aluno[3] + aluno[4]) / 3, 2)\n",
        "    aluno[5] = media\n",
        "\n",
        "    print(\"\\nNotas do aluno atualizadas com sucesso!\")\n",
        "    print(\"Registro do aluno atualizado:\", aluno)\n",
        "\n",
        "    return alunos\n",
        "\n",
        "#aluno_atualizado = atualizar_notas(alunos)\n"
      ],
      "metadata": {
        "id": "eu__cSfh9svT"
      },
      "execution_count": null,
      "outputs": []
    },
    {
      "cell_type": "markdown",
      "source": [
        "4- Crie uma função que liste os alunos aprovados ou reprovados. Deverão ser passados como parâmetros a lista com o banco de dados dos alunos e um parâmetro para escolher qual tipo de listagem deve ser feita (aprovado=True ou aprovado=False, para listagem de aprovados e reprovados, respectivamente). O retorno deve ser uma lista com os valores selecionados."
      ],
      "metadata": {
        "id": "54BWyUNx9vwO"
      }
    },
    {
      "cell_type": "code",
      "source": [
        "def listar_alunos_status(alunos, aprovado=None):\n",
        "    if aprovado is None:\n",
        "        return alunos\n",
        "    alunos_filtrados = []\n",
        "    for aluno in alunos:\n",
        "        if aprovado:\n",
        "            if aluno[5] >= 7.0:\n",
        "                alunos_filtrados.append(aluno)\n",
        "        else:\n",
        "            if aluno[5] < 7.0:\n",
        "                alunos_filtrados.append(aluno)\n",
        "    return alunos_filtrados\n",
        "\n",
        "#alunos_filtrados = listar_alunos_status(alunos)\n",
        "#print(alunos_filtrados)"
      ],
      "metadata": {
        "id": "IcagXgsA9wEs",
        "colab": {
          "base_uri": "https://localhost:8080/"
        },
        "outputId": "7b689b58-1054-48d0-b4cd-2b346bb4b5cc"
      },
      "execution_count": null,
      "outputs": [
        {
          "output_type": "stream",
          "name": "stdout",
          "text": [
            "[[1, 'Tulio Cruz', 10.0, 10.0, 10.0, 10.0], [2, 'Cris Gomes', 5.0, 6.0, 7.0, 6.0]]\n"
          ]
        }
      ]
    },
    {
      "cell_type": "markdown",
      "source": [
        "5- Crie uma função que busque um aluno, oferecendo como opções de busca o código do aluno ou o seu nome. Ela deverá retornar uma lista contendo o registro completo do aluno, conforme mostrado na questão 2."
      ],
      "metadata": {
        "id": "mCQ_SsIN92F4"
      }
    },
    {
      "cell_type": "code",
      "source": [
        "def buscar_aluno(alunos):\n",
        "    print(\"\\nOpções de busca:\")\n",
        "    print(\"1. Buscar pelo código do aluno\")\n",
        "    print(\"2. Buscar pelo nome do aluno\")\n",
        "\n",
        "    opcao = int(input(\"\\nDigite o número correspondente à opção de busca desejada: \"))\n",
        "\n",
        "    if opcao == 1:\n",
        "        id_aluno = int(input(\"Digite o código do aluno: \"))\n",
        "        for aluno in alunos:\n",
        "            if id_aluno == aluno[0]:\n",
        "                return aluno\n",
        "        print(\"Aluno não encontrado.\")\n",
        "\n",
        "    elif opcao == 2:\n",
        "        nome_aluno = input(\"Digite o nome do aluno: \").capitalize().strip()\n",
        "        for aluno in alunos:\n",
        "            nome_completo = aluno[1].split()\n",
        "            primeiro_nome = nome_completo[0]\n",
        "            sobrenome = nome_completo[-1]\n",
        "            if nome_aluno in primeiro_nome or nome_aluno in sobrenome:\n",
        "                return aluno\n",
        "        print(\"Aluno não encontrado.\")\n",
        "\n",
        "    else:\n",
        "        print(\"Opção inválida.\")\n",
        "\n",
        "#aluno_encontrado = buscar_aluno(alunos)\n",
        "#if aluno_encontrado:\n",
        "#   print(f\"\\nAluno(a) encontrado: {aluno_encontrado}\")\n"
      ],
      "metadata": {
        "id": "5nw6ehFN93qX",
        "colab": {
          "base_uri": "https://localhost:8080/"
        },
        "outputId": "07b80036-0b3c-4689-a3aa-de19a2692b0b"
      },
      "execution_count": null,
      "outputs": [
        {
          "output_type": "stream",
          "name": "stdout",
          "text": [
            "\n",
            "Opções de busca:\n",
            "1. Buscar pelo código do aluno\n",
            "2. Buscar pelo nome do aluno\n",
            "\n",
            "Digite o número correspondente à opção de busca desejada: 1\n",
            "Digite o código do aluno: 2\n",
            "\n",
            "Aluno(a) encontrado: [2, 'Cris Gomes', 5.0, 6.0, 7.0, 6.0]\n"
          ]
        }
      ]
    },
    {
      "cell_type": "markdown",
      "source": [
        "6- Crie uma função para imprimir o boletim de cada aluno. Deverá receber como passagem uma lista com os dados do aluno e se ele foi aprovado ou reprovado, de acordo com o critério de média apresentado no enunciado da questão."
      ],
      "metadata": {
        "id": "3moKR-uZ94EJ"
      }
    },
    {
      "cell_type": "code",
      "source": [
        "def imprimir_boletim(alunos, aprovado=True):\n",
        "    for aluno in alunos:\n",
        "        id_aluno = aluno[0]\n",
        "        nome = aluno[1]\n",
        "        nota1 = aluno[2]\n",
        "        nota2 = aluno[3]\n",
        "        nota3 = aluno[4]\n",
        "        media = aluno[5]\n",
        "\n",
        "        if (aprovado and media >= 7.0) or (not aprovado and media < 7.0):\n",
        "            print(\"\\n       Boletim do Aluno\")\n",
        "            print(\"-------------------------------\")\n",
        "            print(f\"Id: {id_aluno}\")\n",
        "            print(f\"Nome: {nome}\")\n",
        "            print(f\"Nota da primeira unidade: {nota1}\")\n",
        "            print(f\"Nota da segunda unidade: {nota2}\")\n",
        "            print(f\"Nota da terceira unidade: {nota3}\")\n",
        "            print(f\"Média: {media}\")\n",
        "\n",
        "            if aprovado:\n",
        "                print(\"Situação: Aprovado\")\n",
        "            else:\n",
        "                print(\"Situação: Reprovado\")\n",
        "\n",
        "#imprimir_boletim(alunos)"
      ],
      "metadata": {
        "id": "kaW7cgSg9631",
        "colab": {
          "base_uri": "https://localhost:8080/"
        },
        "outputId": "c9228e77-5b71-4adc-e773-6ec4a8fae124"
      },
      "execution_count": null,
      "outputs": [
        {
          "output_type": "stream",
          "name": "stdout",
          "text": [
            "\n",
            "       Boletim do Aluno\n",
            "-------------------------------\n",
            "Id: 1\n",
            "Nome: Tulio Cruz\n",
            "Nota da primeira unidade: 10.0\n",
            "Nota da segunda unidade: 10.0\n",
            "Nota da terceira unidade: 10.0\n",
            "Média: 10.0\n",
            "Situação: Aprovado\n"
          ]
        }
      ]
    },
    {
      "cell_type": "markdown",
      "source": [
        "7- Crie uma função que gerencie o sistema, apresentando as seguintes opções:\n",
        "* Cadastrar aluno\n",
        "* Editar notas de alunos\n",
        "* Listar alunos\n",
        "* Gerar boletim de aluno\n",
        "* Sair."
      ],
      "metadata": {
        "id": "NsD1C0x698mL"
      }
    },
    {
      "cell_type": "code",
      "source": [
        "def menu(alunos):\n",
        "\n",
        "    while True:\n",
        "        print(\"\\n### Sistema de Gerenciamento de Alunos ###\")\n",
        "        print(\"1. Cadastrar aluno\")\n",
        "        print(\"2. Editar notas de alunos\")\n",
        "        print(\"3. Listar alunos\")\n",
        "        print(\"4. Gerar boletim de aluno\")\n",
        "        print(\"5. Sair\")\n",
        "\n",
        "        opcao = input(\"\\nEscolha uma opção: \")\n",
        "\n",
        "        if opcao == \"1\":\n",
        "            alunos = solicitar_dados_aluno(alunos)\n",
        "        elif opcao == \"2\":\n",
        "            alunos = atualizar_notas(alunos)\n",
        "        elif opcao == \"3\":\n",
        "            print(\"\\nListar Alunos:\")\n",
        "            print(\"1. Listar alunos aprovados\")\n",
        "            print(\"2. Listar alunos reprovados\")\n",
        "            print(\"3. Listar todos os alunos\")\n",
        "            listar_opcao = input(\"Escolha uma opção: \")\n",
        "            if listar_opcao == \"1\":\n",
        "                alunos_filtrados = listar_alunos_status(alunos, aprovado=True)\n",
        "                print(alunos_filtrados)\n",
        "            elif listar_opcao == \"2\":\n",
        "                alunos_filtrados = listar_alunos_status(alunos, aprovado=False)\n",
        "                print(alunos_filtrados)\n",
        "            elif listar_opcao == \"3\":\n",
        "                print(alunos)\n",
        "            else:\n",
        "                print(\"Opção inválida.\")\n",
        "        elif opcao == \"4\":\n",
        "            id_aluno = int(input(\"Digite o ID do aluno para gerar o boletim: \"))\n",
        "            aluno_encontrado = False\n",
        "            for aluno in alunos:\n",
        "                if aluno[0] == id_aluno:\n",
        "                    aluno_encontrado = True\n",
        "                    imprimir_boletim([aluno])\n",
        "                    break\n",
        "            if not aluno_encontrado:\n",
        "                print(\"Aluno não encontrado.\")\n",
        "        elif opcao == \"5\":\n",
        "            print(\"\\nSaindo do sistema. Obrigada pelo acesso!\")\n",
        "            break\n",
        "        else:\n",
        "            print(\"Opção inválida. Por favor, escolha uma opção válida.\")\n",
        "\n",
        "menu(alunos)"
      ],
      "metadata": {
        "colab": {
          "base_uri": "https://localhost:8080/"
        },
        "id": "Qiw6srkt9-1-",
        "outputId": "f485361d-c1f1-49fa-e4b5-b54e4d7adfa9"
      },
      "execution_count": null,
      "outputs": [
        {
          "output_type": "stream",
          "name": "stdout",
          "text": [
            "\n",
            "### Sistema de Gerenciamento de Alunos ###\n",
            "1. Cadastrar aluno\n",
            "2. Editar notas de alunos\n",
            "3. Listar alunos\n",
            "4. Gerar boletim de aluno\n",
            "5. Sair\n",
            "\n",
            "Escolha uma opção: 1\n",
            "\n",
            "Digite o nome do aluno: jessie dutra\n",
            "Digite o sobrenome do aluno: couto\n",
            "Digite a 1º nota: 9\n",
            "Digite a 2º nota: 8.5\n",
            "Digite a 3º nota: 9.3\n",
            "\n",
            "Deseja adicionar outro aluno? (s/n): n\n",
            "\n",
            "### Sistema de Gerenciamento de Alunos ###\n",
            "1. Cadastrar aluno\n",
            "2. Editar notas de alunos\n",
            "3. Listar alunos\n",
            "4. Gerar boletim de aluno\n",
            "5. Sair\n",
            "\n",
            "Escolha uma opção: 3\n",
            "\n",
            "Listar Alunos:\n",
            "1. Listar alunos aprovados\n",
            "2. Listar alunos reprovados\n",
            "3. Listar todos os alunos\n",
            "Escolha uma opção: 3\n",
            "[[1, 'Jessie dutra Couto', 9.0, 8.5, 9.3, 8.93]]\n",
            "\n",
            "### Sistema de Gerenciamento de Alunos ###\n",
            "1. Cadastrar aluno\n",
            "2. Editar notas de alunos\n",
            "3. Listar alunos\n",
            "4. Gerar boletim de aluno\n",
            "5. Sair\n",
            "\n",
            "Escolha uma opção: 2\n",
            "\n",
            "Digite o ID do aluno que deseja atualizar as notas: 1\n",
            "Selecione a nota que deseja atualizar:\n",
            "1. 1º nota\n",
            "2. 2º nota\n",
            "3. 3º nota\n",
            "Digite o número correspondente à nota que deseja atualizar: 2\n",
            "Digite a nova 2º nota: 9.5\n",
            "\n",
            "Notas do aluno atualizadas com sucesso!\n",
            "Registro do aluno atualizado: [1, 'Jessie dutra Couto', 9.0, 9.5, 9.3, 9.27]\n",
            "\n",
            "### Sistema de Gerenciamento de Alunos ###\n",
            "1. Cadastrar aluno\n",
            "2. Editar notas de alunos\n",
            "3. Listar alunos\n",
            "4. Gerar boletim de aluno\n",
            "5. Sair\n",
            "\n",
            "Escolha uma opção: 4\n",
            "Digite o ID do aluno para gerar o boletim: 1\n",
            "\n",
            "       Boletim do Aluno\n",
            "-------------------------------\n",
            "Id: 1\n",
            "Nome: Jessie dutra Couto\n",
            "Nota da primeira unidade: 9.0\n",
            "Nota da segunda unidade: 9.5\n",
            "Nota da terceira unidade: 9.3\n",
            "Média: 9.27\n",
            "Situação: Aprovado\n",
            "\n",
            "### Sistema de Gerenciamento de Alunos ###\n",
            "1. Cadastrar aluno\n",
            "2. Editar notas de alunos\n",
            "3. Listar alunos\n",
            "4. Gerar boletim de aluno\n",
            "5. Sair\n",
            "\n",
            "Escolha uma opção: 1\n",
            "\n",
            "Digite o nome do aluno: roberta rudez\n",
            "Digite o sobrenome do aluno: gomes\n",
            "Digite a 1º nota: 8.8\n",
            "Digite a 2º nota: 9.4\n",
            "Digite a 3º nota: 9.1\n",
            "\n",
            "Deseja adicionar outro aluno? (s/n): n\n",
            "\n",
            "### Sistema de Gerenciamento de Alunos ###\n",
            "1. Cadastrar aluno\n",
            "2. Editar notas de alunos\n",
            "3. Listar alunos\n",
            "4. Gerar boletim de aluno\n",
            "5. Sair\n",
            "\n",
            "Escolha uma opção: 3\n",
            "\n",
            "Listar Alunos:\n",
            "1. Listar alunos aprovados\n",
            "2. Listar alunos reprovados\n",
            "3. Listar todos os alunos\n",
            "Escolha uma opção: 3\n",
            "[[1, 'Jessie dutra Couto', 9.0, 9.5, 9.3, 9.27], [2, 'Roberta rudez Gomes', 8.8, 9.4, 9.1, 9.1]]\n",
            "\n",
            "### Sistema de Gerenciamento de Alunos ###\n",
            "1. Cadastrar aluno\n",
            "2. Editar notas de alunos\n",
            "3. Listar alunos\n",
            "4. Gerar boletim de aluno\n",
            "5. Sair\n",
            "\n",
            "Escolha uma opção: 2\n",
            "\n",
            "Digite o ID do aluno que deseja atualizar as notas: 2\n",
            "Selecione a nota que deseja atualizar:\n",
            "1. 1º nota\n",
            "2. 2º nota\n",
            "3. 3º nota\n",
            "Digite o número correspondente à nota que deseja atualizar: 1\n",
            "Digite a nova 1º nota: 9.8\n",
            "\n",
            "Notas do aluno atualizadas com sucesso!\n",
            "Registro do aluno atualizado: [2, 'Roberta rudez Gomes', 9.8, 9.4, 9.1, 9.43]\n",
            "\n",
            "### Sistema de Gerenciamento de Alunos ###\n",
            "1. Cadastrar aluno\n",
            "2. Editar notas de alunos\n",
            "3. Listar alunos\n",
            "4. Gerar boletim de aluno\n",
            "5. Sair\n",
            "\n",
            "Escolha uma opção: 4\n",
            "Digite o ID do aluno para gerar o boletim: 2\n",
            "\n",
            "       Boletim do Aluno\n",
            "-------------------------------\n",
            "Id: 2\n",
            "Nome: Roberta rudez Gomes\n",
            "Nota da primeira unidade: 9.8\n",
            "Nota da segunda unidade: 9.4\n",
            "Nota da terceira unidade: 9.1\n",
            "Média: 9.43\n",
            "Situação: Aprovado\n",
            "\n",
            "### Sistema de Gerenciamento de Alunos ###\n",
            "1. Cadastrar aluno\n",
            "2. Editar notas de alunos\n",
            "3. Listar alunos\n",
            "4. Gerar boletim de aluno\n",
            "5. Sair\n",
            "\n",
            "Escolha uma opção: 3\n",
            "\n",
            "Listar Alunos:\n",
            "1. Listar alunos aprovados\n",
            "2. Listar alunos reprovados\n",
            "3. Listar todos os alunos\n",
            "Escolha uma opção: 1\n",
            "[[1, 'Jessie dutra Couto', 9.0, 9.5, 9.3, 9.27], [2, 'Roberta rudez Gomes', 9.8, 9.4, 9.1, 9.43]]\n",
            "\n",
            "### Sistema de Gerenciamento de Alunos ###\n",
            "1. Cadastrar aluno\n",
            "2. Editar notas de alunos\n",
            "3. Listar alunos\n",
            "4. Gerar boletim de aluno\n",
            "5. Sair\n",
            "\n",
            "Escolha uma opção: 3\n",
            "\n",
            "Listar Alunos:\n",
            "1. Listar alunos aprovados\n",
            "2. Listar alunos reprovados\n",
            "3. Listar todos os alunos\n",
            "Escolha uma opção: 2\n",
            "[]\n",
            "\n",
            "### Sistema de Gerenciamento de Alunos ###\n",
            "1. Cadastrar aluno\n",
            "2. Editar notas de alunos\n",
            "3. Listar alunos\n",
            "4. Gerar boletim de aluno\n",
            "5. Sair\n",
            "\n",
            "Escolha uma opção: 5\n",
            "\n",
            "Saindo do sistema...Obrigada pelo acesso!\n"
          ]
        }
      ]
    },
    {
      "cell_type": "markdown",
      "source": [
        "# Sistema de Notas - feito com Dicionários"
      ],
      "metadata": {
        "id": "mFr-Hkwc4ScM"
      }
    },
    {
      "cell_type": "code",
      "source": [
        "alunos = {}"
      ],
      "metadata": {
        "id": "PF27hEQU4X6r"
      },
      "execution_count": null,
      "outputs": []
    },
    {
      "cell_type": "code",
      "source": [
        "def solicitar_dados_aluno(alunos):\n",
        "    if not isinstance(alunos, dict):\n",
        "        alunos = {}\n",
        "\n",
        "    if not alunos:\n",
        "        proximo_id = 1\n",
        "    else:\n",
        "        proximo_id = max(alunos.keys()) + 1\n",
        "\n",
        "    while True:\n",
        "        nome = input(\"\\nDigite o nome do aluno: \").capitalize()\n",
        "        sobrenome = input(\"Digite o sobrenome do aluno: \").capitalize()\n",
        "\n",
        "        nota1 = input(\"Digite a 1º nota: \")\n",
        "        nota1 = float(nota1) if nota1 else 0.0\n",
        "\n",
        "        nota2 = input(\"Digite a 2º nota: \")\n",
        "        nota2 = float(nota2) if nota2 else 0.0\n",
        "\n",
        "        nota3 = input(\"Digite a 3º nota: \")\n",
        "        nota3 = float(nota3) if nota3 else 0.0\n",
        "\n",
        "        media = round((nota1 + nota2 + nota3) / 3, 2)\n",
        "\n",
        "        id_aluno = proximo_id\n",
        "        proximo_id += 1\n",
        "\n",
        "        alunos[id_aluno] = {\n",
        "            \"nome_completo\": f\"{nome} {sobrenome}\",\n",
        "            \"notas\": {\n",
        "                \"nota1\": nota1,\n",
        "                \"nota2\": nota2,\n",
        "                \"nota3\": nota3\n",
        "            },\n",
        "            \"media\": media,\n",
        "            \"aprovado\": media >= 7.0\n",
        "        }\n",
        "\n",
        "        continuar = input(\"\\nDeseja adicionar outro aluno? (s/n): \")\n",
        "        if continuar.lower() != 's':\n",
        "            break\n",
        "\n",
        "    return alunos\n",
        "\n",
        "#alunos = solicitar_dados_aluno(alunos)\n",
        "#print(alunos)"
      ],
      "metadata": {
        "colab": {
          "base_uri": "https://localhost:8080/"
        },
        "id": "z46fNYSX42Di",
        "outputId": "9da5a75b-e50f-46e5-bcbe-0b9ad7ef3545"
      },
      "execution_count": null,
      "outputs": [
        {
          "output_type": "stream",
          "name": "stdout",
          "text": [
            "\n",
            "Digite o nome do aluno: tulio\n",
            "Digite o sobrenome do aluno: soares\n",
            "Digite a 1º nota: 10\n",
            "Digite a 2º nota: 10\n",
            "Digite a 3º nota: 0\n",
            "\n",
            "Deseja adicionar outro aluno? (s/n): s\n",
            "\n",
            "Digite o nome do aluno: eva cruz\n",
            "Digite o sobrenome do aluno: silva\n",
            "Digite a 1º nota: 9\n",
            "Digite a 2º nota: 10\n",
            "Digite a 3º nota: 8\n",
            "\n",
            "Deseja adicionar outro aluno? (s/n): n\n",
            "{1: {'nome_completo': 'Tulio Soares', 'notas': {'nota1': 10.0, 'nota2': 10.0, 'nota3': 0.0}, 'media': 6.67, 'aprovado': False}, 2: {'nome_completo': 'Eva cruz Silva', 'notas': {'nota1': 9.0, 'nota2': 10.0, 'nota3': 8.0}, 'media': 9.0, 'aprovado': True}}\n"
          ]
        }
      ]
    },
    {
      "cell_type": "code",
      "source": [
        "def atualizar_notas(alunos):\n",
        "    id_aluno = int(input(\"\\nDigite o ID do aluno que deseja atualizar as notas: \"))\n",
        "\n",
        "    if id_aluno not in alunos:\n",
        "        print(\"Aluno não encontrado.\")\n",
        "        return alunos\n",
        "\n",
        "    aluno = alunos[id_aluno]\n",
        "\n",
        "    print(\"Selecione a nota que deseja atualizar:\")\n",
        "    print(\"1. 1º nota\")\n",
        "    print(\"2. 2º nota\")\n",
        "    print(\"3. 3º nota\")\n",
        "\n",
        "    opcao = int(input(\"Digite à nota que deseja atualizar: \"))\n",
        "\n",
        "    if opcao == 1:\n",
        "        nova_nota = float(input(\"Digite a nova 1º nota: \"))\n",
        "        aluno[\"notas\"][\"nota1\"] = nova_nota\n",
        "    elif opcao == 2:\n",
        "        nova_nota = float(input(\"Digite a nova 2º nota: \"))\n",
        "        aluno[\"notas\"][\"nota2\"] = nova_nota\n",
        "    elif opcao == 3:\n",
        "        nova_nota = float(input(\"Digite a nova 3º nota: \"))\n",
        "        aluno[\"notas\"][\"nota3\"] = nova_nota\n",
        "    else:\n",
        "        print(\"Opção inválida.\")\n",
        "        return alunos\n",
        "\n",
        "    aluno[\"media\"] = round((aluno[\"notas\"][\"nota1\"] + aluno[\"notas\"][\"nota2\"] + aluno[\"notas\"][\"nota3\"]) / 3, 2)\n",
        "    aluno[\"aprovado\"] = aluno[\"media\"] >= 7.0\n",
        "\n",
        "    print(\"\\nNotas do aluno atualizadas com sucesso!\")\n",
        "    print(\"Registro do aluno atualizado:\", aluno)\n",
        "\n",
        "    return alunos\n",
        "\n",
        "#aluno_atualizado = atualizar_notas(alunos)"
      ],
      "metadata": {
        "colab": {
          "base_uri": "https://localhost:8080/"
        },
        "id": "zbD_Hg32Cklp",
        "outputId": "0c80acb9-c62f-4470-c570-ae9e793ef593"
      },
      "execution_count": null,
      "outputs": [
        {
          "output_type": "stream",
          "name": "stdout",
          "text": [
            "\n",
            "Digite o ID do aluno que deseja atualizar as notas: 1\n",
            "Selecione a nota que deseja atualizar:\n",
            "1. 1º nota\n",
            "2. 2º nota\n",
            "3. 3º nota\n",
            "Digite o número correspondente à nota que deseja atualizar: 3\n",
            "Digite a nova 3º nota: 9\n",
            "\n",
            "Notas do aluno atualizadas com sucesso!\n",
            "Registro do aluno atualizado: {'nome_completo': 'Tulio Soares', 'notas': {'nota1': 10.0, 'nota2': 10.0, 'nota3': 9.0}, 'media': 9.67, 'aprovado': True}\n"
          ]
        }
      ]
    },
    {
      "cell_type": "code",
      "source": [
        "def listar_alunos_status(alunos, aprovado=None):\n",
        "    if aprovado is None:\n",
        "        return alunos\n",
        "\n",
        "    alunos_filtrados = {}\n",
        "\n",
        "    for id_aluno, aluno in alunos.items():\n",
        "        if aprovado:\n",
        "            if aluno[\"media\"] >= 7.0:\n",
        "                alunos_filtrados[id_aluno] = aluno\n",
        "        else:\n",
        "            if aluno[\"media\"] < 7.0:\n",
        "                alunos_filtrados[id_aluno] = aluno\n",
        "\n",
        "    return alunos_filtrados\n",
        "\n",
        "#alunos_filtrados = listar_alunos_status(alunos)\n",
        "#print(alunos_filtrados)"
      ],
      "metadata": {
        "colab": {
          "base_uri": "https://localhost:8080/"
        },
        "id": "u4-oJwcqCmRI",
        "outputId": "b858bcd2-b2e3-43c8-a3de-640c327e8777"
      },
      "execution_count": null,
      "outputs": [
        {
          "output_type": "stream",
          "name": "stdout",
          "text": [
            "{1: {'nome_completo': 'Tulio Soares', 'notas': {'nota1': 10.0, 'nota2': 10.0, 'nota3': 9.0}, 'media': 9.67, 'aprovado': True}, 2: {'nome_completo': 'Eva cruz Silva', 'notas': {'nota1': 9.0, 'nota2': 10.0, 'nota3': 8.0}, 'media': 9.0, 'aprovado': True}}\n"
          ]
        }
      ]
    },
    {
      "cell_type": "code",
      "source": [
        "def buscar_aluno(alunos):\n",
        "    print(\"\\nOpções de busca:\")\n",
        "    print(\"1. Buscar pelo código do aluno\")\n",
        "    print(\"2. Buscar pelo nome do aluno\")\n",
        "\n",
        "    opcao = int(input(\"\\nDigite o número correspondente à opção de busca desejada: \"))\n",
        "\n",
        "    if opcao == 1:\n",
        "        id_aluno = int(input(\"Digite o código do aluno: \"))\n",
        "        if id_aluno in alunos:\n",
        "            return alunos[id_aluno]\n",
        "        else:\n",
        "            print(\"Aluno não encontrado.\")\n",
        "\n",
        "    elif opcao == 2:\n",
        "        nome_aluno = input(\"Digite o nome do aluno: \").capitalize().strip()\n",
        "        for id_aluno, aluno in alunos.items():\n",
        "            nome_completo = aluno[\"nome_completo\"].split()\n",
        "            primeiro_nome = nome_completo[0]\n",
        "            sobrenome = nome_completo[-1]\n",
        "            if nome_aluno in primeiro_nome or nome_aluno in sobrenome:\n",
        "                return aluno\n",
        "        print(\"Aluno não encontrado.\")\n",
        "\n",
        "    else:\n",
        "        print(\"Opção inválida.\")\n",
        "\n",
        "#aluno_encontrado = buscar_aluno(alunos)\n",
        "#if aluno_encontrado:\n",
        "#    print(f\"\\nAluno(a) encontrado: {aluno_encontrado}\")"
      ],
      "metadata": {
        "colab": {
          "base_uri": "https://localhost:8080/"
        },
        "id": "BneergpyDuZN",
        "outputId": "29d7551e-4299-4487-af23-629a8b4742c1"
      },
      "execution_count": null,
      "outputs": [
        {
          "output_type": "stream",
          "name": "stdout",
          "text": [
            "\n",
            "Opções de busca:\n",
            "1. Buscar pelo código do aluno\n",
            "2. Buscar pelo nome do aluno\n",
            "\n",
            "Digite o número correspondente à opção de busca desejada: 1\n",
            "Digite o código do aluno: 2\n",
            "\n",
            "Aluno(a) encontrado: {'nome_completo': 'Eva cruz Silva', 'notas': {'nota1': 9.0, 'nota2': 10.0, 'nota3': 8.0}, 'media': 9.0, 'aprovado': True}\n"
          ]
        }
      ]
    },
    {
      "cell_type": "code",
      "source": [
        "def imprimir_boletim(alunos, aprovado=True):\n",
        "    for id_aluno, aluno in alunos.items():\n",
        "        nome = aluno[\"nome_completo\"]\n",
        "        nota1 = aluno[\"notas\"][\"nota1\"]\n",
        "        nota2 = aluno[\"notas\"][\"nota2\"]\n",
        "        nota3 = aluno[\"notas\"][\"nota3\"]\n",
        "        media = aluno[\"media\"]\n",
        "\n",
        "        if (aprovado and media >= 7.0) or (not aprovado and media < 7.0):\n",
        "            print(\"\\n       Boletim do Aluno\")\n",
        "            print(\"-------------------------------\")\n",
        "            print(f\"Id: {id_aluno}\")\n",
        "            print(f\"Nome: {nome}\")\n",
        "            print(f\"Nota da primeira unidade: {nota1}\")\n",
        "            print(f\"Nota da segunda unidade: {nota2}\")\n",
        "            print(f\"Nota da terceira unidade: {nota3}\")\n",
        "            print(f\"Média: {media}\")\n",
        "\n",
        "            if aprovado:\n",
        "                print(\"Situação: Aprovado\")\n",
        "            else:\n",
        "                print(\"Situação: Reprovado\")\n",
        "#imprimir_boletim(alunos)"
      ],
      "metadata": {
        "colab": {
          "base_uri": "https://localhost:8080/"
        },
        "id": "eAXAYIxlEBsY",
        "outputId": "284b7921-65d8-441d-e7b4-645023aa99f9"
      },
      "execution_count": null,
      "outputs": [
        {
          "output_type": "stream",
          "name": "stdout",
          "text": [
            "\n",
            "       Boletim do Aluno\n",
            "-------------------------------\n",
            "Id: 1\n",
            "Nome: Tulio Soares\n",
            "Nota da primeira unidade: 10.0\n",
            "Nota da segunda unidade: 10.0\n",
            "Nota da terceira unidade: 9.0\n",
            "Média: 9.67\n",
            "Situação: Aprovado\n",
            "\n",
            "       Boletim do Aluno\n",
            "-------------------------------\n",
            "Id: 2\n",
            "Nome: Eva cruz Silva\n",
            "Nota da primeira unidade: 9.0\n",
            "Nota da segunda unidade: 10.0\n",
            "Nota da terceira unidade: 8.0\n",
            "Média: 9.0\n",
            "Situação: Aprovado\n"
          ]
        }
      ]
    },
    {
      "cell_type": "code",
      "source": [
        "def menu(alunos):\n",
        "\n",
        "    while True:\n",
        "        print(\"\\n### Sistema de Gerenciamento de Alunos ###\")\n",
        "        print(\"1. Cadastrar aluno\")\n",
        "        print(\"2. Editar notas de alunos\")\n",
        "        print(\"3. Listar alunos\")\n",
        "        print(\"4. Gerar boletim de aluno\")\n",
        "        print(\"5. Sair\")\n",
        "\n",
        "        opcao = input(\"\\nEscolha uma opção: \")\n",
        "\n",
        "        if opcao == \"1\":\n",
        "            alunos = solicitar_dados_aluno(alunos)\n",
        "        elif opcao == \"2\":\n",
        "            alunos = atualizar_notas(alunos)\n",
        "        elif opcao == \"3\":\n",
        "            print(\"\\nListar Alunos:\")\n",
        "            print(\"1. Listar alunos aprovados\")\n",
        "            print(\"2. Listar alunos reprovados\")\n",
        "            print(\"3. Listar todos os alunos\")\n",
        "            listar_opcao = input(\"Escolha uma opção: \")\n",
        "            if listar_opcao == \"1\":\n",
        "                alunos_filtrados = listar_alunos_status(alunos, aprovado=True)\n",
        "                print(alunos_filtrados)\n",
        "            elif listar_opcao == \"2\":\n",
        "                alunos_filtrados = listar_alunos_status(alunos, aprovado=False)\n",
        "                print(alunos_filtrados)\n",
        "            elif listar_opcao == \"3\":\n",
        "                print(alunos)\n",
        "            else:\n",
        "                print(\"Opção inválida.\")\n",
        "        elif opcao == \"4\":\n",
        "            id_aluno = int(input(\"Digite o ID do aluno para gerar o boletim: \"))\n",
        "            if id_aluno in alunos:\n",
        "                imprimir_boletim({id_aluno: alunos[id_aluno]})\n",
        "            else:\n",
        "                print(\"Aluno não encontrado.\")\n",
        "        elif opcao == \"5\":\n",
        "            print(\"\\nSaindo do sistema. Obrigada pelo acesso!\")\n",
        "            break\n",
        "        else:\n",
        "            print(\"Opção inválida. Por favor, escolha uma opção válida.\")\n",
        "\n",
        "menu(alunos)"
      ],
      "metadata": {
        "colab": {
          "base_uri": "https://localhost:8080/"
        },
        "id": "qS5W5h8DESiw",
        "outputId": "f43f2988-7059-4b63-b708-76d23c9bcda7"
      },
      "execution_count": null,
      "outputs": [
        {
          "output_type": "stream",
          "name": "stdout",
          "text": [
            "\n",
            "### Sistema de Gerenciamento de Alunos ###\n",
            "1. Cadastrar aluno\n",
            "2. Editar notas de alunos\n",
            "3. Listar alunos\n",
            "4. Gerar boletim de aluno\n",
            "5. Sair\n",
            "\n",
            "Escolha uma opção: 1\n",
            "\n",
            "Digite o nome do aluno: vitoria\n",
            "Digite o sobrenome do aluno: cruz\n",
            "Digite a 1º nota: 10\n",
            "Digite a 2º nota: 10\n",
            "Digite a 3º nota: 10\n",
            "\n",
            "Deseja adicionar outro aluno? (s/n): n\n",
            "\n",
            "### Sistema de Gerenciamento de Alunos ###\n",
            "1. Cadastrar aluno\n",
            "2. Editar notas de alunos\n",
            "3. Listar alunos\n",
            "4. Gerar boletim de aluno\n",
            "5. Sair\n",
            "\n",
            "Escolha uma opção: 3\n",
            "\n",
            "Listar Alunos:\n",
            "1. Listar alunos aprovados\n",
            "2. Listar alunos reprovados\n",
            "3. Listar todos os alunos\n",
            "Escolha uma opção: 2\n",
            "{}\n",
            "\n",
            "### Sistema de Gerenciamento de Alunos ###\n",
            "1. Cadastrar aluno\n",
            "2. Editar notas de alunos\n",
            "3. Listar alunos\n",
            "4. Gerar boletim de aluno\n",
            "5. Sair\n",
            "\n",
            "Escolha uma opção: 3\n",
            "\n",
            "Listar Alunos:\n",
            "1. Listar alunos aprovados\n",
            "2. Listar alunos reprovados\n",
            "3. Listar todos os alunos\n",
            "Escolha uma opção: 1\n",
            "{1: {'nome_completo': 'Tulio Soares', 'notas': {'nota1': 10.0, 'nota2': 10.0, 'nota3': 9.0}, 'media': 9.67, 'aprovado': True}, 2: {'nome_completo': 'Eva cruz Silva', 'notas': {'nota1': 9.0, 'nota2': 10.0, 'nota3': 8.0}, 'media': 9.0, 'aprovado': True}, 3: {'nome_completo': 'Vitoria Cruz', 'notas': {'nota1': 10.0, 'nota2': 10.0, 'nota3': 10.0}, 'media': 10.0, 'aprovado': True}}\n",
            "\n",
            "### Sistema de Gerenciamento de Alunos ###\n",
            "1. Cadastrar aluno\n",
            "2. Editar notas de alunos\n",
            "3. Listar alunos\n",
            "4. Gerar boletim de aluno\n",
            "5. Sair\n",
            "\n",
            "Escolha uma opção: 4\n",
            "Digite o ID do aluno para gerar o boletim: 3\n",
            "\n",
            "       Boletim do Aluno\n",
            "-------------------------------\n",
            "Id: 3\n",
            "Nome: Vitoria Cruz\n",
            "Nota da primeira unidade: 10.0\n",
            "Nota da segunda unidade: 10.0\n",
            "Nota da terceira unidade: 10.0\n",
            "Média: 10.0\n",
            "Situação: Aprovado\n",
            "\n",
            "### Sistema de Gerenciamento de Alunos ###\n",
            "1. Cadastrar aluno\n",
            "2. Editar notas de alunos\n",
            "3. Listar alunos\n",
            "4. Gerar boletim de aluno\n",
            "5. Sair\n",
            "\n",
            "Escolha uma opção: 2\n",
            "\n",
            "Digite o ID do aluno que deseja atualizar as notas: 1\n",
            "Selecione a nota que deseja atualizar:\n",
            "1. 1º nota\n",
            "2. 2º nota\n",
            "3. 3º nota\n",
            "Digite o número correspondente à nota que deseja atualizar: 3\n",
            "Digite a nova 3º nota: 10\n",
            "\n",
            "Notas do aluno atualizadas com sucesso!\n",
            "Registro do aluno atualizado: {'nome_completo': 'Tulio Soares', 'notas': {'nota1': 10.0, 'nota2': 10.0, 'nota3': 10.0}, 'media': 10.0, 'aprovado': True}\n",
            "\n",
            "### Sistema de Gerenciamento de Alunos ###\n",
            "1. Cadastrar aluno\n",
            "2. Editar notas de alunos\n",
            "3. Listar alunos\n",
            "4. Gerar boletim de aluno\n",
            "5. Sair\n",
            "\n",
            "Escolha uma opção: 5\n",
            "\n",
            "Saindo do sistema...Obrigada pelo acesso!\n"
          ]
        }
      ]
    }
  ]
}