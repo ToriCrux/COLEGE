{
  "nbformat": 4,
  "nbformat_minor": 0,
  "metadata": {
    "colab": {
      "provenance": []
    },
    "kernelspec": {
      "name": "python3",
      "display_name": "Python 3"
    },
    "language_info": {
      "name": "python"
    }
  },
  "cells": [
    {
      "cell_type": "code",
      "source": [
        "# Importar as funções desenvolvidas anteriormente\n",
        "from funcoes import menu, cadastrar_registro, consultar_registro, listar_registros, modificar_registro, apagar_registro\n",
        "\n",
        "# Inicializar o vetor de registros\n",
        "registros = []\n",
        "\n",
        "# Loop indefinido para apresentar o menu e executar ações\n",
        "while True:\n",
        "    # Apresentar o menu e obter a opção do usuário\n",
        "    opcao = menu()\n",
        "\n",
        "    # Executar a ação correspondente à opção escolhida pelo usuário\n",
        "    if opcao == '1':  # Criar um registro\n",
        "        novo_registro = cadastrar_registro()\n",
        "        registros.append(novo_registro)\n",
        "    elif opcao == '2':  # Consultar um registro pelo ID\n",
        "        id_consultar = input(\"Digite o ID do registro a ser consultado: \")\n",
        "        consultar_registro(registros, id_consultar)\n",
        "    elif opcao == '3':  # Listar os registros\n",
        "        listar_registros(registros)\n",
        "    elif opcao == '4':  # Modificar um registro\n",
        "        modificar_registro(registros)\n",
        "    elif opcao == '5':  # Apagar um registro\n",
        "        apagar_registro(registros)\n",
        "    elif opcao == '6':  # Sair\n",
        "        print(\"Encerrando o programa...\")\n",
        "        break\n",
        "    else:\n",
        "        print(\"Opção inválida! Por favor, escolha uma opção válida.\")\n"
      ],
      "metadata": {
        "colab": {
          "base_uri": "https://localhost:8080/",
          "height": 383
        },
        "id": "fqtn4VQ7D2r0",
        "outputId": "e3d580e6-4de5-410f-ed66-1fdd51d723ee"
      },
      "execution_count": 44,
      "outputs": [
        {
          "output_type": "error",
          "ename": "ModuleNotFoundError",
          "evalue": "No module named 'funcoes'",
          "traceback": [
            "\u001b[0;31m---------------------------------------------------------------------------\u001b[0m",
            "\u001b[0;31mModuleNotFoundError\u001b[0m                       Traceback (most recent call last)",
            "\u001b[0;32m<ipython-input-44-4d6a8d2d5543>\u001b[0m in \u001b[0;36m<cell line: 2>\u001b[0;34m()\u001b[0m\n\u001b[1;32m      1\u001b[0m \u001b[0;31m# Importar as funções desenvolvidas anteriormente\u001b[0m\u001b[0;34m\u001b[0m\u001b[0;34m\u001b[0m\u001b[0m\n\u001b[0;32m----> 2\u001b[0;31m \u001b[0;32mfrom\u001b[0m \u001b[0mfuncoes\u001b[0m \u001b[0;32mimport\u001b[0m \u001b[0mmenu\u001b[0m\u001b[0;34m,\u001b[0m \u001b[0mcadastrar_registro\u001b[0m\u001b[0;34m,\u001b[0m \u001b[0mconsultar_registro\u001b[0m\u001b[0;34m,\u001b[0m \u001b[0mlistar_registros\u001b[0m\u001b[0;34m,\u001b[0m \u001b[0mmodificar_registro\u001b[0m\u001b[0;34m,\u001b[0m \u001b[0mapagar_registro\u001b[0m\u001b[0;34m\u001b[0m\u001b[0;34m\u001b[0m\u001b[0m\n\u001b[0m\u001b[1;32m      3\u001b[0m \u001b[0;34m\u001b[0m\u001b[0m\n\u001b[1;32m      4\u001b[0m \u001b[0;31m# Inicializar o vetor de registros\u001b[0m\u001b[0;34m\u001b[0m\u001b[0;34m\u001b[0m\u001b[0m\n\u001b[1;32m      5\u001b[0m \u001b[0mregistros\u001b[0m \u001b[0;34m=\u001b[0m \u001b[0;34m[\u001b[0m\u001b[0;34m]\u001b[0m\u001b[0;34m\u001b[0m\u001b[0;34m\u001b[0m\u001b[0m\n",
            "\u001b[0;31mModuleNotFoundError\u001b[0m: No module named 'funcoes'",
            "",
            "\u001b[0;31m---------------------------------------------------------------------------\u001b[0;32m\nNOTE: If your import is failing due to a missing package, you can\nmanually install dependencies using either !pip or !apt.\n\nTo view examples of installing some common dependencies, click the\n\"Open Examples\" button below.\n\u001b[0;31m---------------------------------------------------------------------------\u001b[0m\n"
          ],
          "errorDetails": {
            "actions": [
              {
                "action": "open_url",
                "actionText": "Open Examples",
                "url": "/notebooks/snippets/importing_libraries.ipynb"
              }
            ]
          }
        }
      ]
    },
    {
      "cell_type": "markdown",
      "source": [
        "QUESTÃO 1- Desenvolva uma função que apresente um menu inicial com as opções listadas abaixo e que tenha como retorno a opção escolhida:\n",
        "  *   Criar um registro\n",
        "  *   Consultar um registro pelo ID\n",
        "  *   Modificar um registro\n",
        "  *   Apagar um registro\n",
        "  *   Sair"
      ],
      "metadata": {
        "id": "O_cD3ph_Sobz"
      }
    },
    {
      "cell_type": "code",
      "execution_count": 45,
      "metadata": {
        "colab": {
          "base_uri": "https://localhost:8080/"
        },
        "id": "OgDF1qUQSR7j",
        "outputId": "3942417f-bba9-4d59-8561-bb366f6aeb18"
      },
      "outputs": [
        {
          "output_type": "stream",
          "name": "stdout",
          "text": [
            "Bem-vindo ao sistema de registros!\n",
            "\n",
            "Escolha uma opção:\n",
            "1. Criar um registro\n",
            "2. Consultar um registro pelo ID\n",
            "3. Listar os registros\n",
            "4. Modificar um registro\n",
            "5. Apagar um registro\n",
            "6. Sair\n",
            "Digite o número da opção desejada: 1\n",
            "Opção escolhida: 1 - Criar um registro\n"
          ]
        }
      ],
      "source": [
        "def menu():\n",
        "    \"\"\"\n",
        "    Exibe o menu principal do sistema de registros e solicita uma opção ao usuário.\n",
        "\n",
        "    Retorna:\n",
        "        str: A opção escolhida pelo usuário.\n",
        "    \"\"\"\n",
        "    print(\"Bem-vindo ao sistema de registros!\")\n",
        "    print(\"\\nEscolha uma opção:\")\n",
        "    print(\"1. Criar um registro\")\n",
        "    print(\"2. Consultar um registro pelo ID\")\n",
        "    print(\"3. Listar os registros\")\n",
        "    print(\"4. Modificar um registro\")\n",
        "    print(\"5. Apagar um registro\")\n",
        "    print(\"6. Sair\")\n",
        "    opcao = input(\"Digite o número da opção desejada: \")\n",
        "    opcao_descricao = {\n",
        "        \"1\": \"Criar um registro\",\n",
        "        \"2\": \"Consultar um registro pelo ID\",\n",
        "        \"3\": \"Listar os registros\",\n",
        "        \"4\": \"Modificar um registro\",\n",
        "        \"5\": \"Apagar um registro\",\n",
        "        \"6\": \"Sair\"\n",
        "    }\n",
        "\n",
        "    if opcao in opcao_descricao:\n",
        "        print(\"Opção escolhida:\", opcao, \"-\", opcao_descricao[opcao])\n",
        "    else:\n",
        "        print(\"Opção inválida!\")\n",
        "    return opcao\n",
        "\n",
        "opcao_escolhida = menu()\n"
      ]
    },
    {
      "cell_type": "markdown",
      "source": [
        "QUESTÃO 2- Desenvolva uma função que solicite o nome completo que será salvo no registro e devolva com as iniciais em maiúscula."
      ],
      "metadata": {
        "id": "gfc5a2MDTxX_"
      }
    },
    {
      "cell_type": "code",
      "source": [
        "def nome_com_iniciais_maiusculas():\n",
        "    \"\"\"\n",
        "    Solicita o nome completo do usuário e retorna o nome com as iniciais em maiúsculas.\n",
        "\n",
        "    Returna:\n",
        "        str: O nome completo formatado com as iniciais em maiúsculas.\n",
        "    \"\"\"\n",
        "\n",
        "    nome_completo = input(\"Digite seu nome completo: \")\n",
        "    partes_nome = nome_completo.split()\n",
        "    nome_com_iniciais_maiusculas = ' '.join([parte.capitalize() for parte in partes_nome])\n",
        "    return nome_com_iniciais_maiusculas\n",
        "\n",
        "nome_formatado = nome_com_iniciais_maiusculas()\n",
        "print(\"Nome com iniciais em maiúsculas:\", nome_formatado)\n"
      ],
      "metadata": {
        "colab": {
          "base_uri": "https://localhost:8080/"
        },
        "id": "PNdO8kNlSwkO",
        "outputId": "864ec2e8-0f5c-4f14-e74e-5d1109f9a22c"
      },
      "execution_count": 3,
      "outputs": [
        {
          "output_type": "stream",
          "name": "stdout",
          "text": [
            "Digite seu nome completo: VICTORIA CRUZ\n",
            "Nome com iniciais em maiúsculas: Victoria Cruz\n"
          ]
        }
      ]
    },
    {
      "cell_type": "markdown",
      "source": [
        "QUESTÃO 3- Desenvolva uma função que solicite a data de nascimento e devolva no formato dd-mm-aaaa, verificando se é uma data válida.\n",
        " Utilize como critério o valor de mês entre 1 e 12, e se o dia corresponde a um dia válido no mês.\n",
        "\n",
        " Para isso, garanta que casos com o ano bissexto ou dias 31 ocorram de forma correta."
      ],
      "metadata": {
        "id": "ur7GNI-UUYgf"
      }
    },
    {
      "cell_type": "code",
      "source": [
        "from datetime import datetime\n",
        "\n",
        "def validar_data_nascimento(data):\n",
        "    \"\"\"\n",
        "    Valida uma data de nascimento no formato dd-mm-aaaa.\n",
        "\n",
        "    Argumentos:\n",
        "        data (str): A data de nascimento a ser validada no formato dd-mm-aaaa ou outros formatos.\n",
        "\n",
        "    Returna:\n",
        "        str: A data de nascimento formatada no formato dd-mm-aaaa se for válida.\n",
        "    \"\"\"\n",
        "\n",
        "    formatos = ['%d-%m-%Y', '%d/%m/%Y', '%d.%m.%Y']  # Lista de possíveis formatos de data\n",
        "\n",
        "    for formato in formatos:\n",
        "        try:\n",
        "            data_formatada = datetime.strptime(data, formato)\n",
        "            if data_formatada.year < 1000 or data_formatada.year > 9999:\n",
        "                raise ValueError\n",
        "\n",
        "            # Verificar se o mês está entre 1 e 12\n",
        "            if not 1 <= data_formatada.month <= 12:\n",
        "                raise ValueError\n",
        "\n",
        "            # Verificar se o dia é válido para o mês\n",
        "            if data_formatada.month in [1, 3, 5, 7, 8, 10, 12]:\n",
        "                if not 1 <= data_formatada.day <= 31:\n",
        "                    raise ValueError\n",
        "            elif data_formatada.month in [4, 6, 9, 11]:\n",
        "                if not 1 <= data_formatada.day <= 30:\n",
        "                    raise ValueError\n",
        "            elif data_formatada.month == 2:\n",
        "                if data_formatada.year % 4 == 0 and (data_formatada.year % 100 != 0 or data_formatada.year % 400 == 0):\n",
        "                    if not 1 <= data_formatada.day <= 29:\n",
        "                        raise ValueError\n",
        "                else:\n",
        "                    if not 1 <= data_formatada.day <= 28:\n",
        "                        raise ValueError\n",
        "\n",
        "            return data_formatada.strftime('%d-%m-%Y')\n",
        "        except ValueError:\n",
        "            pass\n",
        "\n",
        "    raise ValueError(\"Data de nascimento inválida!\")\n",
        "\n",
        "data_nascimento = input(\"Digite sua data de nascimento: \")\n",
        "try:\n",
        "    data_formatada = validar_data_nascimento(data_nascimento)\n",
        "    print(\"Data de nascimento formatada:\", data_formatada)\n",
        "except ValueError as e:\n",
        "    print(\"Erro:\", e)"
      ],
      "metadata": {
        "id": "b9RpLQu1T9Ce"
      },
      "execution_count": null,
      "outputs": []
    },
    {
      "cell_type": "markdown",
      "source": [
        "QUESTÃO 4- Desenvolva uma função que receba como parâmetro de entrada o dado CPF no formato XXXXXXXXXXX e verifique se esse é um valor válido, tendo como saída um valor booleano de Verdadeiro ou Falso."
      ],
      "metadata": {
        "id": "kpZNpWf4XlI9"
      }
    },
    {
      "cell_type": "code",
      "source": [
        "def validar_cpf(cpf):\n",
        "    \"\"\"\n",
        "    Valida um número de CPF.\n",
        "\n",
        "    Argumentos:\n",
        "        cpf (str): O número de CPF a ser validado no formato XXXXXXXXXXX.\n",
        "\n",
        "    Retorna:\n",
        "        bool: True se o CPF for válido, False caso contrário.\n",
        "    \"\"\"\n",
        "    # Remover caracteres não numéricos\n",
        "    cpf = ''.join(filter(str.isdigit, cpf))\n",
        "\n",
        "    # Verificar se o CPF tem 11 dígitos\n",
        "    if len(cpf) != 11:\n",
        "        return False\n",
        "\n",
        "    # Verificar se todos os dígitos são iguais\n",
        "    if cpf == cpf[0] * 11:\n",
        "        return False\n",
        "\n",
        "    # Calcular os dígitos verificadores\n",
        "    soma1 = sum(int(cpf[i]) * (10 - i) for i in range(9))\n",
        "    resto1 = soma1 % 11\n",
        "    digito1 = 0 if resto1 < 2 else 11 - resto1\n",
        "\n",
        "    soma2 = sum(int(cpf[i]) * (11 - i) for i in range(10))\n",
        "    resto2 = soma2 % 11\n",
        "    digito2 = 0 if resto2 < 2 else 11 - resto2\n",
        "\n",
        "    # Verificar se os dígitos verificadores estão corretos\n",
        "    if int(cpf[9]) == digito1 and int(cpf[10]) == digito2:\n",
        "        return True\n",
        "    else:\n",
        "        return False\n",
        "\n",
        "cpf = input(\"Digite o CPF: \")\n",
        "if validar_cpf(cpf):\n",
        "    print(\"CPF válido\")\n",
        "else:\n",
        "    print(\"CPF inválido\")"
      ],
      "metadata": {
        "colab": {
          "base_uri": "https://localhost:8080/"
        },
        "id": "0up60yhLVsUb",
        "outputId": "a7526856-5f34-4e6a-e094-4e8710050313"
      },
      "execution_count": 14,
      "outputs": [
        {
          "output_type": "stream",
          "name": "stdout",
          "text": [
            "Digite o CPF: 13062766751\n",
            "CPF válido\n"
          ]
        }
      ]
    },
    {
      "cell_type": "markdown",
      "source": [
        "QUESTÃO 5- Desenvolva uma função que solicite o CPF e retorne o valor no formato XXX.XXX.XXX-XX, caso seja um valor válido, ou Falso, caso seja inválido."
      ],
      "metadata": {
        "id": "h0GEQZISY4hX"
      }
    },
    {
      "cell_type": "code",
      "source": [
        "def validar_cpf(cpf):\n",
        "    cpf = ''.join(filter(str.isdigit, cpf))\n",
        "\n",
        "    if len(cpf) != 11:\n",
        "        return False\n",
        "\n",
        "    if cpf == cpf[0] * 11:\n",
        "        return False\n",
        "\n",
        "    soma1 = sum(int(cpf[i]) * (10 - i) for i in range(9))\n",
        "    resto1 = soma1 % 11\n",
        "    digito1 = 0 if resto1 < 2 else 11 - resto1\n",
        "\n",
        "    soma2 = sum(int(cpf[i]) * (11 - i) for i in range(10))\n",
        "    resto2 = soma2 % 11\n",
        "    digito2 = 0 if resto2 < 2 else 11 - resto2\n",
        "\n",
        "    if int(cpf[9]) == digito1 and int(cpf[10]) == digito2:\n",
        "        return True\n",
        "    else:\n",
        "        return False\n",
        "\n",
        "def formatar_cpf(cpf):\n",
        "    \"\"\"\n",
        "    Formata um número de CPF no formato XXX.XXX.XXX-XX.\n",
        "\n",
        "    Argumentos:\n",
        "        cpf (str): O número de CPF a ser formatado no formato XXXXXXXXXXX.\n",
        "\n",
        "    Retorna:\n",
        "        str: O CPF formatado no formato XXX.XXX.XXX-XX se for válido, False caso contrário.\n",
        "    \"\"\"\n",
        "\n",
        "    if validar_cpf(cpf):\n",
        "        cpf_formatado = f\"{cpf[:3]}.{cpf[3:6]}.{cpf[6:9]}-{cpf[9:]}\"\n",
        "        return cpf_formatado\n",
        "    else:\n",
        "        return False\n",
        "\n",
        "cpf = input(\"Digite o CPF (XXXXXXXXXXX): \")\n",
        "cpf_formatado = formatar_cpf(cpf)\n",
        "if cpf_formatado:\n",
        "    print(\"CPF formatado:\", cpf_formatado)\n",
        "else:\n",
        "    print(\"CPF inválido\")\n"
      ],
      "metadata": {
        "id": "OL5A9fluYR_3"
      },
      "execution_count": null,
      "outputs": []
    },
    {
      "cell_type": "markdown",
      "source": [
        "QUESTÃO 6- Desenvolva uma função que solicite ao usuário os dados cadastrais listados abaixo e que tenha como retorno uma lista contendo esses valores na ordem apresentada:\n",
        "  *   Nome completo\n",
        "  *   Data de nascimento\n",
        "  *   CPF\n",
        "  *   Endereço de email\n",
        "\n",
        "Obs.: A função deve utilizar um laço que garanta que todos os valores sejam válidos e utilizar as funções desenvolvidas previamente."
      ],
      "metadata": {
        "id": "BqsY6qP8ZTXM"
      }
    },
    {
      "cell_type": "code",
      "source": [
        "def menu():\n",
        "    print(\"Bem-vindo ao sistema de registros!\")\n",
        "    print(\"\\nEscolha uma opção:\")\n",
        "    print(\"1. Criar um registro\")\n",
        "    print(\"2. Consultar um registro pelo ID\")\n",
        "    print(\"3. Listar os registros\")\n",
        "    print(\"4. Modificar um registro\")\n",
        "    print(\"5. Apagar um registro\")\n",
        "    print(\"6. Sair\")\n",
        "    opcao = input(\"Digite o número da opção desejada: \")\n",
        "    opcao_descricao = {\n",
        "        \"1\": \"Criar um registro\",\n",
        "        \"2\": \"Consultar um registro pelo ID\",\n",
        "        \"3\": \"Listar os registros\",\n",
        "        \"4\": \"Modificar um registro\",\n",
        "        \"5\": \"Apagar um registro\",\n",
        "        \"6\": \"Sair\"\n",
        "    }\n",
        "\n",
        "    if opcao in opcao_descricao:\n",
        "        print(\"Opção escolhida:\", opcao, \"-\", opcao_descricao[opcao])\n",
        "    else:\n",
        "        print(\"Opção inválida!\")\n",
        "    return opcao\n",
        "\n",
        "def nome_com_iniciais_maiusculas(nome):\n",
        "    nome = nome.lower()\n",
        "    nome = nome.title()\n",
        "    return nome\n",
        "\n",
        "def validar_data_nascimento(data):\n",
        "    formatos = ['%d-%m-%Y', '%d/%m/%Y', '%d.%m.%Y']  # Lista de possíveis formatos de data\n",
        "\n",
        "    for formato in formatos:\n",
        "        try:\n",
        "            data_formatada = datetime.strptime(data, formato)\n",
        "            if data_formatada.year < 1000 or data_formatada.year > 9999:\n",
        "                raise ValueError\n",
        "\n",
        "            # Verificar se o mês está entre 1 e 12\n",
        "            if not 1 <= data_formatada.month <= 12:\n",
        "                raise ValueError\n",
        "\n",
        "            # Verificar se o dia é válido para o mês\n",
        "            if data_formatada.month in [1, 3, 5, 7, 8, 10, 12]:\n",
        "                if not 1 <= data_formatada.day <= 31:\n",
        "                    raise ValueError\n",
        "            elif data_formatada.month in [4, 6, 9, 11]:\n",
        "                if not 1 <= data_formatada.day <= 30:\n",
        "                    raise ValueError\n",
        "            elif data_formatada.month == 2:\n",
        "                if data_formatada.year % 4 == 0 and (data_formatada.year % 100 != 0 or data_formatada.year % 400 == 0):\n",
        "                    if not 1 <= data_formatada.day <= 29:\n",
        "                        raise ValueError\n",
        "                else:\n",
        "                    if not 1 <= data_formatada.day <= 28:\n",
        "                        raise ValueError\n",
        "\n",
        "            return data_formatada.strftime('%d-%m-%Y')\n",
        "        except ValueError:\n",
        "            pass\n",
        "\n",
        "    raise ValueError(\"Data de nascimento inválida!\")\n",
        "\n",
        "def validar_cpf(cpf):\n",
        "    cpf = ''.join(filter(str.isdigit, cpf))\n",
        "\n",
        "    if len(cpf) != 11:\n",
        "        return False\n",
        "\n",
        "    if cpf == cpf[0] * 11:\n",
        "        return False\n",
        "\n",
        "    soma1 = sum(int(cpf[i]) * (10 - i) for i in range(9))\n",
        "    resto1 = soma1 % 11\n",
        "    digito1 = 0 if resto1 < 2 else 11 - resto1\n",
        "\n",
        "    soma2 = sum(int(cpf[i]) * (11 - i) for i in range(10))\n",
        "    resto2 = soma2 % 11\n",
        "    digito2 = 0 if resto2 < 2 else 11 - resto2\n",
        "\n",
        "    if int(cpf[9]) == digito1 and int(cpf[10]) == digito2:\n",
        "        return True\n",
        "    else:\n",
        "        return False\n",
        "\n",
        "def formatar_cpf(cpf):\n",
        "    if validar_cpf(cpf):\n",
        "        cpf_formatado = f\"{cpf[:3]}.{cpf[3:6]}.{cpf[6:9]}-{cpf[9:]}\"\n",
        "        return cpf_formatado\n",
        "    else:\n",
        "        return False\n",
        "\n",
        "def cadastro_sistema():\n",
        "    \"\"\"\n",
        "    Solicita ao usuário os dados cadastrais e retorna uma lista contendo esses valores.\n",
        "\n",
        "    Retorna:\n",
        "        list: Uma lista contendo o nome completo, data de nascimento, CPF e endereço de email, nesta ordem.\n",
        "    \"\"\"\n",
        "\n",
        "    nome_completo = input(\"Digite seu nome completo: \")\n",
        "    nome_completo = nome_com_iniciais_maiusculas(nome_completo)\n",
        "\n",
        "    while True:\n",
        "        data_nascimento = input(\"Digite sua data de nascimento: \")\n",
        "        try:\n",
        "            data_formatada = validar_data_nascimento(data_nascimento)\n",
        "            break\n",
        "        except ValueError as e:\n",
        "            print(\"Erro:\", e)\n",
        "\n",
        "    while True:\n",
        "        cpf = input(\"Digite seu CPF: \")\n",
        "        cpf_formatado = formatar_cpf(cpf)\n",
        "        if cpf_formatado:\n",
        "            break\n",
        "        else:\n",
        "            print(\"CPF inválido\")\n",
        "\n",
        "    email = input(\"Digite seu endereço de email: \")\n",
        "\n",
        "    return [nome_completo, data_formatada, cpf_formatado, email]\n",
        "\n",
        "dados_cadastrais = cadastro_sistema()\n",
        "print(\"Dados cadastrais:\", dados_cadastrais)\n"
      ],
      "metadata": {
        "id": "nVw_YrplYJ-d"
      },
      "execution_count": null,
      "outputs": []
    },
    {
      "cell_type": "markdown",
      "source": [
        "QUESTÃO 7- Desenvolva uma função que receba como parâmetro um vetor de cadastro e um valor de ID e imprima o valor do registro desejado a partir da lista recebida por parâmetro."
      ],
      "metadata": {
        "id": "ZA0FjnCzdS0a"
      }
    },
    {
      "cell_type": "code",
      "source": [
        "def imprimir_registro_por_id(vetor_cadastro, id_desejado):\n",
        "    \"\"\"\n",
        "    Imprime o registro desejado a partir de um vetor de cadastro e um valor de ID.\n",
        "\n",
        "    Argumentos:\n",
        "        vetor_cadastro (list): O vetor de cadastro contendo os registros.\n",
        "        id_desejado (int): O valor de ID do registro desejado.\n",
        "\n",
        "    Retorna:\n",
        "        None\n",
        "    \"\"\"\n",
        "    for registro in vetor_cadastro:\n",
        "        if registro[0] == id_desejado:\n",
        "            print(\"Registro encontrado:\")\n",
        "            print(\"ID:\", registro[0])\n",
        "            print(\"Nome completo:\", registro[1])\n",
        "            print(\"Data de nascimento:\", registro[2])\n",
        "            print(\"CPF:\", registro[3])\n",
        "            print(\"Endereço de email:\", registro[4])\n",
        "            return\n",
        "\n",
        "    print(\"Registro não encontrado para o ID:\", id_desejado)\n",
        "\n",
        "# Exemplo de uso\n",
        "cadastro = [\n",
        "    [1, \"João Silva\", \"20-05-1990\", \"12345678901\", \"joao@hotmail.com\"],\n",
        "    [2, \"Maria Oliveira\", \"15-10-1985\", \"98765432109\", \"maria@outlook.com\"],\n",
        "    [3, \"Pedro Santos\", \"03-12-1978\", \"45678901234\", \"pedro@gmail.com\"],\n",
        "    [4, \"Ana Souza\", \"12-03-1982\", \"23456789012\", \"ana@gmail.com\"],\n",
        "    [5, \"Carlos Pereira\", \"28-09-1975\", \"34567890123\", \"carlos@hotmail.com\"],\n",
        "    [6, \"Fernanda Costa\", \"07-07-1995\", \"45678901234\", \"fernanda@yahoo.com\"],\n",
        "    [7, \"Lucas Almeida\", \"19-11-1988\", \"56789012345\", \"lucas@outlook.com\"],\n",
        "    [8, \"Mariana Ferreira\", \"25-04-1980\", \"67890123456\", \"mariana@aol.com\"],\n",
        "    [9, \"Rafaela Mendes\", \"30-08-1992\", \"78901234567\", \"rafaela@protonmail.com\"],\n",
        "    [10, \"Gabriel Oliveira\", \"09-02-1987\", \"89012345678\", \"gabriel@icloud.com\"]\n",
        "]\n",
        "\n",
        "id_desejado = 9\n",
        "imprimir_registro_por_id(cadastro, id_desejado)"
      ],
      "metadata": {
        "id": "-FYiE5HsaWdh"
      },
      "execution_count": null,
      "outputs": []
    },
    {
      "cell_type": "markdown",
      "source": [
        "QUESTÃO 8- Desenvolva uma função que imprima, de forma ordenada, todos os registros existentes em uma lista passada por parâmetro."
      ],
      "metadata": {
        "id": "2g8rTPdmm0yE"
      }
    },
    {
      "cell_type": "code",
      "source": [
        "from operator import itemgetter\n",
        "\n",
        "def imprimir_registros_ordenados(lista_registros):\n",
        "    \"\"\"\n",
        "    Imprime de forma ordenada todos os registros existentes em uma lista.\n",
        "\n",
        "    Argumentos:\n",
        "        lista_registros (list): A lista contendo os registros a serem impressos.\n",
        "\n",
        "    Retorna:\n",
        "        None\n",
        "    \"\"\"\n",
        "    # Ordenando os registros pelo ID\n",
        "    lista_registros.sort(key=itemgetter(0))\n",
        "\n",
        "    # Imprimindo os registros ordenados\n",
        "    for registro in lista_registros:\n",
        "        print(\"ID:\", registro[0])\n",
        "        print(\"Nome completo:\", registro[1])\n",
        "        print(\"Data de nascimento:\", registro[2])\n",
        "        print(\"CPF:\", registro[3])\n",
        "        print(\"Endereço de email:\", registro[4])\n",
        "        print()  # Adiciona uma linha em branco entre os registros\n",
        "\n",
        "# Exemplo de uso\n",
        "cadastro = [\n",
        "    [1, \"João Silva\", \"20-05-1990\", \"12345678901\", \"joao@hotmail.com\"],\n",
        "    [2, \"Maria Oliveira\", \"15-10-1985\", \"98765432109\", \"maria@outlook.com\"],\n",
        "    [3, \"Pedro Santos\", \"03-12-1978\", \"45678901234\", \"pedro@gmail.com\"],\n",
        "    [4, \"Ana Souza\", \"12-03-1982\", \"23456789012\", \"ana@gmail.com\"],\n",
        "    [5, \"Carlos Pereira\", \"28-09-1975\", \"34567890123\", \"carlos@hotmail.com\"],\n",
        "    [6, \"Fernanda Costa\", \"07-07-1995\", \"45678901234\", \"fernanda@yahoo.com\"],\n",
        "    [7, \"Lucas Almeida\", \"19-11-1988\", \"56789012345\", \"lucas@outlook.com\"],\n",
        "    [8, \"Mariana Ferreira\", \"25-04-1980\", \"67890123456\", \"mariana@aol.com\"],\n",
        "    [9, \"Rafaela Mendes\", \"30-08-1992\", \"78901234567\", \"rafaela@protonmail.com\"],\n",
        "    [10, \"Gabriel Oliveira\", \"09-02-1987\", \"89012345678\", \"gabriel@icloud.com\"]\n",
        "]\n",
        "\n",
        "print(\"Registros ordenados:\\n\")\n",
        "imprimir_registros_ordenados(cadastro)"
      ],
      "metadata": {
        "id": "LcBhLhXAmmZd"
      },
      "execution_count": null,
      "outputs": []
    },
    {
      "cell_type": "markdown",
      "source": [
        "QUESTÃO 9 - Desenvolva uma função que receba como parâmetros uma lista de registros e um número ID e realize a remoção desse registro."
      ],
      "metadata": {
        "id": "mE-ZyXw1n64t"
      }
    },
    {
      "cell_type": "code",
      "source": [
        "def remover_registro_por_id(lista_registros, id_desejado):\n",
        "    \"\"\"\n",
        "    Remove um registro da lista de registros com base no número de ID fornecido.\n",
        "\n",
        "    Argumentos:\n",
        "        lista_registros (list): A lista contendo os registros.\n",
        "        id_desejado (int): O número de ID do registro a ser removido.\n",
        "\n",
        "    Retorna:\n",
        "        bool: True se o registro for removido com sucesso, False se o registro não for encontrado.\n",
        "    \"\"\"\n",
        "    for registro in lista_registros:\n",
        "        if registro[0] == id_desejado:\n",
        "            lista_registros.remove(registro)\n",
        "            return True\n",
        "\n",
        "    return False\n",
        "\n",
        "# Exemplo de uso\n",
        "registros = [\n",
        "    [1, \"João Silva\", \"20-05-1990\", \"12345678901\", \"joao@hotmail.com\"],\n",
        "    [2, \"Maria Oliveira\", \"15-10-1985\", \"98765432109\", \"maria@outlook.com\"],\n",
        "    [3, \"Pedro Santos\", \"03-12-1978\", \"45678901234\", \"pedro@gmail.com\"],\n",
        "    [4, \"Ana Souza\", \"12-03-1982\", \"23456789012\", \"ana@gmail.com\"],\n",
        "    [5, \"Carlos Pereira\", \"28-09-1975\", \"34567890123\", \"carlos@hotmail.com\"],\n",
        "    [6, \"Fernanda Costa\", \"07-07-1995\", \"45678901234\", \"fernanda@yahoo.com\"],\n",
        "    [7, \"Lucas Almeida\", \"19-11-1988\", \"56789012345\", \"lucas@outlook.com\"],\n",
        "    [8, \"Mariana Ferreira\", \"25-04-1980\", \"67890123456\", \"mariana@aol.com\"],\n",
        "    [9, \"Rafaela Mendes\", \"30-08-1992\", \"78901234567\", \"rafaela@protonmail.com\"],\n",
        "    [10, \"Gabriel Oliveira\", \"09-02-1987\", \"89012345678\", \"gabriel@icloud.com\"]\n",
        "]\n",
        "\n",
        "id_desejado = 2\n",
        "removido = remover_registro_por_id(registros, id_desejado)\n",
        "if removido:\n",
        "    print(\"Registro com ID\", id_desejado, \"removido com sucesso.\")\n",
        "else:\n",
        "    print(\"Registro com ID\", id_desejado, \"não encontrado.\")\n"
      ],
      "metadata": {
        "colab": {
          "base_uri": "https://localhost:8080/"
        },
        "id": "ZvX5Yuivnq4U",
        "outputId": "ad624c60-b115-48bd-d506-ce6dc8e6f771"
      },
      "execution_count": 28,
      "outputs": [
        {
          "output_type": "stream",
          "name": "stdout",
          "text": [
            "Registro com ID 2 removido com sucesso.\n"
          ]
        }
      ]
    },
    {
      "cell_type": "markdown",
      "source": [
        "QUESTÃO 10- Desenvolva uma função que solicite ao usuário qual registro deve ser modificado e qual dos valores deverão ser atualizados. O retorno deverá ser o ID do registro que será modificado e os respectivos valores dos campos.\n",
        "\n",
        "Sugestão: os valores que permanecerão inalterados podem ser definidos como None."
      ],
      "metadata": {
        "id": "MONDCXFv91aU"
      }
    },
    {
      "cell_type": "code",
      "source": [
        "from datetime import datetime\n",
        "\n",
        "def nome_com_iniciais_maiusculas(nome):\n",
        "    nome = nome.lower()\n",
        "    nome = nome.title()  # Capitaliza a primeira letra de cada palavra\n",
        "    return nome\n",
        "\n",
        "def validar_data_nascimento(data):\n",
        "    formatos = ['%d-%m-%Y', '%d/%m/%Y', '%d.%m.%Y']  # Lista de possíveis formatos de data\n",
        "\n",
        "    for formato in formatos:\n",
        "        try:\n",
        "            data_formatada = datetime.strptime(data, formato)\n",
        "            if data_formatada.year < 1000 or data_formatada.year > 9999:\n",
        "                raise ValueError\n",
        "\n",
        "            # Verificar se o mês está entre 1 e 12\n",
        "            if not 1 <= data_formatada.month <= 12:\n",
        "                raise ValueError\n",
        "\n",
        "            # Verificar se o dia é válido para o mês (incluindo anos bissextos)\n",
        "            if data_formatada.month in [1, 3, 5, 7, 8, 10, 12]:\n",
        "                if not 1 <= data_formatada.day <= 31:\n",
        "                    raise ValueError\n",
        "            elif data_formatada.month in [4, 6, 9, 11]:\n",
        "                if not 1 <= data_formatada.day <= 30:\n",
        "                    raise ValueError\n",
        "            elif data_formatada.month == 2:\n",
        "                if data_formatada.year % 4 == 0 and (data_formatada.year % 100 != 0 or data_formatada.year % 400 == 0):\n",
        "                    if not 1 <= data_formatada.day <= 29:\n",
        "                        raise ValueError\n",
        "                else:\n",
        "                    if not 1 <= data_formatada.day <= 28:\n",
        "                        raise ValueError\n",
        "\n",
        "            return data_formatada.strftime('%d-%m-%Y')\n",
        "        except ValueError:\n",
        "            pass\n",
        "\n",
        "    raise ValueError(\"Data de nascimento inválida!\")\n",
        "\n",
        "def validar_cpf(cpf):\n",
        "    cpf = ''.join(filter(str.isdigit, cpf))\n",
        "\n",
        "    if len(cpf) != 11:\n",
        "        return False\n",
        "\n",
        "    if cpf == cpf[0] * 11:\n",
        "        return False\n",
        "\n",
        "    soma1 = sum(int(cpf[i]) * (10 - i) for i in range(9))\n",
        "    resto1 = soma1 % 11\n",
        "    digito1 = 0 if resto1 < 2 else 11 - resto1\n",
        "\n",
        "    soma2 = sum(int(cpf[i]) * (11 - i) for i in range(10))\n",
        "    resto2 = soma2 % 11\n",
        "    digito2 = 0 if resto2 < 2 else 11 - resto2\n",
        "\n",
        "    if int(cpf[9]) == digito1 and int(cpf[10]) == digito2:\n",
        "        return True\n",
        "    else:\n",
        "        return False\n",
        "\n",
        "def formatar_cpf(cpf):\n",
        "    if validar_cpf(cpf):\n",
        "        cpf_formatado = f\"{cpf[:3]}.{cpf[3:6]}.{cpf[6:9]}-{cpf[9:]}\"\n",
        "        return cpf_formatado\n",
        "    else:\n",
        "        return False\n",
        "\n",
        "def modificar_registro(lista_registros):\n",
        "    \"\"\"\n",
        "    Solicita ao usuário o registro a ser modificado e os novos valores para os campos.\n",
        "\n",
        "    Argumentos:\n",
        "        lista_registros (list): A lista contendo os registros.\n",
        "\n",
        "    Retorna:\n",
        "        tuple: O ID do registro que será modificado e os novos valores dos campos.\n",
        "    \"\"\"\n",
        "    id_modificar = int(input(\"Digite o ID do registro que deseja modificar: \"))\n",
        "\n",
        "    for registro in lista_registros:\n",
        "        if registro[0] == id_modificar:\n",
        "            print(\"\\n\\nRegistro encontrado:\\n\")\n",
        "            print(\"ID:\", registro[0])\n",
        "            print(\"Nome completo:\", registro[1])\n",
        "            print(\"Data de nascimento:\", registro[2])\n",
        "            print(\"CPF:\", registro[3])\n",
        "            print(\"Endereço de email:\", registro[4])\n",
        "\n",
        "            novo_nome = input(\"\\nDigite o novo nome (ou pressione Enter para manter o atual): \")\n",
        "            novo_nome = nome_com_iniciais_maiusculas(novo_nome) if novo_nome else registro[1]\n",
        "\n",
        "            nova_data_nascimento = input(\"Digite a nova data de nascimento (ou pressione Enter para manter a atual): \")\n",
        "            nova_data_nascimento = validar_data_nascimento(nova_data_nascimento) if nova_data_nascimento else registro[2]\n",
        "\n",
        "            novo_cpf = input(\"Digite o novo CPF (ou pressione Enter para manter o atual): \")\n",
        "            novo_cpf = formatar_cpf(novo_cpf) if novo_cpf else registro[3]\n",
        "\n",
        "            novo_email = input(\"Digite o novo endereço de email (ou pressione Enter para manter o atual): \")\n",
        "            novo_email = novo_email if novo_email else registro[4]\n",
        "\n",
        "            return (id_modificar, novo_nome, nova_data_nascimento, novo_cpf, novo_email)\n",
        "\n",
        "    print(\"\\nRegistro não encontrado para o ID:\", id_modificar)\n",
        "    return None\n",
        "\n",
        "# Exemplo de uso:\n",
        "registros = [\n",
        "    [1, \"João Silva\", \"20-05-1990\", \"123.456.789-01\", \"joao@hotmail.com\"],\n",
        "    [2, \"Maria Oliveira\", \"15-10-1985\", \"987.654.321-09\", \"maria@outlook.com\"],\n",
        "    [3, \"Pedro Santos\", \"03-12-1978\", \"456.789.012-34\", \"pedro@gmail.com\"],\n",
        "    [4, \"Ana Souza\", \"12-03-1982\", \"234.567.890-12\", \"ana@gmail.com\"],\n",
        "    [5, \"Carlos Pereira\", \"28-09-1975\", \"345.678.901-23\", \"carlos@hotmail.com\"],\n",
        "    [6, \"Fernanda Costa\", \"07-07-1995\", \"456.789.012-34\", \"fernanda@yahoo.com\"],\n",
        "    [7, \"Lucas Almeida\", \"19-11-1988\", \"567.890.123-45\", \"lucas@outlook.com\"],\n",
        "    [8, \"Mariana Ferreira\", \"25-04-1980\", \"678.901.234-56\", \"mariana@aol.com\"],\n",
        "    [9, \"Rafaela Mendes\", \"30-08-1992\", \"789.012.345-67\", \"rafaela@protonmail.com\"],\n",
        "    [10, \"Gabriel Oliveira\", \"09-02-1987\", \"890.123.456-78\", \"gabriel@icloud.com\"]\n",
        "]\n",
        "\n",
        "modificacao = modificar_registro(registros)\n",
        "if modificacao:\n",
        "    id_modificar, novo_nome, nova_data_nascimento, novo_cpf, novo_email = modificacao\n",
        "    print(\"\\n\\nRegistro a ser modificado:\\n\", id_modificar)\n",
        "    print(\"Novo nome:\", novo_nome)\n",
        "    print(\"Nova data de nascimento:\", nova_data_nascimento)\n",
        "    print(\"Novo CPF:\", novo_cpf)\n",
        "    print(\"Novo endereço de email:\", novo_email)"
      ],
      "metadata": {
        "id": "uQ47nENg0bie"
      },
      "execution_count": null,
      "outputs": []
    },
    {
      "cell_type": "markdown",
      "source": [
        "QUESTÃO 11- Desenvolva uma função que receba um registro em formato de lista e modifique um ou mais valores dessa lista. Esse valor (ou valores) deverá ser passado por parâmetro para a função. O retorno deverá ser o registro com o valor modificado."
      ],
      "metadata": {
        "id": "yHM8F3UBA3h8"
      }
    },
    {
      "cell_type": "code",
      "source": [
        "def modificar_valor_registro(registro, indices, novos_valores):\n",
        "    \"\"\"\n",
        "    Modifica um ou mais valores de um registro.\n",
        "\n",
        "    Argumentos:\n",
        "        registro (list): O registro a ser modificado.\n",
        "        indices (list): Lista de índices dos valores a serem modificados.\n",
        "        novos_valores (list): Lista de novos valores a serem atribuídos aos índices correspondentes.\n",
        "\n",
        "    Retorna:\n",
        "        list: O registro modificado.\n",
        "    \"\"\"\n",
        "    if len(indices) != len(novos_valores):\n",
        "        print(\"O número de índices e o número de novos valores devem ser iguais.\")\n",
        "        return registro\n",
        "\n",
        "    for i in range(len(indices)):\n",
        "        indice = indices[i]\n",
        "        novo_valor = novos_valores[i]\n",
        "        if indice < len(registro):\n",
        "            registro[indice] = novo_valor\n",
        "        else:\n",
        "            print(f\"A chave {indice} está fora do alcance do registro.\")\n",
        "    return registro\n",
        "\n",
        "# Exemplo de uso:\n",
        "registro_original = [1, \"Fernanda Costa\", \"07-07-1995\", \"456.789.012-34\", \"fernanda@yahoo.com\"]\n",
        "indices_modificar = [1, 4]\n",
        "novos_valores = [\"Fernanda Cruz\", \"fernanda@gmail.com\"]\n",
        "registro_modificado = modificar_valor_registro(registro_original, indices_modificar, novos_valores)\n",
        "print(\"Registro modificado:\", registro_modificado)"
      ],
      "metadata": {
        "colab": {
          "base_uri": "https://localhost:8080/"
        },
        "id": "1F-_oARa-Ife",
        "outputId": "3112daf9-7ee8-47af-e252-36cb5e8924cc"
      },
      "execution_count": 34,
      "outputs": [
        {
          "output_type": "stream",
          "name": "stdout",
          "text": [
            "Registro modificado: [1, 'Fernanda Cruz', '07-07-1995', '456.789.012-34', 'fernanda@gmail.com']\n"
          ]
        }
      ]
    },
    {
      "cell_type": "markdown",
      "source": [
        "QUESTÃO 12- Desenvolva uma função que modifique um registro dentro de uma lista de registros (banco de dados).\n",
        "\n",
        "Ela deve receber como parâmetros a lista com todos os registros (banco de dados), a posição que deverá ser modificada e uma lista com o novo valor do registro que deverá ser alterado.\n",
        "\n",
        "O retorno deve ser a lista de registros, com o valor modificado."
      ],
      "metadata": {
        "id": "qbo1_sDZCW5e"
      }
    },
    {
      "cell_type": "code",
      "source": [
        "def modificar_registro(banco_de_dados, posicao, novo_registro):\n",
        "    \"\"\"\n",
        "    Modifica um registro dentro de uma lista de registros.\n",
        "\n",
        "    Argumentos:\n",
        "        banco_de_dados (list): Lista contendo todos os registros (banco de dados).\n",
        "        posicao (int): A posição do registro a ser modificado.\n",
        "        novo_registro (list): O novo registro que será atribuído à posição especificada.\n",
        "\n",
        "    Retorna:\n",
        "        list: A lista de registros atualizada com o valor modificado.\n",
        "    \"\"\"\n",
        "    if posicao < 0 or posicao >= len(banco_de_dados):\n",
        "        print(\"Posição inválida.\")\n",
        "        return banco_de_dados\n",
        "\n",
        "    banco_de_dados[posicao] = novo_registro\n",
        "    return banco_de_dados\n",
        "\n",
        "def imprimir_banco_de_dados(banco_de_dados):\n",
        "    \"\"\"\n",
        "    Imprime o banco de dados em formato de lista, com cada registro em uma linha.\n",
        "\n",
        "    Argumentos:\n",
        "        banco_de_dados (list): Lista contendo todos os registros (banco de dados).\n",
        "    \"\"\"\n",
        "    print(\"Banco de dados modificado:\")\n",
        "    for registro in banco_de_dados:\n",
        "        print(registro)\n",
        "\n",
        "# Exemplo de uso:\n",
        "banco_de_dados = [\n",
        "    [1, \"João Silva\", \"joao@gmail.com\"],\n",
        "    [2, \"Maria Oliveira\", \"maria@hotmail.com\"],\n",
        "    [3, \"Pedro Santos\", \"pedro@yahoo.com\"]\n",
        "]\n",
        "nova_informacao = [3, \"Pedro Almeida\", \"pedro.almeida@hotmail.com\"]\n",
        "banco_de_dados_modificado = modificar_registro(banco_de_dados, 2, nova_informacao)\n",
        "imprimir_banco_de_dados(banco_de_dados_modificado)\n"
      ],
      "metadata": {
        "colab": {
          "base_uri": "https://localhost:8080/"
        },
        "id": "bw3vePgPB9Af",
        "outputId": "e840f2bc-9c62-4601-95c1-68b025b29861"
      },
      "execution_count": 42,
      "outputs": [
        {
          "output_type": "stream",
          "name": "stdout",
          "text": [
            "Banco de dados modificado:\n",
            "[1, 'João Silva', 'joao@gmail.com']\n",
            "[2, 'Maria Oliveira', 'maria@hotmail.com']\n",
            "[3, 'Pedro Almeida', 'pedro.almeida@hotmail.com']\n"
          ]
        }
      ]
    },
    {
      "cell_type": "markdown",
      "source": [
        "QUESTÃO 13 - Desenvolva um script que seja capaz de realizar as seguintes ações:\n",
        "Inicialize um vetor para salvar vetores de registros.\n",
        "\n",
        "Exiba uma lista de opções para o usuário, utilizando a função desenvolvida na questão 1.\n",
        "\n",
        "Execute o programa de forma indefinida, até que a opção de sair seja escolhida."
      ],
      "metadata": {
        "id": "nhKfeyZUFGDu"
      }
    },
    {
      "cell_type": "code",
      "source": [
        "def menu():\n",
        "    print(\"\\n\\nBem-vindo ao sistema de registros!\")\n",
        "    print(\"\\nEscolha uma opção:\")\n",
        "    print(\"1. Criar um registro\")\n",
        "    print(\"2. Consultar um registro pelo ID\")\n",
        "    print(\"3. Listar os registros\")\n",
        "    print(\"4. Modificar um registro\")\n",
        "    print(\"5. Apagar um registro\")\n",
        "    print(\"6. Sair\")\n",
        "    opcao = input(\"Digite o número da opção desejada: \")\n",
        "    return opcao\n",
        "\n",
        "def cadastrar_registro(registros):\n",
        "    novo_registro = []\n",
        "    print(\"\\nCadastro de novo registro:\")\n",
        "    id_novo = str(len(registros) + 1)  # Gera o ID automaticamente\n",
        "    nome = input(\"Digite o nome: \")\n",
        "    idade = input(\"Digite a idade: \")\n",
        "    novo_registro.append(id_novo)\n",
        "    novo_registro.append(nome)\n",
        "    novo_registro.append(idade)\n",
        "    registros.append(novo_registro)\n",
        "    print(\"Registro adicionado com sucesso!\")\n",
        "\n",
        "def consultar_registro(registros):\n",
        "    id_consulta = input(\"\\nDigite o ID do registro que deseja consultar: \")\n",
        "    for registro in registros:\n",
        "        if registro[0] == id_consulta:\n",
        "            print(\"\\nRegistro encontrado:\")\n",
        "            print(\"ID:\", registro[0])\n",
        "            print(\"Nome:\", registro[1])\n",
        "            print(\"Idade:\", registro[2])\n",
        "            return\n",
        "    print(\"\\nRegistro não encontrado.\")\n",
        "\n",
        "def listar_registros(registros):\n",
        "    print(\"\\nLista de registros:\")\n",
        "    for registro in registros:\n",
        "        if len(registro) >= 3:\n",
        "            print(\"ID:\", registro[0])\n",
        "            print(\"Nome:\", registro[1])\n",
        "            print(\"Idade:\", registro[2])\n",
        "        else:\n",
        "            print(\"Registro incompleto:\", registro)\n",
        "\n",
        "def modificar_registro(registros):\n",
        "    id_modificar = input(\"\\nDigite o ID do registro que deseja modificar: \")\n",
        "    for registro in registros:\n",
        "        if registro[0] == id_modificar:\n",
        "            print(\"\\nRegistro encontrado:\")\n",
        "            print(\"ID:\", registro[0])\n",
        "            print(\"Nome:\", registro[1])\n",
        "            print(\"Idade:\", registro[2])\n",
        "            novo_nome = input(\"Digite o novo nome: \")\n",
        "            novo_idade = input(\"Digite a nova idade: \")\n",
        "            registro[1] = novo_nome\n",
        "            registro[2] = novo_idade\n",
        "            print(\"Registro modificado com sucesso!\")\n",
        "            return\n",
        "    print(\"\\nRegistro não encontrado.\")\n",
        "\n",
        "def apagar_registro(registros):\n",
        "    id_apagar = input(\"\\nDigite o ID do registro que deseja apagar: \")\n",
        "    for registro in registros:\n",
        "        if registro[0] == id_apagar:\n",
        "            registros.remove(registro)\n",
        "            print(\"Registro apagado com sucesso!\")\n",
        "            return\n",
        "    print(\"\\nRegistro não encontrado.\")\n",
        "\n",
        "# Inicializar vetor para salvar registros\n",
        "registros = []\n",
        "\n",
        "# Executar programa de forma indefinida\n",
        "while True:\n",
        "    opcao = menu()\n",
        "    if opcao == \"1\":\n",
        "        cadastrar_registro(registros)\n",
        "    elif opcao == \"2\":\n",
        "        consultar_registro(registros)\n",
        "    elif opcao == \"3\":\n",
        "        listar_registros(registros)\n",
        "    elif opcao == \"4\":\n",
        "        modificar_registro(registros)\n",
        "    elif opcao == \"5\":\n",
        "        apagar_registro(registros)\n",
        "    elif opcao == \"6\":\n",
        "        print(\"Saindo do programa... Obrigada por usar esse sistema!\")\n",
        "        break\n",
        "    else:\n",
        "        print(\"Opção inválida! Por favor, escolha uma opção válida.\")"
      ],
      "metadata": {
        "id": "5lH7AAGKFZ2s"
      },
      "execution_count": null,
      "outputs": []
    }
  ]
}