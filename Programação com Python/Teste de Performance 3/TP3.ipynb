{
  "nbformat": 4,
  "nbformat_minor": 0,
  "metadata": {
    "colab": {
      "provenance": []
    },
    "kernelspec": {
      "name": "python3",
      "display_name": "Python 3"
    },
    "language_info": {
      "name": "python"
    }
  },
  "cells": [
    {
      "cell_type": "markdown",
      "source": [
        "Questão 1 - Construa uma função que solicite ao usuário a inserir nome e sobrenome e retorne em um vetor com duas posições e com as iniciais em maiúsculo."
      ],
      "metadata": {
        "id": "Ut0H2HoP40jH"
      }
    },
    {
      "cell_type": "code",
      "execution_count": null,
      "metadata": {
        "id": "BpG4PkKF36zz"
      },
      "outputs": [],
      "source": [
        "def solicitar_nome_sobrenome():\n",
        "    \"\"\"\n",
        "      Solicita ao usuário que insira seu nome e sobrenome e retorna as iniciais de cada um.\n",
        "    \"\"\"\n",
        "    nome = input(\"Por favor, insira seu nome: \").strip().capitalize() #Remove possível espaços extras e padroniza a estrutura da palavra colocando a inicial maíuscula e o restante minusculo\n",
        "    sobrenome = input(\"Agora, insira seu sobrenome: \").strip().capitalize()\n",
        "    return [nome[0], sobrenome[0]]\n",
        "\n",
        "iniciais = solicitar_nome_sobrenome()\n",
        "print(\"Iniciais:\", iniciais[0],iniciais[1])"
      ]
    },
    {
      "cell_type": "markdown",
      "source": [
        "Questão 2 - Construa uma função que receba como entrada um endereço de email e retorne o valor booleano verdadeiro para o caso de um email válido ou falso para um endereço inválido.\n",
        "\n",
        "Para avaliar a validade, ele deverá ter a seguinte estrutura: nome@server.com , sendo que nome poderá ser qualquer estrutura composta apenas por letras, não sendo permitido o uso de caracteres especiais, enquanto que server.com poderá ser qualquer valor com estrutura separada por ponto."
      ],
      "metadata": {
        "id": "BK7tWK2I45j_"
      }
    },
    {
      "cell_type": "code",
      "source": [
        "import re\n",
        "\n",
        "def validar_email(email):\n",
        "    \"\"\"\n",
        "      Verifica se um endereço de e-mail está em um formato válido.\n",
        "    \"\"\"\n",
        "\n",
        "    # Expressão para validar o formato do e-mail\n",
        "    padrao = r'^[a-zA-Z]+@[a-zA-Z]+\\.[a-zA-Z]+$'\n",
        "    # Verifica se o e-mail corresponde ao padrão\n",
        "    if re.match(padrao, email):\n",
        "        return True\n",
        "    else:\n",
        "        return False\n",
        "\n",
        "endereco_email = input(\"Digite o endereço de email: \")\n",
        "if validar_email(endereco_email):\n",
        "    print(\"O endereço de email é válido.\")\n",
        "else:\n",
        "    print(\"O endereço de email é inválido.\")\n"
      ],
      "metadata": {
        "id": "MPK9T1Bd3-w0"
      },
      "execution_count": null,
      "outputs": []
    },
    {
      "cell_type": "markdown",
      "source": [
        "Questão 3 - Construa uma função que solicite um endereço de email e retorne esse valor apenas se o endereço for válido.\n",
        " Para o caso do valor informado ser inválido, deverá ser apresentada duas opções ao usuário: tentar novamente ou cancelar. Para o caso de cancelamento, a função deverá retornar o valor False."
      ],
      "metadata": {
        "id": "1g9r-pB35edW"
      }
    },
    {
      "cell_type": "code",
      "source": [
        "import re\n",
        "\n",
        "def validar_email(email):\n",
        "    \"\"\"\n",
        "      Verifica se um endereço de email é válido. Caso o email não seja válido será notificado e também será exibido a possibilidade do usuário preencher novamente ou cancelar a operação.\n",
        "    \"\"\"\n",
        "\n",
        "    padrao = r'^[a-zA-Z]+@[a-zA-Z]+\\.[a-zA-Z]+$'\n",
        "    return bool(re.match(padrao, email))\n",
        "\n",
        "def solicitar_email_valido():\n",
        "    while True:\n",
        "        endereco_email = input(\"Digite o endereço de email: \")\n",
        "        if validar_email(endereco_email): #chama a função de validar, caso esteja ok, retorna o email\n",
        "            return endereco_email\n",
        "        else:\n",
        "            opcao = input(\"O endereço de email inserido não é válido. Deseja tentar novamente? (sim/não): \") #caso o email não seja válido, dá a opção do usuário preencher corretamente ou cancelar a execução\n",
        "            if opcao.lower() != 'sim':\n",
        "                return False\n",
        "\n",
        "endereco_valido = solicitar_email_valido()\n",
        "if endereco_valido:\n",
        "    print(\"O endereço de email inserido é:\", endereco_valido)\n",
        "else:\n",
        "    print(\"Operação cancelada.\")\n"
      ],
      "metadata": {
        "id": "f_ezffNO5VOS"
      },
      "execution_count": null,
      "outputs": []
    },
    {
      "cell_type": "markdown",
      "source": [
        "Questão 4 - Construa uma função que realize uma busca por nome ou sobrenome em um vetor de vetores de nomes que tenha a estrutura apresentada na questão 1.\n",
        "\n",
        "A função deve receber como passagem o vetor onde são armazenados os vetores de nome, o nome a ser buscado e uma opção de busca por sobrenome, cujo valor padrão seja sobrenome=False.\n",
        "\n",
        "O retorno deve ser um vetor contendo os índices de todas as posições onde os valores foram encontrados"
      ],
      "metadata": {
        "id": "_rBM_4T08GcG"
      }
    },
    {
      "cell_type": "code",
      "source": [
        "def buscar_nome_sobrenome(vetor_de_nomes, nome_ou_sobrenome, sobrenome=False):\n",
        "    \"\"\"\n",
        "      Busca por nome ou sobrenome em uma lista de listas de nomes e retorna o índice dessa palavra (se a palavra repetir, mostra todos os índices).\n",
        "    \"\"\"\n",
        "    indices_encontrados = []\n",
        "\n",
        "    for indice, vetor in enumerate(vetor_de_nomes):\n",
        "        if sobrenome:\n",
        "            if nome_ou_sobrenome.capitalize() in vetor[0] or nome_ou_sobrenome.capitalize() in vetor[1]:\n",
        "                indices_encontrados.append(indice)\n",
        "        else:\n",
        "            if nome_ou_sobrenome.capitalize() in vetor[0] or nome_ou_sobrenome.capitalize() in vetor[1]:\n",
        "                indices_encontrados.append(indice)\n",
        "\n",
        "    return indices_encontrados\n",
        "\n",
        "lista_de_nomes = [[\"João\", \"Silva\"], [\"Maria\", \"Martins\"], [\"Gustavo\", \"Souza\"], [\"Maria\", \"Silva\"], [\"João\", \"Oliveira\"], [\"Ana\", \"Santos\"], [\"Pedro\", \"Costa\"], [\"Juliana\", \"Ferreira\"], [\"Lucas\", \"Gomes\"], [\"Ana\", \"Ribeiro\"], [\"Rafael\", \"Almeida\"], [\"Amanda\", \"Gomes\"], [\"Gustavo\", \"Martins\"]]\n",
        "nome_a_buscar = input(\"Digite o nome ou sobrenome a ser buscado: \")\n",
        "\n",
        "indices_encontrados = buscar_nome_sobrenome(lista_de_nomes, nome_a_buscar)\n",
        "\n",
        "if indices_encontrados:\n",
        "    print(\"O nome ou sobrenome foi encontrado nos seguintes índices:\", indices_encontrados)\n",
        "else:\n",
        "    print(\"O nome ou sobrenome não foi encontrado.\")\n"
      ],
      "metadata": {
        "id": "3SxXRtEEFEie"
      },
      "execution_count": null,
      "outputs": []
    },
    {
      "cell_type": "code",
      "source": [
        "def buscar_indice_nome(lista_nomes, termo_busca, buscar_termo=False):\n",
        "    \"\"\"\n",
        "      Busca por nome ou sobrenome em uma lista de listas de nomes e retorna o índice dessa palavra (se a palavra repetir, mostra todos os índices).\n",
        "    \"\"\"\n",
        "    indices_encontrados = [] #lista para guardar os indices encontrados do termo procurado\n",
        "\n",
        "    for i, nome_sobrenome in enumerate(lista_nomes):\n",
        "        nome, sobrenome = nome_sobrenome\n",
        "        if buscar_termo: #busca se o termo indicado existe na lista de nomes\n",
        "            if termo_busca.capitalize() in nome or termo_busca.capitalize() in sobrenome: #estrutura o termo indicado para busca e verifica se ele é um nome ou sobrenome existente na base\n",
        "                indices_encontrados.append(i) #adiciona o i na lista para exibir no resultado\n",
        "        else:\n",
        "            if termo_busca.capitalize() in nome or termo_busca.capitalize() in sobrenome:\n",
        "                indices_encontrados.append(i)\n",
        "\n",
        "    return indices_encontrados\n",
        "\n",
        "lista_de_nomes = [[\"João\", \"Silva\"], [\"Maria\", \"Martins\"], [\"Gustavo\", \"Souza\"], [\"Maria\", \"Silva\"], [\"João\", \"Oliveira\"], [\"Ana\", \"Santos\"], [\"Pedro\", \"Costa\"], [\"Juliana\", \"Ferreira\"], [\"Lucas\", \"Gomes\"], [\"Ana\", \"Ribeiro\"], [\"Rafael\", \"Almeida\"], [\"Amanda\", \"Gomes\"], [\"Gustavo\", \"Martins\"]]\n",
        "termo_busca = input(\"Digite o nome ou sobrenome a ser buscado: \")\n",
        "\n",
        "indices_encontrados = buscar_indice_nome(lista_de_nomes, termo_busca)\n",
        "\n",
        "if indices_encontrados:\n",
        "    print(\"O termo foi encontrado nos seguintes índices:\", indices_encontrados)\n",
        "else:\n",
        "    print(\"O termo não foi encontrado.\")\n"
      ],
      "metadata": {
        "colab": {
          "base_uri": "https://localhost:8080/"
        },
        "id": "dNVDZOXFcXAd",
        "outputId": "90566752-5352-48df-e5af-f347982838a0"
      },
      "execution_count": 40,
      "outputs": [
        {
          "output_type": "stream",
          "name": "stdout",
          "text": [
            "Digite o nome ou sobrenome a ser buscado: Silva\n",
            "O termo não foi encontrado.\n"
          ]
        }
      ]
    },
    {
      "cell_type": "markdown",
      "source": [
        "Questão 5 - Crie uma função que realize o cadastro do usuário, contendo o nome com sobrenome e email. A função receberá como parâmetro o vetor do banco de dados e devolve o vetor do banco de dados com o novo registro adicionado.\n",
        "\n",
        "Utilize a função desenvolvida na questão 1 para receber o nome e a função desenvolvida na questão 3 para receber o email."
      ],
      "metadata": {
        "id": "tjZEEgykHbOY"
      }
    },
    {
      "cell_type": "code",
      "source": [
        "import re\n",
        "\n",
        "def solicitar_nome_sobrenome():\n",
        "    nome = input(\"Por favor, insira seu nome: \").strip().capitalize()\n",
        "    sobrenome = input(\"Agora, insira seu sobrenome: \").strip().capitalize()\n",
        "    return [nome, sobrenome]\n",
        "\n",
        "def validar_email(email):\n",
        "    padrao = r'^[a-zA-Z]+@[a-zA-Z]+\\.[a-zA-Z]+$'\n",
        "    return bool(re.match(padrao, email))\n",
        "\n",
        "def solicitar_email_valido():\n",
        "    while True:\n",
        "        endereco_email = input(\"Digite o endereço de email: \")\n",
        "        if validar_email(endereco_email):\n",
        "            return endereco_email\n",
        "        else:\n",
        "            opcao = input(\"O endereço de email inserido não é válido. Deseja tentar novamente? (sim/não): \")\n",
        "            if opcao.lower() != 'sim':\n",
        "                return False\n",
        "\n",
        "def cadastro_usuario(banco_de_dados):\n",
        "    \"\"\"\n",
        "      Realiza o cadastro de novos usuários no banco de dados. E retorna inicialmente o índice desses cadastros no banco de dados, quando encerrado exibe todos os registros do banco.\n",
        "    \"\"\"\n",
        "    while True:\n",
        "        novo_usuario = {}\n",
        "        nome_sobrenome = solicitar_nome_sobrenome()\n",
        "        email = solicitar_email_valido()\n",
        "        if nome_sobrenome and email:\n",
        "            novo_usuario[\"Nome\"] = nome_sobrenome[0] + \" \" + nome_sobrenome[1]\n",
        "            novo_usuario[\"Email\"] = email\n",
        "            banco_de_dados.append(novo_usuario)\n",
        "            indice = len(banco_de_dados) - 1  # Índice do último registro adicionado\n",
        "            return banco_de_dados, indice\n",
        "        else:\n",
        "            opcao = input(\"Deseja tentar cadastrar novamente? (sim/não): \")\n",
        "            if opcao.lower() != 'sim':\n",
        "                print(\"Cadastro cancelado.\")\n",
        "                return banco_de_dados, None\n",
        "\n",
        "banco_de_dados = []\n",
        "\n",
        "while True:\n",
        "    banco_de_dados, indice = cadastro_usuario(banco_de_dados)\n",
        "    if indice is not None:\n",
        "        print(f\"Usuário cadastrado com sucesso na posição {indice} do banco de dados.\")\n",
        "    continuar = input(\"\\nDeseja cadastrar mais um usuário? (sim/não): \")\n",
        "    if continuar.lower() != 'sim':\n",
        "        break\n",
        "\n",
        "print(\"Banco de dados final:\", banco_de_dados)\n"
      ],
      "metadata": {
        "id": "ltqKJjbMF6mT"
      },
      "execution_count": null,
      "outputs": []
    },
    {
      "cell_type": "markdown",
      "source": [
        "Questão 6 - Crie uma função que permita que o usuário realize uma pesquisa no banco de dados através do nome ou do sobrenome.\n",
        "\n",
        "A função deve solicitar ao usuário os parâmetros da busca e se ele é um nome ou sobrenome, e imprimir todos os valores encontrados."
      ],
      "metadata": {
        "id": "9vOJbCLpMooL"
      }
    },
    {
      "cell_type": "code",
      "source": [
        "def pesquisar_usuario(banco_de_dados):\n",
        "    \"\"\"\n",
        "      Pesquisa usuários em um banco de dados com base no nome ou sobrenome, e retorna como está esse cadastro no banco de dados.\n",
        "    \"\"\"\n",
        "    tipo_busca = input(\"Você deseja buscar por nome ou sobrenome? (nome/sobrenome) \").lower()\n",
        "    termo_busca = input(\"Digite o termo de busca: \").strip().capitalize()\n",
        "    usuarios_encontrados = []\n",
        "\n",
        "    for usuario in banco_de_dados:\n",
        "        nome_sobrenome = usuario[\"Nome\"].split()\n",
        "        if tipo_busca == \"nome\" and termo_busca in nome_sobrenome[0]:\n",
        "            usuarios_encontrados.append(usuario)\n",
        "        elif tipo_busca == \"sobrenome\" and termo_busca in nome_sobrenome[1]:\n",
        "            usuarios_encontrados.append(usuario)\n",
        "\n",
        "    if usuarios_encontrados:\n",
        "        print(\"Usuários encontrados:\")\n",
        "        for usuario in usuarios_encontrados:\n",
        "            print(\"Nome:\", usuario[\"Nome\"])\n",
        "            print(\"Email:\", usuario[\"Email\"])\n",
        "    else:\n",
        "        print(\"Nenhum usuário encontrado com os critérios de busca.\")\n",
        "\n",
        "banco_de_dados = [\n",
        "    {\"Nome\": \"João Silva\", \"Email\": \"joao@example.com\"},\n",
        "    {\"Nome\": \"Maria Santos\", \"Email\": \"maria@example.com\"},\n",
        "    {\"Nome\": \"José Souza\", \"Email\": \"jose@example.com\"},\n",
        "    {\"Nome\": \"Maria Silva\", \"Email\": \"maria_silva@example.com\"}\n",
        "]\n",
        "\n",
        "pesquisar_usuario(banco_de_dados)"
      ],
      "metadata": {
        "id": "HZ9fqzmkIn4B"
      },
      "execution_count": null,
      "outputs": []
    },
    {
      "cell_type": "markdown",
      "source": [
        "# Jogo da Forca - Etapas presentes no desenvolvimento\n",
        "\n",
        "Crie um programa para o jogo Forca, seguindo os seguintes passos:\n",
        "\n",
        "\n",
        "*   Crie uma lista contendo nomes diversos, em diversas categorias, tais como frutas, carros, objetos, entre outros;\n",
        "\n",
        "*   Crie uma função que receba como parâmetro o vetor de nomes, de onde deverá ser escolhida aleatoriamente uma palavra. O retorno da função deve ser uma lista contendo os caracteres da palavra selecionada;\n",
        "\n",
        "*   Crie uma função que receba como parâmetro uma lista contendo a palavra a ser adivinhada (hidden), como retornada na questão 8, uma segunda lista, que conterá a palavra formada com os caracteres adivinhados pelo jogador (guess) e o caracter que foi sugerido pelo usuário. A função deve verificar a existência do caracter dentro da lista hidden e preencher a lista guess com o caracter sugerido, na posição correta, caso ele esteja contido na palavra. O retorno deve ser a lista guess, contendo as letras já adivinhas e um valor booleano, que indicará a existência da letra na palavra. O protótipo da função pode seguir o seguinte modelo:\n",
        "\n",
        "\n",
        "  def checa_letra(hidden, guess, letter)\n",
        "\n",
        "  return guess, is_letter\n",
        "\n",
        "\n",
        "*   Crie uma função que verifique se todas as posições da lista usada para receber as letras sugeridas pelo usuário já foram preenchidas. Como sugestão, a lista de sugestões pode ser preenchida com o valor None em todas as posições, devendo ter o mesmo tamanho da palavra que será adivinhada;\n",
        "\n",
        "*   Crie uma função para desenhar o enforcado, à medida que letras erradas são escolhidas. O limite será de 6 erros e a seguinte lista de caracteres poderá ser usada: [\"0\", \"/\", \"|\", \"\\\\\", \"/\", \" \\\\\"];\n",
        "\n",
        "*   Crie uma função que controle quais letras do alfabeto já foram escolhidas, e impeça que letras repetidas sejam contadas;\n",
        "\n",
        "*   Crie um fluxograma que descreva a estrutura do jogo;\n",
        "\n",
        "*   Com base no fluxograma da questão 13, crie a estrutura completa do jogo, utilizando as funções desenvolvidas ao longo da atividade, bem como criando as variáveis que serão utilizadas para controlar as ações do jogo;"
      ],
      "metadata": {
        "id": "RexB_cuWRJ0k"
      }
    },
    {
      "cell_type": "markdown",
      "source": [
        "Etapa 1 - Crie uma lista contendo nomes diversos, em diversas categorias, tais como frutas, carros, objetos, entre outros;"
      ],
      "metadata": {
        "id": "71TdBUR4QADs"
      }
    },
    {
      "cell_type": "code",
      "source": [
        "palavras = {\n",
        "    \"frutas\": [\"banana\", \"maçã\", \"abacaxi\", \"uva\", \"morango\", \"maracujá\", \"graviola\", \"goiaba\", \"jabuticaba\", \"carambola\", \"caju\", \"jaca\", \"manga\", \"kiwi\", \"melão\", \"melancia\", \"laranja\", \"pêssego\", \"limão\", \"coco\", \"guanará\"],\n",
        "    \"carros\": [\"fiat\", \"chevrolet\", \"volkswagen\", \"ford\", \"honda\", \"audi\", \"byd\", \"bmw\", \"bentley\", \"citroen\", \"hyundai\", \"jaguar\", \"kia\", \"jeep\", \"lamborghini\", \"maserati\", \"lexus\", \"renault\", \"mitsubishi\", \"nissan\", \"peugeot\", \"porsche\", \"toyota\", \"rolls royce\", \"suzuki\", \"volvo\"],\n",
        "    \"objetos\": [\"computador\", \"telefone\", \"cadeira\", \"mesa\", \"copo\", \"medalha\", \"piano\", \"troféu\", \"microfone\", \"sapatilha\", \"saxofone\", \"guitarra\", \"patinete\", \"foguete\", \"carrosel\", \"bússola\", \"chave de fenda\", \"bactéria\", \"termômetro\", \"estetoscópio\"]\n",
        "}\n"
      ],
      "metadata": {
        "id": "veQLEDt3OEty"
      },
      "execution_count": 28,
      "outputs": []
    },
    {
      "cell_type": "markdown",
      "source": [
        "Eatapa 2 - Crie uma função que receba como parâmetro o vetor de nomes, de onde deverá ser escolhida aleatoriamente uma palavra. O retorno da função deve ser uma lista contendo os caracteres da palavra selecionada;"
      ],
      "metadata": {
        "id": "bEa0vREdUtbt"
      }
    },
    {
      "cell_type": "code",
      "source": [
        "import random\n",
        "\n",
        "def escolher_palavra_aleatoria(categoria):\n",
        "    \"\"\"\n",
        "       Escolhe aleatoriamente uma palavra de uma categoria específica.\n",
        "    \"\"\"\n",
        "    lista_palavras = palavras[categoria]\n",
        "    return random.choice(lista_palavras)\n"
      ],
      "metadata": {
        "id": "sXHEJYLmUxos"
      },
      "execution_count": 29,
      "outputs": []
    },
    {
      "cell_type": "markdown",
      "source": [
        "Etapa 3 - Crie uma função que receba como parâmetro uma lista contendo a palavra a ser adivinhada (hidden), como retornada na questão 8, uma segunda lista, que conterá a palavra formada com os caracteres adivinhados pelo jogador (guess) e o caracter que foi sugerido pelo usuário. A função deve verificar a existência do caracter dentro da lista hidden e preencher a lista guess com o caracter sugerido, na posição correta, caso ele esteja contido na palavra. O retorno deve ser a lista guess, contendo as letras já adivinhas e um valor booleano, que indicará a existência da letra na palavra. O protótipo da função pode seguir o seguinte modelo:\n",
        "\n",
        "def checa_letra(hidden, guess, letter)\n",
        "\n",
        "return guess, is_letter"
      ],
      "metadata": {
        "id": "WATbs8VUVI_c"
      }
    },
    {
      "cell_type": "code",
      "source": [
        "def checa_letra(hidden, guess, letter):\n",
        "    \"\"\"\n",
        "      Verifica se a letra sugerida pelo jogador está presente na palavra escondida.\n",
        "    \"\"\"\n",
        "    is_letter = False\n",
        "    for i in range(len(hidden)):\n",
        "        if hidden[i] == letter:\n",
        "            guess[i] = letter\n",
        "            is_letter = True\n",
        "    return guess, is_letter"
      ],
      "metadata": {
        "id": "9NezcRRFVHwq"
      },
      "execution_count": 30,
      "outputs": []
    },
    {
      "cell_type": "markdown",
      "source": [
        "Etapa 4 - Crie uma função que verifique se todas as posições da lista usada para receber as letras sugeridas pelo usuário já foram preenchidas. Como sugestão, a lista de sugestões pode ser preenchida com o valor None em todas as posições, devendo ter o mesmo tamanho da palavra que será adivinhada;"
      ],
      "metadata": {
        "id": "OQm7qr4oVSqt"
      }
    },
    {
      "cell_type": "code",
      "source": [
        "def verificar_fim_jogo(guess):\n",
        "    \"\"\"\n",
        "      Verifica se todas as posições da lista (de letras que compõe a palavra) de sugestões já foram preenchidas.\n",
        "    \"\"\"\n",
        "    return all(letra is not None for letra in guess)\n"
      ],
      "metadata": {
        "id": "ehkqE-doVRGk"
      },
      "execution_count": 31,
      "outputs": []
    },
    {
      "cell_type": "markdown",
      "source": [
        "Etapa 5 - Crie uma função para desenhar o enforcado, à medida que letras erradas são escolhidas. O limite será de 6 erros e a seguinte lista de caracteres poderá ser usada: [\"0\", \"/\", \"|\", \"\\\", \"/\", \" \\\"];"
      ],
      "metadata": {
        "id": "RhHqybefVkDt"
      }
    },
    {
      "cell_type": "code",
      "source": [
        "def desenhar_enforcado(erros):\n",
        "    \"\"\"\n",
        "      Preenche uma parte do corpo quando o usuário erra uma letra, montando o boneco da forca.\n",
        "    \"\"\"\n",
        "    partes_enforcado = [\"0\", \"/\", \"|\", \"\\\\\", \"/\", \" \\\\\"]\n",
        "    print(\"    _______\")\n",
        "    print(\"   |       |\")\n",
        "    print(\"   |       \" + (\"O\" if erros > 0 else \"\"))\n",
        "    print(\"   |      \" + (\"/\" if erros > 1 else \"\") + (\"|\" if erros > 2 else \"\") + (\"\\\\\" if erros > 3 else \"\"))\n",
        "    print(\"   |      \" + (\"/\" if erros > 4 else \"\") + (\" \\\\\" if erros > 5 else \"\"))\n",
        "    print(\"__|__\")\n"
      ],
      "metadata": {
        "id": "ER_xyMGBVocQ"
      },
      "execution_count": 32,
      "outputs": []
    },
    {
      "cell_type": "markdown",
      "source": [
        "Etapa 6 - Crie uma função que controle quais letras do alfabeto já foram escolhidas, e impeça que letras repetidas sejam contadas;\n"
      ],
      "metadata": {
        "id": "lEBBgq-6V6Wl"
      }
    },
    {
      "cell_type": "code",
      "source": [
        "def controlar_letras_escolhidas(letras_escolhidas, letra):\n",
        "    \"\"\"\n",
        "      Verifica se a letra já está presente no conjunto de letras escolhidas. Se a letra ainda não foi escolhida, ela é adicionada ao conjunto.\n",
        "    \"\"\"\n",
        "    if letra not in letras_escolhidas:\n",
        "        letras_escolhidas.add(letra)\n",
        "        return True\n",
        "    else:\n",
        "        print(\"Você já escolheu essa letra. Escolha outra.\")\n",
        "        return False\n"
      ],
      "metadata": {
        "id": "2kQMWNHbV1NR"
      },
      "execution_count": 33,
      "outputs": []
    },
    {
      "cell_type": "markdown",
      "source": [
        "# Fluxograma de como deve ser o fluxo do jogo"
      ],
      "metadata": {
        "id": "VXIrq0DYucNz"
      }
    },
    {
      "cell_type": "markdown",
      "source": [
        "![image.png](data:image/png;base64,iVBORw0KGgoAAAANSUhEUgAABCAAAAEQCAYAAABhrgVvAAAAAXNSR0IArs4c6QAAAARnQU1BAACxjwv8YQUAAAAJcEhZcwAAEnQAABJ0Ad5mH3gAAGsDSURBVHhe7d0HnFTV2cfxZ9kG7FIWsKBiN1Y0lhg1RAWxRY0NURRR0WgsKGLLqxFNojGiYgFNoqJiQ8WCGqNRBEVjxa6xK6jYgWUpW9jy7u9wD16G2T4ze+/w/+5nPjtzZubO3Jk7597z3Oeck1NWVlZnzVBRUWHV1dVWXFwclMRXVVWV5eXlWYcOHYKSeKqrq3PrUlhYGJTEV01NjdXW1lp+fn5QEl/Zsn3xfZSWllqPHj2Ckvii7gLfS9yp/oqebNq++M2zn4/7umj7iibVX9FTXl7u9vdFRUVBSXxp+4qebKq/KisrraCgwHJycoKSeKLNVd/+t5KSkqAk8+L9CxURERERERGRWFAAQkRERERERETSTgEIEREREREREUk7BSBEREREREREJO0UgBARERERERGRtFMAQkRERERERETSTgEIEREREREREUk7BSBEREREREREJO0UgBARERERERGRtFMAQkRERERERETSTgEIEREREREREUk7BSBEREREREREJO0UgBARERERERGRtFMAQkRERERERETSTgEIEREREREREUk7BSBEREREREREJO0UgBARERERERGRtFMAQkRERERERETSTgEIEREREREREUk7BSBEREREREREJO0UgBARERERERGRtFMAQkRERERERETSTgEIEREREREREUm7nNLS0rrgeqOqqqqspqbGOnXqFJTE19KlSy03N9c6dIh3/KWurs6qq6stPz8/KImv2tpad8nLywtK4itbti++j8WLF1uXLl2Ckvii7gLfS9yp/oqebNq+Fi1a5PbzcV8XbV/RpPoreiorK936dOzYMSiJL21f0ZNt9RftlJycnKAknqJwfJ/z448/NisAwZvlB5ENGxDrEfeNx+N7iXtFC74TZMP3kk3bF5VtNuwAtX1Fk+qv6OGgl/18NqyLtq/oUf0VPTq+jybVX9GTTd8JgaH2POmbU1ZWtmzLaEJFRYU7MCkuLg5K4otsDj70uG9EbECsS2FhYVASX/wQ+GFnQ2M3W7Yvvo/S0lLr0aNHUBJf1F3Ihgwb1V/Rk03bF7959vNxXxdtX9Gk+it6ysvL3f6+qKgoKIkvbV/Rk031F9lCBQUFsQ+m0Oaqb/9bSUlJUJJ58f6FioiIiIiIiEgsKAAhIiIiIiIiImmnAISIiIiIiIiIpJ3GgIgxjQERTdmyfWkMiGhS/RU9GgMierJ9+3rmmWfs66+/tnnz5gUl8cC+nrorGwakY12yYeBGti/29/RtbyuOF9Zaay3bfffdg5LM0v4xerJp/6gxIFJHAYgYUwAimrJl+1IAIppUf0VPNm1fCkBET+L2tdtuu7nAgy8XiQoaZgRl1lhjDZs6dWpQmjlt3T/OnTvXBfYYmLM9UX/x+9Y0nCtaffXVXYArFcGy1lAAInUUgIgxBSCiKVu2LwUgokn1V/Rk0/alAET0hLevAQMGuAaSSNRtvfXWdt999wW3MqMt+8fBgwfb22+/bZ07d86KujwbMTU83+2FF15oBx10UFCaOQpApI4CEDGmAEQ0Zcv2pQBENKn+ih4FIKInG7evxx57zC644ILlt0WirFOnTnbVVVe5oFmmtHb/uNNOO7m6T+KB7/iKK66wfffdNyjJDAUgUifeR7AiIiIiqwBS2hV8kLhgW/3yyy+DW9E1duxYW7BgQXBL4oBt66KLLnIBAYknBSBEREREIu67774LrolEH1lICxcuDG5FF90ueK8SL2Tmz5kzJ7glcaMAhIiIiIiIrHLiNpOMLEM3jB9//DG4JXGjAISIiIiIiIiIpJ0CECIiIiIiIiKSdgpAiIiIiIiIiEjaKQAhIiIiIiIiImmnAISIiIiIiIiIpJ0CECIiIiLSqLvvvttNe3fttdcGJWZbbbWV3X///TZ79mz78ssv7d///rcr4z+P5fK///3P9thjj+VlX331lb355pt27LHH2h//+Mflj/OXm2++2S37wAMPtA8++MA9tl+/fq7shBNOsM8++8yee+45+9nPfubKWK5/Tvh1ee4FF1xgRUVF7r4BAwbY1KlT3fvk/T7xxBO23Xbbufs83o9/v2C5L774om299dbL3+tjjz22fJnjx49f4T0j2efk8f7ff/99999j2byGf99cnzx58vLb/sLrJ/sMvb/97W/uvgceeCAoERGJJgUgRERERKRBO+64o2288cb2ySefuADDWmut5crPO+8822KLLeyyyy6zM8880zXq3333XXcfDe1hw4bZySefbG+99dbyshEjRrg5/AcPHmz33HOPe8z06dNd45n7rrvuOvfYnXfe2ZYsWeKub7vttu4/6urqbN1117UjjzwyKFmRf93//Oc/dtxxx9nxxx/vghWjR4+2bt262TnnnGN//etfrU+fPnb++ecvDyY0R21tra299tru/fB5sO5Lly4N7m34c2oOPgPe91lnnWVXXnmlu866+PXhs0LiZwhe5xe/+IV7XdaL9yEiElUKQIiIiIhIg375y19aQUGByyDo1auXa+zSyKUBzpn4f/zjHy4TwgcPUFVVZU8//bQ9++yzy+frp+y9996z8vJy15inwcxjaEzX1NS422+//fbyBvUbb7zhAhMEI7yysjK3jL333ttlDyTyr3vrrbe6191tt91s8803tzXXXNOV05D/5z//aa+88ooLFoSDG02ZN2+eC4DwnC233NI6d+5s3377bXBv8s+pufgMeH8vvPCCvfzyy+466+LXh88GiZ8heB1ej9fl9XkfIiJRpQCEiIiIiDSIYMPcuXPtmWeeserqahcQ6NKli3Xq1Gl5lkKibbbZxgUPfBcGX8aZ/u7du9u4ceNcWTI77LCDrbbaai648c4779imm266wll9Mi1KSkoazIIAjXOCBbxHlkXDfNGiRcG95gIelBUWFgYlTWNdv/nmG7cefAZ8JvPnzw/uTf45Nde+++7rPi+6WTQm2WdIwIFMDF6X12/J64qIZJoCECIiIiKSFOMkbLbZZu5C9gCZBJTRcOcsfG5ubvDIFfmuA3Qp+PTTT5eXkSmRk5Pjbjdkp512sh49etgf/vAHO/roo61nz562/fbbB/eaywB49dVXbeDAgS4QkkzHjh1dgKG0tNR++OEHlzlQXFwc3GvufVNWWVkZlDQPGRqbbLKJez8ERwhyoKHPqbndMHwXDLqKNCbxM2T5BGx69+7tXpfX5/0ljm8hIhIVCkCIiIiISFI0ZGm4X3311a6BfMcdd7hxBhg74fPPP3dn/U866STXJWLIkCHBs36Sn5/vshBAg3/ixInubD2BhWTjL1DGWX6CDLzeaaed5ro57LLLLsEjlpk0aZILgqy//vpByTIEHXgvp59+ussSmDZtmgtWfPHFF25wySOOOMK9X9433Rro5uGRPcDz99xzTzv44INdF5OFCxcu70ICBqlcY4013GdAdofX0OdEcCCMwAEBFd4L6+Q/G4/Xb2xcisTPkEAI41Lwerwur09QRt0wRCSqFIAQERERkaTIRiBL4KWXXnJjEdDophHNOAgM5sisEszQwEwQgwYNCp5lbtyF22+/3f7+97+7gIL3+uuvu5kkGLfg8MMPD0p/QqN8gw02cLNY8HoPPfSQm/mCM/vrrLNO8KhlM14wVkKHDiseyvK6EyZMcINAMiYF7+vrr792s0QsWLDArrjiCjf4JMEH3v/ixYuDZ5p7vyyX9+XHs7jqqqvc8z3ey3fffecuBEm8hj4nysMIMBAc4bVYtl+n/v37Ly/baKONXFlDwp/h0KFDXZCH7iq87owZM9w68TlefPHFLviibIj0OuOMM1xmDF1oPvroIxs1atRK5WxvbFMEl/zMJ2xLfkYUvn8e62dhCc8Qw3PZfsH2mdhNJ/xYLjfddJNbTrjMd4Ui8Pbaa6/Zxx9/7IJx8O+H12F7Asv0zwkvf9asWS7452ehSZwJhzFMCAAm09gMMbJqySkrK1uWO9YEBsehP1s4fS2uiB7n5eWttNOKG9L+WJeW9F+MKvpi0l+TnWjcZcv2xfdB6ippsHFH3QW+l7hT/RU92bR98ZtnPx/3dcnG7YvxDmigiDQXU3IyZgVZJJlGHfL73/8+o6/dmv3jb3/7Wxc0aC2eP2bMGJdJc9ttt7kGOQOcMlPLRRdd5Br7lP/mN7+xAw44wAXkmKGFgVDJXCHARqDi7LPPtlNOOcUFj0aOHOnG8SAYwAwzBCTIdOGzZBYXsDyPAIF/LFO0MlArA6QS/GImGAZkZepaZqMZPny4mxmGY7wnn3zSdXMiyODfD3XMiSee6B633377uWwh1tEvn65NBNBYX2a+YX3IFCK4wv6D906bkWWEP1cCH0xbS7ct6jSyd8KBvZZi/Rj8luVmCgFGAohNdSGLlPrvOfflly3/3nstd9o0y/nuO8uh21l9ef2K8EO1um7drLZvX1s6aJBVH3KI1TWSgZUq8T6CFRERERGRlRx66KHtEnxYlZBpAsbfILBABguN/b71DToa+b6cIMD333+/QkYMY6P46VrJUiGLwAccwfMJKNCQp6tOY5kx/rFkwZD1wuwzdCkiGMt/MhMIbhDYIAuBAAIZNOExSvzMMOHghueX72eQ4X0feOCBLlvJz4TDujJALIGMxKybtswQI62TP2mSFdd/F5333tvyb7nFOsyaZTnl5cuCD2D8mqVLLefHHy13+nTreOqpVty7t3U84QTLaWBw4VRRAEJERERERKSFaEzTOA/PsILEcq4TDAiP+cEYKl27drUBAwbYeuutt1KGE5kcNPDp7kRWA92SGtKtWzfXhSfcrSMRQQEGKGXwVIIGjGUSDgTQpYggA10zGstI9jPI8JqsT3gmHAIoDPCamDFPpkJrZ4iRlulQvx0VbbmldTzpJMsJdTFrrvz77rPiddaxArrKEKRIAwUgREREREREWogBSgkUJHZb8+W+Ic51UvfpguCREUFaPwEI0PgPYzDRP/3pTy6b4t5777Xnn38+uGdlDJbK2CZ0ryDjIhmyEJiSlu4PdL1gkNbwYKUMbEq3HbqPbFnfgG0I3R9YD9aR/9z2+BwIUIQDMgQ+2jJDjDRf/q23WtGvf20dvvwyKGml6morvPBC63zAAYzDEBSmjgIQIiIiIiIiLUQ2AYEFGvUMvjh48GDXzYIuDyCbgHLGYlh99dXdIKUejXRmZ2E6WbpfzJ8/P7hnGQZNZWYTBnxk/AWP7APGheBCl4kwAh0NjX3DOBLMKEO3HJZLxgOztBCU8B5++GHX5SNxbAWWy4CpF1xwgbuPLhzMxsJglz//+c/deB+s6z777OO6eDBQqkewoTkzxEgbVFVZp8MOs45nnJHSrIXcGTOseJNNrEP995xKCkCIiIiIrMLCI+s3Nap9eGR/RsQPN4wYqZ9yzqJ6rR1BP/y88AwCHo+jMcdZY+5nxgdSz0lB989jBgyEX4fH8zo0EnkNP+sAeHyykf+5cNvzswb45XMGm77trAOvQT943weehtaNN97o0u1ZDp/dIYcc4u6jIZfpGQn88v0y/HKlde666y43yCTf5S233GJ//vOfXVDgkUcecQM0kklA+b777usGnLzhhhuCZy5DQ53uGeEGe1P8DDNc/HZDtgSzuoTLwviOeS9857wPxoogiEC2A8vzGBhyypQpK4xFAb98AilMbUtmBi6//HL3G/q///s/N8MMA1BSJ4QHoOS31pwZYqT1Cq6/3vIayHxpq5wFC6wTMxbV1AQlbadZMGJMs2BEU7ZsX3wfmgUjelR/RU82bV+aBSN6/PaVzlkwfPDhsMMOc2c1GxrVftddd3UNDRoQnMUsKSlxDXpSw0mnpoxth37hnGVlsDoazK0ZQZ8zyeFZADhbOmLECNeAAYPh0X+doAep5DS6aewzmwAD/s2cOdN++OEHlyZOAIC+9LwOjXbO+NII4z3wufrlElCgkZY48j/ryPIJCoDGHK/PGWRmQGD5BEcYgJB+8azj+++/b8ccc4ybcnD33Xd374kGGGeRacARIOB1Mz0jgV8+AyDynkihZ3aE8HSkqcB2sCrMgiHtQ7Ng/CTv2WetE10l0qymXz9bkjAFbGspA0JEREREXOO7sVHtOdNPw5YGLv3Mud/3SycYwMB7ZAJwkB7uW04Dm0Z8S0fQ53mckSWIQFCJ2x4NawbwYxmchfb93nkcg90RUKABz/vijPSjjz7qXp/H3Xnnnc1qcPv3zbJ88CERZ4/p085jWAe/jrzmkCFD3ACC3L700kvdYwjwEHxAe81IAD4/3g9ZEqkOPohIhtTUWMckGS/pkFtf1+c9/nhwq20UgBARERERl2bd2Kj2ZBpwlpm0bdKuaTz77AkCDgxixyj3BAAaGuW+JSPo8xjS2+mycPfdd9v06dNdOWjI092CLAL6rftGNlkvpIfz3si+INuB16O/PRkOlDc2U0BYc2YWCC/fS7aO4a4TXOf9tteMBKBLQPj7E5H4KRg3rlUzXbRWx1GjgmttowCEiIiIiLiR9Bsb1Z7sB9KP6cZw8sknu24G4Mw9XSR69+7tzrwz2j2N62Rn3lsygj7vhz7znKFPTKunz/zBBx/s+qXTrYHuCSBAQoYGg93xXuiG4VPzKefC7eZozswCfvnhRj6NfsoYRJB15DbvhWWxTLTXjAQewRw+o9GjRwclIhI3BfX1WSblzJnjpvlsKwUgRERERMSl8zc2qj1dBThTz9gGNG49Gsik+jMGBI1aRrsnm8I3qAketGYEfboaMG4Ct+liEM6qYLC/QYMGuYZ3+Kx/GI1xgiSM/M8YCoyPEEamBtkDe+65pwtmcD8BApYZxvtvaDyRV1991c1kwDgVrAOBENaRLhtkZjD4JJ8DMx2EtdeMBIlY//DgniISDzlff205CXVVJhTcdFNwrfUUgBARERGJCBqS11xzjUu/TzcGbWQQPgYb5uw5GhvVnmwExlIgfZ+uCRtuuKF98803bjR7ugnQlYBxBWbMmOGyFnbZZRe3zLaMoA9meiAAwPM9GuAEIcaOHeuyDR588EFXToOagRl5f/xnWSyTjAJegwY/QQaCDzyGLgiHH364y4wAA0ky7gSSzSzAuAwEChh/gnXksQyESbYDyyfLgeADzyM7gv8EKFhHxoEgqELwpr1mJPD69+/v1ov13WijjYLS7MUAnW35XYW70PD98p17Dc3+wnfhZ1jxCBglznwSnn0FF154oX3wwQfu/fpZXcg6ohsSv1kkW04ignYsh99lv379gtKfsO2zbD4TglQE9Dxei/sYRNULP55lHnvssSt8Lv7C+oTXP/yYxJlbkOzzk2UIrjLAbLIMrPxbbgmuZVbev/4VXGs9zYIRY5oFI5qyZfvi+yDdVrNgRIvqr+jJpu2L3zz7+bivS5y3L2ZvOOecc9xZ6UMPPdSl6CMds2AwrgENZlL0mc2BwRmlcTSmyDBgIEmuEzyQlVGHRGkWDBrFDFbqf1c+mNXcWTD4rsOzspDBwrp9+OGHDc7+Ep5hxUs28wndmSgnqMRvkIY4XXIee+wxN4MJs5UwwOtBBx3kgkysS7LlJKJhv9dee7nPY8KECTZu3LjgnmUIKBCwu/766+28885zmT/777+/C26MHz/eBSXZv1EHEQxLfPy8efNckG+99dZznydBBV6TAA2fq19/MpeSzdxCthBjlyT7/JpCdtOqMAsGnz8ZWiDwedRRR7ksJ3Su/65yZ8xw1zNt4Q8/MOBOcKvllAEhIiIiEhEcZHJGmrPrnKGmuwNnudOBhgxZDJx5VfCheS655BKXfUGjSsGH+CDLBf53RUOOGVtagsY+Z/8JWNBY5nfa2OwvySSb+YRMBhr73KZBvf7669u7775rZWVly2d1+f77793JOjJ5GlpOGLcp534eF+6+FEbQhiwcggk9e/Z0dQHrwLqwTqwby/F4PN2FeL98HgQb+B1wopr3x+1kgVL/2YVnbmGGGJbdks9vVUNghkF4QXCabAiCUG48nm++ceXtIad+e2kLZUDEmDIgoilbti++D2VARI/qr+hRBkTm0XeeVF7OPibD9sV+Ja7fyaeffmrPPfdccGsZzhwynoBIHPDbozFJQzNT+M2zb2zoDDWNero0hHHcSReZpvgMiCuvvNJ1QSL4wNl6pkkly4CG4cUXX2zfffedO/OfLAOCQVlpgHOboAAZAIzjwVgfdHlgfJXJkyfbqaee6rrrUBeTocR+knUjI+Lss8+2TTfdtMHleGQgECy76aab3PgsnEUn0yKcXeAzGphp5qyzznKfDdkhZCQQwGB96Aby1FNPuQwLHr/NNtu45xIQocx3DSCYSbci3gsBiPD6E/wIfxY8lu5Z3CabJNnn1xQyIAiWzJ49Oyj5CeueDk1tX6nyyCOPBNca98hXX9la9Z9Xe1j8wgtW24bftgIQMaYARDQpABE9CkBEjwIQ0RSHAAR9jzn4JZU6PHgefWXpD424ByA4i/j8888Ht5ZhXSkXiQN+ezR6d91116Ak/ZpqINKQ9jO3eOyDCGY2hQY1DXiQRUG3CMZrofEenqWErgo0wglMJAYgeD5dF/yxLvUU2RgEGQgsMBjpW2+95TIg6F7BZ0f5fffd55bHOA10yWhsOR7dOVie/yzInODMOWNheD6gwPPJTrjooovcuCUEN8IZFWQ8MN4DgQMCFtzebbfd3HtoTQCCYAtBFMa6GDlyZNLPr7GBU0EAgvWj+0emsK9vj30KmTBsZ2EMmHtd/WfZvf7zag8KQLSCDuCjRwGI6FEAIppUf0WPAhDRE/fta8iQIS7LA5w15YwoZxtTPQaESLpQh0RpDAh+T/yuPMZwoEHMpbljQCQGFAiwkCHAwKwEN+hSwLgqDNxIdwY/7gGNewYp5fMgI4RAAI3Kc8891wUIaNzTFYplMfbDM88845bDhcwEBgrlflLxCTIQjGhoOTTgCVYStOCzYGwXBkwlWECA1o8pAwIQYHmef03GjKD7BuvIYJY8n/cPPguCFGSgESwgINNUAMJ/FnRfYrwI1vHee+9t8PMLB0qSWVXGgADf8xNPPBHcMvc90KWoqP5z7fDee0FpZi2aPdvqSkqCWy0X7yNYERERkSzCgSaNJYInNCw4+GR2BBFpPbIV4H9XdKVo69nz5s7+QnYCs5LQQKfLROLMJ4z7QsYT3QkInjD1bKJ77rnH5s+f77IfyFpoaDng9TfYYAM3Awb38zi6V2y22WYuoNkY1omGNu+B5zI7Bw1uyj2yE+gOwvgNfmyNpiSbuaWpz0+WBc588IGZTJgVx3/mtWuv7f5nXP320JbgA5QBEWPKgIimbNm+lAERTaq/okcZEKnHgTb9mRkojgNnUn79QFzNEefti4YSg86NGjXK3fbbF2cTM5UBwVlI3/ec1G0GiBs9erQ7i8sUj4MHD3ZnWZnOkvfLmU3/HBpGpI9zVpkzrJyRZYpLzpjSSOK7YbR9RtKnf3r4tfD4448vf/xqq63m+oUzQCZnVPfbbz93hpWR9n1fdN4DfdY5k0rjZcCAAW55pHizHyPlntuJKd1nnHGGe5+cqeZ5nE3lNZtaP/qo+7O8nBUmO4WxBTiLzHv0afoM0nf//fe7dHOWyzbMMrxwf3o+1//+978rnIkGnwXP4SwvZ4Q5k03aOo1R+r/7z5T1ZFYOGnWJ0/XxWXHWmwYl/fszhTokShkQib8rr7mzYEi0rCoZEOyTyWJhOw0HgVBQXycU1tdBmVbXq5ctShhLpaWUASEiIiKRUlJS4vpBv/rqq27kb/pCM6c8qcg0umiwMVAXjc7mDtgVF8x6kdhIag805ggEMCgenz+p2KeccooLCtHIHT58uPtuSPumDAQXaBATLElm+vTprtFPg500bx9U8q9Fn27+exzsH3HEESuN8A8CCzye98JZVZbLNIAESpjaj6lMOePap08fFzgIjxfCwTyBAoICrAfbFNtac9aPoDz9r0HjxweIPIIWvN4LL7xgBxxwwPKz0sn4deC93Hjjje46nxFBHFLX/WfBYI65ublu2X4KPo/H03efdT7ssMOC0mX8TAiMHcLnkMnGWtRE5Xcl0hJ0yaEeSww+YGmoS1EmVadgkE8FIERERCRyaDgxvz1nqLnQGKQv8sYbb+xSjklXplFMI09Sj8Y2Z4zp581ZZRqw9NFmuj4yDmik85/H+YYt/dFp1O+9997uDH0ismn988BAdvCvRRp2OMuDEfv5vhMzA0DQgsczGCAZFSxr8803tzXXXNOVkyVAYMEvg/fu+RRvHsP7IbDFrCNNrd+iRYvchSAAZbxW4ij8ZCOEp2qkz3tD/Do8++yzLgDCdT4jskLD0xk2NuUij2fWFM7O8rwwTXEokr3qune3unbohlH1u98F11pPAQgRERGJHM5YM9AaU8jRUCOlndTqvn37ugYZqe9kQtC/OvEstLQdacYEfjiDz+dLg5izcXwXNHpBOQ3ucHYB/ZXJYGkoCwKJz6P7Bd0HaGTTjcEjmEFjniyIhrposhyCBDT26bJBQ5sggUejnLJwdxwa5Twv/Dg0tX5cJ2uBbZAzkiybLiZhbKP0vyeYQUCmsRkWfF9++tknC9iAPvubbLKJvfPOO66vPFM1EljwmBKSbh78Fgi4hBFwoAsNA/4R4OF3IyLZo+KSS4JrmVG7+eZWG5q1pLUUgBAREZFIo/FIn37SzWmsffPNN65/PI2qTI9Ivqqg0X766ae7bAaCCoxUT39kyjt27Oge4/vbM4aCR9CAs/kDBw50A88lwzgjPI/MBdDo910wyErwaDw/8MADrltHeKq+MN4L74n3xhSCLCs8XhldFygjQ8DjdXn9xLFOmrN+DOxHAINuKQRHCIyFsc4EUwhSMMo/QYOG+C4YdEchiyEZgggEVhjHgZlQCJKEMxn4TTCAIQGacCCOLAmCR71793afKQMQEshoahBCEYmP6kMPtdoNNwxupd+S+jotFRSAEBERkUgaNGiQa8hh9913d/386YbB+BAMSEj3CxpwiQ1JaTsa7IwtwNl8AhE0wummQAOYxjCBCf4TAKKbQ9ikSZNc0IjvKYyGPd8bYx4QXGDU+0QMLhfGYKR0Z0gcv4BAAe+B98Z7YmR9Ah9ffPGF7bHHHi5rgsEieR7ZG3Rf8Mgm4H379WDQSTIamrN+BAoIajCNI8GwRGQisE0yHgWDV3qsO++rf//+rjtLGMEDMjiS4XUYCZ/BHFkuAR4CCwQlQLbGXXfd5bJVwlknBGzIHqIbCc+7+uqrXXBE3TBEssuSRx+lEglupU9l/f6gLqFOby0FIERERCQWGjubLOlHdxeCCzTOb7nlFjcWwoQJE1wDOIwZHl5++WWXPRBG45uR62nk//nPf3aPg8+2YPn8D6OLA1PPhc/ug/EeeG266ZA9cfPNN7vHMusDQQCmPWQwSIIPDOIWzmLg/d52220uOMF68F4YJ6I56/f999+7cR94jXBQoymsO8tneSwfrANlzHDhZ8QIo1tGQ1M38lyPgVj9LBp+2ZriMH6Y8YRZf/i+ubBN+zKCYwS1wO+G+8D2z2wrbJPMhMJ9Bx98sAuO+eVwnRlQfBmPY5BUthW2sWTlHt17uO/aa68NSiRq6vr0sSWPP+6mx0yX6kGDrOqss4JbbadpOGOMPo+sS7hfY1xpGs7o4fsgHVXTcEaL6q/oyabti998FKbhbAiNOFLOm5KN21cmp+EUaSvqkChNw9mQKE3DSbDh7LPPdgOrMuguXYoIkjE1LOtFOdPSEmQg2MbjyXAhS4YgHF2L6HrDmB+MB0K2Ds+hmxDH2cwaRBnZQnT7IfDA8/xjw+V++tfx48e751MPkRGUOOZJe1lVpuFsibwHH7ROxx4b3Eqdml/+0pY89VRwKzVy5s6d26wARDY1EFkPNp6obkAtwfdCKmDccbDIJe6NKmTL9pVNB/CsC7LhN6/6K3qyafviN89+Pqrrstdee7mZMZoj27YvpoKk64BIHNBg/t3vfuemNs2U1uwfmQr2448/Dm61Lxr9BACYlcVnOFDGgLuMe8PgrnQrIsuHQABTt5I9w0w14e43ZDUQVKC7Ds9PLCNoQZccuixdf/31Sct5HaaCpdsb47DQHY4pbukSFQUEIAiOhAdkTbc47FPyXnrJuh54IJHroKRtKuv3O4uD6YBTqb6918E1+pq6eMnui9slW9bDV7LJ7ovbJZvWJVu2Ly7szJOVx+3iJbsvbpdsWY9s+80j2X1xu/Cbj/K6NPe9ZeP2JRI3mf4NIll5YxfeY5Rw0ifZjDDJZpdhTA/GDlmyZElQsiJmSGE5vqsTGpo1JVk52QUM9EtGBRkQUZtFJdn3mc5LHPYrtbvsYmVvv201W20VfEqtU1e/HS75xz+sfPz4pK/T1ou6YMRYNp2hzqYMm2zZvvg+1AUjelR/RU82bV/qghE9fvtSFwyJE+oQdcFoGbIVwl0wGNeBwXfJgKD82GOPdWN/0CWCrAefAUG9cNxxxwVL+SnbwXfBIKjAZ+PLONZmgFKfnZKsnM+Rcrp0eGRJ8B6i0A1DXTCalvvOO1Z4+umW+/rr7BSD0sbV9eplVeecY1UnnsgUQkFp6sX7CFZERERERCTLJM4Ikzi7DAGBzz//3DXC6TLB4JFDhgxx94XRaPazrDQ0a0piOdO1EoymSwazqNA9g9lbmIFF4qGmb19bMn26LZw3z8rvv9+WHnWU1W6xhdUxPTJBlPrtggEsqwcOtMoxY2zR7Nm26LPPrOrkk9MafIACECIiIiIiIu2ssRlh6EoRnl2GWU2Y4YXZK+iuwbgRjNXg+ZlXGFNinXXWCUpXnDUl3K0iXM50x5zxf+mll9wsKgxMyZl/ZleRmMnNteq99rKKv//dFtd/nwu++MK+mDXLFv74oy167z0rf/BBq/r9762upCR4QvqpC0aMqQtGNGXL9qUuGNGk+it61AUjc9QFQ10wSFNnek2+26VLl9rUqVPd4HikhdNouvzyy90xK6n/zz//fNKB/Tz6vO+2225uGsMzzjjDLrzwQjviiCNs5MiR9tRTT7nnnnPOOW6wO/rIM1Um2xazDTCjAFN5gkEBmSGAxhrTHYq6YEh6qQtG69Hmqm//uzFF2ku8j2BFREREZJVCQ5PpAydPnmy77rqr7bnnnq6cs7l+QL5tt93W/W8IDZeNN97YPvnkE9tqq61cX/e33nrL3Uf6Ofr27WuLFi1yZ53x/vvvu5kBCHAMHjzYlfE8RuJnOaSoZ7JBJCISRwpAiIiIiEhskIXA6PwMxMcZbxr+PhDwxhtvuJH/mxqx/5e//KU7m0kGRa9evdxzGfjv22+/dUEElkdgYtasWfbKK6+45xD4oN89gwD6GWN4Hs9nOSyP5YqISMMUgBARERGR2CAFmsHyGBCPLipkH3B9tdVWszfffNPeeecd23TTTRvNRuC+xCkG6cbx6quvukH+BgwYYKuvvrrr++7RBYMuQN27d7dx48a5MgIOdAVhOSwvalMViohEjQIQIiIiIhIbfqA+Rv1/4okn7NFHH3WD4zFm0R/+8Ac3HgMBiu233z54xoroYrHZZpu5yz333GNrrrmmKyPrgQAGy2f6QwITr732WvCsZV0wGC/C9wHn8QQ+evfu7ZbD8jbZZJPlXThERGRlCkCIiIiISGwwGNxFF11kG2ywwfKZAshOoHsEUwYy8CFdKXbZZRd3n8+Y2GOPPVwZwYqGphikG8a8efOsX79+LiPCd78AXTAmTpzoMh4IchDgWHvttd3zWQ7L69Kli7phiIg0QgEIEREREYktggoEIz744AM3ZeBDDz1kn332mctIYPpBnzHhpyRkNpWGphikOwdZEAQouJ+pDsNef/11e+yxx9zYD0OHDnWzd/F4ljNjxgz3eB/4EBGRlWkazhjTNJzRlC3bl6bhjCbVX9GTTduXpuGMHr99aRpOiRPqEE3DKemiaThbT9NwioiIiIiIiMgqQQEIEREREREREUk7BSBEREREREREJO0UgBARERERERGRtFMAQkREREREVjlrrbVWcE3ihKlwmQJX4kkBCBEREZGI23jjjYNrItHHTAG9evUKbkXXfvvtF/tZDVZFTK+rAER8KQAhIiIiEnG777577KfflVUH2+q6664b3IquAw44wLbaaqvglsTFhAkTgmsSR9qTiYiIiETcXnvtZX369AluiUTb3nvvbbvssktwK9omT55sQ4cOtd69e1teXl5QKlHTpUsXFyx66qmn1HUm5nLKysrqguuNqqiosOrqaisuLg5K4quqqspVMHE/k1BXV+fWpbCwMCiJr5qaGqutrbX8/PygJL6yZfvi+ygtLbUePXoEJfFF3YVsOLBQ/RU92bR98ZtnPx/Vdenfv79Nnz49uNWwbN6+DjzwQPvwww/duuXm5roykSjguIH2wsCBA238+PFBaeZo/xg92bR/rKystIKCgth32aHNVd/+t5KSkqAk8xSAiDEFIKIpW7YvBSCiSfVX9CgAkTkKQCzDweOcOXNs4cKFQUk8sC4ETeJ+AM/2xbpkwzELjSrWp2PHjkFJ63Xv3t1lEXCmuj1o/xg92bR/VAAidRSAiLFsqqAUgIgeBSCiSfVX9GTT9qUARPSo/oqebNq+ysvL3f6+qKgoKIkvbV/RowBE9EQhABHvX6iIiIiIiIiIxIICECIiIiIiIiKSdgpAiIiIiIiIiEjaKQAhIiIiIiIiImmnAISIiIiIiIiIpJ0CECIiIiIiIiKSdgpAiIiIiIiIiEjaKQAhIiIiIiIiImmnAISIiIiIiIiIpJ0CECIiIiIiIiKSdgpAiIiIiIiIiEjaKQAhIiIiIiIiImmnAISIiIiIiIiIpJ0CECIiIiIiIiKSdgpAiIiIiIiIiEjaKQAhIiIiIiIiImmnAISIiIiIiIiIpJ0CECIiIiIiIiKSdgpAiIiIiIiIiEjaKQAhIiIiIiIiImmnAISIiIiIiIiIpJ0CECIiIiIiIiKSdgpAiIiIiIiIiEjaKQAhIiIiIiIiImmnAISIiIiIiIiIpJ0CECIiIiIiIiKSdgpAiIiIiIiIiEja5fzwww91wfVG1dUte1hOTo77H2fZsi76TqIpm7YvLh06xD9Oqe0revSdRFNtba1bj6iuyz777GNPPPFEcKth2r6iSfVX9GhdokffSTRl0/bFpT2P73MWLFiw7NNsQmVlpVVXV1tRUVFQEl9Lly61vLy8rPgxVFVVWUFBQXArvjjo5cL3EnfZsn1ROdXXD9a9e/egJL5qamrc/9zcXPc/zlR/RU82bV9lZWVuPx/VdRkwYIBNmzYtuNU4bV/Ro/oreioqKtzxV+fOnYOS+NL2FT3ZVH9lU5tr4cKF1q1bt6Ak83LqDzaaFYCggiIAUVxcHJTEFxsQFVTcz+zSQGRdCgsLg5L4ooLiB5Gfnx+UxFe2bF98H6WlpdajR4+gJL6ou8D3Eneqv6Inm7YvfvPs56O6Lv3797fp06cHtxqm7SuaVH9FT3l5udvfZ8MJRm1f0ZNN9Rcn4wlAxD3ARZuLkw0lJSVBSebF+xcqIiIiIiIiIrGgAISIiIiIiIiIpJ0CECIiIiIiIiKSdgpAiIiISCwce+yxwTURERGJIwUgREREJPJeeeUV23zzzd1/ERERiScFIERERCSyZs+ebYMHD7aTTjrJzjhjpJ144kk2fPjx9tVXXwWPEBERkbhQAEJEREQi6YUXXrC9997bPvr4U+vYuZvl5BZap6Ku9trrb9igQYPstddeCx4pIiIicaAAhIiIiETOv/71Lxs+fLgVd+lunYu6Lp97PSengxUVd7OqpbV23HHH2dNPP+3KRUREJPoUgBAREZFImTBhgp1zzjnWtVtPKyjsFJSuqGOnovr7Ottpp51md955Z1AqIiIiUaYAhIiIiETGpZdeauPGjbeu3XtZXn5BUJocwYniLiV2xRVX2JVXXhmUioiISFQpACEiIiKRMHLkSHvwwYesU1E3y83NC0obl19QaB07dbG77r7bzj333KBUREREokgBCBEREWlXlZWVNnTo0fbMMzOssFOX5eM9NFduXr4Vdiy2p6Y+bccff3xQKiIiIlGjAISIiIi0m2+++cYOPfRQe+fd96xzcbegtOU6dMi1Tp272qszX3fLW7BgQXCPiIiIRIUCECIiItIu3nvvPRs8+HCb8/V3bmaLVGDWjM8+n21DhgyxWbNmBaUiIiISBQpAiIiISMY9//zzrtvFkvJK69S5OChNDabtnF9aZocffoS98cYbQamIiIi0NwUgREREJKMeeeQRO+GEEywvv6MVduwclKZWx07FVl1TZ0ceeaQ9/fTTQamIiIi0JwUgREREJGMmTJhgF1xwgXXr3svNYJFOBDeYpvO0006z22+/PSgVERGR9qIAhIiIiGTEpZdeauPGjbfiLj3czBWZQJCjS7eeNnbsWBtzxRVBqYiIiLSHnLKysrrgeqMqKiqsurraiotT20+zPVRVVVleXp516BDv+EtdXZ1bl/rv0ObMmeOux1Vtba278L1k0uqrr25rrbWWFRQUBCVtl47ty3/HCxcuDErSj+1r0aJF1qVLl6Akvmpqatz/3Nxc9z/Vunfvbr17987IZ9WW7YupDtmOfvzxx6Ck/bB9sU/Jz89MI7StOnXq5OqKnj17BiU/YT2Q6forHUpLS91+Ph3rcsYZZ9i06c9Yl649gpLMqq2vB5ZWLbEBA/rbFTEKRGTT9tXW/ePcuXPt66+/tvLy8qCkfcSt/moM+wXWp2PHjkFJ9PXq1cvWXnttKyxcMYMqHcdf7cEf3yeuXxxlU/3Fb4X2QkuniY4ajolpV5SUlAQlmacARIxRQW2++eauUUUllQ3rk+kfNT9CXnP06NF20EEHBaVtk+rta+jQoTZz5kx3cJDpCrw9vpM4om6kjtxrr73suuuuC0rTo7Xb17hx4+z66693O89UBtzaIk7blw+S/uxnP7P77rsvKF0mmw6w0hGAmD9/vp02YoS9+857VtSle1DaPtjmKsoX2rY/38ZuueWWoDTasmn7asv+8ZBDDrHPPvvMPTcKxzvZsn9kPRCndVm6dKlrDB533HF23nnnBaUKQESRAhDRowBEO8mWCmqzzTYLrklb0bi/8sorbeDAgUFJ66Vy+9p3333t888/D25JHBx88MF22WWXBbdSrzXb12233WZjxoxxDWhpO86+MYODpwBEwz799FMbMeJ0++bb76xT5+hkUy1ZVGYbbLCuTZw40bp27RqURpMCEGa77LKLzZs3L7glsgwn4AhADBs2zN3OluN7BSCiSQGI1In3L3QVNmrUqOCapAIBNnZiVC5R8eSTT9rs2bODWxIXDz/8sL3wwgvBrfZHt52//e1vCj6kEI308ePHB7ekIWRuHX300fbt9z9EKviAzsVdbdbsr2y//fZTPRtxZJUtWLAguCXyExpSV199dUa7p4pI2ykAEVOvv/56cE1ShZQ++sdHxbPPPqtGYwwR5f/iiy+CW+3vlVdeiUyXi2zBGZ233noruCXJEEAdPny4VVXTt7woKI2WTp2LbUl5le2///76PiPs7bffdg1NkWTYNtjPiUh8KAARU99++21wTVKlc+fOkRicz/v444+DaxInBI2itB29//77WTFQWtQoHbxh99xzj51++unWsXNXKyiI9sB2TNNZ2KnYDj/8cJs6dWpQKlHCwJMiDSEdnv2ciMSHAhAiIiKSEjfccINdfPHF1r3H6paXoWk224ogSdduPe20006ziRNvD0pFREQkHRSAEBERkTa78MILbdz48dajV2/r0CE9U96mS15+gXUrWc2uGnuVXX75mKBUREREUk0BCBEREWm18vJyO/74E+zBh6ZYSY81gtL4yc3Ns6Li7q4LyVlnnR2UioiISCopACEiIiKt8tVXX7nxE1559VXr1r1XUBpfOTkdrFNRN5v69DQbMuTIoFRERERSRQEIERERaTFmJxgyZIjN/uIr69K1R1CaHYqKu9n7H3xke+wx0BYtWhSUioiISFspACEiIiItMn36dBs27BhbvKTCNdazUeeiLja/tMx+/etf25dffhmUioiISFsoACEiWWPrrbe2F1980R599FHr06dPUCoiqXT//ffbySefbHn5hdaxU3FQmp06diqy3LxC23PPPV3Gh4iIiLSNAhAikjWOPPJIW7p0qV100UU6YymSBjfeeKP98Y9/dNNWFhR2CkqzG+vZpX59Bw8ebE8++WRQKiIiIq2hAISIZI0//OEPtuuuu9rrr78elIhIqlx88Z/smmuuse49VnfTVq5K8oNpOk8//XS79dZbg1IRERFpKQUgRGQlvivDnDlzXCbBs88+6/pBY8cdd7TXXnvNPv74YzviiCNcmX/8zTff7G6H/e1vf3PLeeCBB9xtUpnfe+89u/DCC91t/9y7777bnVnlsVw++eQTu+6666yoqMg97sADD7QPPvjA3nzzTevXr58rC/v3v/+9/Ln/+9//bI899gjuEZG2qK6uthNPPMkmT55s3XusYR065Ab3rGzoUUNs5isv2DtvzXT/uZ1o4q03LS9v7PG7/rqf/fe5ae4+LvfcfXtwj9kWW2xuUx66b4XHc79/bOKyGnodlvPEvx9Z/jyuU5YM03Sy/mPHXm0XXXRxUCoiIiItkfYARHVdlX1d/j/7YOF0e23+A/bC3InuP7cp534RiSYGmqM7Q69evWzo0KGu7Je//GX9gXiuLVy40H7+85+7soastdZa9otf/MIFExiTgeAFwQeCBNttt50LLmyxxRbWrVs3F4QAyz3//PPthRdesIEDB9pOO+3kynfeeWdbsmSJu77tttu6/4nef/99GzZsmOuf/tZbbwWlItJa3333nQ0adJi9UP/7JAOgMQQMaNiPOutc67vNDu4/tylPprHHc7n44j/a3/9xk7uPyxFHDgueabbdtj+3ivKKFYIFlZWVdvmYq5Yva/jwY5Yvr7H3VVpaaqeeNtLdx/V99t7TlSfToUMH1x1jypQp9cs/PigVERGR5kpLAKK2rsZen/+A3fvlKJs463h7/NvL7L8/3mJvlk6x98umuv/cppz776t/HI/neSISHRUVFTZz5kwrKytbPqgjgQACCG+88YYLLhBkaAj3E7yYOnWqFRQUuODF119/7bpIbLDBBi6QQBCjqqrKLQ+1tbXuMT/++KPV1dW52z6QwWN4bd5DMizn6aefdhkbPF9EWo9MIsY9+OzzWW7Mh6bssMN29sGHH9qM5553t/nPbcqTaezxXN5++x27865J7r5EBB6mPzPDevQoSZqxwLL+9a9/L19Wc98XQYzvv/8huNWwoi4lNvO11+w3v9kvKBEREZHmSHkA4sOFz9ods0+yN0qn2KLqpnfiWFj/OB7P8z5eNCMoFZH21rFjRzemQs+ePV2XC7IWNtlkE3vnnXdcV4g11ljDBQYaQsCBQSGfeeYZmzt37vLAAdkOeXl5bnl9+/a1Tz/91J5/flnjgGyI2267zQ455BDXLYMsjB122MFWW20195q89qabbuqyKRJts802LkDB8unaISKt89xzz7mspwVli6y4S/egtHHrrtvHvvhixcFfuU15Mo09PnzfqDNPX6F7BBcCD889/18XJG0sYwFNva/u3bvb9eOvca/xViNBj0TFXUrs62++tR3r6zmfnSUiIiKNS1kAorau2h79+k/2/I83W3VdZVDaMjxvxg83ueWwPBFpX/3797fzzjvPPvvsM5s4caILKBAIOProo92Ajxy4U5YMWQsEDnr37m333HOPbbbZZi54QdCBbhgEJHbZZRd3/yuvvBI8a1kXjBtuuMEWL17s0p1BN4wePXq41+S1CYhsv/327r4w3wXjrLPOckENEWm5hx9+2E488USznDzrXNQ1KG1auFHvJWv8e409Pnzf2Kuvs8OHHG2zZs92twk4/GqXne3eSXfYHgP6246/2MGVJ/LPb+p9+S4YT0+bvtLjmsLnU11d5+o1gp8i0nK/+c1v3MmFm266afm4TyKSvVISgKioXWj3fDnSvq/8JChpG5bD8liuiLSfxx9/3HW92GeffVy3CRr93377rZ122mmuoU8gwWcngIwJBn8kcLHbbrvZ2muvbXfccYd77NVXX21dunRxAQvGhCCbgecSZAjPWkGXi5deesmVMfAkyyKzgddiObw274HgRUPy8/OtU6dVY4pAkVS688477YILLrCi4u7WsVPLGgIzZ75um2266fKxFfjPbcqTaezxXLbeuq8bqyHRNvXlfqwHAhPwy/B4Hs9/8MGHm/2+eGz4cc3F51TctcTVfe+++25QKiLNQcBhyJAh7kTHn//8Z3fyQUSyW5sDEFW1S2zyl2dZec2CoCQ1WN7kL892yxeR9keXhi233NKd5XvooYfcWAuMybDuuuva5psv64NNsOD222+3CRMm2MEHH+wCAQQaeOyMGTPcgYUPHNBNgjEeWB4DTiaaNGmSFRYW2siRI914EcyAwXJ4bQ5UyKjgrGMY74PX//vf/+6CFiLSfJdeeqn98583WtfuvaygsGNQ2nyMrUD3hbFXjXHdGfjPbT/2QqLGHs/lllsm2sgzRrj7yHZYf7313OCT1Auvv/GmW8b//ve+ffvdd248B8rPO/cs93iex/P9sprzvrj95FNT7ZBDDgxKmq+goKP73AYNGmQPPPBgUCoiTeG4gMxGTjgw65aIZL+csrKyuuB6o+hnyVRcxcXFQcmywSYnf3WWLaqeG5SkXnFeLztsnSutQ07D0361FAPV0f/cp3fHEY2vVDrhhBPczAMcwIEz30y59qc//cnWWWcd9/1zZuziiy+2M844w44//niXBs+O4x//+Ef9Qes/7f/+7//cgGVEs0mjJ2X/sssucw1X7ucMNq+DxDLOHI0bN871+X/kkUfcfTRs8cUXX9iVV15pZ599tivjDDk7Kd7bf/7zH/eYVKA7AdM+JhtboCVStX3xWb799tvBLYkLvvvf//73LlMjHVq6fY0fP95uvfXWlJ5Vamkd4OsXZlQ46aST3HZN155TTz3VnTEm/ZZpVH3QaMGCBTZixAiXCRNe5g8//GCXX365C04xvSsHrTzm0EMPdc9LRH1CJs7999/v3nMqEYzzU8uybwTfS1ydcsop9uKLL1lhpy5p3TcyfsPoP/6f3fD3G1cKAGSD2toaK533ff3v4wQ755yzg9K2yYbty2vN/pFgNt3rWoo6BdQv4WMO9vNcZwyjv/71r276aILn1157rXtv1D0Eu2kQU99w/EN97scp8nydRSD9+++/d8uirkGyuif8eAZJvuaaa9zxFbM2hXH8NWvWrBXKCapfcskl7rpfF46H/LKuv/56130B4fq5vLzcvS71aHgfQH2arG6lGwTHeYztxHcUPtZimmz/nsLLPfPMM1coZ53pLrnVVls1uCwvvC7geM/vI5qL49bf/e537jvKhuN78L2yLv6YPM6yqf5ikGIGVM/JyQlK4qmmpsYNLl9SUhKUZF6bfqEvzL0trcEHLKr+0b2OpB+VHTtm0tz5zyCA/NBGjRplY8aMcWesf/vb37odDTvx4cOHux3Hq6++6g5ejzrqKLdjoZyZE4499lhX1loMPuj783/11VfLy5gWkoEKDzvsMFcmIpnT2jqAAyrG8WDaVRDo8wcmXuI0qlwnNdcvkyAor5tsetdElG288cbuMRwINzZby6ps3rx5bprNF1982ToVdUvrgTvdIm6/bYK7no3BB3TokGs9eq5pEyfeZqfVN2QlumgQMQgy6F7ICTYOzL3mTv1MwILjJ+o7NFb3+McT1KDxz/hI1HMc25ANyH0cf8FPSc39PC4RzyHQQBCX4ySO2ahvCez6+vmxxx6z/fff39XPYcnqVjILCRhQRxM4Puecc1x9QJDhZz/7mXteQ9Nkh8sPOOAA23fffZtcVlj4eE/jN4lkv1YfaZQt/d4+XPhMcCu9eJ2ypd8FtyRdaCAwMCCRf6LP7CC7du3q0t/vuusut6Py6fPsDLl91VVXudHS2TlzIEt/f8r5z/Lakk3A6/Ne2KERVfdl7JyIQoYPFEQkM1pbByxatMhdmHaVsjXXXNNmB4MKehzE85v306j++te/dgME+mWSCUXdRPAhcXrXRJRxH4/hsY3N1rKqYmabw+obQR9/8ql1asFgk61Ft4cddtzFjjhyWFCSpXJyrGv31eq34xl2SAPZOdL+OJbwAQK681Ef+aCoD3I2Z+pnugVS95FxwBn9xuoeHk9wgGMasjkJUlDncWzDMQ23/dl/7ufkC/dTnojn+LoWZFwQUOF5vn4m+43sDB8o8JLVrdTXHO/RbZKsNpbxxBNPuLGcfHdHlp04TbYv571+9NFHbvwlPq+mlhUWPt5LZbaeiERTqwMQT303NriWGU9/vywiLOlDqhfpcexsSbUjfZqIOBF5RkVnp8HOlB0NDYkwui+wY2UnAnbiPI7UvsYQJef16LdPVkOYv8+nUYIyUhtJ0ebMq4hkVmvrAK5z9o8DZA6GOdjmQDaM9GR+834a1cRlehzgJ5veNYwgB/fxGN5LQw2IVRVdVzhbOm9eqRUVr1j3Smp06dqjvuH4qWvsSfR8/vnn7iTLgAEDbL311lsh7b+5Uz8TaGC6WmZzoj5jGY3VPdRxnO2nbqPbaWM4JuLYiOMw3301mXBdm1g/c51AQeKgzMnqVgaJ5nHhKWVZdm5u7vLu18mmyQbZDQQcCEST2k2AoqllhSU73hOR7NWqAMTimnlWujSz003Nq/rCdceQ9GFn5LtgEK1mFgL6XtKvkX6K9Mtjp8KOJrEvF5F0dsTMggDfB6+pSLZPuyN1jxS+MH/f6NGjg5JlZfTDZHBDdmYiklltqQMYSJQD5F133dWdLfOZTZ7vguHTcFkmfS1ZjseZyYamd/W4TjkXHkO2BWXqhrEMadmkXVfXmnXq3CUolXQo7lJiCxctcWOGJG7v0r7IDCCbkgAEfFdPNHfqZwY+ZjwalnPjjTc2WfdQxzFGQnP6kPtuDXSzIEuhITToqSOpm3397Bv5XOe1Ere9ZHUrr8fjOnfuHJQsq8cJFvuABo9JnCYbBC84gUWA+d5773UBzqaWFZbseE9EslerAhAflE0LrmXWJ4v+G1yTdGOnwXRIjOjNDs1HsTkTwE6LHfLee+/t+jCyoyYFm4i6L+c/j3vllVfc8xCeopHBn+DT7tjxE6lPhkaNj97zeLqDcDBw5JFHujIRyZy21AEEFTgDxoE8WQ4N8dOokv68+uqr23HHHefqDs407rXXXg1O7+pxwM8BOPfxGB7LWBEELlZ1nFFlANDORd3q62TNt58JnYu6WmH9Z83ZYbq9SGaQhcDv/phjjnHjFRD8JOjg0RBm0EPuo/vF/PnzXTnHKmQq0FWC+qOxqZ8Zq4YTNNSBBAmaqns40UN2KRlc1JFNZYmChn6ywQh5n/vtt58bM4flMdOUn1HqiCOOcPUwdSd1KAGBsGR1K0GJ//3vf66bHAMpswym4CYzwU+VzXEay/LTZPvsDrJSWV/Gd2DMB+r9ppaVDMd7zflMRCTeWhWAmLV4ZnAtsz5f/NOB7KqC0YUZdDGcGpguVPynn366O0DlPztVghBjx451O80HH3zQNf5JvyPF8JZbbnH3M9gSz2FkenZ4lLPTYSpGHu+Fp2hsTjq0fzx9zHkvHrNk/Pe//3UjW/N6ccfBCANEEYiJEj5bDjQIDtH/lAGlwAjbbI8cSFBO1gwHDKTM06iknNGuORBiGYwwTln4QhcfUi39bQ5UOAgCZ5Mo8zMMgPRT0lAp50CRvqQc8HkcCHF2nXTZfv1aNod/tmDd/aBm6dSWOoCDf74/DlY5AE6UOI0qZ9r+9a9/uYEvKWdAXOqOxqZ3BdsGZyTZfnkM2yXBkPA2k22aU4/wGV5b/3sl+NCaaTZT7Zqrr3DTYoYvlN1z9+3Lb//3uWm266/7uTIuYTz2iX8/4mbWCOPxPM8vLwo6diqy4q4lboC+ZP35xdwsD6ncFxIEYJ/BcjmmYbBc6pYwGsM0qsONYuqh5k79nKg5dQ+vRRYSY0McfvjhQenKCKySgcrvlgZ8Io6RGF+BwC/1MPtUjo9YRzJuqIfp2sD7py4NS1a3klXGTBjsjxks8oorrnAnfQgoMLZDmJ8mmwBGQ5q7LISP9zbaaKOgVESyVc7cuXObNQ0nDVBSpzgrdfeck626rjK4J3PycgrtyLVX3Hm0Bjsbdghcou7JJ590gwOBSDeVPX0W/cjNkjr0beSApa2D1bV0+2JqQs6EgLO4nImgvykZHpxtbi+MscFnQUCAAxwajpxBIiD22muvuUYoQSAOqDng4ewPz+Es97Rp01waPQdfBCjoS8tBCDgAYVmUE/TiNt1pONvEbc4YkapJXcOZJ86kEIBgGlYG1OK5I0eOdGev+D0Q7OA9cmacM0U0epvqW5tOnOE/8cQTVxp1PFUa277YjtieOIDjwHb33Xd3B5o0TsN9ceOGKebYBxGQjQpGdyfVGPSx5hJOSc40zqwz+j3C9YhHY4rtI7+ws+XnR2tqt1Fnnu7+j7162VhPE2+9yZ6aOs0NWun9/YbrrKS+HvLTd/rpPDt26mjnX3BRfUPnp2kaCVS88urM5cuLkoryxZbboc7Vc81taKVj+6IBCRq21L00CunXn26N1V/h453wNsyMV2y/IskQCKFLGfvcOB3fN4U2F8cTcReF/WOqZMv2xbbFMSFBzvaSO2LEiItJ3Wrq4ge54U2/V/6v4OmZVWe1tknenknfX0subDj854A28b6oXZgbmcYcZ/g4wHz00UfdZ0G6s6QWOzGi8DSyk30Xzb20dPvidTkzzIBYnK1hDnC6vdCwZm7u9rLnnnu6QBdnfmjU03eVQes4IGT+cs7gkJbKZ0bwhpkLCEZ88803bvAt0lrJnuC5rBsHutQfnI1ixHCW5W8TVKAyHDBggAu0cWaG1+ZzIQDBWSfOfHNGibMkZMQwsBtnElkWgQoOUNnJEewIZ09kGjtZzt7z/pN93229NLZ9kYny8ssvu1Ri6ggaFtTbH374obs/jhjZnentNtxwQxeQ43cRBXQDY3o7Pld/gMWZz/D3kckLgWnO8PLdh+sRztry3iZPnmyffPpZ/QFtQbAG0bHzzsu6z7z40svu/8EH/ba+3vnc3n7nXXcb+++3b33d8q11797NPe7ooUfW19U9OTCwZ2c8X19XLhsjiuyHX/xie5tw68TlZVGSl19QX0eYrdunjzvLnuy7TLykY/ui6wHbBw0cju+4Tv1B/coxB90IqNeTPbctF+rHhvaN4eOd8DY8a9YsV8+LJMM2TAYm+9zGtq84XfhNsi5kjSS7P06XKOwfU3XJlu2LY2/fpk92fyYuOWVlZc3KgOBHwA+CndKEz5edrW0PZVO2cylm6ULjpTXS2VDkLDQHlmEMBJRsIB9pPc7y03+Rbb0tqGhbGh2lcUXDMYw0cw4S2wuNfjILONNL4/7cc891ZxhIdWdmFIIB7PTJeqDRw2BdXOcgEpxRIwvCp7b60a3JmgC3aaiD9WSQU4IUZDJwppsuH5zNJxOEDAiWRXomXTrowsEZD9JTCVIQxLjpppvc2AAETugTGx57IJPI3iBYQjeDdGhs+yJrJNk2w6jkHNRL6jDwpR+bhu8ELf3dpxp9ugk6hdEVhswuzm5/Nec71wCOmsQMCDIYttxyC3d9zpyvbdTZ59mI0062559/wfr128VOPuV0lxHB7QP2/439+ZLLlmdADD1qiB0//Fh3ZqewsMCenjbdRp55jrsvKsqXLHTvkcApMwlMmTIluCe5VG1fNNR85gP1L/s7Bv+jHiewRwYadTKDLxKwIkhMgJxudwSWU6Gp/SP74cRxMqhToxJ4lOhhG+XESHOPw+lqwnZOd81f/epXQWm08Duhocu6xR1tR/A7jjuCKNST7b2vbysCDxwXlpSUBCWZ16oAxC2fD7M6TjtkWE79336d296fk8gLO2IiWXFA3z760XmcJaafNxuQpA4HPn/5y1/cwVhbtGb74gA03HefPqgc8JF10J44I8YAXvSfJcOBQMNBBx3kBrFjalYaN/RB5WwVI2D7LhgETwgGELDw45ckC0D4LhiMlk0gge4C9F31mNaMwATBkHAAgsCIfx+k6jL4ld8h8PnT9zSxr2+msJMlOMLBezo0tn2xvfA9eGzTBLfISFEAIrUIzPltLCoHWPw+wsFq6hGCd/x+GMvnvvsesA550Q9ANNQFY9Kk++ob7sfYW2+/Y5tssrG7fcrJJ64UgBg06GDXLQN00/DdNqKirrbKzhp1phvkmSBrU1K5ffkBoKl/GRiRgOVTTz3lghHUEQRwyaYhMEIdxoDUZCGk6nijqf1j4vEO2zDBBw3eKQ2hkf673/3OBfRotPM7aez4i+MVTviQUUyGGMcRUaMARDQpAJE6rWqB53Vonx8Er8vOs60XzhIlK4/ihUao3xnT2OMg8sILL1TwIU1IOU32PbTk0prtywcfuM5YCTTEacS3Jw4EE2dBac4I2wQrWzpTCevKGYnGZjegwmeZBCT8QG6c7eV5/G9qtPJMYgeV+B2n6tLY9kVQyCMIct9997k0b0k9tsdk30F7XTi488EHbvt6xA+aRyZdRcXi+n1HvKcvJvhwwP771TdIkw/k+MUXX1pFeduy2NKpemmVzZ83d/m0jInfY7oviZiRhm6H1PFsKwxYSECcDB8/hSL3J1tWay6N1V/h4x1u+204GxouEh0cZ5ARxnhWZHdqUFiRzGtVAKJbfu/gWma11+u2JwaPo787A/DRIGMar1Qim2Lq1KnuDAP98Gn8cYAAzoAQKb722mvdbdLeuR2++HT4cBm3EZ4tgT6cnOnGVltt5ebB5vV4XT9bAsLLCs+wQDkHJn6mhGya9YDvmAY4DWhGraYLQhQkmwWluSNsN3emkvCsB0zRxefQ0OwGNOrJxOCglDP9dPmgcd3a0cqzDZ8bFz5HBut0Aw5mIIgVnqGE3zl1gm9cJfudJj6eeoazrn4GFX/h987895SzzPAsK4wtwjI56+UxKweDo3KmNNmI8dmOcVMaq0cYM4WD7tyc2uUp/VHFWb/zzj1rhVkwvJkzX3dnofifDJkODEB576Q73IXrUcl+4HMvWzDXZXC1d5CUupl9PYE0fkfUF+ybyVoj84EBbDOtLfvCcP0QPq4Il3PhOmVkgPi6hG6CBNtbsgzqLLqzcBzDhX0Pj23otcg08WfaqQOZBYisPuo5//jwc5B4DAb/vrlQt15wwQXuGMlL9hzPH1/xXnmOXy9/zIbGnh+uu7lQL6OlM2OhoWPPTNbj66+/vgu0MUaViGRWqwIQGxb9NN96JrXX67Yn0t/Hjx/vBuZLNRoJNOI463/OOefY6NGjXSOOVHh2Akytx86EgxIey1l6DgzoM8oOhXEA2NGAMSnOP/98dz+PY0dFY5GdEmdieR0GLWSnRN9+0pcJSPC6pMrRqCQFNLwsdlYMZJhs6jz62Puz8qkOymQaZ/AZ5Z9sAn/GKQr43tZbbz0XiOA7YJYLcGDCgQVnEfjOOIgiUMB3zffCdw/+8zj/PA54ffcLcJ1lcGF74CCY5flsEMZw4OwcB8Yc6NCVgMdy0MDB4rvvvutSh3kuB0AeWRec7Q1Pq7aqIEjJQS6fUSYRoKIuoN/4rrvu6g7O0dDvNPx4visOAtmO+N3z+yeDhnE8kqVdU/8QmOD75zl+5H4yZUjt5vlki61qmlOPUMfzW66rqbTaCGXR0fUiPGPFEUcOs77b7OAuv/r1ABdAYNwH/nPZ5ze/XX6dx4ZnwADL8s8PL7c9kXkyf+63LkuL7mOyMo532rovpH7gzDbHNcye4VHO8Ql1Bt0EQSCb4xjqIwa69ZqzDALf1GmMPcRtAgN+nIxkrwW+dx9cAI156jnqQuot/vvnJDsG83jfLJ99K58V9SEae47HwHO8hyFDhgQlP2nO833dzevzn2AVs++QhcgxA8d5DM4bngUq8fNs7Ngz0/U4476152DfIquqVgUgftZlt+BaZv2sS+Yj8u2NCphKOh048GfAQCp+Gn2cfWBqRbAT4IwzEWrSL3ksOyUeS4o9XUC47fv3s1PjTAL3U050u7S01O2g2Emy/Oeff96dOWfHzdlLxg6g/IknnnANS3/GmmXR95/Uf84YcTuMnRfvhzMIBEJo5MQZ3zENMJG2YDtqr4Y3v9O5c+e62TZIl+7Tp0+jv1P/eA44qUsIYBFwpA7h907fRMYcoQ5JRP1DncIZMzBLBlg+r8Pr8brJDp6zWXPrkbFjr7JDDz3EaqoZ1ymeM6PEzdKqSlsw/wc3RgcBCEkuFftC6gca8GTJhLuqUs7xCfUM9Q1oTJMNwAwbdO/zr92cZVBHcfKEwQ85DiIQ4SV7LWbw4VguPNWpr+eoC32d6J+T7BjM432zfDLdOE7ydWBjz/HookighGBIx44dg9JlmvN8/z55fdabmSeoszmWo17mPVGvh08cJX6eLLehY89M1+OsL+OSiEhmtSoAUdih2Lrnrx3cygxer7DDT2lm0nZEfql8k82mQSScnQyD1zGATFONfHaspNIT0efMN4PfsZNkJ+NTDDlDQJ9+Ro73Z0XB8ol4M8ApWBY7I3bUpAMSPQ9j4CzeO0EMduocAPB+RaR9+PE5+G3yeyYI2djvlBR7Bsvk7CO/b7pktRSvw4EvWVUEL2k88Dq8Hv3Hkx08yzKcdTzttFOtsnyRaxxL+lRWLLGFZfNctk86MhllRXQL5LiBWYgYFNmj3B+HeBz/DB061M2KwEkPn3HVnGUwgCENbro2MfZOOIMi2WvR8Ccrj+wAZhlpSnOOwaj/CAj42Xia8xzKeV9kG5JhGtac5/u6m/Wj6waBCt6HP45MfE9I/DwbOvZUPS6y6mhVAAJ7rDEiuJYZmX69VQFpZwQJEgd4YidAH3ouRKfXXHNNV9ZYJNp3myAVkJ0yZy5plNDHmxRDP5sDj2PGg3B6Ja9PVNzvjHgMYwpwFiDZSMZE1tmBk8JHej4NH1L1RaR9cDBJlyv695LRxMF5Y79T6p0JEya4M2UEH/1ZwpYgYEn9wBlAztxxUMvr8HoEQCmThpHufsklf7FFC+dbZWV5UCqpxHSbSxaXuew/zhRL+hHQ5PNmLAka0Z7vFkG6v8cYRIzHwZn5G2+8MSht3jKoswig8jtiJpMTTzxx+YC/yV6LRvl9993nAqZNndBp7jEYGQzUvRxvteS4jQwHjs3oBumP/5r7fOpu3wWDx1H/Ug/7E0hc59iP4zwv8fNs6NhT9bjIqqPVAQgyEtbouGlwK714nUxnXKwKCAoQlWfQOgb74ewMg8ax02FnQn9ydjKkOpNSzRnNprDzIUJO+hzRa3bO4Z0M/frJiCDV8ve//717XV6faLrvs08EnVkVuM37Ce+s2eFGcdYDkVUZB/D08eUAnEAEGvudcjDOoGxPPvmkGzMinJbcFOoA6ioCm6TOMlgpgQ2Wz+vwerwu9VW603fjjtlkCAR1sBqrKNc0ram0aGGp5XbIcftZzhJLZpDu39gsTDTYCQLgrbfeWmmMIzRnGZxsIcDA8Q2N8GTCrwU/ODN1U2PTKzZ1DMZyCfZS19JInzZtWouO21g/giFkfhBoQHOfH+6CQaYbXUbQkpmxGjr2VD0usupodQACe60xynJz0junOMvfa42zgluSSh999NHymSmuvPJKl3XgB32kQcEOhJ0MoxgT0Q736UtE14q//vWvrhsGOxSWxVlQUu8oYwBBP0DT5Zdf7oIQDDx5xRVXuJ0T74P3E8YI0+yk2aF5nLHQrAci0UagoaHfKQf8HmfQ5s+f7wKVzT3I7N+/vxs/hgNvZmlh3AjGliGIyevwegRA6f6V7OBbVsR3deedd1pJ9y5WqSBESiwqm2drrL6azZy5bFpUyazwLEz+BAb1BscijMOx0UYbubLGNLUM6he6b3CbQR053vGzKTT2WswmlWxsm7CmjsE4DiJwyECRZCMwSHNLj9vohkEgwGeZtvT5XmtmxmLfkHjsycDSqsdFVh05ZWVlzZqPi0YiqVM+zcqbV/WlPTTngvprqZ/WK6f+76C1L7UeBX2CktTwqV++4o0jDuQltWjQsDNv63gSqdq+Bg8evHyQz9bgjALBHn67nFEgBZLxORhlmwMjP4UWB0/0y2RHD85Mn3TSSe616bfJAFf00WemCaZBHTdu3AoDo/rHc9DFWSHOcpB+yQEOQSYOwPzyyW5h2i36kBKQopyzHH7mjMTXA8vx7/Evf/mL67vKwRcDlxL0At1//Bmlxx9/3H2Pvq8ps67QwKK/KmdaeO6oUaNWWgeeRz/e8HL8+2oJvnuye/jM06Gl2xez6DAwWGu6OUjDOFh+4IEH3HWfps33ElekRZ988in2xZdfWV7+ioPTtdXQo4bYyDNG1P+2lp2wuPW2293/ddftYyPPPMdd5zF7Dhxgxxy3bGpVbg8adLCdf8FFbpaLLbbY3MZeebk9+dTU5TNbXHP1FfW/3S/d7YZe47hjh7n/oIzpOy/765+ta9euy8tSN1NGnS1cMM+23mZru6u+zkmVbNi+vNbsHw8++ODl3ThFErHPZhYt9rkt3b4YABMEwaOETBPWpbFMmbjIpvqLIB0ZSATn4oxu7wyCW1JSEpRkXptb4AQHBqyengPtvdc8N+XBB5FVBWdtWjJVqe+32tg0YKSsJps2jNTJlk7FlSjZ63kELvwMD2S6EOQIj07Ojpr3wvvnv8eOgoyc8LLItEm2DqTRNrQckWxHsO6+++61rftuabU1lfUHwCvOPtRau/66X32dcIxdc+24Fk2NScChorzCttv2p5ld6Gu/66793DLDGnuNp6dNX6HskEMOtAcenLLS49qqtrbG5s/9zvbdd5+UBh9ERESyTZsDENigaEc7bJ0rLL/DT6PetgXLYXlrd9oqKBGRlqDBzejRpDCS0tjUoFcgU4K0x8amAaORnmzaMGY4IEhASn1zp+JKlOz1PLImWCeCFAQiSGENj6Ad7pcazhphzBGCGqR9ejw32ToQfGhoOSKrAs4akhK9554Drbaa3+lPA/C11g47bFf/W3rH7rxrUlDSNIIPPXqU2PRnZrjrXnl9HfLaa2+4IEJYS16DjAkyL1KJ6UxL533vgrBjxowJSkVERCSZlAQg0DV/TTty3XG2UTGDjLU2NSXHNira2Yb0uc4tT0Rahz6TnNFsyVSliVOH8Xga482ZirU1U3Elauz16K5B44jsB9bttddeC+5ZhjTF8NRgHhkZjBFAFgQjcDeloeWIrEouGj3ahg8/zqqrllj10qqgtHVo7NPoT2aPAf3tnbdmust55561PN2YrId58+bbc8//1zbcYP0VMh7IXijp3t11ufCa8xozX3nBPcdnPFBGF462YhrTstIfbezYsWnrdiUiIpJNUhaAQF5Ooe2+2sl29Hr/sC267mmdcpf1sWxcjnscj+d5u69+iuV3SG3/U5FVDZkHLZ2qNDx1GA395kzJ5bVmKq6wpl6PoAWvwZzrvMaHH37oyr1w1wme7zFLAv30GX+CPvtNaWg5IqsaxnVhDBem6ayqqghKW66xjINw94jLx1zlsqOw/3772gH7/8bunXRH/e92C5fhEPbU1GlufAhmREFzXmOHHXdZniHBuBOUYdSZy2ZtaY3KiiW2sGyeqyvCWVYiIiLSsJQGILyCDp1t557D7Mh1r7dh699sA9c403bsMcS27Lq3bVT8K/ef28yiMWz9m9zjeDzPE5G2YdqvxqZAJDBAQIIBJSkLZymAbhAEMJo7pRdaMxVXGMGGxl6PbAoyOZiykSwLZlRoSOfOK9YjDz/8sBv3oakMkESJyxFZ1TAy/fXXX2+V5YtcY7s1GPRx6637rpCx0Bif7XD4kKOXBya2qX9+GIGEWbNmW/dgINmWvobXlu4Y5UsWWm1NlevO5cenERERkaalJQARlp9TaOt13s76dvuN7dRzqO2+2u/df2736bytu19EUoegQmNTIBJgYP5wP02YnxYxPHUY11syJVdrpuIKd7FguU29Ht1JCGIQWPFnSr3wOvE/7Ouvv7YpU6aslHWRTGPLEVkVURcQOOxYmFff6P5p3JXmmvHc8/V1wkQ3Q0W4K0RDyHb49rvv3MwXeP2NN13XjPBglLjxplvczEVo7DXC3TzIdqDbhb+9154D3XJaavHCUisu6uzG2FljjTWCUhEREWmONk/DGUekWbd0GqiooTEpqZVt03BK++C71zSc2S/bpuH0GKSV/XziujCWCtv1t9/9YAWFq2520OJFpbZun3Xs0UcfDUrSL5u2r9bsHzUNpzSGAKWm4YyubKq/OPnFiSpNw9l28W2Bi4iISEaQKTV58mTbcovN3QwZ9YfIy+5YRbhBdsvm2c+32TqjwQcREZFsowCEiIiINInxYiZOvM369fuV1VRX1jfKV55ONxvVVFfbgvnf2z777L38jKmIiIi0jgIQIiIi0mxXXnmFHXbYIDdNZ0310qA0Oy1dWmkLSn+wU0891caMGROUioiISGspACEiIiItcvZZZ9moUaNs8aIFrpGejaoqy23hgnluYN50jekiIiKyqlEAQkRERFqM6XTJhqCRTmM9m1SUL7bKisV2991323777ReUioiISFspACEiIiKtss8++9gdd9zhxoSg0Z4NypcstMKCXHvyySdtu+22C0pFREQkFRSAEBERkVb7xS9+4aYk7dqls2u8xxldSlZbrae9+OKL1rt376BUREREUkUBCBEREWmTDTfc0KZMmWIbrL+uLa2KX3eMurpaK19SZptt+jN78j//CUpFREQk1RSAEBERkTbr3r27Pfjgg7bttttY9dLy+kZ9XXBPtNXUVFv54gW2y8472b333hOUioiISDooABFTPXr0CK5JqlRWVlrXrl2DW+1vzTXXDK5J3HTp0iW41v7WXnvt+gZWTXBLUqWoqCi4Jolu/Oc/bZ999rallYutNuLbXvXSKlu4YK4dfPDBdv311welEiXFxcXBNZGVEehkPyci8aEARExpYKzUKy8vj9RObI899rC8vLzglsRFfn6+9enTJ7jV/nbccUerqKgIbkmqbLbZZsE1SebPf/qTnXji72zJ4gVWXV0VlEZLVWWFlS2YayNHjrSLLrooKJWo2XTTTYNrIisjAMF+TkTiQwGImLrkkkussLAwuCVtlZOTY6eeemqkzlwfeOCBtvrqqwe3JC423nhjGzBgQHCr/RFU23fffYNbkiojRowIrklDTjzxxPp91V+srHSuLa2KVhCsomKxLVlSZmPGjHHvU6Lr9NNPD66JrOywww5TBoRIzCgAEVP0tb3tttusc+fOOkveBh06dLCCggLbfvvtI9mgmDZtmm2wwQburLpEW6dOnWyttdayyZMnByXRcfXVV7ugiLajtuHzo86dNGlSpIKVUfbb3/7Wbr75ZltYNt8qK5YEpe2LmTo65NTZxPp9KO9Poo2ukQ8//LDr9qQ6TMBJI7aFvn372ujRo4NSEYmLnLKysmaNEkUKb3V1dVb0xauqqnKNdhqfcUba2cKFC+2ll16yWbNmxTrN2g9Wxk4lk4ia02jceeedg5K2S8f29cwzz9hXX31l8+bNC0oyg22qY8eOwa34Svf21bNnT7ct7b777kFJ+rRl+2Jqwa+//trmzJkTlLSv2tra2NTDBJjWW28969evnwtChLFvRDYEg0tLS91+PtXr8v7779uwYcOsuqb+s+zcfscRTLPZo6S73XHH7bbOOusEpdGWTdtXW+ov9kczZsyw2bNnuy6T7S1O9Vdj4rh9NXTs1tLta+LEie7/Mccc4/5HBccsrEs2ZDpnU/3FWHGctMx0WyXVGBesvv1vJSUlQUnmKQARY9lUQfFjYGeeDWc3smX74vugMZINA57qAD56dIAVTekKQOD777+3o446yubOK7WOnTJ7LMH2Vr64zNbfYD174P77LTc3N7gn+lR/RU821V8Ec9jfZ8PAui3dvhSASD8FIKInCgGIeO8BREREJBYY0+bxxx+3TTbZyJZWZq47BjNxVFYssu2239amPPRQrIIPIiIi2UYBCBEREckIzoLde889ttNOv7SqikXuzGs6VVcvdcGHvfYcaLdMmBCUioiISHtRAEJEREQyaty46+yQQw628iULrKZmWYpuqlVVVdjihaVu7Im//e1vQamIiIi0JwUgREREJOPOP/98O2vUKFsw/wdburQyKE0NZtxYVDbfRo++0M48c2RQKiIiIu1NAQgRERFpF2QnXHvttbZwwTyrrEzNzAblSxZZbU2VXXfddXb44YcHpSIiIhIFCkCIiIhIu9l7773t7rvvtooli6yifFFQ2jpLFpVZUVFHu/XWW2233XYLSkVERCQqFIAQERGRdrXddtvZE088boUFebZkcVlQ2jKLFs63tdde0ybdfbdts802QamIiIhEiQIQIiIi0u769OljU6dOtbV6r9GiTIja2hpbvKjU+vbdyqZMmeKWIyIiItGkAISIiIhEQlFRkf373/+2rbbc3CrLF1pdXV1wT3I11UutfHGZ7b7bbnbXnXdafn5+cI+IiIhEkQIQIiIiEim333679e/f38oXL7DampqgdEVLqypd5sPgwYPt2muvCUpFREQkyhSAEBERkci58sorbNiwo61swY9WVVURlC7jptlcON9GjRplF1xwflAqIiIiUacAhIiIiEQSAYa//OUvVl1VbnU1lVa+ZKH7X1iQa+PGjbPhw4cHjxQREZE4UABCREREIuvQQw+1V155xY466kg7fvix7v+zzz5rAwcODB4hIiIicaEAhIiIiERaQUGBHXfccfbpp5+6rAcNNikiIhJPCkCIiIhI5F1//fX25ptv2vjx44MSERERiRsFIERERCTSXnzxRXv88cfddf7PnDnTXRcREZF4yZk7d27jk2wHampqrLa2NivSHlmPnJwcd4k7vpfc3NzgVnwx1zuXDh3iHxPLlu2L76OqqsoKCwuDkvhiXZANv3nVX9GTTdsXv3n281Fbl1NOOcU++eST4JbZOuusY7fccktwKzltX9Gj+it6WA+2sby8vKAkvlq6fd1xxx3u/9FHH+3+R4nqr+jJpu+kvY/vc+bPn9+sAMTSpUvdDzsbGiPV1dVuA4r7j4ENiB9Dtuw0WJ9s+GFn0/a1ZMkSKyoqCkrii98JtH1FRzbVX9m0ffGbZz8fpXW5/fbb3SXRsccea0OHDg1urUjbVzSp/ooeGiKsz6p4fO/rlWHDhrn/UaH6K5qypf6izVVRUWGdO3cOSjIvp6ysrFkBCN4oH3xxcXFQEl9Utvyo4362nQoqW85QU0Hxg8iGDJts2b74PkpLS61Hjx5BSXxRdyFbDhZVf0VLNm1f/ObZz0dlXT7++GMbMWKEVVZW2rrrruvqo2+//dZdcP/991vPnj3d9TBtX9Gk+it6ysvL3f4+G042tHT7mjhxovt/zDHHuP9RoformtgPMSBy3AMQtLnq2/9WUlISlGRevPcAIiIikrUWL15sm2++uV122WWuscAglJMmTbLzzjvPDjrooOBRIiIiEhcKQIiIiEgk/fznP7err77adtppp6BkmX322cfOOOOMpNkPIiIiEl0KQIiIiIiIiIhI2ikAISIiIiIiIiJppwCEiIiIiIiIiKSdAhAiIiIiIiIiknYKQIiIiEgsrLfeevbBBx8Et0REWu+rr76y1VZbLbglIpmiAISIiIjEwrrrrmtPPfVUcEtEpHXmzp1rb7zxhq2xxhpBiYhkigIQIiIiEgsDBgywBx980G644Qb76KOPglIRkeYh8PDiiy/aVVddZRtvvLFtv/32wT0ikik5ZWVldcH1RlVUVFh1dbUVFxcHJfFVVVVleXl51qFDvOMvdXV1bl0KCwuDkviqqamx2tpay8/PD0riK1u2L76P0tJS69GjR1ASX9Rd4HuJO9Vf0ZNN2xe/efbzUV6XZ555xqZNm2afffaZzZkzJygVEWla165dba211rItttjCRowYEZRGi/aP0VRZWWkFBQWWk5MTlMQTba769r+VlJQEJZmnAESMKQARTdmyfSkAEU2qv6JHAYjo0fYVTaq/oqe8vNzt74uKioKS+NL2FT0KQERPFAIQ8f6FioiIiIiIiEgsKAAhIiIiIiIiImmnAISIiIiIiIiIpJ0CECIiIiIiIiKSdgpAiIiIiIiIiEjaKQAhIiIiIiIiImmnAISIiIiIiIiIpJ0CECIiIiIiIiKSdgpAiIiIiIiIiEjaKQAhIiIiIiIiImmnAISIiIiIiIiIpJ0CECIiIiIiIiKSdgpAiIiIiIiIiEjaKQAhIiIiIiIiImmnAISIiIiIiIiIpJ0CECIiIiIiIiKSdgpAiIiIiIiIiEjaKQAhIiIiIiIiImmnAISIiIiIiIiIpJ0CECIiIiIiIiKSdgpAiIiIiIiIiEjaKQAhIiIiIiIiImmnAISIiIiIiIiIpJ0CECIiIiIiIiKSdgpAiIiIiIiIiEjaKQAhIiIiIiIiImmnAISIiIiIiIiIpJ0CECIiIiIiIiKSdgpAiIiIiIiIiEjaKQAhIiIiIiIiImmnAISIiIiIiIiIpJnZ/wM2hnFJLYtWsgAAAABJRU5ErkJggg==)"
      ],
      "metadata": {
        "id": "MNsVl1DJXV4m"
      }
    },
    {
      "cell_type": "markdown",
      "source": [
        "Crie a estrutura completa do jogo, utilizando as funções desenvolvidas ao longo da atividade, bem como criando as variáveis que serão utilizadas para controlar as ações do jogo;"
      ],
      "metadata": {
        "id": "LwN7BN04WDal"
      }
    },
    {
      "cell_type": "code",
      "source": [
        "# |---> EXECUTAR DA CÉLULA 28 A 33!\n",
        "\n",
        "def jogo_forca():\n",
        "    letras_escolhidas = set()\n",
        "    erros = 0\n",
        "\n",
        "    print(\"Bem-vindo ao Jogo da Forca!\")\n",
        "    categoria = input(\"Escolha uma categoria (frutas, carros, objetos): \").lower()\n",
        "    palavra_escondida = escolher_palavra_aleatoria(categoria)\n",
        "    guess = [None] * len(palavra_escondida)\n",
        "\n",
        "    print(\"Palavra escolhida:\", \" \".join(\"_\" if letra is None else letra for letra in guess))\n",
        "\n",
        "    while erros < 6 and not verificar_fim_jogo(guess):\n",
        "        letra = input(\"Escolha uma letra: \").lower()\n",
        "\n",
        "        if controlar_letras_escolhidas(letras_escolhidas, letra):\n",
        "            guess, is_letter = checa_letra(palavra_escondida, guess, letra)\n",
        "\n",
        "            if not is_letter:\n",
        "                erros += 1\n",
        "                desenhar_enforcado(erros)\n",
        "\n",
        "            print(\"\\nPalavra escolhida:\", \" \".join(\"_\" if letra is None else letra for letra in guess))\n",
        "\n",
        "    if verificar_fim_jogo(guess):\n",
        "        print(\"Parabéns! Você adivinhou a palavra:\", palavra_escondida)\n",
        "    else:\n",
        "        print(\"Você perdeu! A palavra era:\", palavra_escondida)\n",
        "\n",
        "jogo_forca()"
      ],
      "metadata": {
        "id": "-dl0XCcrV_iy"
      },
      "execution_count": null,
      "outputs": []
    }
  ]
}