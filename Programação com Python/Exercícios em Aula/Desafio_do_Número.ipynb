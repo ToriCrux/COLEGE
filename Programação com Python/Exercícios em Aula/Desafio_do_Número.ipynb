{
  "nbformat": 4,
  "nbformat_minor": 0,
  "metadata": {
    "colab": {
      "provenance": []
    },
    "kernelspec": {
      "name": "python3",
      "display_name": "Python 3"
    },
    "language_info": {
      "name": "python"
    }
  },
  "cells": [
    {
      "cell_type": "markdown",
      "source": [
        "# Adivinhando um número\n",
        "\n",
        "Objetivo: Criar um algoritmo que permita que o usuário tente descobrir qual o número entre 0 e 9 escolhido pelo computador.\n",
        "\n",
        "*   O computador deve selecionar um número entre 0 e 9 utlizando o comando random, Esse npumero não deve ser revelado ao jogador.\n",
        "*   O jogador terá 3 tentativas de adivinhar o número escolhido pelo computador. Se adivinhar, o jogador vence, senão, o computador vence.\n",
        "\n",
        "\n"
      ],
      "metadata": {
        "id": "7BQg1SosHXak"
      }
    },
    {
      "cell_type": "code",
      "source": [
        "import random\n",
        "\n",
        "numero_secreto = random.randint(1,9)\n",
        "\n",
        "# Inicio da interação com o usuário\n",
        "print(\"Iremos começar nosso jogo!\")\n",
        "tentativa1 = int(input(\"Qual o número escolhido pelo computador, de 1 a 9? \"))\n",
        "\n",
        "if tentativa1 == numero_secreto:\n",
        "  print(\"Você é vidente? Ô louco! Você acertou o número escolhido pelo computador!\")\n",
        "else:\n",
        "  tentativa2 = int(input(\"Segunda tentativa, diga um número de 1 a 9: \"))\n",
        "\n",
        "  if tentativa2 == numero_secreto:\n",
        "    print(\"Boaa jogador(a)! Acertou o número escolhido pelo computador!\")\n",
        "  else:\n",
        "    tentativa3 = int(input(\"Última tentativa, diga um número de 1 a 9: \"))\n",
        "\n",
        "    if tentativa3 == numero_secreto:\n",
        "      print(\"Aee, você acertou o número secreto na últime hein!\")\n",
        "    else:\n",
        "      print(f\"Não foi dessa vez, mas o número secreto era: {numero_secreto}\")"
      ],
      "metadata": {
        "colab": {
          "base_uri": "https://localhost:8080/"
        },
        "id": "qe2TKmlxIKvd",
        "outputId": "8ac661b0-0794-40ce-b513-aa3afabdf45f"
      },
      "execution_count": 11,
      "outputs": [
        {
          "output_type": "stream",
          "name": "stdout",
          "text": [
            "Iremos começar nosso jogo!\n",
            "Qual o número escolhido pelo computador, de 1 a 9? 5\n",
            "Segunda tentativa, diga um número de 1 a 9: 8\n",
            "Última tentativa, diga um número de 1 a 9: 4\n",
            "Não foi dessa vez, mas o número secreto era: 3\n"
          ]
        }
      ]
    },
    {
      "cell_type": "code",
      "source": [
        "import random\n",
        "\n",
        "numero_secreto = random.randint(1,9)\n",
        "\n",
        "# Inicio da interação com o usuário\n",
        "print(\"Iremos começar nosso jogo!\")\n",
        "tentativa1 = int(input(\"Qual o número escolhido pelo computador, de 1 a 9? \"))\n",
        "\n",
        "if tentativa1 == numero_secreto:\n",
        "  print(\"Você é vidente? Ô louco! Você acertou o número escolhido pelo computador!\")\n",
        "\n",
        "#se ele errar a tentativa1 gente faz a validação de + ou - próximo do numero_secreto e segue pra próxima tentativa\n",
        "else:\n",
        "  if tentativa1 > numero_secreto:\n",
        "    print(\"\\nSeu chute foi alto!\")\n",
        "    tentativa2 = int(input(\"Sabendo disso, agora é a sua segunda tentativa, diga um número de 1 a 9: \"))\n",
        "\n",
        "    if tentativa2 == numero_secreto:\n",
        "      print(\"Boaaa jogador(a)! Acertou o número escolhido pelo computador!\")\n",
        "\n",
        "    #se ele errar a tentativa2, a gente faz novamente a  validação de + ou - do numero_secreto e vai para a última tentativa\n",
        "    else:\n",
        "      #aqui a gente considera quando a tentativa2 é maior que o numero_secreto, etão precisamos chutar um valor menor\n",
        "      if tentativa2 > numero_secreto:\n",
        "        print(\"\\nSeu chute ainda foi um pouco alto!\")\n",
        "        tentativa3 = int(input(\"Essa é sua última chance, diga um número de 1 a 9:\"))\n",
        "\n",
        "        if tentativa3 == numero_secreto:\n",
        "          print(\"Aee, você acertou o número secreto na últime hein!\")\n",
        "        else:\n",
        "          print(f\"Não foi dessa vez, mas o número secreto era: {numero_secreto}\")\n",
        "\n",
        "      #aqui é o inverso, precisamos chutar um valor maior, isso ainda falando da última tentaiva\n",
        "      else:\n",
        "        print(\"\\nSeu chute foi um pouco baixo!\")\n",
        "        tentativa3 = int(input(\"Essa é sua última chance, diga um número de 1 a 9:\"))\n",
        "\n",
        "        if tentativa3 == numero_secreto:\n",
        "          print(\"Aee, você acertou o número secreto na últime hein!\")\n",
        "        else:\n",
        "          print(f\"Não foi dessa vez, mas o número secreto era: {numero_secreto}\")\n",
        "\n",
        "#aqui começamos a validar referente a tentativa2 para: tentativa1 < numero_secreto, pois os caminhos caso tentativa1 > numero_secreto acabaram\n",
        "  else:\n",
        "    print(\"\\nSeu chute foi baixo!\")\n",
        "    tentativa2 = int(input(\"Sabendo disso, agora é a sua segunda tentativa, diga um número de 1 a 9: \"))\n",
        "\n",
        "    if tentativa2 == numero_secreto:\n",
        "      print(\"Boaaa jogador(a)! Acertou o número escolhido pelo computador!\")\n",
        "\n",
        "    #se ele errar a tentativa2, a gente começa a validação de + ou - do numero_secreto e vai para a última tentativa\n",
        "    else:\n",
        "      if tentativa2 > numero_secreto:\n",
        "        print(\"\\nSeu chute ainda foi um pouco alto!\")\n",
        "        tentativa3 = int(input(\"Essa é sua última chance, diga um número de 1 a 9:\"))\n",
        "\n",
        "        if tentativa3 == numero_secreto:\n",
        "          print(\"Aee, você acertou o número secreto na últime hein!\")\n",
        "        else:\n",
        "          print(f\"Não foi dessa vez, mas o número secreto era: {numero_secreto}\")\n",
        "\n",
        "      else:\n",
        "        print(\"\\nSeu chute foi um pouco baixo!\")\n",
        "        tentativa3 = int(input(\"Essa é sua última chance, diga um número de 1 a 9: \"))\n",
        "\n",
        "        if tentativa3 == numero_secreto:\n",
        "          print(\"Aee, você acertou o número secreto na últime hein!\")\n",
        "        else:\n",
        "          print(f\"Não foi dessa vez, mas o número secreto era: {numero_secreto}\")"
      ],
      "metadata": {
        "colab": {
          "base_uri": "https://localhost:8080/"
        },
        "id": "la5so0niN1NX",
        "outputId": "3120772b-86a1-4a35-b86e-ea713bf787c7"
      },
      "execution_count": 7,
      "outputs": [
        {
          "output_type": "stream",
          "name": "stdout",
          "text": [
            "Iremos começar nosso jogo!\n",
            "Qual o número escolhido pelo computador, de 1 a 9? 5\n",
            "\n",
            "Seu chute foi baixo!\n",
            "Sabendo disso, agora é a sua segunda tentativa, diga um número de 1 a 9: 8\n",
            "Boaa jogador(a)! Acertou o número escolhido pelo computador!\n"
          ]
        }
      ]
    },
    {
      "cell_type": "code",
      "source": [
        "from IPython.display import Image\n",
        "\n",
        "Image(url='https://miro.medium.com/v2/resize:fit:440/0*IcjFzurGNtQ4XZ75.gif')"
      ],
      "metadata": {
        "colab": {
          "base_uri": "https://localhost:8080/",
          "height": 165
        },
        "id": "ib39QLokZHdC",
        "outputId": "96c88b8f-e9f1-461a-eb35-c2d89fca2711"
      },
      "execution_count": 19,
      "outputs": [
        {
          "output_type": "execute_result",
          "data": {
            "text/html": [
              "<img src=\"https://miro.medium.com/v2/resize:fit:440/0*IcjFzurGNtQ4XZ75.gif\"/>"
            ],
            "text/plain": [
              "<IPython.core.display.Image object>"
            ]
          },
          "metadata": {},
          "execution_count": 19
        }
      ]
    },
    {
      "cell_type": "code",
      "source": [
        "#tentativa falha :(\n",
        "import random\n",
        "\n",
        "numero_secreto = random.randint(1,9)\n",
        "\n",
        "# Inicio da interação com o usuário\n",
        "print(\"Iremos começar nosso jogo!\")\n",
        "tentativa1 = int(input(\"Qual o número escolhido pelo computador, de 1 a 9? \"))\n",
        "\n",
        "if tentativa1 == numero_secreto:\n",
        "  print(\"Você é vidente? Ô louco! Você acertou o número escolhido pelo computador!\")\n",
        "\n",
        "elif tentativa1 != numero_secreto:\n",
        "  if tentativa1 > numero_secreto:\n",
        "    print(\"Seu chute foi alto!\")\n",
        "    tentativa2 = int(input(\"Sabendo disso, agora é a sua segunda tentativa, diga um número de 1 a 9: \"))\n",
        "  else:\n",
        "    print(\"Seu chute foi baixo!\")\n",
        "    tentativa2 = int(input(\"Sabendo disso, agora é a sua segunda tentativa, diga um número de 1 a 9: \"))\n",
        "\n",
        "elif tentativa2 == numero_secreto:\n",
        "  print(\"Boaa jogador(a)! Acertou o número escolhido pelo computador!\")\n",
        "\n",
        "elif tentativa2 != numero_secreto:\n",
        "  if tentativa2 > numero_secreto:\n",
        "    print(\"Seu chute ainda foi um pouco alto!\")\n",
        "    tentativa3 = int(input(\"Essa é sua última chance, diga um número de 1 a 9:\"))\n",
        "  else:\n",
        "    print(\"Seu chute ainda foi um pouco baixo!\")\n",
        "    tentativa3 = int(input(\"Essa é sua última chance, diga um número de 1 a 9:\"))\n",
        "\n",
        "elif tentativa3 == numero_secreto:\n",
        "  print(\"Aee, você acertou o número secreto na últime hein!\")\n",
        "\n",
        "else:\n",
        "  print(f\"Não foi dessa vez, mas o número secreto era: {numero_secreto}\")"
      ],
      "metadata": {
        "colab": {
          "base_uri": "https://localhost:8080/"
        },
        "id": "OlqQGG6bI82p",
        "outputId": "3e9acd6d-f62e-45d2-cc0b-8f64d1ba0e24"
      },
      "execution_count": 5,
      "outputs": [
        {
          "name": "stdout",
          "output_type": "stream",
          "text": [
            "Iremos começar nosso jogo!\n",
            "Qual o número escolhido pelo computador, de 1 a 9? 4\n",
            "Seu chute foi baixo!\n",
            "Sabendo disso, agora é a sua segunda tentativa, diga um número de 1 a 9: 7\n"
          ]
        }
      ]
    },
    {
      "cell_type": "code",
      "source": [],
      "metadata": {
        "id": "_WKj3i1_SuWz"
      },
      "execution_count": null,
      "outputs": []
    }
  ]
}